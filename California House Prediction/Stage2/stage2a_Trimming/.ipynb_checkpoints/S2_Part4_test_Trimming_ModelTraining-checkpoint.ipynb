{
 "cells": [
  {
   "cell_type": "code",
   "execution_count": 1,
   "id": "53b9330c",
   "metadata": {},
   "outputs": [],
   "source": [
    "import numpy as np\n",
    "import pandas as pd\n",
    "import matplotlib.pyplot as plt\n",
    "import seaborn as sns"
   ]
  },
  {
   "cell_type": "code",
   "execution_count": null,
   "id": "51c99b16",
   "metadata": {},
   "outputs": [],
   "source": []
  },
  {
   "cell_type": "code",
   "execution_count": 2,
   "id": "de936f3c",
   "metadata": {},
   "outputs": [],
   "source": [
    "from sklearn.impute import SimpleImputer\n",
    "from sklearn.preprocessing import StandardScaler\n",
    "\n",
    "from sklearn.preprocessing import OrdinalEncoder\n",
    "from sklearn.preprocessing import OneHotEncoder\n",
    "\n",
    "from sklearn.pipeline import Pipeline                \n",
    "from sklearn.compose import ColumnTransformer\n",
    "\n",
    "from sklearn.model_selection import train_test_split"
   ]
  },
  {
   "cell_type": "code",
   "execution_count": null,
   "id": "704821ef",
   "metadata": {},
   "outputs": [],
   "source": []
  },
  {
   "cell_type": "markdown",
   "id": "90544ff6",
   "metadata": {},
   "source": [
    "## STEP 1 : Import Transforrmed Dataset"
   ]
  },
  {
   "cell_type": "code",
   "execution_count": null,
   "id": "b28f5d54",
   "metadata": {},
   "outputs": [],
   "source": []
  },
  {
   "cell_type": "code",
   "execution_count": 3,
   "id": "10e74b9e",
   "metadata": {
    "scrolled": true
   },
   "outputs": [
    {
     "data": {
      "text/html": [
       "<div>\n",
       "<style scoped>\n",
       "    .dataframe tbody tr th:only-of-type {\n",
       "        vertical-align: middle;\n",
       "    }\n",
       "\n",
       "    .dataframe tbody tr th {\n",
       "        vertical-align: top;\n",
       "    }\n",
       "\n",
       "    .dataframe thead th {\n",
       "        text-align: right;\n",
       "    }\n",
       "</style>\n",
       "<table border=\"1\" class=\"dataframe\">\n",
       "  <thead>\n",
       "    <tr style=\"text-align: right;\">\n",
       "      <th></th>\n",
       "      <th>longitude</th>\n",
       "      <th>latitude</th>\n",
       "      <th>housing_median_age</th>\n",
       "      <th>total_rooms</th>\n",
       "      <th>population</th>\n",
       "      <th>median_income</th>\n",
       "      <th>bedrooms_per_room</th>\n",
       "      <th>population_per_household</th>\n",
       "      <th>ocean_proximity_&lt;1H OCEAN</th>\n",
       "      <th>ocean_proximity_INLAND</th>\n",
       "      <th>ocean_proximity_ISLAND</th>\n",
       "      <th>ocean_proximity_NEAR BAY</th>\n",
       "      <th>ocean_proximity_NEAR OCEAN</th>\n",
       "      <th>median_house_value</th>\n",
       "    </tr>\n",
       "  </thead>\n",
       "  <tbody>\n",
       "    <tr>\n",
       "      <th>0</th>\n",
       "      <td>0.615915</td>\n",
       "      <td>-0.762698</td>\n",
       "      <td>0.086541</td>\n",
       "      <td>0.749785</td>\n",
       "      <td>1.801964</td>\n",
       "      <td>-0.617102</td>\n",
       "      <td>0.730645</td>\n",
       "      <td>0.207138</td>\n",
       "      <td>1.0</td>\n",
       "      <td>0.0</td>\n",
       "      <td>0.0</td>\n",
       "      <td>0.0</td>\n",
       "      <td>0.0</td>\n",
       "      <td>254200.0</td>\n",
       "    </tr>\n",
       "    <tr>\n",
       "      <th>1</th>\n",
       "      <td>0.765404</td>\n",
       "      <td>-0.721071</td>\n",
       "      <td>0.737300</td>\n",
       "      <td>-1.260907</td>\n",
       "      <td>-1.335955</td>\n",
       "      <td>1.541872</td>\n",
       "      <td>-0.923528</td>\n",
       "      <td>0.033610</td>\n",
       "      <td>0.0</td>\n",
       "      <td>1.0</td>\n",
       "      <td>0.0</td>\n",
       "      <td>0.0</td>\n",
       "      <td>0.0</td>\n",
       "      <td>396700.0</td>\n",
       "    </tr>\n",
       "    <tr>\n",
       "      <th>2</th>\n",
       "      <td>0.630864</td>\n",
       "      <td>-0.822826</td>\n",
       "      <td>-0.076149</td>\n",
       "      <td>0.373635</td>\n",
       "      <td>0.176938</td>\n",
       "      <td>0.797921</td>\n",
       "      <td>0.053840</td>\n",
       "      <td>-0.351104</td>\n",
       "      <td>1.0</td>\n",
       "      <td>0.0</td>\n",
       "      <td>0.0</td>\n",
       "      <td>0.0</td>\n",
       "      <td>0.0</td>\n",
       "      <td>244000.0</td>\n",
       "    </tr>\n",
       "    <tr>\n",
       "      <th>3</th>\n",
       "      <td>0.765404</td>\n",
       "      <td>-0.836702</td>\n",
       "      <td>-0.320184</td>\n",
       "      <td>-0.558435</td>\n",
       "      <td>-0.383733</td>\n",
       "      <td>1.014086</td>\n",
       "      <td>-0.626033</td>\n",
       "      <td>0.425248</td>\n",
       "      <td>1.0</td>\n",
       "      <td>0.0</td>\n",
       "      <td>0.0</td>\n",
       "      <td>0.0</td>\n",
       "      <td>0.0</td>\n",
       "      <td>244900.0</td>\n",
       "    </tr>\n",
       "    <tr>\n",
       "      <th>4</th>\n",
       "      <td>-0.928805</td>\n",
       "      <td>1.351044</td>\n",
       "      <td>-0.970943</td>\n",
       "      <td>-0.554527</td>\n",
       "      <td>-0.142921</td>\n",
       "      <td>-0.870140</td>\n",
       "      <td>-0.104804</td>\n",
       "      <td>0.527326</td>\n",
       "      <td>0.0</td>\n",
       "      <td>1.0</td>\n",
       "      <td>0.0</td>\n",
       "      <td>0.0</td>\n",
       "      <td>0.0</td>\n",
       "      <td>89400.0</td>\n",
       "    </tr>\n",
       "  </tbody>\n",
       "</table>\n",
       "</div>"
      ],
      "text/plain": [
       "   longitude  latitude  housing_median_age  total_rooms  population  \\\n",
       "0   0.615915 -0.762698            0.086541     0.749785    1.801964   \n",
       "1   0.765404 -0.721071            0.737300    -1.260907   -1.335955   \n",
       "2   0.630864 -0.822826           -0.076149     0.373635    0.176938   \n",
       "3   0.765404 -0.836702           -0.320184    -0.558435   -0.383733   \n",
       "4  -0.928805  1.351044           -0.970943    -0.554527   -0.142921   \n",
       "\n",
       "   median_income  bedrooms_per_room  population_per_household  \\\n",
       "0      -0.617102           0.730645                  0.207138   \n",
       "1       1.541872          -0.923528                  0.033610   \n",
       "2       0.797921           0.053840                 -0.351104   \n",
       "3       1.014086          -0.626033                  0.425248   \n",
       "4      -0.870140          -0.104804                  0.527326   \n",
       "\n",
       "   ocean_proximity_<1H OCEAN  ocean_proximity_INLAND  ocean_proximity_ISLAND  \\\n",
       "0                        1.0                     0.0                     0.0   \n",
       "1                        0.0                     1.0                     0.0   \n",
       "2                        1.0                     0.0                     0.0   \n",
       "3                        1.0                     0.0                     0.0   \n",
       "4                        0.0                     1.0                     0.0   \n",
       "\n",
       "   ocean_proximity_NEAR BAY  ocean_proximity_NEAR OCEAN  median_house_value  \n",
       "0                       0.0                         0.0            254200.0  \n",
       "1                       0.0                         0.0            396700.0  \n",
       "2                       0.0                         0.0            244000.0  \n",
       "3                       0.0                         0.0            244900.0  \n",
       "4                       0.0                         0.0             89400.0  "
      ]
     },
     "execution_count": 3,
     "metadata": {},
     "output_type": "execute_result"
    }
   ],
   "source": [
    "houses_trans = pd.read_csv('S2_Part3_test_Trimming_DataPreprocessing2.csv' ,index_col = 0)\n",
    "houses_trans.head()"
   ]
  },
  {
   "cell_type": "code",
   "execution_count": null,
   "id": "3ba9b494",
   "metadata": {},
   "outputs": [],
   "source": []
  },
  {
   "cell_type": "code",
   "execution_count": 4,
   "id": "a9d7130a",
   "metadata": {},
   "outputs": [],
   "source": [
    "df = houses_trans.copy()"
   ]
  },
  {
   "cell_type": "code",
   "execution_count": null,
   "id": "6d82193e",
   "metadata": {},
   "outputs": [],
   "source": []
  },
  {
   "cell_type": "markdown",
   "id": "ffada84e",
   "metadata": {},
   "source": [
    "## STEP 2 : Features and Target Split"
   ]
  },
  {
   "cell_type": "code",
   "execution_count": null,
   "id": "39d8206b",
   "metadata": {},
   "outputs": [],
   "source": []
  },
  {
   "cell_type": "code",
   "execution_count": 8,
   "id": "3c530388",
   "metadata": {},
   "outputs": [],
   "source": [
    "X = df.drop('median_house_value' ,axis = 1)"
   ]
  },
  {
   "cell_type": "code",
   "execution_count": 9,
   "id": "a9aeb9e8",
   "metadata": {},
   "outputs": [],
   "source": [
    "y = df['median_house_value']"
   ]
  },
  {
   "cell_type": "code",
   "execution_count": null,
   "id": "276aef13",
   "metadata": {},
   "outputs": [],
   "source": []
  },
  {
   "cell_type": "markdown",
   "id": "480bdcf1",
   "metadata": {},
   "source": [
    "## STEP 3 :  Train - Test Split"
   ]
  },
  {
   "cell_type": "code",
   "execution_count": null,
   "id": "d10689bb",
   "metadata": {},
   "outputs": [],
   "source": []
  },
  {
   "cell_type": "code",
   "execution_count": 10,
   "id": "d74a843c",
   "metadata": {},
   "outputs": [],
   "source": [
    "X_train ,X_test ,y_train ,y_test = train_test_split(X ,y ,test_size= 0.2 , random_state= 123)"
   ]
  },
  {
   "cell_type": "code",
   "execution_count": null,
   "id": "3507a52f",
   "metadata": {},
   "outputs": [],
   "source": []
  },
  {
   "cell_type": "code",
   "execution_count": 11,
   "id": "4ff6fd6e",
   "metadata": {},
   "outputs": [
    {
     "data": {
      "text/plain": [
       "((13886, 14), (13886,))"
      ]
     },
     "execution_count": 11,
     "metadata": {},
     "output_type": "execute_result"
    }
   ],
   "source": [
    "X_train.shape ,y_train.shape"
   ]
  },
  {
   "cell_type": "code",
   "execution_count": 12,
   "id": "5222517a",
   "metadata": {},
   "outputs": [
    {
     "data": {
      "text/plain": [
       "((3472, 14), (3472,))"
      ]
     },
     "execution_count": 12,
     "metadata": {},
     "output_type": "execute_result"
    }
   ],
   "source": [
    "X_test.shape , y_test.shape"
   ]
  },
  {
   "cell_type": "code",
   "execution_count": null,
   "id": "d64eb4bc",
   "metadata": {},
   "outputs": [],
   "source": []
  },
  {
   "cell_type": "markdown",
   "id": "4ee11c7e",
   "metadata": {},
   "source": [
    "## STEP 4 : Training models"
   ]
  },
  {
   "cell_type": "code",
   "execution_count": null,
   "id": "18d797ff",
   "metadata": {},
   "outputs": [],
   "source": []
  },
  {
   "cell_type": "code",
   "execution_count": 13,
   "id": "aef2672c",
   "metadata": {},
   "outputs": [],
   "source": [
    "from sklearn.linear_model import LinearRegression\n",
    "from sklearn.svm import SVR\n",
    "\n",
    "from sklearn.tree import DecisionTreeRegressor\n",
    "from sklearn.ensemble import RandomForestRegressor"
   ]
  },
  {
   "cell_type": "code",
   "execution_count": null,
   "id": "2abcda81",
   "metadata": {},
   "outputs": [],
   "source": []
  },
  {
   "cell_type": "code",
   "execution_count": 14,
   "id": "1d4a0236",
   "metadata": {},
   "outputs": [],
   "source": [
    "from sklearn.metrics import mean_squared_error,r2_score"
   ]
  },
  {
   "cell_type": "code",
   "execution_count": null,
   "id": "9f652953",
   "metadata": {},
   "outputs": [],
   "source": []
  },
  {
   "cell_type": "markdown",
   "id": "2584dc83",
   "metadata": {},
   "source": [
    "### Various Algorithms for Regression Task : \n",
    "\n",
    "- Linear Regression, Polynomial Regression, Ridge Regression, Lasso Regression, Elastic Net Regression.\n",
    "- Support Vector Regression (SVR),\n",
    "- Decision Tree Regression, \n",
    "- Random Forest Regression, and \n",
    "- Gradient Boosting Regression."
   ]
  },
  {
   "cell_type": "code",
   "execution_count": null,
   "id": "d3b2a6b5",
   "metadata": {},
   "outputs": [],
   "source": []
  },
  {
   "cell_type": "code",
   "execution_count": 15,
   "id": "581328dd",
   "metadata": {},
   "outputs": [],
   "source": [
    "models = [LinearRegression(), SVR(),DecisionTreeRegressor(), RandomForestRegressor()]"
   ]
  },
  {
   "cell_type": "code",
   "execution_count": null,
   "id": "9da5351d",
   "metadata": {},
   "outputs": [],
   "source": []
  },
  {
   "cell_type": "code",
   "execution_count": 16,
   "id": "2055a00d",
   "metadata": {},
   "outputs": [],
   "source": [
    "import warnings\n",
    "warnings.filterwarnings('ignore')"
   ]
  },
  {
   "cell_type": "code",
   "execution_count": null,
   "id": "f61d451b",
   "metadata": {},
   "outputs": [],
   "source": []
  },
  {
   "cell_type": "code",
   "execution_count": 17,
   "id": "f53f14be",
   "metadata": {
    "scrolled": false
   },
   "outputs": [
    {
     "name": "stdout",
     "output_type": "stream",
     "text": [
      "******************* \u001b[1mLinearRegression()\u001b[0m *******************\n",
      "\n",
      "\\Regression Report : \n",
      "\n",
      "Mean Squared Error :  4255902381.59\n",
      "RMSE :  65237.28\n",
      "R2 Square :  0.6302514810804443\n",
      "\n",
      "******************* \u001b[1mSVR()\u001b[0m *******************\n",
      "\n",
      "\\Regression Report : \n",
      "\n",
      "Mean Squared Error :  11757967091.25\n",
      "RMSE :  108434.16\n",
      "R2 Square :  -0.02152035636422478\n",
      "\n",
      "******************* \u001b[1mDecisionTreeRegressor()\u001b[0m *******************\n",
      "\n",
      "\\Regression Report : \n",
      "\n",
      "Mean Squared Error :  4976860866.92\n",
      "RMSE :  70546.87\n",
      "R2 Square :  0.5676153329150726\n",
      "\n",
      "******************* \u001b[1mRandomForestRegressor()\u001b[0m *******************\n",
      "\n",
      "\\Regression Report : \n",
      "\n",
      "Mean Squared Error :  2385601395.65\n",
      "RMSE :  48842.62\n",
      "R2 Square :  0.7927413498513676\n",
      "\n"
     ]
    }
   ],
   "source": [
    "for model in models :\n",
    "    \n",
    "    model.fit(X_train.values, y_train)\n",
    "    y_hat_train = model.predict(X_train.values)\n",
    "    y_hat_test = model.predict(X_test.values)\n",
    "    \n",
    "    print(f\"******************* \\33[1m{str(model)}\\33[0m *******************\\n\")\n",
    "  \n",
    "    print(\"\\Regression Report : \\n\")\n",
    "    print(\"Mean Squared Error : \",round(mean_squared_error(y_test,y_hat_test),2))\n",
    "    print(\"RMSE : \",round(np.sqrt(mean_squared_error(y_test,y_hat_test)),2))\n",
    "    print(\"R2 Square : \",r2_score(y_test,y_hat_test))\n",
    "    \n",
    "  \n",
    "    print()"
   ]
  },
  {
   "cell_type": "code",
   "execution_count": null,
   "id": "17868622",
   "metadata": {},
   "outputs": [],
   "source": []
  },
  {
   "cell_type": "code",
   "execution_count": null,
   "id": "3b038008",
   "metadata": {},
   "outputs": [],
   "source": []
  },
  {
   "cell_type": "code",
   "execution_count": null,
   "id": "70f25d30",
   "metadata": {},
   "outputs": [],
   "source": []
  },
  {
   "cell_type": "code",
   "execution_count": null,
   "id": "b4d9b8ae",
   "metadata": {},
   "outputs": [],
   "source": []
  },
  {
   "cell_type": "code",
   "execution_count": null,
   "id": "c5464ce1",
   "metadata": {},
   "outputs": [],
   "source": []
  },
  {
   "cell_type": "code",
   "execution_count": null,
   "id": "4c46a6a3",
   "metadata": {},
   "outputs": [],
   "source": []
  },
  {
   "cell_type": "code",
   "execution_count": null,
   "id": "87ecfdff",
   "metadata": {},
   "outputs": [],
   "source": []
  },
  {
   "cell_type": "code",
   "execution_count": null,
   "id": "8a6ab69a",
   "metadata": {},
   "outputs": [],
   "source": []
  },
  {
   "cell_type": "code",
   "execution_count": null,
   "id": "1fb2c03d",
   "metadata": {},
   "outputs": [],
   "source": []
  },
  {
   "cell_type": "code",
   "execution_count": null,
   "id": "a11b41ff",
   "metadata": {},
   "outputs": [],
   "source": []
  },
  {
   "cell_type": "code",
   "execution_count": null,
   "id": "05dc1f1a",
   "metadata": {},
   "outputs": [],
   "source": []
  },
  {
   "cell_type": "code",
   "execution_count": null,
   "id": "3fb7e649",
   "metadata": {},
   "outputs": [],
   "source": []
  },
  {
   "cell_type": "code",
   "execution_count": null,
   "id": "db41abcf",
   "metadata": {},
   "outputs": [],
   "source": []
  }
 ],
 "metadata": {
  "kernelspec": {
   "display_name": "Python 3 (ipykernel)",
   "language": "python",
   "name": "python3"
  },
  "language_info": {
   "codemirror_mode": {
    "name": "ipython",
    "version": 3
   },
   "file_extension": ".py",
   "mimetype": "text/x-python",
   "name": "python",
   "nbconvert_exporter": "python",
   "pygments_lexer": "ipython3",
   "version": "3.10.9"
  }
 },
 "nbformat": 4,
 "nbformat_minor": 5
}
