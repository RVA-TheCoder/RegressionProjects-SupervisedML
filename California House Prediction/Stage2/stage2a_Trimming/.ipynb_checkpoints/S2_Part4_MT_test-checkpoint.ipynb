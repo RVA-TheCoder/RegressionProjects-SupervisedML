{
 "cells": [
  {
   "cell_type": "code",
   "execution_count": 1,
   "id": "53b9330c",
   "metadata": {},
   "outputs": [],
   "source": [
    "import numpy as np\n",
    "import pandas as pd\n",
    "import matplotlib.pyplot as plt\n",
    "import seaborn as sns"
   ]
  },
  {
   "cell_type": "code",
   "execution_count": null,
   "id": "51c99b16",
   "metadata": {},
   "outputs": [],
   "source": []
  },
  {
   "cell_type": "code",
   "execution_count": 2,
   "id": "de936f3c",
   "metadata": {},
   "outputs": [],
   "source": [
    "from sklearn.impute import SimpleImputer\n",
    "from sklearn.preprocessing import StandardScaler\n",
    "\n",
    "from sklearn.preprocessing import OrdinalEncoder\n",
    "from sklearn.preprocessing import OneHotEncoder\n",
    "\n",
    "from sklearn.pipeline import Pipeline                \n",
    "from sklearn.compose import ColumnTransformer\n",
    "\n",
    "from sklearn.model_selection import train_test_split"
   ]
  },
  {
   "cell_type": "code",
   "execution_count": null,
   "id": "3a05acf6",
   "metadata": {},
   "outputs": [],
   "source": []
  },
  {
   "cell_type": "markdown",
   "id": "90544ff6",
   "metadata": {},
   "source": [
    "## STEP 1 : Import Transforrmed Dataset"
   ]
  },
  {
   "cell_type": "code",
   "execution_count": null,
   "id": "b28f5d54",
   "metadata": {},
   "outputs": [],
   "source": []
  },
  {
   "cell_type": "code",
   "execution_count": 3,
   "id": "10e74b9e",
   "metadata": {},
   "outputs": [],
   "source": [
    "filepath_train = r\"S2_Part3_DP_Trimming2_test_train_dataset.csv\"\n",
    "filepath_test = r\"S2_Part3_DP_Trimming2_test_test_dataset.csv\""
   ]
  },
  {
   "cell_type": "code",
   "execution_count": null,
   "id": "c23a9c93",
   "metadata": {},
   "outputs": [],
   "source": []
  },
  {
   "cell_type": "code",
   "execution_count": 4,
   "id": "6ec6c881",
   "metadata": {},
   "outputs": [],
   "source": [
    "d_train = pd.read_csv(filepath_train  ,index_col= 0 , header= 0)\n",
    "d_test = pd.read_csv(filepath_test  ,index_col= 0 , header= 0)"
   ]
  },
  {
   "cell_type": "code",
   "execution_count": null,
   "id": "4fdf8509",
   "metadata": {},
   "outputs": [],
   "source": []
  },
  {
   "cell_type": "code",
   "execution_count": 5,
   "id": "2d15b051",
   "metadata": {},
   "outputs": [
    {
     "data": {
      "text/plain": [
       "(14051, 15)"
      ]
     },
     "execution_count": 5,
     "metadata": {},
     "output_type": "execute_result"
    }
   ],
   "source": [
    "d_train.shape"
   ]
  },
  {
   "cell_type": "code",
   "execution_count": 6,
   "id": "16668bc1",
   "metadata": {},
   "outputs": [
    {
     "data": {
      "text/html": [
       "<div>\n",
       "<style scoped>\n",
       "    .dataframe tbody tr th:only-of-type {\n",
       "        vertical-align: middle;\n",
       "    }\n",
       "\n",
       "    .dataframe tbody tr th {\n",
       "        vertical-align: top;\n",
       "    }\n",
       "\n",
       "    .dataframe thead th {\n",
       "        text-align: right;\n",
       "    }\n",
       "</style>\n",
       "<table border=\"1\" class=\"dataframe\">\n",
       "  <thead>\n",
       "    <tr style=\"text-align: right;\">\n",
       "      <th></th>\n",
       "      <th>longitude</th>\n",
       "      <th>latitude</th>\n",
       "      <th>housing_median_age</th>\n",
       "      <th>total_rooms</th>\n",
       "      <th>population</th>\n",
       "      <th>median_income</th>\n",
       "      <th>rooms_per_household</th>\n",
       "      <th>bedrooms_per_room</th>\n",
       "      <th>population_per_household</th>\n",
       "      <th>ocean_proximity_&lt;1H OCEAN</th>\n",
       "      <th>ocean_proximity_INLAND</th>\n",
       "      <th>ocean_proximity_ISLAND</th>\n",
       "      <th>ocean_proximity_NEAR BAY</th>\n",
       "      <th>ocean_proximity_NEAR OCEAN</th>\n",
       "      <th>median_house_value</th>\n",
       "    </tr>\n",
       "  </thead>\n",
       "  <tbody>\n",
       "    <tr>\n",
       "      <th>0</th>\n",
       "      <td>-1.533576</td>\n",
       "      <td>1.587011</td>\n",
       "      <td>-1.374316</td>\n",
       "      <td>-1.507353</td>\n",
       "      <td>-1.687685</td>\n",
       "      <td>-0.167906</td>\n",
       "      <td>1.297679</td>\n",
       "      <td>-0.105796</td>\n",
       "      <td>0.484355</td>\n",
       "      <td>0.0</td>\n",
       "      <td>1.0</td>\n",
       "      <td>0.0</td>\n",
       "      <td>0.0</td>\n",
       "      <td>0.0</td>\n",
       "      <td>108300.0</td>\n",
       "    </tr>\n",
       "    <tr>\n",
       "      <th>1</th>\n",
       "      <td>-0.601758</td>\n",
       "      <td>-0.175406</td>\n",
       "      <td>-1.536809</td>\n",
       "      <td>1.115272</td>\n",
       "      <td>1.202695</td>\n",
       "      <td>-0.281535</td>\n",
       "      <td>-0.171424</td>\n",
       "      <td>0.008622</td>\n",
       "      <td>-0.174307</td>\n",
       "      <td>0.0</td>\n",
       "      <td>0.0</td>\n",
       "      <td>0.0</td>\n",
       "      <td>0.0</td>\n",
       "      <td>1.0</td>\n",
       "      <td>183200.0</td>\n",
       "    </tr>\n",
       "  </tbody>\n",
       "</table>\n",
       "</div>"
      ],
      "text/plain": [
       "   longitude  latitude  housing_median_age  total_rooms  population  \\\n",
       "0  -1.533576  1.587011           -1.374316    -1.507353   -1.687685   \n",
       "1  -0.601758 -0.175406           -1.536809     1.115272    1.202695   \n",
       "\n",
       "   median_income  rooms_per_household  bedrooms_per_room  \\\n",
       "0      -0.167906             1.297679          -0.105796   \n",
       "1      -0.281535            -0.171424           0.008622   \n",
       "\n",
       "   population_per_household  ocean_proximity_<1H OCEAN  \\\n",
       "0                  0.484355                        0.0   \n",
       "1                 -0.174307                        0.0   \n",
       "\n",
       "   ocean_proximity_INLAND  ocean_proximity_ISLAND  ocean_proximity_NEAR BAY  \\\n",
       "0                     1.0                     0.0                       0.0   \n",
       "1                     0.0                     0.0                       0.0   \n",
       "\n",
       "   ocean_proximity_NEAR OCEAN  median_house_value  \n",
       "0                         0.0            108300.0  \n",
       "1                         1.0            183200.0  "
      ]
     },
     "execution_count": 6,
     "metadata": {},
     "output_type": "execute_result"
    }
   ],
   "source": [
    "d_train.head(2)"
   ]
  },
  {
   "cell_type": "code",
   "execution_count": null,
   "id": "8cc969fe",
   "metadata": {},
   "outputs": [],
   "source": []
  },
  {
   "cell_type": "code",
   "execution_count": 7,
   "id": "1306b930",
   "metadata": {},
   "outputs": [
    {
     "data": {
      "text/html": [
       "<div>\n",
       "<style scoped>\n",
       "    .dataframe tbody tr th:only-of-type {\n",
       "        vertical-align: middle;\n",
       "    }\n",
       "\n",
       "    .dataframe tbody tr th {\n",
       "        vertical-align: top;\n",
       "    }\n",
       "\n",
       "    .dataframe thead th {\n",
       "        text-align: right;\n",
       "    }\n",
       "</style>\n",
       "<table border=\"1\" class=\"dataframe\">\n",
       "  <thead>\n",
       "    <tr style=\"text-align: right;\">\n",
       "      <th></th>\n",
       "      <th>longitude</th>\n",
       "      <th>latitude</th>\n",
       "      <th>housing_median_age</th>\n",
       "      <th>total_rooms</th>\n",
       "      <th>population</th>\n",
       "      <th>median_income</th>\n",
       "      <th>rooms_per_household</th>\n",
       "      <th>bedrooms_per_room</th>\n",
       "      <th>population_per_household</th>\n",
       "      <th>ocean_proximity_&lt;1H OCEAN</th>\n",
       "      <th>ocean_proximity_INLAND</th>\n",
       "      <th>ocean_proximity_ISLAND</th>\n",
       "      <th>ocean_proximity_NEAR BAY</th>\n",
       "      <th>ocean_proximity_NEAR OCEAN</th>\n",
       "      <th>median_house_value</th>\n",
       "    </tr>\n",
       "  </thead>\n",
       "  <tbody>\n",
       "    <tr>\n",
       "      <th>0</th>\n",
       "      <td>0.758598</td>\n",
       "      <td>-0.872068</td>\n",
       "      <td>0.494354</td>\n",
       "      <td>-0.949081</td>\n",
       "      <td>-1.272193</td>\n",
       "      <td>0.039068</td>\n",
       "      <td>0.371265</td>\n",
       "      <td>-0.817992</td>\n",
       "      <td>-0.399138</td>\n",
       "      <td>1.0</td>\n",
       "      <td>0.0</td>\n",
       "      <td>0.0</td>\n",
       "      <td>0.0</td>\n",
       "      <td>0.0</td>\n",
       "      <td>245300.0</td>\n",
       "    </tr>\n",
       "    <tr>\n",
       "      <th>1</th>\n",
       "      <td>-1.319308</td>\n",
       "      <td>0.978008</td>\n",
       "      <td>1.794299</td>\n",
       "      <td>-0.448661</td>\n",
       "      <td>0.024865</td>\n",
       "      <td>-1.599376</td>\n",
       "      <td>-0.514142</td>\n",
       "      <td>1.071120</td>\n",
       "      <td>-0.027690</td>\n",
       "      <td>0.0</td>\n",
       "      <td>0.0</td>\n",
       "      <td>0.0</td>\n",
       "      <td>1.0</td>\n",
       "      <td>0.0</td>\n",
       "      <td>104200.0</td>\n",
       "    </tr>\n",
       "  </tbody>\n",
       "</table>\n",
       "</div>"
      ],
      "text/plain": [
       "   longitude  latitude  housing_median_age  total_rooms  population  \\\n",
       "0   0.758598 -0.872068            0.494354    -0.949081   -1.272193   \n",
       "1  -1.319308  0.978008            1.794299    -0.448661    0.024865   \n",
       "\n",
       "   median_income  rooms_per_household  bedrooms_per_room  \\\n",
       "0       0.039068             0.371265          -0.817992   \n",
       "1      -1.599376            -0.514142           1.071120   \n",
       "\n",
       "   population_per_household  ocean_proximity_<1H OCEAN  \\\n",
       "0                 -0.399138                        1.0   \n",
       "1                 -0.027690                        0.0   \n",
       "\n",
       "   ocean_proximity_INLAND  ocean_proximity_ISLAND  ocean_proximity_NEAR BAY  \\\n",
       "0                     0.0                     0.0                       0.0   \n",
       "1                     0.0                     0.0                       1.0   \n",
       "\n",
       "   ocean_proximity_NEAR OCEAN  median_house_value  \n",
       "0                         0.0            245300.0  \n",
       "1                         0.0            104200.0  "
      ]
     },
     "execution_count": 7,
     "metadata": {},
     "output_type": "execute_result"
    }
   ],
   "source": [
    "d_test.head(2)"
   ]
  },
  {
   "cell_type": "code",
   "execution_count": 8,
   "id": "8ba7a018",
   "metadata": {},
   "outputs": [
    {
     "data": {
      "text/plain": [
       "(4128, 15)"
      ]
     },
     "execution_count": 8,
     "metadata": {},
     "output_type": "execute_result"
    }
   ],
   "source": [
    "d_test.shape"
   ]
  },
  {
   "cell_type": "code",
   "execution_count": null,
   "id": "02a58068",
   "metadata": {},
   "outputs": [],
   "source": []
  },
  {
   "cell_type": "markdown",
   "id": "480bdcf1",
   "metadata": {},
   "source": [
    "## STEP 2 :  Train - Test Split"
   ]
  },
  {
   "cell_type": "code",
   "execution_count": null,
   "id": "006514d4",
   "metadata": {},
   "outputs": [],
   "source": []
  },
  {
   "cell_type": "code",
   "execution_count": 9,
   "id": "c6bb7372",
   "metadata": {},
   "outputs": [],
   "source": [
    "X_train = d_train.drop(labels= ['median_house_value'] , axis = 1)\n",
    "y_train = d_train['median_house_value']\n",
    "\n",
    "X_test = d_test.drop(labels= ['median_house_value'] , axis = 1)\n",
    "y_test = d_test['median_house_value']"
   ]
  },
  {
   "cell_type": "code",
   "execution_count": null,
   "id": "8389fe8f",
   "metadata": {},
   "outputs": [],
   "source": []
  },
  {
   "cell_type": "code",
   "execution_count": 10,
   "id": "ed8b05b0",
   "metadata": {},
   "outputs": [
    {
     "data": {
      "text/plain": [
       "((14051, 14), (14051,))"
      ]
     },
     "execution_count": 10,
     "metadata": {},
     "output_type": "execute_result"
    }
   ],
   "source": [
    "X_train.shape , y_train.shape"
   ]
  },
  {
   "cell_type": "code",
   "execution_count": 11,
   "id": "b65c102c",
   "metadata": {},
   "outputs": [
    {
     "data": {
      "text/plain": [
       "((4128, 14), (4128,))"
      ]
     },
     "execution_count": 11,
     "metadata": {},
     "output_type": "execute_result"
    }
   ],
   "source": [
    "X_test.shape , y_test.shape"
   ]
  },
  {
   "cell_type": "code",
   "execution_count": null,
   "id": "40f22657",
   "metadata": {},
   "outputs": [],
   "source": []
  },
  {
   "cell_type": "markdown",
   "id": "4ee11c7e",
   "metadata": {},
   "source": [
    "## STEP 3 : Training models"
   ]
  },
  {
   "cell_type": "code",
   "execution_count": null,
   "id": "18d797ff",
   "metadata": {},
   "outputs": [],
   "source": []
  },
  {
   "cell_type": "code",
   "execution_count": 12,
   "id": "aef2672c",
   "metadata": {},
   "outputs": [],
   "source": [
    "from sklearn.linear_model import LinearRegression\n",
    "from sklearn.svm import SVR\n",
    "\n",
    "from sklearn.tree import DecisionTreeRegressor\n",
    "from sklearn.ensemble import RandomForestRegressor"
   ]
  },
  {
   "cell_type": "code",
   "execution_count": null,
   "id": "2abcda81",
   "metadata": {},
   "outputs": [],
   "source": []
  },
  {
   "cell_type": "code",
   "execution_count": 13,
   "id": "1d4a0236",
   "metadata": {},
   "outputs": [],
   "source": [
    "from sklearn.metrics import mean_squared_error,r2_score"
   ]
  },
  {
   "cell_type": "code",
   "execution_count": null,
   "id": "9f652953",
   "metadata": {},
   "outputs": [],
   "source": []
  },
  {
   "cell_type": "markdown",
   "id": "2584dc83",
   "metadata": {},
   "source": [
    "### Various Algorithms for Regression Task : \n",
    "\n",
    "- Linear Regression, Polynomial Regression, Ridge Regression, Lasso Regression, Elastic Net Regression.\n",
    "- Support Vector Regression (SVR),\n",
    "- Decision Tree Regression, \n",
    "- Random Forest Regression, and \n",
    "- Gradient Boosting Regression."
   ]
  },
  {
   "cell_type": "code",
   "execution_count": null,
   "id": "41ca2e86",
   "metadata": {},
   "outputs": [],
   "source": []
  },
  {
   "cell_type": "code",
   "execution_count": 14,
   "id": "581328dd",
   "metadata": {},
   "outputs": [],
   "source": [
    "models = [LinearRegression(), SVR(),DecisionTreeRegressor(), RandomForestRegressor()]"
   ]
  },
  {
   "cell_type": "code",
   "execution_count": null,
   "id": "9da5351d",
   "metadata": {},
   "outputs": [],
   "source": []
  },
  {
   "cell_type": "code",
   "execution_count": 15,
   "id": "2055a00d",
   "metadata": {},
   "outputs": [],
   "source": [
    "import warnings\n",
    "warnings.filterwarnings('ignore')"
   ]
  },
  {
   "cell_type": "code",
   "execution_count": null,
   "id": "f61d451b",
   "metadata": {},
   "outputs": [],
   "source": []
  },
  {
   "cell_type": "code",
   "execution_count": 16,
   "id": "f53f14be",
   "metadata": {
    "scrolled": false
   },
   "outputs": [
    {
     "name": "stdout",
     "output_type": "stream",
     "text": [
      "******************* \u001b[1mLinearRegression()\u001b[0m *******************\n",
      "\n",
      "\\Regression Report : \n",
      "\n",
      "Mean Squared Error :  5807860708.89\n",
      "RMSE :  76209.32\n",
      "R2 Square :  0.5689570627887581\n",
      "\n",
      "******************* \u001b[1mSVR()\u001b[0m *******************\n",
      "\n",
      "\\Regression Report : \n",
      "\n",
      "Mean Squared Error :  14392698771.18\n",
      "RMSE :  119969.57\n",
      "R2 Square :  -0.06818525162365807\n",
      "\n",
      "******************* \u001b[1mDecisionTreeRegressor()\u001b[0m *******************\n",
      "\n",
      "\\Regression Report : \n",
      "\n",
      "Mean Squared Error :  4977272811.0\n",
      "RMSE :  70549.79\n",
      "R2 Square :  0.6306009390910603\n",
      "\n",
      "******************* \u001b[1mRandomForestRegressor()\u001b[0m *******************\n",
      "\n",
      "\\Regression Report : \n",
      "\n",
      "Mean Squared Error :  2618150827.44\n",
      "RMSE :  51167.87\n",
      "R2 Square :  0.8056882767533079\n",
      "\n"
     ]
    }
   ],
   "source": [
    "for model in models :\n",
    "    \n",
    "    model.fit(X_train.values, y_train)\n",
    "    y_hat_train = model.predict(X_train.values)\n",
    "    y_hat_test = model.predict(X_test.values)\n",
    "    \n",
    "    print(f\"******************* \\33[1m{str(model)}\\33[0m *******************\\n\")\n",
    "  \n",
    "    print(\"\\Regression Report : \\n\")\n",
    "    print(\"Mean Squared Error : \",round(mean_squared_error(y_test,y_hat_test),2))\n",
    "    print(\"RMSE : \",round(np.sqrt(mean_squared_error(y_test,y_hat_test)),2))\n",
    "    print(\"R2 Square : \",r2_score(y_test,y_hat_test))\n",
    "    \n",
    "  \n",
    "    print()"
   ]
  },
  {
   "cell_type": "code",
   "execution_count": null,
   "id": "30aa21de",
   "metadata": {},
   "outputs": [],
   "source": []
  },
  {
   "cell_type": "code",
   "execution_count": null,
   "id": "0e54ff1d",
   "metadata": {},
   "outputs": [],
   "source": []
  }
 ],
 "metadata": {
  "kernelspec": {
   "display_name": "Python 3 (ipykernel)",
   "language": "python",
   "name": "python3"
  },
  "language_info": {
   "codemirror_mode": {
    "name": "ipython",
    "version": 3
   },
   "file_extension": ".py",
   "mimetype": "text/x-python",
   "name": "python",
   "nbconvert_exporter": "python",
   "pygments_lexer": "ipython3",
   "version": "3.10.9"
  }
 },
 "nbformat": 4,
 "nbformat_minor": 5
}
