{
 "cells": [
  {
   "cell_type": "code",
   "execution_count": 1,
   "id": "d88e4c19",
   "metadata": {},
   "outputs": [],
   "source": [
    "import pandas as pd\n",
    "import numpy as np\n",
    "import matplotlib.pyplot as plt\n",
    "import seaborn as sns"
   ]
  },
  {
   "cell_type": "code",
   "execution_count": null,
   "id": "a1cc84c2",
   "metadata": {},
   "outputs": [],
   "source": []
  },
  {
   "cell_type": "markdown",
   "id": "b36908ef",
   "metadata": {},
   "source": [
    "## STEP 1 : Data Collection"
   ]
  },
  {
   "cell_type": "code",
   "execution_count": null,
   "id": "aba15aa8",
   "metadata": {},
   "outputs": [],
   "source": []
  },
  {
   "cell_type": "code",
   "execution_count": 2,
   "id": "3dfd557a",
   "metadata": {},
   "outputs": [],
   "source": [
    "# Df_train = r\"C:\\Users\\aakas\\PythonStuff\\Projects\\Cali_HP\\dataset\\housing.csv\""
   ]
  },
  {
   "cell_type": "code",
   "execution_count": null,
   "id": "6552ba76",
   "metadata": {},
   "outputs": [],
   "source": []
  },
  {
   "cell_type": "code",
   "execution_count": 3,
   "id": "87bc2b43",
   "metadata": {},
   "outputs": [],
   "source": [
    "filepath_train = r\"S2_Part2_test_DP_Trimming1_train_dataset.csv\"\n",
    "filepath_test = r\"S2_Part2_test_DP_Trimming1_test_dataset.csv\""
   ]
  },
  {
   "cell_type": "code",
   "execution_count": 4,
   "id": "d47d4890",
   "metadata": {},
   "outputs": [],
   "source": [
    "df_train = pd.read_csv(filepath_train , header = 0 ,index_col = 0)\n",
    "df_test = pd.read_csv(filepath_test , header = 0  , index_col = 0)"
   ]
  },
  {
   "cell_type": "code",
   "execution_count": null,
   "id": "4ed28199",
   "metadata": {},
   "outputs": [],
   "source": []
  },
  {
   "cell_type": "code",
   "execution_count": 5,
   "id": "e01a2867",
   "metadata": {
    "scrolled": false
   },
   "outputs": [
    {
     "data": {
      "text/html": [
       "<div>\n",
       "<style scoped>\n",
       "    .dataframe tbody tr th:only-of-type {\n",
       "        vertical-align: middle;\n",
       "    }\n",
       "\n",
       "    .dataframe tbody tr th {\n",
       "        vertical-align: top;\n",
       "    }\n",
       "\n",
       "    .dataframe thead th {\n",
       "        text-align: right;\n",
       "    }\n",
       "</style>\n",
       "<table border=\"1\" class=\"dataframe\">\n",
       "  <thead>\n",
       "    <tr style=\"text-align: right;\">\n",
       "      <th></th>\n",
       "      <th>longitude</th>\n",
       "      <th>latitude</th>\n",
       "      <th>housing_median_age</th>\n",
       "      <th>total_rooms</th>\n",
       "      <th>population</th>\n",
       "      <th>median_income</th>\n",
       "      <th>ocean_proximity</th>\n",
       "      <th>median_house_value</th>\n",
       "      <th>rooms_per_household</th>\n",
       "      <th>bedrooms_per_room</th>\n",
       "      <th>population_per_household</th>\n",
       "    </tr>\n",
       "  </thead>\n",
       "  <tbody>\n",
       "    <tr>\n",
       "      <th>0</th>\n",
       "      <td>-122.70</td>\n",
       "      <td>39.14</td>\n",
       "      <td>13.0</td>\n",
       "      <td>532.0</td>\n",
       "      <td>214.0</td>\n",
       "      <td>3.3929</td>\n",
       "      <td>INLAND</td>\n",
       "      <td>108300.0</td>\n",
       "      <td>8.580646</td>\n",
       "      <td>0.208647</td>\n",
       "      <td>3.451613</td>\n",
       "    </tr>\n",
       "    <tr>\n",
       "      <th>1</th>\n",
       "      <td>-120.83</td>\n",
       "      <td>35.32</td>\n",
       "      <td>11.0</td>\n",
       "      <td>3252.0</td>\n",
       "      <td>1814.0</td>\n",
       "      <td>3.2226</td>\n",
       "      <td>NEAR OCEAN</td>\n",
       "      <td>183200.0</td>\n",
       "      <td>4.927273</td>\n",
       "      <td>0.215560</td>\n",
       "      <td>2.748485</td>\n",
       "    </tr>\n",
       "    <tr>\n",
       "      <th>2</th>\n",
       "      <td>-122.31</td>\n",
       "      <td>40.49</td>\n",
       "      <td>18.0</td>\n",
       "      <td>4026.0</td>\n",
       "      <td>1731.0</td>\n",
       "      <td>3.3500</td>\n",
       "      <td>INLAND</td>\n",
       "      <td>118400.0</td>\n",
       "      <td>5.710638</td>\n",
       "      <td>0.178341</td>\n",
       "      <td>2.455319</td>\n",
       "    </tr>\n",
       "    <tr>\n",
       "      <th>3</th>\n",
       "      <td>-116.92</td>\n",
       "      <td>32.76</td>\n",
       "      <td>7.0</td>\n",
       "      <td>1659.0</td>\n",
       "      <td>862.0</td>\n",
       "      <td>5.2741</td>\n",
       "      <td>&lt;1H OCEAN</td>\n",
       "      <td>249400.0</td>\n",
       "      <td>6.855372</td>\n",
       "      <td>0.142857</td>\n",
       "      <td>3.561984</td>\n",
       "    </tr>\n",
       "    <tr>\n",
       "      <th>4</th>\n",
       "      <td>-122.34</td>\n",
       "      <td>37.97</td>\n",
       "      <td>19.0</td>\n",
       "      <td>2237.0</td>\n",
       "      <td>1438.0</td>\n",
       "      <td>2.3382</td>\n",
       "      <td>NEAR BAY</td>\n",
       "      <td>120700.0</td>\n",
       "      <td>4.059891</td>\n",
       "      <td>0.259276</td>\n",
       "      <td>2.609800</td>\n",
       "    </tr>\n",
       "  </tbody>\n",
       "</table>\n",
       "</div>"
      ],
      "text/plain": [
       "   longitude  latitude  housing_median_age  total_rooms  population  \\\n",
       "0    -122.70     39.14                13.0        532.0       214.0   \n",
       "1    -120.83     35.32                11.0       3252.0      1814.0   \n",
       "2    -122.31     40.49                18.0       4026.0      1731.0   \n",
       "3    -116.92     32.76                 7.0       1659.0       862.0   \n",
       "4    -122.34     37.97                19.0       2237.0      1438.0   \n",
       "\n",
       "   median_income ocean_proximity  median_house_value  rooms_per_household  \\\n",
       "0         3.3929          INLAND            108300.0             8.580646   \n",
       "1         3.2226      NEAR OCEAN            183200.0             4.927273   \n",
       "2         3.3500          INLAND            118400.0             5.710638   \n",
       "3         5.2741       <1H OCEAN            249400.0             6.855372   \n",
       "4         2.3382        NEAR BAY            120700.0             4.059891   \n",
       "\n",
       "   bedrooms_per_room  population_per_household  \n",
       "0           0.208647                  3.451613  \n",
       "1           0.215560                  2.748485  \n",
       "2           0.178341                  2.455319  \n",
       "3           0.142857                  3.561984  \n",
       "4           0.259276                  2.609800  "
      ]
     },
     "execution_count": 5,
     "metadata": {},
     "output_type": "execute_result"
    }
   ],
   "source": [
    "df_train.head()"
   ]
  },
  {
   "cell_type": "code",
   "execution_count": 6,
   "id": "f9b3d873",
   "metadata": {},
   "outputs": [
    {
     "data": {
      "text/plain": [
       "(14051, 11)"
      ]
     },
     "execution_count": 6,
     "metadata": {},
     "output_type": "execute_result"
    }
   ],
   "source": [
    "df_train.shape"
   ]
  },
  {
   "cell_type": "code",
   "execution_count": null,
   "id": "81ed7613",
   "metadata": {},
   "outputs": [],
   "source": []
  },
  {
   "cell_type": "code",
   "execution_count": 7,
   "id": "051c090f",
   "metadata": {},
   "outputs": [
    {
     "data": {
      "text/html": [
       "<div>\n",
       "<style scoped>\n",
       "    .dataframe tbody tr th:only-of-type {\n",
       "        vertical-align: middle;\n",
       "    }\n",
       "\n",
       "    .dataframe tbody tr th {\n",
       "        vertical-align: top;\n",
       "    }\n",
       "\n",
       "    .dataframe thead th {\n",
       "        text-align: right;\n",
       "    }\n",
       "</style>\n",
       "<table border=\"1\" class=\"dataframe\">\n",
       "  <thead>\n",
       "    <tr style=\"text-align: right;\">\n",
       "      <th></th>\n",
       "      <th>longitude</th>\n",
       "      <th>latitude</th>\n",
       "      <th>housing_median_age</th>\n",
       "      <th>total_rooms</th>\n",
       "      <th>population</th>\n",
       "      <th>median_income</th>\n",
       "      <th>ocean_proximity</th>\n",
       "      <th>median_house_value</th>\n",
       "      <th>rooms_per_household</th>\n",
       "      <th>bedrooms_per_room</th>\n",
       "      <th>population_per_household</th>\n",
       "    </tr>\n",
       "  </thead>\n",
       "  <tbody>\n",
       "    <tr>\n",
       "      <th>0</th>\n",
       "      <td>-118.10</td>\n",
       "      <td>33.81</td>\n",
       "      <td>36.0</td>\n",
       "      <td>1111.0</td>\n",
       "      <td>444.0</td>\n",
       "      <td>3.7031</td>\n",
       "      <td>&lt;1H OCEAN</td>\n",
       "      <td>245300.0</td>\n",
       "      <td>6.276836</td>\n",
       "      <td>0.165617</td>\n",
       "      <td>2.508475</td>\n",
       "    </tr>\n",
       "    <tr>\n",
       "      <th>1</th>\n",
       "      <td>-122.27</td>\n",
       "      <td>37.82</td>\n",
       "      <td>52.0</td>\n",
       "      <td>1630.0</td>\n",
       "      <td>1162.0</td>\n",
       "      <td>1.2475</td>\n",
       "      <td>NEAR BAY</td>\n",
       "      <td>104200.0</td>\n",
       "      <td>4.075000</td>\n",
       "      <td>0.279755</td>\n",
       "      <td>2.905000</td>\n",
       "    </tr>\n",
       "    <tr>\n",
       "      <th>2</th>\n",
       "      <td>-119.12</td>\n",
       "      <td>35.37</td>\n",
       "      <td>13.0</td>\n",
       "      <td>4527.0</td>\n",
       "      <td>2170.0</td>\n",
       "      <td>4.8266</td>\n",
       "      <td>INLAND</td>\n",
       "      <td>146200.0</td>\n",
       "      <td>6.746647</td>\n",
       "      <td>0.157499</td>\n",
       "      <td>3.233979</td>\n",
       "    </tr>\n",
       "    <tr>\n",
       "      <th>3</th>\n",
       "      <td>-123.15</td>\n",
       "      <td>39.31</td>\n",
       "      <td>19.0</td>\n",
       "      <td>1026.0</td>\n",
       "      <td>424.0</td>\n",
       "      <td>2.8833</td>\n",
       "      <td>INLAND</td>\n",
       "      <td>154200.0</td>\n",
       "      <td>6.750000</td>\n",
       "      <td>0.199805</td>\n",
       "      <td>2.789474</td>\n",
       "    </tr>\n",
       "    <tr>\n",
       "      <th>4</th>\n",
       "      <td>-122.52</td>\n",
       "      <td>37.98</td>\n",
       "      <td>31.0</td>\n",
       "      <td>6555.0</td>\n",
       "      <td>2962.0</td>\n",
       "      <td>2.8903</td>\n",
       "      <td>NEAR BAY</td>\n",
       "      <td>324200.0</td>\n",
       "      <td>4.477459</td>\n",
       "      <td>0.239664</td>\n",
       "      <td>2.023224</td>\n",
       "    </tr>\n",
       "  </tbody>\n",
       "</table>\n",
       "</div>"
      ],
      "text/plain": [
       "   longitude  latitude  housing_median_age  total_rooms  population  \\\n",
       "0    -118.10     33.81                36.0       1111.0       444.0   \n",
       "1    -122.27     37.82                52.0       1630.0      1162.0   \n",
       "2    -119.12     35.37                13.0       4527.0      2170.0   \n",
       "3    -123.15     39.31                19.0       1026.0       424.0   \n",
       "4    -122.52     37.98                31.0       6555.0      2962.0   \n",
       "\n",
       "   median_income ocean_proximity  median_house_value  rooms_per_household  \\\n",
       "0         3.7031       <1H OCEAN            245300.0             6.276836   \n",
       "1         1.2475        NEAR BAY            104200.0             4.075000   \n",
       "2         4.8266          INLAND            146200.0             6.746647   \n",
       "3         2.8833          INLAND            154200.0             6.750000   \n",
       "4         2.8903        NEAR BAY            324200.0             4.477459   \n",
       "\n",
       "   bedrooms_per_room  population_per_household  \n",
       "0           0.165617                  2.508475  \n",
       "1           0.279755                  2.905000  \n",
       "2           0.157499                  3.233979  \n",
       "3           0.199805                  2.789474  \n",
       "4           0.239664                  2.023224  "
      ]
     },
     "execution_count": 7,
     "metadata": {},
     "output_type": "execute_result"
    }
   ],
   "source": [
    "df_test.head()"
   ]
  },
  {
   "cell_type": "code",
   "execution_count": 8,
   "id": "e3581476",
   "metadata": {},
   "outputs": [
    {
     "data": {
      "text/plain": [
       "(4128, 11)"
      ]
     },
     "execution_count": 8,
     "metadata": {},
     "output_type": "execute_result"
    }
   ],
   "source": [
    "df_test.shape"
   ]
  },
  {
   "cell_type": "code",
   "execution_count": null,
   "id": "8c94983b",
   "metadata": {},
   "outputs": [],
   "source": []
  },
  {
   "cell_type": "markdown",
   "id": "479ef3d7",
   "metadata": {},
   "source": [
    "## STEP 2 : Package importing "
   ]
  },
  {
   "cell_type": "code",
   "execution_count": null,
   "id": "3ccba99d",
   "metadata": {},
   "outputs": [],
   "source": []
  },
  {
   "cell_type": "code",
   "execution_count": 9,
   "id": "6770e8f1",
   "metadata": {},
   "outputs": [],
   "source": [
    "from sklearn.impute import SimpleImputer\n",
    "from sklearn.preprocessing import StandardScaler\n",
    "\n",
    "# from sklearn.preprocessing import OrdinalEncoder\n",
    "from sklearn.preprocessing import OneHotEncoder\n",
    "\n",
    "from sklearn.pipeline import Pipeline                \n",
    "from sklearn.compose import ColumnTransformer\n",
    "\n",
    "from sklearn.model_selection import train_test_split"
   ]
  },
  {
   "cell_type": "code",
   "execution_count": null,
   "id": "bcee5da0",
   "metadata": {},
   "outputs": [],
   "source": []
  },
  {
   "cell_type": "code",
   "execution_count": 10,
   "id": "b51d87d0",
   "metadata": {},
   "outputs": [],
   "source": [
    "def num_cat_col_list(DF) : \n",
    "    \n",
    "    from pandas.api.types import is_string_dtype, is_numeric_dtype\n",
    "\n",
    "    \n",
    "    num_list = []\n",
    "    cat_list = []\n",
    "\n",
    "    for column in DF:\n",
    "\n",
    "        if is_numeric_dtype(DF[column]):\n",
    "            num_list.append(column)\n",
    "\n",
    "        elif is_string_dtype(DF[column]):\n",
    "            cat_list.append(column)\n",
    "\n",
    "    return (num_list , cat_list)"
   ]
  },
  {
   "cell_type": "code",
   "execution_count": null,
   "id": "587d1879",
   "metadata": {},
   "outputs": [],
   "source": []
  },
  {
   "cell_type": "code",
   "execution_count": 11,
   "id": "a6663169",
   "metadata": {
    "scrolled": true
   },
   "outputs": [
    {
     "name": "stdout",
     "output_type": "stream",
     "text": [
      "Numerical column :  ['longitude', 'latitude', 'housing_median_age', 'total_rooms', 'population', 'median_income', 'median_house_value', 'rooms_per_household', 'bedrooms_per_room', 'population_per_household']\n",
      "Categorical column :  ['ocean_proximity']\n"
     ]
    }
   ],
   "source": [
    "num_list , cat_list = num_cat_col_list(df_train)\n",
    "\n",
    "print(\"Numerical column : \",num_list)\n",
    "print(\"Categorical column : \",cat_list)"
   ]
  },
  {
   "cell_type": "code",
   "execution_count": null,
   "id": "dd6deaf0",
   "metadata": {},
   "outputs": [],
   "source": []
  },
  {
   "cell_type": "markdown",
   "id": "24a39cd0",
   "metadata": {},
   "source": [
    "## STEP 3 : Train and test split"
   ]
  },
  {
   "cell_type": "code",
   "execution_count": null,
   "id": "5e3c102d",
   "metadata": {},
   "outputs": [],
   "source": []
  },
  {
   "cell_type": "code",
   "execution_count": 12,
   "id": "419bfe48",
   "metadata": {},
   "outputs": [],
   "source": [
    "X_train = df_train.drop(labels= ['median_house_value'] , axis = 1)\n",
    "y_train = df_train['median_house_value']\n",
    "\n",
    "X_test = df_test.drop(labels= ['median_house_value'] , axis = 1)\n",
    "y_test = df_test['median_house_value']"
   ]
  },
  {
   "cell_type": "code",
   "execution_count": null,
   "id": "5b5c212d",
   "metadata": {},
   "outputs": [],
   "source": []
  },
  {
   "cell_type": "markdown",
   "id": "3df8b876",
   "metadata": {},
   "source": [
    "## STEP 4 : Making changes to num_feat and cat_feat list"
   ]
  },
  {
   "cell_type": "code",
   "execution_count": 13,
   "id": "2bcf8df5",
   "metadata": {},
   "outputs": [],
   "source": [
    "# num_list"
   ]
  },
  {
   "cell_type": "code",
   "execution_count": 14,
   "id": "9afa04fd",
   "metadata": {},
   "outputs": [],
   "source": [
    "num_feat = num_list.copy()\n",
    "num_feat.remove('median_house_value')\n",
    "\n",
    "cat_feat = cat_list.copy()"
   ]
  },
  {
   "cell_type": "code",
   "execution_count": null,
   "id": "1321bfef",
   "metadata": {},
   "outputs": [],
   "source": []
  },
  {
   "cell_type": "markdown",
   "id": "1b5620fd",
   "metadata": {},
   "source": [
    "## STEP 5 : PipeLine"
   ]
  },
  {
   "cell_type": "code",
   "execution_count": null,
   "id": "aa294768",
   "metadata": {},
   "outputs": [],
   "source": []
  },
  {
   "cell_type": "markdown",
   "id": "40f317f0",
   "metadata": {},
   "source": [
    "### Pipelines :  numerical and categorical features"
   ]
  },
  {
   "cell_type": "code",
   "execution_count": null,
   "id": "850785c8",
   "metadata": {},
   "outputs": [],
   "source": []
  },
  {
   "cell_type": "code",
   "execution_count": 15,
   "id": "6b7ac43a",
   "metadata": {},
   "outputs": [],
   "source": [
    "ohe = OneHotEncoder()"
   ]
  },
  {
   "cell_type": "code",
   "execution_count": null,
   "id": "848e1ee2",
   "metadata": {},
   "outputs": [],
   "source": []
  },
  {
   "cell_type": "code",
   "execution_count": 16,
   "id": "f92c6730",
   "metadata": {},
   "outputs": [],
   "source": [
    "num_pipeline = Pipeline([\n",
    "                         (\"scaling\", StandardScaler())\n",
    "                        ])"
   ]
  },
  {
   "cell_type": "code",
   "execution_count": 17,
   "id": "e4d5ce17",
   "metadata": {},
   "outputs": [],
   "source": [
    "cat_pipeline = Pipeline([('Nominal Encoding' ,ohe)])"
   ]
  },
  {
   "cell_type": "code",
   "execution_count": null,
   "id": "a57e9234",
   "metadata": {},
   "outputs": [],
   "source": []
  },
  {
   "cell_type": "markdown",
   "id": "0f62ceb7",
   "metadata": {},
   "source": [
    "### Main-Pipeline"
   ]
  },
  {
   "cell_type": "code",
   "execution_count": 18,
   "id": "8bef23bd",
   "metadata": {},
   "outputs": [],
   "source": [
    "pipeline = ColumnTransformer([(\"Num pipeline\" , num_pipeline , num_feat),\n",
    "                             (\"Nominal pipeline\" , cat_pipeline , cat_feat)\n",
    "                             ])"
   ]
  },
  {
   "cell_type": "code",
   "execution_count": null,
   "id": "0ffbfcc5",
   "metadata": {},
   "outputs": [],
   "source": []
  },
  {
   "cell_type": "markdown",
   "id": "b050fb29",
   "metadata": {},
   "source": [
    "### Transforming"
   ]
  },
  {
   "cell_type": "code",
   "execution_count": null,
   "id": "e793b509",
   "metadata": {},
   "outputs": [],
   "source": []
  },
  {
   "cell_type": "code",
   "execution_count": 19,
   "id": "92ea6e1e",
   "metadata": {},
   "outputs": [],
   "source": [
    "X_train_tr = pipeline.fit_transform(X_train)"
   ]
  },
  {
   "cell_type": "code",
   "execution_count": 20,
   "id": "a7ddbea8",
   "metadata": {},
   "outputs": [],
   "source": [
    "X_test_tr = pipeline.transform(X_test)"
   ]
  },
  {
   "cell_type": "code",
   "execution_count": null,
   "id": "3aa3db22",
   "metadata": {},
   "outputs": [],
   "source": []
  },
  {
   "cell_type": "markdown",
   "id": "3b55de31",
   "metadata": {},
   "source": [
    "## STEP 6 : Create DF from transformed 2D-array"
   ]
  },
  {
   "cell_type": "code",
   "execution_count": null,
   "id": "8f9468d3",
   "metadata": {},
   "outputs": [],
   "source": []
  },
  {
   "cell_type": "code",
   "execution_count": 21,
   "id": "d5979b7e",
   "metadata": {},
   "outputs": [
    {
     "data": {
      "text/plain": [
       "array(['Num pipeline__longitude', 'Num pipeline__latitude',\n",
       "       'Num pipeline__housing_median_age', 'Num pipeline__total_rooms',\n",
       "       'Num pipeline__population', 'Num pipeline__median_income',\n",
       "       'Num pipeline__rooms_per_household',\n",
       "       'Num pipeline__bedrooms_per_room',\n",
       "       'Num pipeline__population_per_household',\n",
       "       'Nominal pipeline__ocean_proximity_<1H OCEAN',\n",
       "       'Nominal pipeline__ocean_proximity_INLAND',\n",
       "       'Nominal pipeline__ocean_proximity_ISLAND',\n",
       "       'Nominal pipeline__ocean_proximity_NEAR BAY',\n",
       "       'Nominal pipeline__ocean_proximity_NEAR OCEAN'], dtype=object)"
      ]
     },
     "execution_count": 21,
     "metadata": {},
     "output_type": "execute_result"
    }
   ],
   "source": [
    "feat = pipeline.get_feature_names_out()\n",
    "feat"
   ]
  },
  {
   "cell_type": "code",
   "execution_count": null,
   "id": "ab643754",
   "metadata": {},
   "outputs": [],
   "source": []
  },
  {
   "cell_type": "code",
   "execution_count": 22,
   "id": "ed06eed6",
   "metadata": {},
   "outputs": [
    {
     "name": "stdout",
     "output_type": "stream",
     "text": [
      "['longitude', 'latitude', 'housing_median_age', 'total_rooms', 'population', 'median_income', 'rooms_per_household', 'bedrooms_per_room', 'population_per_household', 'ocean_proximity_<1H OCEAN', 'ocean_proximity_INLAND', 'ocean_proximity_ISLAND', 'ocean_proximity_NEAR BAY', 'ocean_proximity_NEAR OCEAN']\n"
     ]
    }
   ],
   "source": [
    "out_cols = []\n",
    "\n",
    "i= 0  # counter\n",
    "\n",
    "for col in pipeline.get_feature_names_out():\n",
    "    out_cols.append(col.split(\"__\")[-1])\n",
    "    #out_cols[i] = out_cols[i].split(\"_\")[-1]\n",
    "    \n",
    "    i += 1\n",
    "print(out_cols)"
   ]
  },
  {
   "cell_type": "code",
   "execution_count": null,
   "id": "4cefecfc",
   "metadata": {},
   "outputs": [],
   "source": []
  },
  {
   "cell_type": "code",
   "execution_count": 23,
   "id": "7402c5a4",
   "metadata": {},
   "outputs": [
    {
     "data": {
      "text/plain": [
       "14"
      ]
     },
     "execution_count": 23,
     "metadata": {},
     "output_type": "execute_result"
    }
   ],
   "source": [
    "len(out_cols)"
   ]
  },
  {
   "cell_type": "code",
   "execution_count": null,
   "id": "ab77f614",
   "metadata": {},
   "outputs": [],
   "source": []
  },
  {
   "cell_type": "code",
   "execution_count": 24,
   "id": "4e0b4c5e",
   "metadata": {},
   "outputs": [],
   "source": [
    "X_train_tr_df = pd.DataFrame(X_train_tr, columns= out_cols)\n",
    "\n",
    "X_test_tr_df = pd.DataFrame(X_test_tr , columns = out_cols)"
   ]
  },
  {
   "cell_type": "code",
   "execution_count": null,
   "id": "368ed5fb",
   "metadata": {},
   "outputs": [],
   "source": []
  },
  {
   "cell_type": "markdown",
   "id": "464d8bc6",
   "metadata": {},
   "source": [
    "## STEP 7 :  Merging transformed train and test DF"
   ]
  },
  {
   "cell_type": "code",
   "execution_count": null,
   "id": "d5e09989",
   "metadata": {},
   "outputs": [],
   "source": []
  },
  {
   "cell_type": "code",
   "execution_count": 25,
   "id": "bb07d725",
   "metadata": {},
   "outputs": [],
   "source": [
    "y_train.reset_index(drop = True , inplace = True)"
   ]
  },
  {
   "cell_type": "code",
   "execution_count": 26,
   "id": "ca3bb6e9",
   "metadata": {},
   "outputs": [
    {
     "data": {
      "text/plain": [
       "RangeIndex(start=0, stop=14051, step=1)"
      ]
     },
     "execution_count": 26,
     "metadata": {},
     "output_type": "execute_result"
    }
   ],
   "source": [
    "y_train.index"
   ]
  },
  {
   "cell_type": "code",
   "execution_count": 27,
   "id": "0022f70f",
   "metadata": {},
   "outputs": [
    {
     "data": {
      "text/plain": [
       "0    108300.0\n",
       "1    183200.0\n",
       "2    118400.0\n",
       "3    249400.0\n",
       "4    120700.0\n",
       "Name: median_house_value, dtype: float64"
      ]
     },
     "execution_count": 27,
     "metadata": {},
     "output_type": "execute_result"
    }
   ],
   "source": [
    "y_train.head()"
   ]
  },
  {
   "cell_type": "code",
   "execution_count": null,
   "id": "7243c22c",
   "metadata": {},
   "outputs": [],
   "source": []
  },
  {
   "cell_type": "code",
   "execution_count": 28,
   "id": "0deab735",
   "metadata": {},
   "outputs": [],
   "source": [
    "# Datatypes of each column in respective DF must be same.\n",
    "\n",
    "df_train_trans = pd.concat([X_train_tr_df,y_train] ,axis = 1)"
   ]
  },
  {
   "cell_type": "code",
   "execution_count": 29,
   "id": "6c89521f",
   "metadata": {},
   "outputs": [
    {
     "data": {
      "text/html": [
       "<div>\n",
       "<style scoped>\n",
       "    .dataframe tbody tr th:only-of-type {\n",
       "        vertical-align: middle;\n",
       "    }\n",
       "\n",
       "    .dataframe tbody tr th {\n",
       "        vertical-align: top;\n",
       "    }\n",
       "\n",
       "    .dataframe thead th {\n",
       "        text-align: right;\n",
       "    }\n",
       "</style>\n",
       "<table border=\"1\" class=\"dataframe\">\n",
       "  <thead>\n",
       "    <tr style=\"text-align: right;\">\n",
       "      <th></th>\n",
       "      <th>longitude</th>\n",
       "      <th>latitude</th>\n",
       "      <th>housing_median_age</th>\n",
       "      <th>total_rooms</th>\n",
       "      <th>population</th>\n",
       "      <th>median_income</th>\n",
       "      <th>rooms_per_household</th>\n",
       "      <th>bedrooms_per_room</th>\n",
       "      <th>population_per_household</th>\n",
       "      <th>ocean_proximity_&lt;1H OCEAN</th>\n",
       "      <th>ocean_proximity_INLAND</th>\n",
       "      <th>ocean_proximity_ISLAND</th>\n",
       "      <th>ocean_proximity_NEAR BAY</th>\n",
       "      <th>ocean_proximity_NEAR OCEAN</th>\n",
       "      <th>median_house_value</th>\n",
       "    </tr>\n",
       "  </thead>\n",
       "  <tbody>\n",
       "    <tr>\n",
       "      <th>0</th>\n",
       "      <td>-1.533576</td>\n",
       "      <td>1.587011</td>\n",
       "      <td>-1.374316</td>\n",
       "      <td>-1.507353</td>\n",
       "      <td>-1.687685</td>\n",
       "      <td>-0.167906</td>\n",
       "      <td>1.297679</td>\n",
       "      <td>-0.105796</td>\n",
       "      <td>0.484355</td>\n",
       "      <td>0.0</td>\n",
       "      <td>1.0</td>\n",
       "      <td>0.0</td>\n",
       "      <td>0.0</td>\n",
       "      <td>0.0</td>\n",
       "      <td>108300.0</td>\n",
       "    </tr>\n",
       "    <tr>\n",
       "      <th>1</th>\n",
       "      <td>-0.601758</td>\n",
       "      <td>-0.175406</td>\n",
       "      <td>-1.536809</td>\n",
       "      <td>1.115272</td>\n",
       "      <td>1.202695</td>\n",
       "      <td>-0.281535</td>\n",
       "      <td>-0.171424</td>\n",
       "      <td>0.008622</td>\n",
       "      <td>-0.174307</td>\n",
       "      <td>0.0</td>\n",
       "      <td>0.0</td>\n",
       "      <td>0.0</td>\n",
       "      <td>0.0</td>\n",
       "      <td>1.0</td>\n",
       "      <td>183200.0</td>\n",
       "    </tr>\n",
       "    <tr>\n",
       "      <th>2</th>\n",
       "      <td>-1.339240</td>\n",
       "      <td>2.209854</td>\n",
       "      <td>-0.968083</td>\n",
       "      <td>1.861563</td>\n",
       "      <td>1.052757</td>\n",
       "      <td>-0.196530</td>\n",
       "      <td>0.143585</td>\n",
       "      <td>-0.607392</td>\n",
       "      <td>-0.448932</td>\n",
       "      <td>0.0</td>\n",
       "      <td>1.0</td>\n",
       "      <td>0.0</td>\n",
       "      <td>0.0</td>\n",
       "      <td>0.0</td>\n",
       "      <td>118400.0</td>\n",
       "    </tr>\n",
       "    <tr>\n",
       "      <th>3</th>\n",
       "      <td>1.346590</td>\n",
       "      <td>-1.356502</td>\n",
       "      <td>-1.861795</td>\n",
       "      <td>-0.420699</td>\n",
       "      <td>-0.517081</td>\n",
       "      <td>1.087282</td>\n",
       "      <td>0.603908</td>\n",
       "      <td>-1.194686</td>\n",
       "      <td>0.587746</td>\n",
       "      <td>1.0</td>\n",
       "      <td>0.0</td>\n",
       "      <td>0.0</td>\n",
       "      <td>0.0</td>\n",
       "      <td>0.0</td>\n",
       "      <td>249400.0</td>\n",
       "    </tr>\n",
       "    <tr>\n",
       "      <th>4</th>\n",
       "      <td>-1.354189</td>\n",
       "      <td>1.047213</td>\n",
       "      <td>-0.886837</td>\n",
       "      <td>0.136608</td>\n",
       "      <td>0.523456</td>\n",
       "      <td>-0.871631</td>\n",
       "      <td>-0.520218</td>\n",
       "      <td>0.732174</td>\n",
       "      <td>-0.304221</td>\n",
       "      <td>0.0</td>\n",
       "      <td>0.0</td>\n",
       "      <td>0.0</td>\n",
       "      <td>1.0</td>\n",
       "      <td>0.0</td>\n",
       "      <td>120700.0</td>\n",
       "    </tr>\n",
       "  </tbody>\n",
       "</table>\n",
       "</div>"
      ],
      "text/plain": [
       "   longitude  latitude  housing_median_age  total_rooms  population  \\\n",
       "0  -1.533576  1.587011           -1.374316    -1.507353   -1.687685   \n",
       "1  -0.601758 -0.175406           -1.536809     1.115272    1.202695   \n",
       "2  -1.339240  2.209854           -0.968083     1.861563    1.052757   \n",
       "3   1.346590 -1.356502           -1.861795    -0.420699   -0.517081   \n",
       "4  -1.354189  1.047213           -0.886837     0.136608    0.523456   \n",
       "\n",
       "   median_income  rooms_per_household  bedrooms_per_room  \\\n",
       "0      -0.167906             1.297679          -0.105796   \n",
       "1      -0.281535            -0.171424           0.008622   \n",
       "2      -0.196530             0.143585          -0.607392   \n",
       "3       1.087282             0.603908          -1.194686   \n",
       "4      -0.871631            -0.520218           0.732174   \n",
       "\n",
       "   population_per_household  ocean_proximity_<1H OCEAN  \\\n",
       "0                  0.484355                        0.0   \n",
       "1                 -0.174307                        0.0   \n",
       "2                 -0.448932                        0.0   \n",
       "3                  0.587746                        1.0   \n",
       "4                 -0.304221                        0.0   \n",
       "\n",
       "   ocean_proximity_INLAND  ocean_proximity_ISLAND  ocean_proximity_NEAR BAY  \\\n",
       "0                     1.0                     0.0                       0.0   \n",
       "1                     0.0                     0.0                       0.0   \n",
       "2                     1.0                     0.0                       0.0   \n",
       "3                     0.0                     0.0                       0.0   \n",
       "4                     0.0                     0.0                       1.0   \n",
       "\n",
       "   ocean_proximity_NEAR OCEAN  median_house_value  \n",
       "0                         0.0            108300.0  \n",
       "1                         1.0            183200.0  \n",
       "2                         0.0            118400.0  \n",
       "3                         0.0            249400.0  \n",
       "4                         0.0            120700.0  "
      ]
     },
     "execution_count": 29,
     "metadata": {},
     "output_type": "execute_result"
    }
   ],
   "source": [
    "df_train_trans.head()"
   ]
  },
  {
   "cell_type": "code",
   "execution_count": null,
   "id": "05bf0f7a",
   "metadata": {},
   "outputs": [],
   "source": []
  },
  {
   "cell_type": "code",
   "execution_count": 30,
   "id": "cc44d2ed",
   "metadata": {},
   "outputs": [],
   "source": [
    "y_test.reset_index(drop= True , inplace = True)"
   ]
  },
  {
   "cell_type": "code",
   "execution_count": 31,
   "id": "4abfdd8f",
   "metadata": {},
   "outputs": [
    {
     "data": {
      "text/plain": [
       "RangeIndex(start=0, stop=4128, step=1)"
      ]
     },
     "execution_count": 31,
     "metadata": {},
     "output_type": "execute_result"
    }
   ],
   "source": [
    "y_test.index"
   ]
  },
  {
   "cell_type": "code",
   "execution_count": null,
   "id": "f6e4a592",
   "metadata": {},
   "outputs": [],
   "source": []
  },
  {
   "cell_type": "code",
   "execution_count": 32,
   "id": "2c244a6c",
   "metadata": {},
   "outputs": [
    {
     "data": {
      "text/plain": [
       "0    245300.0\n",
       "1    104200.0\n",
       "2    146200.0\n",
       "3    154200.0\n",
       "4    324200.0\n",
       "Name: median_house_value, dtype: float64"
      ]
     },
     "execution_count": 32,
     "metadata": {},
     "output_type": "execute_result"
    }
   ],
   "source": [
    "y_test.head()"
   ]
  },
  {
   "cell_type": "code",
   "execution_count": 33,
   "id": "f5125c64",
   "metadata": {},
   "outputs": [],
   "source": [
    "df_test_trans = pd.concat([X_test_tr_df,y_test] ,axis = 1)"
   ]
  },
  {
   "cell_type": "code",
   "execution_count": 34,
   "id": "c2a9929d",
   "metadata": {},
   "outputs": [
    {
     "data": {
      "text/html": [
       "<div>\n",
       "<style scoped>\n",
       "    .dataframe tbody tr th:only-of-type {\n",
       "        vertical-align: middle;\n",
       "    }\n",
       "\n",
       "    .dataframe tbody tr th {\n",
       "        vertical-align: top;\n",
       "    }\n",
       "\n",
       "    .dataframe thead th {\n",
       "        text-align: right;\n",
       "    }\n",
       "</style>\n",
       "<table border=\"1\" class=\"dataframe\">\n",
       "  <thead>\n",
       "    <tr style=\"text-align: right;\">\n",
       "      <th></th>\n",
       "      <th>longitude</th>\n",
       "      <th>latitude</th>\n",
       "      <th>housing_median_age</th>\n",
       "      <th>total_rooms</th>\n",
       "      <th>population</th>\n",
       "      <th>median_income</th>\n",
       "      <th>rooms_per_household</th>\n",
       "      <th>bedrooms_per_room</th>\n",
       "      <th>population_per_household</th>\n",
       "      <th>ocean_proximity_&lt;1H OCEAN</th>\n",
       "      <th>ocean_proximity_INLAND</th>\n",
       "      <th>ocean_proximity_ISLAND</th>\n",
       "      <th>ocean_proximity_NEAR BAY</th>\n",
       "      <th>ocean_proximity_NEAR OCEAN</th>\n",
       "      <th>median_house_value</th>\n",
       "    </tr>\n",
       "  </thead>\n",
       "  <tbody>\n",
       "    <tr>\n",
       "      <th>0</th>\n",
       "      <td>0.758598</td>\n",
       "      <td>-0.872068</td>\n",
       "      <td>0.494354</td>\n",
       "      <td>-0.949081</td>\n",
       "      <td>-1.272193</td>\n",
       "      <td>0.039068</td>\n",
       "      <td>0.371265</td>\n",
       "      <td>-0.817992</td>\n",
       "      <td>-0.399138</td>\n",
       "      <td>1.0</td>\n",
       "      <td>0.0</td>\n",
       "      <td>0.0</td>\n",
       "      <td>0.0</td>\n",
       "      <td>0.0</td>\n",
       "      <td>245300.0</td>\n",
       "    </tr>\n",
       "    <tr>\n",
       "      <th>1</th>\n",
       "      <td>-1.319308</td>\n",
       "      <td>0.978008</td>\n",
       "      <td>1.794299</td>\n",
       "      <td>-0.448661</td>\n",
       "      <td>0.024865</td>\n",
       "      <td>-1.599376</td>\n",
       "      <td>-0.514142</td>\n",
       "      <td>1.071120</td>\n",
       "      <td>-0.027690</td>\n",
       "      <td>0.0</td>\n",
       "      <td>0.0</td>\n",
       "      <td>0.0</td>\n",
       "      <td>1.0</td>\n",
       "      <td>0.0</td>\n",
       "      <td>104200.0</td>\n",
       "    </tr>\n",
       "    <tr>\n",
       "      <th>2</th>\n",
       "      <td>0.250333</td>\n",
       "      <td>-0.152338</td>\n",
       "      <td>-1.374316</td>\n",
       "      <td>2.344627</td>\n",
       "      <td>1.845805</td>\n",
       "      <td>0.788698</td>\n",
       "      <td>0.560187</td>\n",
       "      <td>-0.952339</td>\n",
       "      <td>0.280484</td>\n",
       "      <td>0.0</td>\n",
       "      <td>1.0</td>\n",
       "      <td>0.0</td>\n",
       "      <td>0.0</td>\n",
       "      <td>0.0</td>\n",
       "      <td>146200.0</td>\n",
       "    </tr>\n",
       "    <tr>\n",
       "      <th>3</th>\n",
       "      <td>-1.757810</td>\n",
       "      <td>1.665443</td>\n",
       "      <td>-0.886837</td>\n",
       "      <td>-1.031038</td>\n",
       "      <td>-1.308323</td>\n",
       "      <td>-0.507925</td>\n",
       "      <td>0.561535</td>\n",
       "      <td>-0.252134</td>\n",
       "      <td>-0.135910</td>\n",
       "      <td>0.0</td>\n",
       "      <td>1.0</td>\n",
       "      <td>0.0</td>\n",
       "      <td>0.0</td>\n",
       "      <td>0.0</td>\n",
       "      <td>154200.0</td>\n",
       "    </tr>\n",
       "    <tr>\n",
       "      <th>4</th>\n",
       "      <td>-1.443882</td>\n",
       "      <td>1.051827</td>\n",
       "      <td>0.088122</td>\n",
       "      <td>4.300025</td>\n",
       "      <td>3.276543</td>\n",
       "      <td>-0.503255</td>\n",
       "      <td>-0.352304</td>\n",
       "      <td>0.407582</td>\n",
       "      <td>-0.853701</td>\n",
       "      <td>0.0</td>\n",
       "      <td>0.0</td>\n",
       "      <td>0.0</td>\n",
       "      <td>1.0</td>\n",
       "      <td>0.0</td>\n",
       "      <td>324200.0</td>\n",
       "    </tr>\n",
       "  </tbody>\n",
       "</table>\n",
       "</div>"
      ],
      "text/plain": [
       "   longitude  latitude  housing_median_age  total_rooms  population  \\\n",
       "0   0.758598 -0.872068            0.494354    -0.949081   -1.272193   \n",
       "1  -1.319308  0.978008            1.794299    -0.448661    0.024865   \n",
       "2   0.250333 -0.152338           -1.374316     2.344627    1.845805   \n",
       "3  -1.757810  1.665443           -0.886837    -1.031038   -1.308323   \n",
       "4  -1.443882  1.051827            0.088122     4.300025    3.276543   \n",
       "\n",
       "   median_income  rooms_per_household  bedrooms_per_room  \\\n",
       "0       0.039068             0.371265          -0.817992   \n",
       "1      -1.599376            -0.514142           1.071120   \n",
       "2       0.788698             0.560187          -0.952339   \n",
       "3      -0.507925             0.561535          -0.252134   \n",
       "4      -0.503255            -0.352304           0.407582   \n",
       "\n",
       "   population_per_household  ocean_proximity_<1H OCEAN  \\\n",
       "0                 -0.399138                        1.0   \n",
       "1                 -0.027690                        0.0   \n",
       "2                  0.280484                        0.0   \n",
       "3                 -0.135910                        0.0   \n",
       "4                 -0.853701                        0.0   \n",
       "\n",
       "   ocean_proximity_INLAND  ocean_proximity_ISLAND  ocean_proximity_NEAR BAY  \\\n",
       "0                     0.0                     0.0                       0.0   \n",
       "1                     0.0                     0.0                       1.0   \n",
       "2                     1.0                     0.0                       0.0   \n",
       "3                     1.0                     0.0                       0.0   \n",
       "4                     0.0                     0.0                       1.0   \n",
       "\n",
       "   ocean_proximity_NEAR OCEAN  median_house_value  \n",
       "0                         0.0            245300.0  \n",
       "1                         0.0            104200.0  \n",
       "2                         0.0            146200.0  \n",
       "3                         0.0            154200.0  \n",
       "4                         0.0            324200.0  "
      ]
     },
     "execution_count": 34,
     "metadata": {},
     "output_type": "execute_result"
    }
   ],
   "source": [
    "df_test_trans.head()"
   ]
  },
  {
   "cell_type": "code",
   "execution_count": null,
   "id": "15bb7482",
   "metadata": {},
   "outputs": [],
   "source": []
  },
  {
   "cell_type": "code",
   "execution_count": 53,
   "id": "71f0640f",
   "metadata": {},
   "outputs": [
    {
     "data": {
      "text/plain": [
       "0.48101928521437726"
      ]
     },
     "execution_count": 53,
     "metadata": {},
     "output_type": "execute_result"
    }
   ],
   "source": [
    "df_test_trans['total_rooms'].mean()"
   ]
  },
  {
   "cell_type": "code",
   "execution_count": 54,
   "id": "84c2d3e5",
   "metadata": {},
   "outputs": [
    {
     "data": {
      "text/plain": [
       "2.11509618737228"
      ]
     },
     "execution_count": 54,
     "metadata": {},
     "output_type": "execute_result"
    }
   ],
   "source": [
    "df_test_trans['total_rooms'].std()"
   ]
  },
  {
   "cell_type": "code",
   "execution_count": 57,
   "id": "561aa5fc",
   "metadata": {},
   "outputs": [
    {
     "data": {
      "text/plain": [
       "<Axes: >"
      ]
     },
     "execution_count": 57,
     "metadata": {},
     "output_type": "execute_result"
    },
    {
     "data": {
      "image/png": "[encoded data removed]",
      "text/plain": [
       "<Figure size 640x480 with 1 Axes>"
      ]
     },
     "metadata": {},
     "output_type": "display_data"
    }
   ],
   "source": [
    "df_test_trans['total_rooms'].hist()"
   ]
  },
  {
   "cell_type": "code",
   "execution_count": null,
   "id": "f462c13a",
   "metadata": {},
   "outputs": [],
   "source": []
  },
  {
   "cell_type": "code",
   "execution_count": null,
   "id": "1f2501f3",
   "metadata": {},
   "outputs": [],
   "source": [
    "population"
   ]
  },
  {
   "cell_type": "code",
   "execution_count": 55,
   "id": "90983923",
   "metadata": {},
   "outputs": [
    {
     "data": {
      "text/plain": [
       "0.4611835928106092"
      ]
     },
     "execution_count": 55,
     "metadata": {},
     "output_type": "execute_result"
    }
   ],
   "source": [
    "df_test_trans['population'].mean()"
   ]
  },
  {
   "cell_type": "code",
   "execution_count": 56,
   "id": "b1b5f8d0",
   "metadata": {},
   "outputs": [
    {
     "data": {
      "text/plain": [
       "1.9618533969095786"
      ]
     },
     "execution_count": 56,
     "metadata": {},
     "output_type": "execute_result"
    }
   ],
   "source": [
    "df_test_trans['population'].std()"
   ]
  },
  {
   "cell_type": "code",
   "execution_count": 58,
   "id": "a8a42fb6",
   "metadata": {},
   "outputs": [
    {
     "data": {
      "text/plain": [
       "<Axes: >"
      ]
     },
     "execution_count": 58,
     "metadata": {},
     "output_type": "execute_result"
    },
    {
     "data": {
      "image/png": "[encoded data removed]",
      "text/plain": [
       "<Figure size 640x480 with 1 Axes>"
      ]
     },
     "metadata": {},
     "output_type": "display_data"
    }
   ],
   "source": [
    "df_test_trans['population'].hist()"
   ]
  },
  {
   "cell_type": "code",
   "execution_count": 60,
   "id": "62e9fd3f",
   "metadata": {},
   "outputs": [
    {
     "data": {
      "text/plain": [
       "0.16061027451710758"
      ]
     },
     "execution_count": 60,
     "metadata": {},
     "output_type": "execute_result"
    }
   ],
   "source": [
    "df_test_trans['median_income'].mean()"
   ]
  },
  {
   "cell_type": "code",
   "execution_count": 61,
   "id": "a28a5c93",
   "metadata": {},
   "outputs": [
    {
     "data": {
      "text/plain": [
       "1.2754964890532285"
      ]
     },
     "execution_count": 61,
     "metadata": {},
     "output_type": "execute_result"
    }
   ],
   "source": [
    "df_test_trans['median_income'].std()"
   ]
  },
  {
   "cell_type": "code",
   "execution_count": 62,
   "id": "e04a9dd4",
   "metadata": {},
   "outputs": [
    {
     "data": {
      "text/plain": [
       "<Axes: >"
      ]
     },
     "execution_count": 62,
     "metadata": {},
     "output_type": "execute_result"
    },
    {
     "data": {
      "image/png": "[encoded data removed]",
      "text/plain": [
       "<Figure size 640x480 with 1 Axes>"
      ]
     },
     "metadata": {},
     "output_type": "display_data"
    }
   ],
   "source": [
    "df_test_trans['median_income'].hist()"
   ]
  },
  {
   "cell_type": "code",
   "execution_count": null,
   "id": "aac95d9c",
   "metadata": {},
   "outputs": [],
   "source": []
  },
  {
   "cell_type": "code",
   "execution_count": 35,
   "id": "0dbf6fbb",
   "metadata": {},
   "outputs": [],
   "source": [
    "#X_df_trans.shape"
   ]
  },
  {
   "cell_type": "code",
   "execution_count": 36,
   "id": "a03b54c0",
   "metadata": {},
   "outputs": [],
   "source": [
    "# X_df_trans.index"
   ]
  },
  {
   "cell_type": "code",
   "execution_count": 37,
   "id": "4a8a8387",
   "metadata": {},
   "outputs": [],
   "source": [
    "# X_df_trans.head()"
   ]
  },
  {
   "cell_type": "code",
   "execution_count": null,
   "id": "9ffda701",
   "metadata": {},
   "outputs": [],
   "source": []
  },
  {
   "cell_type": "code",
   "execution_count": 38,
   "id": "84eb1503",
   "metadata": {},
   "outputs": [],
   "source": [
    "#y_train.reset_index(drop = True , inplace = True)"
   ]
  },
  {
   "cell_type": "code",
   "execution_count": 39,
   "id": "ca97c594",
   "metadata": {},
   "outputs": [],
   "source": [
    "#y_train.index"
   ]
  },
  {
   "cell_type": "code",
   "execution_count": 40,
   "id": "47be56ba",
   "metadata": {},
   "outputs": [],
   "source": [
    "#y_train.head()"
   ]
  },
  {
   "cell_type": "code",
   "execution_count": null,
   "id": "1dd16381",
   "metadata": {},
   "outputs": [],
   "source": []
  },
  {
   "cell_type": "code",
   "execution_count": 41,
   "id": "99458078",
   "metadata": {},
   "outputs": [],
   "source": [
    "#y_test.reset_index(drop= True , inplace = True)"
   ]
  },
  {
   "cell_type": "code",
   "execution_count": null,
   "id": "d605568a",
   "metadata": {},
   "outputs": [],
   "source": []
  },
  {
   "cell_type": "code",
   "execution_count": 42,
   "id": "e950033e",
   "metadata": {},
   "outputs": [],
   "source": [
    "#y_test.index"
   ]
  },
  {
   "cell_type": "code",
   "execution_count": 43,
   "id": "80123866",
   "metadata": {},
   "outputs": [],
   "source": [
    "#y_comb = pd.concat([y_train,y_test] ,axis = 0 ,ignore_index= True)"
   ]
  },
  {
   "cell_type": "code",
   "execution_count": 44,
   "id": "23bd8b55",
   "metadata": {},
   "outputs": [],
   "source": [
    "#y_comb.shape"
   ]
  },
  {
   "cell_type": "code",
   "execution_count": null,
   "id": "e69cb1eb",
   "metadata": {},
   "outputs": [],
   "source": []
  },
  {
   "cell_type": "code",
   "execution_count": 45,
   "id": "58d3ac5b",
   "metadata": {},
   "outputs": [],
   "source": [
    "#df_trans = pd.concat([X_df_trans,y_comb] ,axis = 1)"
   ]
  },
  {
   "cell_type": "code",
   "execution_count": null,
   "id": "a56dcd7e",
   "metadata": {},
   "outputs": [],
   "source": []
  },
  {
   "cell_type": "code",
   "execution_count": 46,
   "id": "9f9bdb49",
   "metadata": {},
   "outputs": [],
   "source": [
    "#df_trans.shape"
   ]
  },
  {
   "cell_type": "code",
   "execution_count": null,
   "id": "d2ae7bba",
   "metadata": {},
   "outputs": [],
   "source": []
  },
  {
   "cell_type": "code",
   "execution_count": 47,
   "id": "adb9924b",
   "metadata": {},
   "outputs": [],
   "source": [
    "#df_trans.head()"
   ]
  },
  {
   "cell_type": "code",
   "execution_count": null,
   "id": "fe22de91",
   "metadata": {},
   "outputs": [],
   "source": []
  },
  {
   "cell_type": "markdown",
   "id": "8b92d8d7",
   "metadata": {},
   "source": [
    "## STEP 8 :  Exporting Final Transformed DF"
   ]
  },
  {
   "cell_type": "code",
   "execution_count": 48,
   "id": "15b5b0de",
   "metadata": {},
   "outputs": [],
   "source": [
    "# df_train_trans\n",
    "# df_test_trans"
   ]
  },
  {
   "cell_type": "code",
   "execution_count": 49,
   "id": "1000927a",
   "metadata": {},
   "outputs": [],
   "source": [
    "df_train_trans.to_csv(\"S2_Part3_DP_Trimming2_test_train_dataset.csv\")\n",
    "df_test_trans.to_csv(\"S2_Part3_DP_Trimming2_test_test_dataset.csv\")"
   ]
  },
  {
   "cell_type": "code",
   "execution_count": null,
   "id": "d107019a",
   "metadata": {},
   "outputs": [],
   "source": []
  },
  {
   "cell_type": "code",
   "execution_count": null,
   "id": "cc319ad9",
   "metadata": {},
   "outputs": [],
   "source": []
  },
  {
   "cell_type": "code",
   "execution_count": null,
   "id": "46c6f91b",
   "metadata": {},
   "outputs": [],
   "source": []
  }
 ],
 "metadata": {
  "kernelspec": {
   "display_name": "Python 3 (ipykernel)",
   "language": "python",
   "name": "python3"
  },
  "language_info": {
   "codemirror_mode": {
    "name": "ipython",
    "version": 3
   },
   "file_extension": ".py",
   "mimetype": "text/x-python",
   "name": "python",
   "nbconvert_exporter": "python",
   "pygments_lexer": "ipython3",
   "version": "3.10.9"
  }
 },
 "nbformat": 4,
 "nbformat_minor": 5
}
