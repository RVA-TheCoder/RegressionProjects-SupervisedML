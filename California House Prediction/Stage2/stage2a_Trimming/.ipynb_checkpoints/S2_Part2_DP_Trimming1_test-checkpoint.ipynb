{
 "cells": [
  {
   "cell_type": "code",
   "execution_count": 1,
   "id": "d88e4c19",
   "metadata": {},
   "outputs": [],
   "source": [
    "import pandas as pd\n",
    "import numpy as np\n",
    "import matplotlib.pyplot as plt\n",
    "import seaborn as sns"
   ]
  },
  {
   "cell_type": "code",
   "execution_count": null,
   "id": "a1cc84c2",
   "metadata": {},
   "outputs": [],
   "source": []
  },
  {
   "cell_type": "markdown",
   "id": "b36908ef",
   "metadata": {},
   "source": [
    "## STEP 1 : Data Collection"
   ]
  },
  {
   "cell_type": "code",
   "execution_count": null,
   "id": "aba15aa8",
   "metadata": {},
   "outputs": [],
   "source": []
  },
  {
   "cell_type": "code",
   "execution_count": 2,
   "id": "3dfd557a",
   "metadata": {},
   "outputs": [],
   "source": [
    "filepath_House_Price = r\"C:\\Users\\aakas\\PythonStuff\\Projects\\Cali_HP\\dataset\\housing.csv\""
   ]
  },
  {
   "cell_type": "code",
   "execution_count": 3,
   "id": "e4092c25",
   "metadata": {},
   "outputs": [],
   "source": [
    "houses = pd.read_csv(filepath_House_Price , header = 0 )"
   ]
  },
  {
   "cell_type": "code",
   "execution_count": 4,
   "id": "e01a2867",
   "metadata": {
    "scrolled": true
   },
   "outputs": [
    {
     "data": {
      "text/html": [
       "<div>\n",
       "<style scoped>\n",
       "    .dataframe tbody tr th:only-of-type {\n",
       "        vertical-align: middle;\n",
       "    }\n",
       "\n",
       "    .dataframe tbody tr th {\n",
       "        vertical-align: top;\n",
       "    }\n",
       "\n",
       "    .dataframe thead th {\n",
       "        text-align: right;\n",
       "    }\n",
       "</style>\n",
       "<table border=\"1\" class=\"dataframe\">\n",
       "  <thead>\n",
       "    <tr style=\"text-align: right;\">\n",
       "      <th></th>\n",
       "      <th>longitude</th>\n",
       "      <th>latitude</th>\n",
       "      <th>housing_median_age</th>\n",
       "      <th>total_rooms</th>\n",
       "      <th>total_bedrooms</th>\n",
       "      <th>population</th>\n",
       "      <th>households</th>\n",
       "      <th>median_income</th>\n",
       "      <th>median_house_value</th>\n",
       "      <th>ocean_proximity</th>\n",
       "    </tr>\n",
       "  </thead>\n",
       "  <tbody>\n",
       "    <tr>\n",
       "      <th>0</th>\n",
       "      <td>-122.23</td>\n",
       "      <td>37.88</td>\n",
       "      <td>41.0</td>\n",
       "      <td>880.0</td>\n",
       "      <td>129.0</td>\n",
       "      <td>322.0</td>\n",
       "      <td>126.0</td>\n",
       "      <td>8.3252</td>\n",
       "      <td>452600.0</td>\n",
       "      <td>NEAR BAY</td>\n",
       "    </tr>\n",
       "    <tr>\n",
       "      <th>1</th>\n",
       "      <td>-122.22</td>\n",
       "      <td>37.86</td>\n",
       "      <td>21.0</td>\n",
       "      <td>7099.0</td>\n",
       "      <td>1106.0</td>\n",
       "      <td>2401.0</td>\n",
       "      <td>1138.0</td>\n",
       "      <td>8.3014</td>\n",
       "      <td>358500.0</td>\n",
       "      <td>NEAR BAY</td>\n",
       "    </tr>\n",
       "    <tr>\n",
       "      <th>2</th>\n",
       "      <td>-122.24</td>\n",
       "      <td>37.85</td>\n",
       "      <td>52.0</td>\n",
       "      <td>1467.0</td>\n",
       "      <td>190.0</td>\n",
       "      <td>496.0</td>\n",
       "      <td>177.0</td>\n",
       "      <td>7.2574</td>\n",
       "      <td>352100.0</td>\n",
       "      <td>NEAR BAY</td>\n",
       "    </tr>\n",
       "    <tr>\n",
       "      <th>3</th>\n",
       "      <td>-122.25</td>\n",
       "      <td>37.85</td>\n",
       "      <td>52.0</td>\n",
       "      <td>1274.0</td>\n",
       "      <td>235.0</td>\n",
       "      <td>558.0</td>\n",
       "      <td>219.0</td>\n",
       "      <td>5.6431</td>\n",
       "      <td>341300.0</td>\n",
       "      <td>NEAR BAY</td>\n",
       "    </tr>\n",
       "    <tr>\n",
       "      <th>4</th>\n",
       "      <td>-122.25</td>\n",
       "      <td>37.85</td>\n",
       "      <td>52.0</td>\n",
       "      <td>1627.0</td>\n",
       "      <td>280.0</td>\n",
       "      <td>565.0</td>\n",
       "      <td>259.0</td>\n",
       "      <td>3.8462</td>\n",
       "      <td>342200.0</td>\n",
       "      <td>NEAR BAY</td>\n",
       "    </tr>\n",
       "  </tbody>\n",
       "</table>\n",
       "</div>"
      ],
      "text/plain": [
       "   longitude  latitude  housing_median_age  total_rooms  total_bedrooms  \\\n",
       "0    -122.23     37.88                41.0        880.0           129.0   \n",
       "1    -122.22     37.86                21.0       7099.0          1106.0   \n",
       "2    -122.24     37.85                52.0       1467.0           190.0   \n",
       "3    -122.25     37.85                52.0       1274.0           235.0   \n",
       "4    -122.25     37.85                52.0       1627.0           280.0   \n",
       "\n",
       "   population  households  median_income  median_house_value ocean_proximity  \n",
       "0       322.0       126.0         8.3252            452600.0        NEAR BAY  \n",
       "1      2401.0      1138.0         8.3014            358500.0        NEAR BAY  \n",
       "2       496.0       177.0         7.2574            352100.0        NEAR BAY  \n",
       "3       558.0       219.0         5.6431            341300.0        NEAR BAY  \n",
       "4       565.0       259.0         3.8462            342200.0        NEAR BAY  "
      ]
     },
     "execution_count": 4,
     "metadata": {},
     "output_type": "execute_result"
    }
   ],
   "source": [
    "houses.head()"
   ]
  },
  {
   "cell_type": "code",
   "execution_count": null,
   "id": "8402f72f",
   "metadata": {},
   "outputs": [],
   "source": []
  },
  {
   "cell_type": "markdown",
   "id": "479ef3d7",
   "metadata": {},
   "source": [
    "## STEP 2 : Package importing "
   ]
  },
  {
   "cell_type": "code",
   "execution_count": 5,
   "id": "6770e8f1",
   "metadata": {},
   "outputs": [],
   "source": [
    "from sklearn.impute import SimpleImputer\n",
    "from sklearn.preprocessing import StandardScaler\n",
    "\n",
    "# from sklearn.preprocessing import OrdinalEncoder\n",
    "from sklearn.preprocessing import OneHotEncoder\n",
    "\n",
    "from sklearn.pipeline import Pipeline                \n",
    "from sklearn.compose import ColumnTransformer\n",
    "\n",
    "from sklearn.model_selection import train_test_split"
   ]
  },
  {
   "cell_type": "code",
   "execution_count": null,
   "id": "c3271b97",
   "metadata": {},
   "outputs": [],
   "source": []
  },
  {
   "cell_type": "code",
   "execution_count": 6,
   "id": "b51d87d0",
   "metadata": {},
   "outputs": [],
   "source": [
    "def num_cat_col_list(DF) : \n",
    "    \n",
    "    from pandas.api.types import is_string_dtype, is_numeric_dtype\n",
    "\n",
    "    \n",
    "    num_list = []\n",
    "    cat_list = []\n",
    "\n",
    "    for column in DF:\n",
    "\n",
    "        if is_numeric_dtype(DF[column]):\n",
    "            num_list.append(column)\n",
    "\n",
    "        elif is_string_dtype(DF[column]):\n",
    "            cat_list.append(column)\n",
    "\n",
    "    return (num_list , cat_list)"
   ]
  },
  {
   "cell_type": "code",
   "execution_count": null,
   "id": "587d1879",
   "metadata": {},
   "outputs": [],
   "source": []
  },
  {
   "cell_type": "code",
   "execution_count": 7,
   "id": "a6663169",
   "metadata": {
    "scrolled": true
   },
   "outputs": [
    {
     "name": "stdout",
     "output_type": "stream",
     "text": [
      "Numerical column :  ['longitude', 'latitude', 'housing_median_age', 'total_rooms', 'total_bedrooms', 'population', 'households', 'median_income', 'median_house_value']\n",
      "Categorical column :  ['ocean_proximity']\n"
     ]
    }
   ],
   "source": [
    "num_list , cat_list = num_cat_col_list(houses)\n",
    "\n",
    "print(\"Numerical column : \",num_list)\n",
    "print(\"Categorical column : \",cat_list)"
   ]
  },
  {
   "cell_type": "code",
   "execution_count": null,
   "id": "284935c6",
   "metadata": {},
   "outputs": [],
   "source": []
  },
  {
   "cell_type": "code",
   "execution_count": null,
   "id": "c997cdb3",
   "metadata": {},
   "outputs": [],
   "source": []
  },
  {
   "cell_type": "markdown",
   "id": "3d24d8c0",
   "metadata": {},
   "source": [
    "## STEP 3 : Missing Value Imputation"
   ]
  },
  {
   "cell_type": "code",
   "execution_count": null,
   "id": "2f66ff85",
   "metadata": {},
   "outputs": [],
   "source": []
  },
  {
   "cell_type": "code",
   "execution_count": 8,
   "id": "00fdfd3b",
   "metadata": {},
   "outputs": [],
   "source": [
    "df = houses.copy()"
   ]
  },
  {
   "cell_type": "code",
   "execution_count": null,
   "id": "e236d106",
   "metadata": {},
   "outputs": [],
   "source": []
  },
  {
   "cell_type": "markdown",
   "id": "828e2195",
   "metadata": {},
   "source": [
    "### Making changes to num_feat and cat_feat list"
   ]
  },
  {
   "cell_type": "code",
   "execution_count": 9,
   "id": "00fc9d0c",
   "metadata": {},
   "outputs": [],
   "source": [
    "# num_list\n",
    "\n",
    "num_feat = num_list.copy()\n",
    "num_feat.remove('median_house_value')\n",
    "\n",
    "cat_feat = cat_list.copy()"
   ]
  },
  {
   "cell_type": "code",
   "execution_count": null,
   "id": "d2737a30",
   "metadata": {},
   "outputs": [],
   "source": []
  },
  {
   "cell_type": "markdown",
   "id": "a8c73ca7",
   "metadata": {},
   "source": [
    "### Train - Test Split"
   ]
  },
  {
   "cell_type": "code",
   "execution_count": null,
   "id": "57e62036",
   "metadata": {},
   "outputs": [],
   "source": []
  },
  {
   "cell_type": "code",
   "execution_count": 10,
   "id": "66275ea4",
   "metadata": {},
   "outputs": [],
   "source": [
    "D_train , D_test = train_test_split(df ,test_size= 0.2 ,random_state = 100 )"
   ]
  },
  {
   "cell_type": "code",
   "execution_count": null,
   "id": "bc8a233f",
   "metadata": {},
   "outputs": [],
   "source": []
  },
  {
   "cell_type": "code",
   "execution_count": 11,
   "id": "6369fcb5",
   "metadata": {},
   "outputs": [
    {
     "data": {
      "text/plain": [
       "((16512, 10), (4128, 10))"
      ]
     },
     "execution_count": 11,
     "metadata": {},
     "output_type": "execute_result"
    }
   ],
   "source": [
    "D_train.shape , D_test.shape"
   ]
  },
  {
   "cell_type": "code",
   "execution_count": null,
   "id": "e8243d5b",
   "metadata": {},
   "outputs": [],
   "source": []
  },
  {
   "cell_type": "code",
   "execution_count": 12,
   "id": "243e34c5",
   "metadata": {},
   "outputs": [
    {
     "name": "stdout",
     "output_type": "stream",
     "text": [
      "<class 'pandas.core.frame.DataFrame'>\n",
      "Int64Index: 16512 entries, 3278 to 5640\n",
      "Data columns (total 10 columns):\n",
      " #   Column              Non-Null Count  Dtype  \n",
      "---  ------              --------------  -----  \n",
      " 0   longitude           16512 non-null  float64\n",
      " 1   latitude            16512 non-null  float64\n",
      " 2   housing_median_age  16512 non-null  float64\n",
      " 3   total_rooms         16512 non-null  float64\n",
      " 4   total_bedrooms      16354 non-null  float64\n",
      " 5   population          16512 non-null  float64\n",
      " 6   households          16512 non-null  float64\n",
      " 7   median_income       16512 non-null  float64\n",
      " 8   median_house_value  16512 non-null  float64\n",
      " 9   ocean_proximity     16512 non-null  object \n",
      "dtypes: float64(9), object(1)\n",
      "memory usage: 1.4+ MB\n"
     ]
    }
   ],
   "source": [
    "D_train.info()"
   ]
  },
  {
   "cell_type": "code",
   "execution_count": null,
   "id": "10d96fb7",
   "metadata": {},
   "outputs": [],
   "source": []
  },
  {
   "cell_type": "code",
   "execution_count": 13,
   "id": "01ad7b25",
   "metadata": {},
   "outputs": [],
   "source": [
    "X_train = D_train.drop(labels= ['median_house_value'] , axis = 1)\n",
    "y_train = D_train['median_house_value']\n",
    "\n",
    "X_test = D_test.drop(labels= ['median_house_value'] , axis = 1)\n",
    "y_test = D_test['median_house_value']"
   ]
  },
  {
   "cell_type": "code",
   "execution_count": 14,
   "id": "fe1a9f30",
   "metadata": {},
   "outputs": [
    {
     "data": {
      "text/plain": [
       "((16512, 9), (16512,), (4128, 9), (4128,))"
      ]
     },
     "execution_count": 14,
     "metadata": {},
     "output_type": "execute_result"
    }
   ],
   "source": [
    "X_train.shape , y_train.shape , X_test.shape , y_test.shape"
   ]
  },
  {
   "cell_type": "code",
   "execution_count": null,
   "id": "b8efb591",
   "metadata": {},
   "outputs": [],
   "source": []
  },
  {
   "cell_type": "markdown",
   "id": "1b5620fd",
   "metadata": {},
   "source": [
    "### PipeLine"
   ]
  },
  {
   "cell_type": "code",
   "execution_count": null,
   "id": "aa294768",
   "metadata": {},
   "outputs": [],
   "source": []
  },
  {
   "cell_type": "markdown",
   "id": "40f317f0",
   "metadata": {},
   "source": [
    "### Pipelines :  numerical and categorical features"
   ]
  },
  {
   "cell_type": "code",
   "execution_count": null,
   "id": "850785c8",
   "metadata": {},
   "outputs": [],
   "source": []
  },
  {
   "cell_type": "code",
   "execution_count": 15,
   "id": "6b7ac43a",
   "metadata": {},
   "outputs": [],
   "source": [
    "# ohe = OneHotEncoder()"
   ]
  },
  {
   "cell_type": "code",
   "execution_count": null,
   "id": "90f3e0d1",
   "metadata": {},
   "outputs": [],
   "source": []
  },
  {
   "cell_type": "code",
   "execution_count": 16,
   "id": "f92c6730",
   "metadata": {},
   "outputs": [],
   "source": [
    "num_pipeline = Pipeline([('Imputer' , SimpleImputer(strategy='median')) ,\n",
    "                        ])"
   ]
  },
  {
   "cell_type": "code",
   "execution_count": 17,
   "id": "e4d5ce17",
   "metadata": {},
   "outputs": [],
   "source": [
    "# cat_pipeline = Pipeline([('Nominal Encoding' ,ohe)])"
   ]
  },
  {
   "cell_type": "code",
   "execution_count": null,
   "id": "a57e9234",
   "metadata": {},
   "outputs": [],
   "source": []
  },
  {
   "cell_type": "markdown",
   "id": "0f62ceb7",
   "metadata": {},
   "source": [
    "### Main-Pipeline"
   ]
  },
  {
   "cell_type": "code",
   "execution_count": 18,
   "id": "73feeaf7",
   "metadata": {},
   "outputs": [],
   "source": [
    "pass_col = ['ocean_proximity']"
   ]
  },
  {
   "cell_type": "code",
   "execution_count": 19,
   "id": "8bef23bd",
   "metadata": {},
   "outputs": [],
   "source": [
    "pipeline = ColumnTransformer([(\"Num pipeline\" , num_pipeline , num_feat),\n",
    "                              (\"dont' change\", \"passthrough\", pass_col)\n",
    "                             ])"
   ]
  },
  {
   "cell_type": "code",
   "execution_count": null,
   "id": "0ffbfcc5",
   "metadata": {},
   "outputs": [],
   "source": []
  },
  {
   "cell_type": "markdown",
   "id": "b050fb29",
   "metadata": {},
   "source": [
    "### Transforming"
   ]
  },
  {
   "cell_type": "code",
   "execution_count": null,
   "id": "e793b509",
   "metadata": {},
   "outputs": [],
   "source": []
  },
  {
   "cell_type": "code",
   "execution_count": 20,
   "id": "92ea6e1e",
   "metadata": {},
   "outputs": [],
   "source": [
    "X_train_tr = pipeline.fit_transform(X_train)"
   ]
  },
  {
   "cell_type": "code",
   "execution_count": 21,
   "id": "a7ddbea8",
   "metadata": {},
   "outputs": [],
   "source": [
    "X_test_tr = pipeline.transform(X_test)"
   ]
  },
  {
   "cell_type": "code",
   "execution_count": null,
   "id": "a7f3618b",
   "metadata": {},
   "outputs": [],
   "source": []
  },
  {
   "cell_type": "markdown",
   "id": "3b55de31",
   "metadata": {},
   "source": [
    "## STEP4  : Create DF from transformed 2D-array"
   ]
  },
  {
   "cell_type": "code",
   "execution_count": null,
   "id": "6d40a35e",
   "metadata": {},
   "outputs": [],
   "source": []
  },
  {
   "cell_type": "code",
   "execution_count": 22,
   "id": "d5979b7e",
   "metadata": {
    "scrolled": false
   },
   "outputs": [
    {
     "data": {
      "text/plain": [
       "array(['Num pipeline__longitude', 'Num pipeline__latitude',\n",
       "       'Num pipeline__housing_median_age', 'Num pipeline__total_rooms',\n",
       "       'Num pipeline__total_bedrooms', 'Num pipeline__population',\n",
       "       'Num pipeline__households', 'Num pipeline__median_income',\n",
       "       \"dont' change__ocean_proximity\"], dtype=object)"
      ]
     },
     "execution_count": 22,
     "metadata": {},
     "output_type": "execute_result"
    }
   ],
   "source": [
    "feat = pipeline.get_feature_names_out()\n",
    "feat"
   ]
  },
  {
   "cell_type": "code",
   "execution_count": 23,
   "id": "ed06eed6",
   "metadata": {},
   "outputs": [
    {
     "name": "stdout",
     "output_type": "stream",
     "text": [
      "['longitude', 'latitude', 'housing_median_age', 'total_rooms', 'total_bedrooms', 'population', 'households', 'median_income', 'ocean_proximity']\n"
     ]
    }
   ],
   "source": [
    "out_cols = []\n",
    "\n",
    "i= 0  # counter\n",
    "\n",
    "for col in pipeline.get_feature_names_out():\n",
    "    out_cols.append(col.split(\"__\")[-1])\n",
    "    #out_cols[i] = out_cols[i].split(\"_\")[-1]\n",
    "    \n",
    "    i += 1\n",
    "print(out_cols)"
   ]
  },
  {
   "cell_type": "code",
   "execution_count": null,
   "id": "4cefecfc",
   "metadata": {},
   "outputs": [],
   "source": []
  },
  {
   "cell_type": "code",
   "execution_count": 24,
   "id": "7402c5a4",
   "metadata": {},
   "outputs": [
    {
     "data": {
      "text/plain": [
       "9"
      ]
     },
     "execution_count": 24,
     "metadata": {},
     "output_type": "execute_result"
    }
   ],
   "source": [
    "len(out_cols)"
   ]
  },
  {
   "cell_type": "code",
   "execution_count": 25,
   "id": "ab77f614",
   "metadata": {},
   "outputs": [
    {
     "data": {
      "text/plain": [
       "array([-122.7, 39.14, 13.0, 532.0, 111.0, 214.0, 62.0, 3.3929, 'INLAND'],\n",
       "      dtype=object)"
      ]
     },
     "execution_count": 25,
     "metadata": {},
     "output_type": "execute_result"
    }
   ],
   "source": [
    "X_train_tr[0]"
   ]
  },
  {
   "cell_type": "code",
   "execution_count": 26,
   "id": "4e0b4c5e",
   "metadata": {},
   "outputs": [],
   "source": [
    "X_train_tr_df = pd.DataFrame(X_train_tr, columns= out_cols)\n",
    "\n",
    "X_test_tr_df = pd.DataFrame(X_test_tr , columns = out_cols)"
   ]
  },
  {
   "cell_type": "code",
   "execution_count": null,
   "id": "d542e713",
   "metadata": {},
   "outputs": [],
   "source": []
  },
  {
   "cell_type": "code",
   "execution_count": 27,
   "id": "931fc525",
   "metadata": {},
   "outputs": [],
   "source": [
    "columns = ['longitude', 'latitude', 'housing_median_age', 'total_rooms', 'total_bedrooms', 'population', 'households', 'median_income']\n",
    "\n",
    "for col in columns:\n",
    "    \n",
    "    X_train_tr_df[col] = pd.to_numeric(X_train_tr_df[col] , downcast= \"float\")\n",
    "    X_test_tr_df[col] = pd.to_numeric(X_test_tr_df[col] , downcast= \"float\")\n",
    "       "
   ]
  },
  {
   "cell_type": "code",
   "execution_count": null,
   "id": "59b0a78c",
   "metadata": {},
   "outputs": [],
   "source": []
  },
  {
   "cell_type": "code",
   "execution_count": 28,
   "id": "21d4662a",
   "metadata": {},
   "outputs": [
    {
     "name": "stdout",
     "output_type": "stream",
     "text": [
      "<class 'pandas.core.frame.DataFrame'>\n",
      "RangeIndex: 16512 entries, 0 to 16511\n",
      "Data columns (total 9 columns):\n",
      " #   Column              Non-Null Count  Dtype  \n",
      "---  ------              --------------  -----  \n",
      " 0   longitude           16512 non-null  float32\n",
      " 1   latitude            16512 non-null  float32\n",
      " 2   housing_median_age  16512 non-null  float32\n",
      " 3   total_rooms         16512 non-null  float32\n",
      " 4   total_bedrooms      16512 non-null  float32\n",
      " 5   population          16512 non-null  float32\n",
      " 6   households          16512 non-null  float32\n",
      " 7   median_income       16512 non-null  float32\n",
      " 8   ocean_proximity     16512 non-null  object \n",
      "dtypes: float32(8), object(1)\n",
      "memory usage: 645.1+ KB\n"
     ]
    }
   ],
   "source": [
    "X_train_tr_df.info()"
   ]
  },
  {
   "cell_type": "code",
   "execution_count": null,
   "id": "baac7dc9",
   "metadata": {},
   "outputs": [],
   "source": []
  },
  {
   "cell_type": "code",
   "execution_count": null,
   "id": "b6290470",
   "metadata": {},
   "outputs": [],
   "source": []
  },
  {
   "cell_type": "code",
   "execution_count": 29,
   "id": "11565af3",
   "metadata": {},
   "outputs": [
    {
     "name": "stdout",
     "output_type": "stream",
     "text": [
      "<class 'pandas.core.frame.DataFrame'>\n",
      "RangeIndex: 4128 entries, 0 to 4127\n",
      "Data columns (total 9 columns):\n",
      " #   Column              Non-Null Count  Dtype  \n",
      "---  ------              --------------  -----  \n",
      " 0   longitude           4128 non-null   float32\n",
      " 1   latitude            4128 non-null   float32\n",
      " 2   housing_median_age  4128 non-null   float32\n",
      " 3   total_rooms         4128 non-null   float32\n",
      " 4   total_bedrooms      4128 non-null   float32\n",
      " 5   population          4128 non-null   float32\n",
      " 6   households          4128 non-null   float32\n",
      " 7   median_income       4128 non-null   float32\n",
      " 8   ocean_proximity     4128 non-null   object \n",
      "dtypes: float32(8), object(1)\n",
      "memory usage: 161.4+ KB\n"
     ]
    }
   ],
   "source": [
    "X_test_tr_df.info()"
   ]
  },
  {
   "cell_type": "code",
   "execution_count": null,
   "id": "85c894f0",
   "metadata": {},
   "outputs": [],
   "source": []
  },
  {
   "cell_type": "code",
   "execution_count": 30,
   "id": "8f5c172a",
   "metadata": {},
   "outputs": [
    {
     "data": {
      "text/plain": [
       "((16512, 9), (16512,))"
      ]
     },
     "execution_count": 30,
     "metadata": {},
     "output_type": "execute_result"
    }
   ],
   "source": [
    "X_train_tr_df.shape , y_train.shape"
   ]
  },
  {
   "cell_type": "code",
   "execution_count": null,
   "id": "e5796424",
   "metadata": {},
   "outputs": [],
   "source": []
  },
  {
   "cell_type": "code",
   "execution_count": 31,
   "id": "865fa149",
   "metadata": {},
   "outputs": [
    {
     "data": {
      "text/html": [
       "<div>\n",
       "<style scoped>\n",
       "    .dataframe tbody tr th:only-of-type {\n",
       "        vertical-align: middle;\n",
       "    }\n",
       "\n",
       "    .dataframe tbody tr th {\n",
       "        vertical-align: top;\n",
       "    }\n",
       "\n",
       "    .dataframe thead th {\n",
       "        text-align: right;\n",
       "    }\n",
       "</style>\n",
       "<table border=\"1\" class=\"dataframe\">\n",
       "  <thead>\n",
       "    <tr style=\"text-align: right;\">\n",
       "      <th></th>\n",
       "      <th>longitude</th>\n",
       "      <th>latitude</th>\n",
       "      <th>housing_median_age</th>\n",
       "      <th>total_rooms</th>\n",
       "      <th>total_bedrooms</th>\n",
       "      <th>population</th>\n",
       "      <th>households</th>\n",
       "      <th>median_income</th>\n",
       "      <th>median_house_value</th>\n",
       "      <th>ocean_proximity</th>\n",
       "    </tr>\n",
       "  </thead>\n",
       "  <tbody>\n",
       "    <tr>\n",
       "      <th>3278</th>\n",
       "      <td>-122.70</td>\n",
       "      <td>39.14</td>\n",
       "      <td>13.0</td>\n",
       "      <td>532.0</td>\n",
       "      <td>111.0</td>\n",
       "      <td>214.0</td>\n",
       "      <td>62.0</td>\n",
       "      <td>3.3929</td>\n",
       "      <td>108300.0</td>\n",
       "      <td>INLAND</td>\n",
       "    </tr>\n",
       "    <tr>\n",
       "      <th>16630</th>\n",
       "      <td>-120.83</td>\n",
       "      <td>35.32</td>\n",
       "      <td>11.0</td>\n",
       "      <td>3252.0</td>\n",
       "      <td>701.0</td>\n",
       "      <td>1814.0</td>\n",
       "      <td>660.0</td>\n",
       "      <td>3.2226</td>\n",
       "      <td>183200.0</td>\n",
       "      <td>NEAR OCEAN</td>\n",
       "    </tr>\n",
       "    <tr>\n",
       "      <th>18748</th>\n",
       "      <td>-122.31</td>\n",
       "      <td>40.49</td>\n",
       "      <td>18.0</td>\n",
       "      <td>4026.0</td>\n",
       "      <td>718.0</td>\n",
       "      <td>1731.0</td>\n",
       "      <td>705.0</td>\n",
       "      <td>3.3500</td>\n",
       "      <td>118400.0</td>\n",
       "      <td>INLAND</td>\n",
       "    </tr>\n",
       "    <tr>\n",
       "      <th>14961</th>\n",
       "      <td>-116.92</td>\n",
       "      <td>32.76</td>\n",
       "      <td>7.0</td>\n",
       "      <td>1659.0</td>\n",
       "      <td>237.0</td>\n",
       "      <td>862.0</td>\n",
       "      <td>242.0</td>\n",
       "      <td>5.2741</td>\n",
       "      <td>249400.0</td>\n",
       "      <td>&lt;1H OCEAN</td>\n",
       "    </tr>\n",
       "    <tr>\n",
       "      <th>1740</th>\n",
       "      <td>-122.34</td>\n",
       "      <td>37.97</td>\n",
       "      <td>19.0</td>\n",
       "      <td>2237.0</td>\n",
       "      <td>580.0</td>\n",
       "      <td>1438.0</td>\n",
       "      <td>551.0</td>\n",
       "      <td>2.3382</td>\n",
       "      <td>120700.0</td>\n",
       "      <td>NEAR BAY</td>\n",
       "    </tr>\n",
       "  </tbody>\n",
       "</table>\n",
       "</div>"
      ],
      "text/plain": [
       "       longitude  latitude  housing_median_age  total_rooms  total_bedrooms  \\\n",
       "3278     -122.70     39.14                13.0        532.0           111.0   \n",
       "16630    -120.83     35.32                11.0       3252.0           701.0   \n",
       "18748    -122.31     40.49                18.0       4026.0           718.0   \n",
       "14961    -116.92     32.76                 7.0       1659.0           237.0   \n",
       "1740     -122.34     37.97                19.0       2237.0           580.0   \n",
       "\n",
       "       population  households  median_income  median_house_value  \\\n",
       "3278        214.0        62.0         3.3929            108300.0   \n",
       "16630      1814.0       660.0         3.2226            183200.0   \n",
       "18748      1731.0       705.0         3.3500            118400.0   \n",
       "14961       862.0       242.0         5.2741            249400.0   \n",
       "1740       1438.0       551.0         2.3382            120700.0   \n",
       "\n",
       "      ocean_proximity  \n",
       "3278           INLAND  \n",
       "16630      NEAR OCEAN  \n",
       "18748          INLAND  \n",
       "14961       <1H OCEAN  \n",
       "1740         NEAR BAY  "
      ]
     },
     "execution_count": 31,
     "metadata": {},
     "output_type": "execute_result"
    }
   ],
   "source": [
    "D_train.head()"
   ]
  },
  {
   "cell_type": "code",
   "execution_count": 32,
   "id": "75cc0b12",
   "metadata": {},
   "outputs": [
    {
     "data": {
      "text/plain": [
       "3278     108300.0\n",
       "16630    183200.0\n",
       "18748    118400.0\n",
       "14961    249400.0\n",
       "1740     120700.0\n",
       "Name: median_house_value, dtype: float64"
      ]
     },
     "execution_count": 32,
     "metadata": {},
     "output_type": "execute_result"
    }
   ],
   "source": [
    "y_train.head()"
   ]
  },
  {
   "cell_type": "code",
   "execution_count": 33,
   "id": "1df56eb6",
   "metadata": {},
   "outputs": [
    {
     "data": {
      "text/html": [
       "<div>\n",
       "<style scoped>\n",
       "    .dataframe tbody tr th:only-of-type {\n",
       "        vertical-align: middle;\n",
       "    }\n",
       "\n",
       "    .dataframe tbody tr th {\n",
       "        vertical-align: top;\n",
       "    }\n",
       "\n",
       "    .dataframe thead th {\n",
       "        text-align: right;\n",
       "    }\n",
       "</style>\n",
       "<table border=\"1\" class=\"dataframe\">\n",
       "  <thead>\n",
       "    <tr style=\"text-align: right;\">\n",
       "      <th></th>\n",
       "      <th>longitude</th>\n",
       "      <th>latitude</th>\n",
       "      <th>housing_median_age</th>\n",
       "      <th>total_rooms</th>\n",
       "      <th>total_bedrooms</th>\n",
       "      <th>population</th>\n",
       "      <th>households</th>\n",
       "      <th>median_income</th>\n",
       "      <th>ocean_proximity</th>\n",
       "    </tr>\n",
       "  </thead>\n",
       "  <tbody>\n",
       "    <tr>\n",
       "      <th>0</th>\n",
       "      <td>-122.699997</td>\n",
       "      <td>39.139999</td>\n",
       "      <td>13.0</td>\n",
       "      <td>532.0</td>\n",
       "      <td>111.0</td>\n",
       "      <td>214.0</td>\n",
       "      <td>62.0</td>\n",
       "      <td>3.3929</td>\n",
       "      <td>INLAND</td>\n",
       "    </tr>\n",
       "    <tr>\n",
       "      <th>1</th>\n",
       "      <td>-120.830002</td>\n",
       "      <td>35.320000</td>\n",
       "      <td>11.0</td>\n",
       "      <td>3252.0</td>\n",
       "      <td>701.0</td>\n",
       "      <td>1814.0</td>\n",
       "      <td>660.0</td>\n",
       "      <td>3.2226</td>\n",
       "      <td>NEAR OCEAN</td>\n",
       "    </tr>\n",
       "    <tr>\n",
       "      <th>2</th>\n",
       "      <td>-122.309998</td>\n",
       "      <td>40.490002</td>\n",
       "      <td>18.0</td>\n",
       "      <td>4026.0</td>\n",
       "      <td>718.0</td>\n",
       "      <td>1731.0</td>\n",
       "      <td>705.0</td>\n",
       "      <td>3.3500</td>\n",
       "      <td>INLAND</td>\n",
       "    </tr>\n",
       "    <tr>\n",
       "      <th>3</th>\n",
       "      <td>-116.919998</td>\n",
       "      <td>32.759998</td>\n",
       "      <td>7.0</td>\n",
       "      <td>1659.0</td>\n",
       "      <td>237.0</td>\n",
       "      <td>862.0</td>\n",
       "      <td>242.0</td>\n",
       "      <td>5.2741</td>\n",
       "      <td>&lt;1H OCEAN</td>\n",
       "    </tr>\n",
       "    <tr>\n",
       "      <th>4</th>\n",
       "      <td>-122.339996</td>\n",
       "      <td>37.970001</td>\n",
       "      <td>19.0</td>\n",
       "      <td>2237.0</td>\n",
       "      <td>580.0</td>\n",
       "      <td>1438.0</td>\n",
       "      <td>551.0</td>\n",
       "      <td>2.3382</td>\n",
       "      <td>NEAR BAY</td>\n",
       "    </tr>\n",
       "  </tbody>\n",
       "</table>\n",
       "</div>"
      ],
      "text/plain": [
       "    longitude   latitude  housing_median_age  total_rooms  total_bedrooms  \\\n",
       "0 -122.699997  39.139999                13.0        532.0           111.0   \n",
       "1 -120.830002  35.320000                11.0       3252.0           701.0   \n",
       "2 -122.309998  40.490002                18.0       4026.0           718.0   \n",
       "3 -116.919998  32.759998                 7.0       1659.0           237.0   \n",
       "4 -122.339996  37.970001                19.0       2237.0           580.0   \n",
       "\n",
       "   population  households  median_income ocean_proximity  \n",
       "0       214.0        62.0         3.3929          INLAND  \n",
       "1      1814.0       660.0         3.2226      NEAR OCEAN  \n",
       "2      1731.0       705.0         3.3500          INLAND  \n",
       "3       862.0       242.0         5.2741       <1H OCEAN  \n",
       "4      1438.0       551.0         2.3382        NEAR BAY  "
      ]
     },
     "execution_count": 33,
     "metadata": {},
     "output_type": "execute_result"
    }
   ],
   "source": [
    "X_train_tr_df.head()"
   ]
  },
  {
   "cell_type": "code",
   "execution_count": null,
   "id": "9f2555c4",
   "metadata": {},
   "outputs": [],
   "source": []
  },
  {
   "cell_type": "code",
   "execution_count": 34,
   "id": "0078f71a",
   "metadata": {},
   "outputs": [
    {
     "data": {
      "text/plain": [
       "0    108300.0\n",
       "1    183200.0\n",
       "2    118400.0\n",
       "3    249400.0\n",
       "4    120700.0\n",
       "Name: median_house_value, dtype: float64"
      ]
     },
     "execution_count": 34,
     "metadata": {},
     "output_type": "execute_result"
    }
   ],
   "source": [
    "y_train = y_train.reset_index(drop =  True)\n",
    "y_train.head()"
   ]
  },
  {
   "cell_type": "code",
   "execution_count": 35,
   "id": "1405ff56",
   "metadata": {},
   "outputs": [],
   "source": [
    "# y_train_df = pd.DataFrame(y_train , columns=[\"median_house_value\"])"
   ]
  },
  {
   "cell_type": "code",
   "execution_count": 36,
   "id": "2334f5df",
   "metadata": {},
   "outputs": [],
   "source": [
    "# y_train_df.head()"
   ]
  },
  {
   "cell_type": "code",
   "execution_count": null,
   "id": "8f960818",
   "metadata": {},
   "outputs": [],
   "source": []
  },
  {
   "cell_type": "code",
   "execution_count": 37,
   "id": "2a5a39cc",
   "metadata": {},
   "outputs": [],
   "source": [
    "df_train_trans = pd.concat([X_train_tr_df,y_train] ,axis = 1 )"
   ]
  },
  {
   "cell_type": "code",
   "execution_count": 38,
   "id": "aeeee65a",
   "metadata": {},
   "outputs": [
    {
     "data": {
      "text/html": [
       "<div>\n",
       "<style scoped>\n",
       "    .dataframe tbody tr th:only-of-type {\n",
       "        vertical-align: middle;\n",
       "    }\n",
       "\n",
       "    .dataframe tbody tr th {\n",
       "        vertical-align: top;\n",
       "    }\n",
       "\n",
       "    .dataframe thead th {\n",
       "        text-align: right;\n",
       "    }\n",
       "</style>\n",
       "<table border=\"1\" class=\"dataframe\">\n",
       "  <thead>\n",
       "    <tr style=\"text-align: right;\">\n",
       "      <th></th>\n",
       "      <th>longitude</th>\n",
       "      <th>latitude</th>\n",
       "      <th>housing_median_age</th>\n",
       "      <th>total_rooms</th>\n",
       "      <th>total_bedrooms</th>\n",
       "      <th>population</th>\n",
       "      <th>households</th>\n",
       "      <th>median_income</th>\n",
       "      <th>ocean_proximity</th>\n",
       "      <th>median_house_value</th>\n",
       "    </tr>\n",
       "  </thead>\n",
       "  <tbody>\n",
       "    <tr>\n",
       "      <th>0</th>\n",
       "      <td>-122.699997</td>\n",
       "      <td>39.139999</td>\n",
       "      <td>13.0</td>\n",
       "      <td>532.0</td>\n",
       "      <td>111.0</td>\n",
       "      <td>214.0</td>\n",
       "      <td>62.0</td>\n",
       "      <td>3.3929</td>\n",
       "      <td>INLAND</td>\n",
       "      <td>108300.0</td>\n",
       "    </tr>\n",
       "    <tr>\n",
       "      <th>1</th>\n",
       "      <td>-120.830002</td>\n",
       "      <td>35.320000</td>\n",
       "      <td>11.0</td>\n",
       "      <td>3252.0</td>\n",
       "      <td>701.0</td>\n",
       "      <td>1814.0</td>\n",
       "      <td>660.0</td>\n",
       "      <td>3.2226</td>\n",
       "      <td>NEAR OCEAN</td>\n",
       "      <td>183200.0</td>\n",
       "    </tr>\n",
       "    <tr>\n",
       "      <th>2</th>\n",
       "      <td>-122.309998</td>\n",
       "      <td>40.490002</td>\n",
       "      <td>18.0</td>\n",
       "      <td>4026.0</td>\n",
       "      <td>718.0</td>\n",
       "      <td>1731.0</td>\n",
       "      <td>705.0</td>\n",
       "      <td>3.3500</td>\n",
       "      <td>INLAND</td>\n",
       "      <td>118400.0</td>\n",
       "    </tr>\n",
       "    <tr>\n",
       "      <th>3</th>\n",
       "      <td>-116.919998</td>\n",
       "      <td>32.759998</td>\n",
       "      <td>7.0</td>\n",
       "      <td>1659.0</td>\n",
       "      <td>237.0</td>\n",
       "      <td>862.0</td>\n",
       "      <td>242.0</td>\n",
       "      <td>5.2741</td>\n",
       "      <td>&lt;1H OCEAN</td>\n",
       "      <td>249400.0</td>\n",
       "    </tr>\n",
       "    <tr>\n",
       "      <th>4</th>\n",
       "      <td>-122.339996</td>\n",
       "      <td>37.970001</td>\n",
       "      <td>19.0</td>\n",
       "      <td>2237.0</td>\n",
       "      <td>580.0</td>\n",
       "      <td>1438.0</td>\n",
       "      <td>551.0</td>\n",
       "      <td>2.3382</td>\n",
       "      <td>NEAR BAY</td>\n",
       "      <td>120700.0</td>\n",
       "    </tr>\n",
       "  </tbody>\n",
       "</table>\n",
       "</div>"
      ],
      "text/plain": [
       "    longitude   latitude  housing_median_age  total_rooms  total_bedrooms  \\\n",
       "0 -122.699997  39.139999                13.0        532.0           111.0   \n",
       "1 -120.830002  35.320000                11.0       3252.0           701.0   \n",
       "2 -122.309998  40.490002                18.0       4026.0           718.0   \n",
       "3 -116.919998  32.759998                 7.0       1659.0           237.0   \n",
       "4 -122.339996  37.970001                19.0       2237.0           580.0   \n",
       "\n",
       "   population  households  median_income ocean_proximity  median_house_value  \n",
       "0       214.0        62.0         3.3929          INLAND            108300.0  \n",
       "1      1814.0       660.0         3.2226      NEAR OCEAN            183200.0  \n",
       "2      1731.0       705.0         3.3500          INLAND            118400.0  \n",
       "3       862.0       242.0         5.2741       <1H OCEAN            249400.0  \n",
       "4      1438.0       551.0         2.3382        NEAR BAY            120700.0  "
      ]
     },
     "execution_count": 38,
     "metadata": {},
     "output_type": "execute_result"
    }
   ],
   "source": [
    "df_train_trans.head()"
   ]
  },
  {
   "cell_type": "code",
   "execution_count": 39,
   "id": "f9a42cea",
   "metadata": {},
   "outputs": [
    {
     "name": "stdout",
     "output_type": "stream",
     "text": [
      "<class 'pandas.core.frame.DataFrame'>\n",
      "RangeIndex: 16512 entries, 0 to 16511\n",
      "Data columns (total 10 columns):\n",
      " #   Column              Non-Null Count  Dtype  \n",
      "---  ------              --------------  -----  \n",
      " 0   longitude           16512 non-null  float32\n",
      " 1   latitude            16512 non-null  float32\n",
      " 2   housing_median_age  16512 non-null  float32\n",
      " 3   total_rooms         16512 non-null  float32\n",
      " 4   total_bedrooms      16512 non-null  float32\n",
      " 5   population          16512 non-null  float32\n",
      " 6   households          16512 non-null  float32\n",
      " 7   median_income       16512 non-null  float32\n",
      " 8   ocean_proximity     16512 non-null  object \n",
      " 9   median_house_value  16512 non-null  float64\n",
      "dtypes: float32(8), float64(1), object(1)\n",
      "memory usage: 774.1+ KB\n"
     ]
    }
   ],
   "source": [
    "df_train_trans.info()"
   ]
  },
  {
   "cell_type": "code",
   "execution_count": null,
   "id": "3577dc8e",
   "metadata": {},
   "outputs": [],
   "source": []
  },
  {
   "cell_type": "code",
   "execution_count": 40,
   "id": "4376cbb6",
   "metadata": {},
   "outputs": [
    {
     "data": {
      "text/html": [
       "<div>\n",
       "<style scoped>\n",
       "    .dataframe tbody tr th:only-of-type {\n",
       "        vertical-align: middle;\n",
       "    }\n",
       "\n",
       "    .dataframe tbody tr th {\n",
       "        vertical-align: top;\n",
       "    }\n",
       "\n",
       "    .dataframe thead th {\n",
       "        text-align: right;\n",
       "    }\n",
       "</style>\n",
       "<table border=\"1\" class=\"dataframe\">\n",
       "  <thead>\n",
       "    <tr style=\"text-align: right;\">\n",
       "      <th></th>\n",
       "      <th>longitude</th>\n",
       "      <th>latitude</th>\n",
       "      <th>housing_median_age</th>\n",
       "      <th>total_rooms</th>\n",
       "      <th>total_bedrooms</th>\n",
       "      <th>population</th>\n",
       "      <th>households</th>\n",
       "      <th>median_income</th>\n",
       "      <th>ocean_proximity</th>\n",
       "    </tr>\n",
       "  </thead>\n",
       "  <tbody>\n",
       "    <tr>\n",
       "      <th>0</th>\n",
       "      <td>-118.099998</td>\n",
       "      <td>33.810001</td>\n",
       "      <td>36.0</td>\n",
       "      <td>1111.0</td>\n",
       "      <td>184.0</td>\n",
       "      <td>444.0</td>\n",
       "      <td>177.0</td>\n",
       "      <td>3.7031</td>\n",
       "      <td>&lt;1H OCEAN</td>\n",
       "    </tr>\n",
       "    <tr>\n",
       "      <th>1</th>\n",
       "      <td>-122.269997</td>\n",
       "      <td>37.820000</td>\n",
       "      <td>52.0</td>\n",
       "      <td>1630.0</td>\n",
       "      <td>456.0</td>\n",
       "      <td>1162.0</td>\n",
       "      <td>400.0</td>\n",
       "      <td>1.2475</td>\n",
       "      <td>NEAR BAY</td>\n",
       "    </tr>\n",
       "    <tr>\n",
       "      <th>2</th>\n",
       "      <td>-119.120003</td>\n",
       "      <td>35.369999</td>\n",
       "      <td>13.0</td>\n",
       "      <td>4527.0</td>\n",
       "      <td>713.0</td>\n",
       "      <td>2170.0</td>\n",
       "      <td>671.0</td>\n",
       "      <td>4.8266</td>\n",
       "      <td>INLAND</td>\n",
       "    </tr>\n",
       "    <tr>\n",
       "      <th>3</th>\n",
       "      <td>-123.150002</td>\n",
       "      <td>39.310001</td>\n",
       "      <td>19.0</td>\n",
       "      <td>1026.0</td>\n",
       "      <td>205.0</td>\n",
       "      <td>424.0</td>\n",
       "      <td>152.0</td>\n",
       "      <td>2.8833</td>\n",
       "      <td>INLAND</td>\n",
       "    </tr>\n",
       "    <tr>\n",
       "      <th>4</th>\n",
       "      <td>-122.519997</td>\n",
       "      <td>37.980000</td>\n",
       "      <td>31.0</td>\n",
       "      <td>6555.0</td>\n",
       "      <td>1571.0</td>\n",
       "      <td>2962.0</td>\n",
       "      <td>1464.0</td>\n",
       "      <td>2.8903</td>\n",
       "      <td>NEAR BAY</td>\n",
       "    </tr>\n",
       "  </tbody>\n",
       "</table>\n",
       "</div>"
      ],
      "text/plain": [
       "    longitude   latitude  housing_median_age  total_rooms  total_bedrooms  \\\n",
       "0 -118.099998  33.810001                36.0       1111.0           184.0   \n",
       "1 -122.269997  37.820000                52.0       1630.0           456.0   \n",
       "2 -119.120003  35.369999                13.0       4527.0           713.0   \n",
       "3 -123.150002  39.310001                19.0       1026.0           205.0   \n",
       "4 -122.519997  37.980000                31.0       6555.0          1571.0   \n",
       "\n",
       "   population  households  median_income ocean_proximity  \n",
       "0       444.0       177.0         3.7031       <1H OCEAN  \n",
       "1      1162.0       400.0         1.2475        NEAR BAY  \n",
       "2      2170.0       671.0         4.8266          INLAND  \n",
       "3       424.0       152.0         2.8833          INLAND  \n",
       "4      2962.0      1464.0         2.8903        NEAR BAY  "
      ]
     },
     "execution_count": 40,
     "metadata": {},
     "output_type": "execute_result"
    }
   ],
   "source": [
    "X_test_tr_df.head()"
   ]
  },
  {
   "cell_type": "code",
   "execution_count": null,
   "id": "31fc1a02",
   "metadata": {},
   "outputs": [],
   "source": []
  },
  {
   "cell_type": "code",
   "execution_count": 41,
   "id": "86e97f2e",
   "metadata": {},
   "outputs": [
    {
     "data": {
      "text/plain": [
       "0    245300.0\n",
       "1    104200.0\n",
       "2    146200.0\n",
       "3    154200.0\n",
       "4    324200.0\n",
       "Name: median_house_value, dtype: float64"
      ]
     },
     "execution_count": 41,
     "metadata": {},
     "output_type": "execute_result"
    }
   ],
   "source": [
    "y_test = y_test.reset_index(drop =  True)\n",
    "y_test.head()"
   ]
  },
  {
   "cell_type": "code",
   "execution_count": null,
   "id": "eb7dba0a",
   "metadata": {},
   "outputs": [],
   "source": []
  },
  {
   "cell_type": "code",
   "execution_count": 42,
   "id": "b0776af6",
   "metadata": {},
   "outputs": [
    {
     "data": {
      "text/html": [
       "<div>\n",
       "<style scoped>\n",
       "    .dataframe tbody tr th:only-of-type {\n",
       "        vertical-align: middle;\n",
       "    }\n",
       "\n",
       "    .dataframe tbody tr th {\n",
       "        vertical-align: top;\n",
       "    }\n",
       "\n",
       "    .dataframe thead th {\n",
       "        text-align: right;\n",
       "    }\n",
       "</style>\n",
       "<table border=\"1\" class=\"dataframe\">\n",
       "  <thead>\n",
       "    <tr style=\"text-align: right;\">\n",
       "      <th></th>\n",
       "      <th>longitude</th>\n",
       "      <th>latitude</th>\n",
       "      <th>housing_median_age</th>\n",
       "      <th>total_rooms</th>\n",
       "      <th>total_bedrooms</th>\n",
       "      <th>population</th>\n",
       "      <th>households</th>\n",
       "      <th>median_income</th>\n",
       "      <th>ocean_proximity</th>\n",
       "      <th>median_house_value</th>\n",
       "    </tr>\n",
       "  </thead>\n",
       "  <tbody>\n",
       "    <tr>\n",
       "      <th>0</th>\n",
       "      <td>-118.099998</td>\n",
       "      <td>33.810001</td>\n",
       "      <td>36.0</td>\n",
       "      <td>1111.0</td>\n",
       "      <td>184.0</td>\n",
       "      <td>444.0</td>\n",
       "      <td>177.0</td>\n",
       "      <td>3.7031</td>\n",
       "      <td>&lt;1H OCEAN</td>\n",
       "      <td>245300.0</td>\n",
       "    </tr>\n",
       "    <tr>\n",
       "      <th>1</th>\n",
       "      <td>-122.269997</td>\n",
       "      <td>37.820000</td>\n",
       "      <td>52.0</td>\n",
       "      <td>1630.0</td>\n",
       "      <td>456.0</td>\n",
       "      <td>1162.0</td>\n",
       "      <td>400.0</td>\n",
       "      <td>1.2475</td>\n",
       "      <td>NEAR BAY</td>\n",
       "      <td>104200.0</td>\n",
       "    </tr>\n",
       "    <tr>\n",
       "      <th>2</th>\n",
       "      <td>-119.120003</td>\n",
       "      <td>35.369999</td>\n",
       "      <td>13.0</td>\n",
       "      <td>4527.0</td>\n",
       "      <td>713.0</td>\n",
       "      <td>2170.0</td>\n",
       "      <td>671.0</td>\n",
       "      <td>4.8266</td>\n",
       "      <td>INLAND</td>\n",
       "      <td>146200.0</td>\n",
       "    </tr>\n",
       "    <tr>\n",
       "      <th>3</th>\n",
       "      <td>-123.150002</td>\n",
       "      <td>39.310001</td>\n",
       "      <td>19.0</td>\n",
       "      <td>1026.0</td>\n",
       "      <td>205.0</td>\n",
       "      <td>424.0</td>\n",
       "      <td>152.0</td>\n",
       "      <td>2.8833</td>\n",
       "      <td>INLAND</td>\n",
       "      <td>154200.0</td>\n",
       "    </tr>\n",
       "    <tr>\n",
       "      <th>4</th>\n",
       "      <td>-122.519997</td>\n",
       "      <td>37.980000</td>\n",
       "      <td>31.0</td>\n",
       "      <td>6555.0</td>\n",
       "      <td>1571.0</td>\n",
       "      <td>2962.0</td>\n",
       "      <td>1464.0</td>\n",
       "      <td>2.8903</td>\n",
       "      <td>NEAR BAY</td>\n",
       "      <td>324200.0</td>\n",
       "    </tr>\n",
       "  </tbody>\n",
       "</table>\n",
       "</div>"
      ],
      "text/plain": [
       "    longitude   latitude  housing_median_age  total_rooms  total_bedrooms  \\\n",
       "0 -118.099998  33.810001                36.0       1111.0           184.0   \n",
       "1 -122.269997  37.820000                52.0       1630.0           456.0   \n",
       "2 -119.120003  35.369999                13.0       4527.0           713.0   \n",
       "3 -123.150002  39.310001                19.0       1026.0           205.0   \n",
       "4 -122.519997  37.980000                31.0       6555.0          1571.0   \n",
       "\n",
       "   population  households  median_income ocean_proximity  median_house_value  \n",
       "0       444.0       177.0         3.7031       <1H OCEAN            245300.0  \n",
       "1      1162.0       400.0         1.2475        NEAR BAY            104200.0  \n",
       "2      2170.0       671.0         4.8266          INLAND            146200.0  \n",
       "3       424.0       152.0         2.8833          INLAND            154200.0  \n",
       "4      2962.0      1464.0         2.8903        NEAR BAY            324200.0  "
      ]
     },
     "execution_count": 42,
     "metadata": {},
     "output_type": "execute_result"
    }
   ],
   "source": [
    "df_test_trans = pd.concat([X_test_tr_df,y_test] ,axis = 1 )\n",
    "df_test_trans.head()"
   ]
  },
  {
   "cell_type": "code",
   "execution_count": null,
   "id": "516dfb4e",
   "metadata": {},
   "outputs": [],
   "source": []
  },
  {
   "cell_type": "code",
   "execution_count": 43,
   "id": "cde4d7bd",
   "metadata": {},
   "outputs": [
    {
     "name": "stdout",
     "output_type": "stream",
     "text": [
      "<class 'pandas.core.frame.DataFrame'>\n",
      "RangeIndex: 4128 entries, 0 to 4127\n",
      "Data columns (total 10 columns):\n",
      " #   Column              Non-Null Count  Dtype  \n",
      "---  ------              --------------  -----  \n",
      " 0   longitude           4128 non-null   float32\n",
      " 1   latitude            4128 non-null   float32\n",
      " 2   housing_median_age  4128 non-null   float32\n",
      " 3   total_rooms         4128 non-null   float32\n",
      " 4   total_bedrooms      4128 non-null   float32\n",
      " 5   population          4128 non-null   float32\n",
      " 6   households          4128 non-null   float32\n",
      " 7   median_income       4128 non-null   float32\n",
      " 8   ocean_proximity     4128 non-null   object \n",
      " 9   median_house_value  4128 non-null   float64\n",
      "dtypes: float32(8), float64(1), object(1)\n",
      "memory usage: 193.6+ KB\n"
     ]
    }
   ],
   "source": [
    "df_test_trans.info()"
   ]
  },
  {
   "cell_type": "code",
   "execution_count": null,
   "id": "2a87c0d1",
   "metadata": {},
   "outputs": [],
   "source": []
  },
  {
   "cell_type": "markdown",
   "id": "c5aba487",
   "metadata": {},
   "source": [
    "## STEP5  : Outlier Treatment"
   ]
  },
  {
   "cell_type": "code",
   "execution_count": 44,
   "id": "04dc5d60",
   "metadata": {},
   "outputs": [],
   "source": [
    "# only on training dataset"
   ]
  },
  {
   "cell_type": "code",
   "execution_count": null,
   "id": "3ba7b2ac",
   "metadata": {},
   "outputs": [],
   "source": []
  },
  {
   "cell_type": "code",
   "execution_count": 45,
   "id": "4dbf2b4d",
   "metadata": {},
   "outputs": [],
   "source": [
    "df_train_trim = df_train_trans.copy()"
   ]
  },
  {
   "cell_type": "code",
   "execution_count": 46,
   "id": "83068766",
   "metadata": {},
   "outputs": [
    {
     "data": {
      "text/plain": [
       "(16512, 10)"
      ]
     },
     "execution_count": 46,
     "metadata": {},
     "output_type": "execute_result"
    }
   ],
   "source": [
    "df_train_trim.shape"
   ]
  },
  {
   "cell_type": "code",
   "execution_count": null,
   "id": "2300ead3",
   "metadata": {},
   "outputs": [],
   "source": []
  },
  {
   "cell_type": "code",
   "execution_count": 47,
   "id": "342ae385",
   "metadata": {},
   "outputs": [],
   "source": [
    "# Z-score for Normally or almost normally distributed data\n",
    "norcol = []\n",
    "skewcol = ['total_rooms','total_bedrooms', 'population','households', 'median_income']"
   ]
  },
  {
   "cell_type": "code",
   "execution_count": null,
   "id": "12606a0c",
   "metadata": {},
   "outputs": [],
   "source": []
  },
  {
   "cell_type": "code",
   "execution_count": 48,
   "id": "a217de30",
   "metadata": {},
   "outputs": [],
   "source": [
    "def trimming(DF ,nor_col = [],skew_col = [] ):\n",
    "    \n",
    "    # loop for normally or almost normally distributed data\n",
    "    for col in nor_col :\n",
    "\n",
    "        # Finding mean and Std\n",
    "        mean_col = DF[col].mean()\n",
    "        std_col = DF[col].std()\n",
    "\n",
    "        # Finding lower and upper limits\n",
    "        lower_limit = mean_col - 3*std_col\n",
    "        upper_limit = mean_col + 3*std_col\n",
    "\n",
    "        DF = DF[(DF[col] > lower_limit)  & (DF[col] < upper_limit)]\n",
    "\n",
    "\n",
    "    # loop for skew data\n",
    "    for col in skew_col :\n",
    "\n",
    "        # Finding IQR\n",
    "        percentile25 = DF[col].quantile(0.25)\n",
    "        percentile75 = DF[col].quantile(.75)\n",
    "\n",
    "        # Compute IQR\n",
    "        IQR = percentile75 - percentile25\n",
    "\n",
    "        # Finding lower and upper limits\n",
    "        lowerlimit = percentile25 - 1.5*IQR\n",
    "        upperlimit = percentile75 + 1.5*IQR\n",
    "\n",
    "        # Trimming\n",
    "        DF = DF[(DF[col]> lowerlimit) & (DF[col] < upperlimit) ]\n",
    "    \n",
    "    return DF"
   ]
  },
  {
   "cell_type": "code",
   "execution_count": null,
   "id": "bc8ddd01",
   "metadata": {},
   "outputs": [],
   "source": []
  },
  {
   "cell_type": "code",
   "execution_count": 49,
   "id": "e86bcfa5",
   "metadata": {},
   "outputs": [],
   "source": [
    "df_train_trim_tr = trimming(DF = df_train_trim , nor_col= norcol , skew_col= skewcol )"
   ]
  },
  {
   "cell_type": "code",
   "execution_count": 50,
   "id": "c238dd99",
   "metadata": {},
   "outputs": [
    {
     "name": "stdout",
     "output_type": "stream",
     "text": [
      "<class 'pandas.core.frame.DataFrame'>\n",
      "Int64Index: 14051 entries, 0 to 16511\n",
      "Data columns (total 10 columns):\n",
      " #   Column              Non-Null Count  Dtype  \n",
      "---  ------              --------------  -----  \n",
      " 0   longitude           14051 non-null  float32\n",
      " 1   latitude            14051 non-null  float32\n",
      " 2   housing_median_age  14051 non-null  float32\n",
      " 3   total_rooms         14051 non-null  float32\n",
      " 4   total_bedrooms      14051 non-null  float32\n",
      " 5   population          14051 non-null  float32\n",
      " 6   households          14051 non-null  float32\n",
      " 7   median_income       14051 non-null  float32\n",
      " 8   ocean_proximity     14051 non-null  object \n",
      " 9   median_house_value  14051 non-null  float64\n",
      "dtypes: float32(8), float64(1), object(1)\n",
      "memory usage: 768.4+ KB\n"
     ]
    }
   ],
   "source": [
    "df_train_trim_tr.info()"
   ]
  },
  {
   "cell_type": "code",
   "execution_count": 51,
   "id": "b176dd14",
   "metadata": {},
   "outputs": [
    {
     "data": {
      "text/plain": [
       "(16512, 10)"
      ]
     },
     "execution_count": 51,
     "metadata": {},
     "output_type": "execute_result"
    }
   ],
   "source": [
    "df_train_trim.shape"
   ]
  },
  {
   "cell_type": "code",
   "execution_count": 52,
   "id": "eb693097",
   "metadata": {},
   "outputs": [
    {
     "data": {
      "text/plain": [
       "(14051, 10)"
      ]
     },
     "execution_count": 52,
     "metadata": {},
     "output_type": "execute_result"
    }
   ],
   "source": [
    "df_train_trim_tr.shape"
   ]
  },
  {
   "cell_type": "code",
   "execution_count": null,
   "id": "a1c2ae2f",
   "metadata": {},
   "outputs": [],
   "source": []
  },
  {
   "cell_type": "markdown",
   "id": "00e43576",
   "metadata": {},
   "source": [
    "## STEP 6 : FE"
   ]
  },
  {
   "cell_type": "code",
   "execution_count": 53,
   "id": "2daafaf5",
   "metadata": {},
   "outputs": [],
   "source": [
    "# df_train_trim_tr"
   ]
  },
  {
   "cell_type": "code",
   "execution_count": 54,
   "id": "70b4b857",
   "metadata": {},
   "outputs": [],
   "source": [
    "df_train_trim_tr[\"rooms_per_household\"] = df_train_trim_tr[\"total_rooms\"]/df_train_trim_tr[\"households\"]\n",
    "df_train_trim_tr[\"bedrooms_per_room\"] = df_train_trim_tr[\"total_bedrooms\"]/df_train_trim_tr[\"total_rooms\"]\n",
    "df_train_trim_tr[\"population_per_household\"]=df_train_trim_tr[\"population\"]/df_train_trim_tr[\"households\"]"
   ]
  },
  {
   "cell_type": "code",
   "execution_count": 55,
   "id": "3536b3cf",
   "metadata": {},
   "outputs": [
    {
     "data": {
      "text/plain": [
       "(14051, 13)"
      ]
     },
     "execution_count": 55,
     "metadata": {},
     "output_type": "execute_result"
    }
   ],
   "source": [
    "df_train_trim_tr.shape"
   ]
  },
  {
   "cell_type": "code",
   "execution_count": null,
   "id": "48bbb76f",
   "metadata": {},
   "outputs": [],
   "source": []
  },
  {
   "cell_type": "code",
   "execution_count": 56,
   "id": "0a0c1b06",
   "metadata": {},
   "outputs": [],
   "source": [
    "# df_test_trans"
   ]
  },
  {
   "cell_type": "code",
   "execution_count": 57,
   "id": "641f55eb",
   "metadata": {},
   "outputs": [],
   "source": [
    "df_test_trans[\"rooms_per_household\"] = df_test_trans[\"total_rooms\"]/df_test_trans[\"households\"]\n",
    "df_test_trans[\"bedrooms_per_room\"] = df_test_trans[\"total_bedrooms\"]/df_test_trans[\"total_rooms\"]\n",
    "df_test_trans[\"population_per_household\"]=df_test_trans[\"population\"]/df_test_trans[\"households\"]"
   ]
  },
  {
   "cell_type": "code",
   "execution_count": 58,
   "id": "db6d956b",
   "metadata": {},
   "outputs": [
    {
     "data": {
      "text/plain": [
       "(4128, 13)"
      ]
     },
     "execution_count": 58,
     "metadata": {},
     "output_type": "execute_result"
    }
   ],
   "source": [
    "df_test_trans.shape"
   ]
  },
  {
   "cell_type": "code",
   "execution_count": null,
   "id": "d205f4ad",
   "metadata": {},
   "outputs": [],
   "source": []
  },
  {
   "cell_type": "code",
   "execution_count": 59,
   "id": "9b97f3e9",
   "metadata": {},
   "outputs": [
    {
     "name": "stdout",
     "output_type": "stream",
     "text": [
      "<class 'pandas.core.frame.DataFrame'>\n",
      "Int64Index: 14051 entries, 0 to 16511\n",
      "Data columns (total 13 columns):\n",
      " #   Column                    Non-Null Count  Dtype  \n",
      "---  ------                    --------------  -----  \n",
      " 0   longitude                 14051 non-null  float32\n",
      " 1   latitude                  14051 non-null  float32\n",
      " 2   housing_median_age        14051 non-null  float32\n",
      " 3   total_rooms               14051 non-null  float32\n",
      " 4   total_bedrooms            14051 non-null  float32\n",
      " 5   population                14051 non-null  float32\n",
      " 6   households                14051 non-null  float32\n",
      " 7   median_income             14051 non-null  float32\n",
      " 8   ocean_proximity           14051 non-null  object \n",
      " 9   median_house_value        14051 non-null  float64\n",
      " 10  rooms_per_household       14051 non-null  float32\n",
      " 11  bedrooms_per_room         14051 non-null  float32\n",
      " 12  population_per_household  14051 non-null  float32\n",
      "dtypes: float32(11), float64(1), object(1)\n",
      "memory usage: 933.1+ KB\n"
     ]
    }
   ],
   "source": [
    "df_train_trim_tr.info()"
   ]
  },
  {
   "cell_type": "code",
   "execution_count": 60,
   "id": "4f709e49",
   "metadata": {},
   "outputs": [
    {
     "data": {
      "text/plain": [
       "Index(['longitude', 'latitude', 'housing_median_age', 'total_rooms',\n",
       "       'total_bedrooms', 'population', 'households', 'median_income',\n",
       "       'ocean_proximity', 'median_house_value', 'rooms_per_household',\n",
       "       'bedrooms_per_room', 'population_per_household'],\n",
       "      dtype='object')"
      ]
     },
     "execution_count": 60,
     "metadata": {},
     "output_type": "execute_result"
    }
   ],
   "source": [
    "df_train_trim_tr.columns"
   ]
  },
  {
   "cell_type": "code",
   "execution_count": null,
   "id": "5af5bd62",
   "metadata": {},
   "outputs": [],
   "source": []
  },
  {
   "cell_type": "code",
   "execution_count": null,
   "id": "d993812d",
   "metadata": {},
   "outputs": [],
   "source": []
  },
  {
   "cell_type": "code",
   "execution_count": 61,
   "id": "29377820",
   "metadata": {},
   "outputs": [
    {
     "data": {
      "text/plain": [
       "median_house_value          1.000000\n",
       "median_income               0.632326\n",
       "population_per_household   -0.206809\n",
       "bedrooms_per_room          -0.187524\n",
       "total_rooms                 0.185251\n",
       "latitude                   -0.157214\n",
       "housing_median_age          0.128496\n",
       "rooms_per_household         0.102412\n",
       "households                  0.101350\n",
       "total_bedrooms              0.078214\n",
       "population                 -0.052800\n",
       "longitude                  -0.038052\n",
       "dtype: float64"
      ]
     },
     "execution_count": 61,
     "metadata": {},
     "output_type": "execute_result"
    }
   ],
   "source": [
    "df_train_trim_tr.corrwith(other = df_train_trim_tr['median_house_value'] ,numeric_only= True).sort_values(ascending=False, \n",
    "                                                                         key=lambda x: abs(x))"
   ]
  },
  {
   "cell_type": "code",
   "execution_count": null,
   "id": "56767d91",
   "metadata": {},
   "outputs": [],
   "source": []
  },
  {
   "cell_type": "code",
   "execution_count": 62,
   "id": "6cc5189a",
   "metadata": {},
   "outputs": [],
   "source": [
    "mc_feat = ['population_per_household','bedrooms_per_room','rooms_per_household','total_rooms',\n",
    "           'total_bedrooms','population', 'households']"
   ]
  },
  {
   "cell_type": "code",
   "execution_count": null,
   "id": "a99aa004",
   "metadata": {},
   "outputs": [],
   "source": []
  },
  {
   "cell_type": "code",
   "execution_count": 63,
   "id": "f1beb81c",
   "metadata": {},
   "outputs": [],
   "source": [
    "from statsmodels.stats.outliers_influence import variance_inflation_factor\n",
    "from statsmodels.tools.tools import add_constant"
   ]
  },
  {
   "cell_type": "code",
   "execution_count": null,
   "id": "a81766c9",
   "metadata": {},
   "outputs": [],
   "source": []
  },
  {
   "cell_type": "markdown",
   "id": "7a9e19c4",
   "metadata": {},
   "source": [
    "#### Syntax : variance_inflation_factor(exog, exog_idx)\n",
    "\n",
    "- **Explanation :**\n",
    "\n",
    "    One recommendation is that if VIF is greater than 5, then the explanatory variable given by \n",
    "\n",
    "    'exog_idx' is highly collinear with the other explanatory variables, and \n",
    "\n",
    "    the parameter estimates will have large standard errors because of this."
   ]
  },
  {
   "cell_type": "code",
   "execution_count": null,
   "id": "7ebf5cca",
   "metadata": {},
   "outputs": [],
   "source": []
  },
  {
   "cell_type": "code",
   "execution_count": 64,
   "id": "6110963a",
   "metadata": {},
   "outputs": [],
   "source": [
    "df_train_tr = df_train_trim_tr.copy()"
   ]
  },
  {
   "cell_type": "code",
   "execution_count": 65,
   "id": "5e42516d",
   "metadata": {},
   "outputs": [
    {
     "data": {
      "text/plain": [
       "14051"
      ]
     },
     "execution_count": 65,
     "metadata": {},
     "output_type": "execute_result"
    }
   ],
   "source": [
    "len(df_train_tr)"
   ]
  },
  {
   "cell_type": "code",
   "execution_count": null,
   "id": "201f3338",
   "metadata": {},
   "outputs": [],
   "source": []
  },
  {
   "cell_type": "code",
   "execution_count": 66,
   "id": "55d2f2b5",
   "metadata": {},
   "outputs": [],
   "source": [
    "# Defining custom function for calculating VIF\n",
    "\n",
    "def compute_vif(feature_list ,dataframe):\n",
    "    \n",
    "    X = dataframe[feature_list]\n",
    "    \n",
    "    # Dropping any NaN values\n",
    "    X.dropna(inplace = True)\n",
    "    \n",
    "    # Adding constant column in X\n",
    "    X  = add_constant(X ,prepend=True)\n",
    "    \n",
    "    # Creating DF for storing VIF values\n",
    "    vif = pd.DataFrame()\n",
    "    vif['variable'] = X.columns\n",
    "    \n",
    "    \n",
    "    vif['VIF'] = [variance_inflation_factor(X.values ,i) for i in range(X.shape[1])]\n",
    "    \n",
    "    vif = vif[vif['variable'] != 'const']\n",
    "    \n",
    "    return vif"
   ]
  },
  {
   "cell_type": "code",
   "execution_count": null,
   "id": "8c425816",
   "metadata": {},
   "outputs": [],
   "source": []
  },
  {
   "cell_type": "code",
   "execution_count": 67,
   "id": "7a3fba8f",
   "metadata": {},
   "outputs": [],
   "source": [
    "import warnings \n",
    "\n",
    "warnings.filterwarnings(\"ignore\")"
   ]
  },
  {
   "cell_type": "code",
   "execution_count": null,
   "id": "7965ef6a",
   "metadata": {},
   "outputs": [],
   "source": []
  },
  {
   "cell_type": "code",
   "execution_count": 68,
   "id": "c6a51bb5",
   "metadata": {
    "scrolled": true
   },
   "outputs": [
    {
     "data": {
      "text/html": [
       "<div>\n",
       "<style scoped>\n",
       "    .dataframe tbody tr th:only-of-type {\n",
       "        vertical-align: middle;\n",
       "    }\n",
       "\n",
       "    .dataframe tbody tr th {\n",
       "        vertical-align: top;\n",
       "    }\n",
       "\n",
       "    .dataframe thead th {\n",
       "        text-align: right;\n",
       "    }\n",
       "</style>\n",
       "<table border=\"1\" class=\"dataframe\">\n",
       "  <thead>\n",
       "    <tr style=\"text-align: right;\">\n",
       "      <th></th>\n",
       "      <th>variable</th>\n",
       "      <th>VIF</th>\n",
       "    </tr>\n",
       "  </thead>\n",
       "  <tbody>\n",
       "    <tr>\n",
       "      <th>1</th>\n",
       "      <td>population_per_household</td>\n",
       "      <td>1.854270</td>\n",
       "    </tr>\n",
       "    <tr>\n",
       "      <th>2</th>\n",
       "      <td>bedrooms_per_room</td>\n",
       "      <td>2.886543</td>\n",
       "    </tr>\n",
       "    <tr>\n",
       "      <th>3</th>\n",
       "      <td>rooms_per_household</td>\n",
       "      <td>1.696808</td>\n",
       "    </tr>\n",
       "    <tr>\n",
       "      <th>4</th>\n",
       "      <td>total_rooms</td>\n",
       "      <td>12.747789</td>\n",
       "    </tr>\n",
       "    <tr>\n",
       "      <th>5</th>\n",
       "      <td>total_bedrooms</td>\n",
       "      <td>24.918016</td>\n",
       "    </tr>\n",
       "    <tr>\n",
       "      <th>6</th>\n",
       "      <td>population</td>\n",
       "      <td>6.775020</td>\n",
       "    </tr>\n",
       "    <tr>\n",
       "      <th>7</th>\n",
       "      <td>households</td>\n",
       "      <td>27.029790</td>\n",
       "    </tr>\n",
       "  </tbody>\n",
       "</table>\n",
       "</div>"
      ],
      "text/plain": [
       "                   variable        VIF\n",
       "1  population_per_household   1.854270\n",
       "2         bedrooms_per_room   2.886543\n",
       "3       rooms_per_household   1.696808\n",
       "4               total_rooms  12.747789\n",
       "5            total_bedrooms  24.918016\n",
       "6                population   6.775020\n",
       "7                households  27.029790"
      ]
     },
     "execution_count": 68,
     "metadata": {},
     "output_type": "execute_result"
    }
   ],
   "source": [
    "compute_vif(feature_list = mc_feat ,dataframe = df_train_tr)"
   ]
  },
  {
   "cell_type": "code",
   "execution_count": null,
   "id": "956a9163",
   "metadata": {},
   "outputs": [],
   "source": []
  },
  {
   "cell_type": "code",
   "execution_count": 69,
   "id": "193e5a52",
   "metadata": {},
   "outputs": [],
   "source": [
    "# lets remove 'households' column\n",
    "\n",
    "mc_feat.remove('households')"
   ]
  },
  {
   "cell_type": "code",
   "execution_count": null,
   "id": "89ee45f1",
   "metadata": {},
   "outputs": [],
   "source": []
  },
  {
   "cell_type": "code",
   "execution_count": 70,
   "id": "b2844558",
   "metadata": {},
   "outputs": [
    {
     "data": {
      "text/html": [
       "<div>\n",
       "<style scoped>\n",
       "    .dataframe tbody tr th:only-of-type {\n",
       "        vertical-align: middle;\n",
       "    }\n",
       "\n",
       "    .dataframe tbody tr th {\n",
       "        vertical-align: top;\n",
       "    }\n",
       "\n",
       "    .dataframe thead th {\n",
       "        text-align: right;\n",
       "    }\n",
       "</style>\n",
       "<table border=\"1\" class=\"dataframe\">\n",
       "  <thead>\n",
       "    <tr style=\"text-align: right;\">\n",
       "      <th></th>\n",
       "      <th>variable</th>\n",
       "      <th>VIF</th>\n",
       "    </tr>\n",
       "  </thead>\n",
       "  <tbody>\n",
       "    <tr>\n",
       "      <th>1</th>\n",
       "      <td>population_per_household</td>\n",
       "      <td>1.669053</td>\n",
       "    </tr>\n",
       "    <tr>\n",
       "      <th>2</th>\n",
       "      <td>bedrooms_per_room</td>\n",
       "      <td>2.811717</td>\n",
       "    </tr>\n",
       "    <tr>\n",
       "      <th>3</th>\n",
       "      <td>rooms_per_household</td>\n",
       "      <td>1.295379</td>\n",
       "    </tr>\n",
       "    <tr>\n",
       "      <th>4</th>\n",
       "      <td>total_rooms</td>\n",
       "      <td>12.558651</td>\n",
       "    </tr>\n",
       "    <tr>\n",
       "      <th>5</th>\n",
       "      <td>total_bedrooms</td>\n",
       "      <td>12.737534</td>\n",
       "    </tr>\n",
       "    <tr>\n",
       "      <th>6</th>\n",
       "      <td>population</td>\n",
       "      <td>5.050763</td>\n",
       "    </tr>\n",
       "  </tbody>\n",
       "</table>\n",
       "</div>"
      ],
      "text/plain": [
       "                   variable        VIF\n",
       "1  population_per_household   1.669053\n",
       "2         bedrooms_per_room   2.811717\n",
       "3       rooms_per_household   1.295379\n",
       "4               total_rooms  12.558651\n",
       "5            total_bedrooms  12.737534\n",
       "6                population   5.050763"
      ]
     },
     "execution_count": 70,
     "metadata": {},
     "output_type": "execute_result"
    }
   ],
   "source": [
    "compute_vif(feature_list = mc_feat , dataframe  = df_train_tr)"
   ]
  },
  {
   "cell_type": "code",
   "execution_count": null,
   "id": "282bc2fc",
   "metadata": {},
   "outputs": [],
   "source": []
  },
  {
   "cell_type": "code",
   "execution_count": 71,
   "id": "496d38f1",
   "metadata": {},
   "outputs": [],
   "source": [
    "# lets remove 'rooms_per_household' column\n",
    "\n",
    "# mc_feat.remove('rooms_per_household')"
   ]
  },
  {
   "cell_type": "code",
   "execution_count": 82,
   "id": "b4efca2a",
   "metadata": {},
   "outputs": [],
   "source": [
    "# compute_vif(feature_list = mc_feat , dataframe  = df_train_tr)"
   ]
  },
  {
   "cell_type": "code",
   "execution_count": null,
   "id": "eeefcb2d",
   "metadata": {},
   "outputs": [],
   "source": []
  },
  {
   "cell_type": "code",
   "execution_count": 73,
   "id": "acf27c24",
   "metadata": {},
   "outputs": [],
   "source": [
    "# lets remove 'total_bedrooms' column\n",
    "\n",
    "mc_feat.remove('total_bedrooms')"
   ]
  },
  {
   "cell_type": "code",
   "execution_count": 74,
   "id": "dea77eb3",
   "metadata": {},
   "outputs": [
    {
     "data": {
      "text/html": [
       "<div>\n",
       "<style scoped>\n",
       "    .dataframe tbody tr th:only-of-type {\n",
       "        vertical-align: middle;\n",
       "    }\n",
       "\n",
       "    .dataframe tbody tr th {\n",
       "        vertical-align: top;\n",
       "    }\n",
       "\n",
       "    .dataframe thead th {\n",
       "        text-align: right;\n",
       "    }\n",
       "</style>\n",
       "<table border=\"1\" class=\"dataframe\">\n",
       "  <thead>\n",
       "    <tr style=\"text-align: right;\">\n",
       "      <th></th>\n",
       "      <th>variable</th>\n",
       "      <th>VIF</th>\n",
       "    </tr>\n",
       "  </thead>\n",
       "  <tbody>\n",
       "    <tr>\n",
       "      <th>1</th>\n",
       "      <td>population_per_household</td>\n",
       "      <td>1.503268</td>\n",
       "    </tr>\n",
       "    <tr>\n",
       "      <th>2</th>\n",
       "      <td>bedrooms_per_room</td>\n",
       "      <td>1.434047</td>\n",
       "    </tr>\n",
       "    <tr>\n",
       "      <th>3</th>\n",
       "      <td>rooms_per_household</td>\n",
       "      <td>1.295317</td>\n",
       "    </tr>\n",
       "    <tr>\n",
       "      <th>4</th>\n",
       "      <td>total_rooms</td>\n",
       "      <td>4.709111</td>\n",
       "    </tr>\n",
       "    <tr>\n",
       "      <th>5</th>\n",
       "      <td>population</td>\n",
       "      <td>4.362234</td>\n",
       "    </tr>\n",
       "  </tbody>\n",
       "</table>\n",
       "</div>"
      ],
      "text/plain": [
       "                   variable       VIF\n",
       "1  population_per_household  1.503268\n",
       "2         bedrooms_per_room  1.434047\n",
       "3       rooms_per_household  1.295317\n",
       "4               total_rooms  4.709111\n",
       "5                population  4.362234"
      ]
     },
     "execution_count": 74,
     "metadata": {},
     "output_type": "execute_result"
    }
   ],
   "source": [
    "compute_vif(feature_list = mc_feat , dataframe  = df_train_tr)"
   ]
  },
  {
   "cell_type": "code",
   "execution_count": null,
   "id": "adc7c04f",
   "metadata": {},
   "outputs": [],
   "source": []
  },
  {
   "cell_type": "markdown",
   "id": "09359b6b",
   "metadata": {},
   "source": [
    "## STEP 5 : Drop Irrelevent Features"
   ]
  },
  {
   "cell_type": "code",
   "execution_count": null,
   "id": "cd27ba15",
   "metadata": {},
   "outputs": [],
   "source": []
  },
  {
   "cell_type": "code",
   "execution_count": 75,
   "id": "deac62ca",
   "metadata": {},
   "outputs": [],
   "source": [
    "# drop_col = ['households' , 'rooms_per_household' , 'total_bedrooms']\n",
    "drop_col = ['households' , 'total_bedrooms']"
   ]
  },
  {
   "cell_type": "code",
   "execution_count": null,
   "id": "525d5d05",
   "metadata": {},
   "outputs": [],
   "source": []
  },
  {
   "cell_type": "code",
   "execution_count": 76,
   "id": "910457cc",
   "metadata": {},
   "outputs": [],
   "source": [
    "df_test_export = df_test_trans.drop(labels = drop_col ,axis = 1)"
   ]
  },
  {
   "cell_type": "code",
   "execution_count": 77,
   "id": "6f3f2210",
   "metadata": {},
   "outputs": [],
   "source": [
    "df_train_export = df_train_tr.drop(labels = drop_col ,axis = 1)                 "
   ]
  },
  {
   "cell_type": "code",
   "execution_count": null,
   "id": "05d3c96c",
   "metadata": {},
   "outputs": [],
   "source": []
  },
  {
   "cell_type": "code",
   "execution_count": null,
   "id": "7ae0e234",
   "metadata": {},
   "outputs": [],
   "source": []
  },
  {
   "cell_type": "code",
   "execution_count": 78,
   "id": "1d88f0a4",
   "metadata": {},
   "outputs": [
    {
     "data": {
      "text/html": [
       "<div>\n",
       "<style scoped>\n",
       "    .dataframe tbody tr th:only-of-type {\n",
       "        vertical-align: middle;\n",
       "    }\n",
       "\n",
       "    .dataframe tbody tr th {\n",
       "        vertical-align: top;\n",
       "    }\n",
       "\n",
       "    .dataframe thead th {\n",
       "        text-align: right;\n",
       "    }\n",
       "</style>\n",
       "<table border=\"1\" class=\"dataframe\">\n",
       "  <thead>\n",
       "    <tr style=\"text-align: right;\">\n",
       "      <th></th>\n",
       "      <th>longitude</th>\n",
       "      <th>latitude</th>\n",
       "      <th>housing_median_age</th>\n",
       "      <th>total_rooms</th>\n",
       "      <th>population</th>\n",
       "      <th>median_income</th>\n",
       "      <th>ocean_proximity</th>\n",
       "      <th>median_house_value</th>\n",
       "      <th>rooms_per_household</th>\n",
       "      <th>bedrooms_per_room</th>\n",
       "      <th>population_per_household</th>\n",
       "    </tr>\n",
       "  </thead>\n",
       "  <tbody>\n",
       "    <tr>\n",
       "      <th>0</th>\n",
       "      <td>-118.099998</td>\n",
       "      <td>33.810001</td>\n",
       "      <td>36.0</td>\n",
       "      <td>1111.0</td>\n",
       "      <td>444.0</td>\n",
       "      <td>3.7031</td>\n",
       "      <td>&lt;1H OCEAN</td>\n",
       "      <td>245300.0</td>\n",
       "      <td>6.276836</td>\n",
       "      <td>0.165617</td>\n",
       "      <td>2.508475</td>\n",
       "    </tr>\n",
       "    <tr>\n",
       "      <th>1</th>\n",
       "      <td>-122.269997</td>\n",
       "      <td>37.820000</td>\n",
       "      <td>52.0</td>\n",
       "      <td>1630.0</td>\n",
       "      <td>1162.0</td>\n",
       "      <td>1.2475</td>\n",
       "      <td>NEAR BAY</td>\n",
       "      <td>104200.0</td>\n",
       "      <td>4.075000</td>\n",
       "      <td>0.279755</td>\n",
       "      <td>2.905000</td>\n",
       "    </tr>\n",
       "  </tbody>\n",
       "</table>\n",
       "</div>"
      ],
      "text/plain": [
       "    longitude   latitude  housing_median_age  total_rooms  population  \\\n",
       "0 -118.099998  33.810001                36.0       1111.0       444.0   \n",
       "1 -122.269997  37.820000                52.0       1630.0      1162.0   \n",
       "\n",
       "   median_income ocean_proximity  median_house_value  rooms_per_household  \\\n",
       "0         3.7031       <1H OCEAN            245300.0             6.276836   \n",
       "1         1.2475        NEAR BAY            104200.0             4.075000   \n",
       "\n",
       "   bedrooms_per_room  population_per_household  \n",
       "0           0.165617                  2.508475  \n",
       "1           0.279755                  2.905000  "
      ]
     },
     "execution_count": 78,
     "metadata": {},
     "output_type": "execute_result"
    }
   ],
   "source": [
    "df_test_export.head(2)"
   ]
  },
  {
   "cell_type": "code",
   "execution_count": 79,
   "id": "5b1e85ac",
   "metadata": {
    "scrolled": false
   },
   "outputs": [
    {
     "data": {
      "text/html": [
       "<div>\n",
       "<style scoped>\n",
       "    .dataframe tbody tr th:only-of-type {\n",
       "        vertical-align: middle;\n",
       "    }\n",
       "\n",
       "    .dataframe tbody tr th {\n",
       "        vertical-align: top;\n",
       "    }\n",
       "\n",
       "    .dataframe thead th {\n",
       "        text-align: right;\n",
       "    }\n",
       "</style>\n",
       "<table border=\"1\" class=\"dataframe\">\n",
       "  <thead>\n",
       "    <tr style=\"text-align: right;\">\n",
       "      <th></th>\n",
       "      <th>longitude</th>\n",
       "      <th>latitude</th>\n",
       "      <th>housing_median_age</th>\n",
       "      <th>total_rooms</th>\n",
       "      <th>population</th>\n",
       "      <th>median_income</th>\n",
       "      <th>ocean_proximity</th>\n",
       "      <th>median_house_value</th>\n",
       "      <th>rooms_per_household</th>\n",
       "      <th>bedrooms_per_room</th>\n",
       "      <th>population_per_household</th>\n",
       "    </tr>\n",
       "  </thead>\n",
       "  <tbody>\n",
       "    <tr>\n",
       "      <th>0</th>\n",
       "      <td>-122.699997</td>\n",
       "      <td>39.139999</td>\n",
       "      <td>13.0</td>\n",
       "      <td>532.0</td>\n",
       "      <td>214.0</td>\n",
       "      <td>3.3929</td>\n",
       "      <td>INLAND</td>\n",
       "      <td>108300.0</td>\n",
       "      <td>8.580646</td>\n",
       "      <td>0.208647</td>\n",
       "      <td>3.451613</td>\n",
       "    </tr>\n",
       "    <tr>\n",
       "      <th>1</th>\n",
       "      <td>-120.830002</td>\n",
       "      <td>35.320000</td>\n",
       "      <td>11.0</td>\n",
       "      <td>3252.0</td>\n",
       "      <td>1814.0</td>\n",
       "      <td>3.2226</td>\n",
       "      <td>NEAR OCEAN</td>\n",
       "      <td>183200.0</td>\n",
       "      <td>4.927273</td>\n",
       "      <td>0.215560</td>\n",
       "      <td>2.748485</td>\n",
       "    </tr>\n",
       "  </tbody>\n",
       "</table>\n",
       "</div>"
      ],
      "text/plain": [
       "    longitude   latitude  housing_median_age  total_rooms  population  \\\n",
       "0 -122.699997  39.139999                13.0        532.0       214.0   \n",
       "1 -120.830002  35.320000                11.0       3252.0      1814.0   \n",
       "\n",
       "   median_income ocean_proximity  median_house_value  rooms_per_household  \\\n",
       "0         3.3929          INLAND            108300.0             8.580646   \n",
       "1         3.2226      NEAR OCEAN            183200.0             4.927273   \n",
       "\n",
       "   bedrooms_per_room  population_per_household  \n",
       "0           0.208647                  3.451613  \n",
       "1           0.215560                  2.748485  "
      ]
     },
     "execution_count": 79,
     "metadata": {},
     "output_type": "execute_result"
    }
   ],
   "source": [
    "df_train_export.head(2)"
   ]
  },
  {
   "cell_type": "code",
   "execution_count": null,
   "id": "f461f29b",
   "metadata": {},
   "outputs": [],
   "source": []
  },
  {
   "cell_type": "markdown",
   "id": "d508fa7c",
   "metadata": {},
   "source": [
    "## STEP 6 : Export the DF as a .csv file."
   ]
  },
  {
   "cell_type": "code",
   "execution_count": null,
   "id": "444a45ea",
   "metadata": {},
   "outputs": [],
   "source": []
  },
  {
   "cell_type": "code",
   "execution_count": 80,
   "id": "de8d2d17",
   "metadata": {},
   "outputs": [],
   "source": [
    "df_test_export.to_csv(\"S2_Part2_test_DP_Trimming1_test_dataset.csv\")"
   ]
  },
  {
   "cell_type": "code",
   "execution_count": 81,
   "id": "696ae28b",
   "metadata": {},
   "outputs": [],
   "source": [
    "df_train_export.to_csv(\"S2_Part2_test_DP_Trimming1_train_dataset.csv\")"
   ]
  },
  {
   "cell_type": "code",
   "execution_count": null,
   "id": "a1391a61",
   "metadata": {},
   "outputs": [],
   "source": []
  },
  {
   "cell_type": "code",
   "execution_count": null,
   "id": "4edc48a4",
   "metadata": {},
   "outputs": [],
   "source": []
  },
  {
   "cell_type": "code",
   "execution_count": null,
   "id": "0b1a939c",
   "metadata": {},
   "outputs": [],
   "source": []
  }
 ],
 "metadata": {
  "kernelspec": {
   "display_name": "Python 3 (ipykernel)",
   "language": "python",
   "name": "python3"
  },
  "language_info": {
   "codemirror_mode": {
    "name": "ipython",
    "version": 3
   },
   "file_extension": ".py",
   "mimetype": "text/x-python",
   "name": "python",
   "nbconvert_exporter": "python",
   "pygments_lexer": "ipython3",
   "version": "3.10.9"
  }
 },
 "nbformat": 4,
 "nbformat_minor": 5
}
