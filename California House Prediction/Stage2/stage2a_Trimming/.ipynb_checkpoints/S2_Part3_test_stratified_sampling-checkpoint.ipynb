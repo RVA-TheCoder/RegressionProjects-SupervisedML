{
 "cells": [
  {
   "cell_type": "code",
   "execution_count": 1,
   "id": "215098d1",
   "metadata": {},
   "outputs": [],
   "source": [
    "import pandas as pd\n",
    "import numpy as np\n",
    "import matplotlib.pyplot as plt\n",
    "import seaborn as sns"
   ]
  },
  {
   "cell_type": "code",
   "execution_count": null,
   "id": "17592d8f",
   "metadata": {},
   "outputs": [],
   "source": []
  },
  {
   "cell_type": "code",
   "execution_count": 2,
   "id": "21bdf59a",
   "metadata": {},
   "outputs": [],
   "source": [
    "filepath = r\"S2_Part2_test_DataPreprocessing_Trimming1.csv\"\n",
    "\n",
    "houses = pd.read_csv(filepath , header = 0 , index_col= 0 )"
   ]
  },
  {
   "cell_type": "code",
   "execution_count": null,
   "id": "2980b745",
   "metadata": {},
   "outputs": [],
   "source": []
  },
  {
   "cell_type": "code",
   "execution_count": 3,
   "id": "fcf090b0",
   "metadata": {},
   "outputs": [],
   "source": [
    "houses.reset_index(inplace = True , drop = True)"
   ]
  },
  {
   "cell_type": "code",
   "execution_count": 4,
   "id": "d329815c",
   "metadata": {},
   "outputs": [
    {
     "data": {
      "text/plain": [
       "RangeIndex(start=0, stop=17358, step=1)"
      ]
     },
     "execution_count": 4,
     "metadata": {},
     "output_type": "execute_result"
    }
   ],
   "source": [
    "houses.index"
   ]
  },
  {
   "cell_type": "code",
   "execution_count": null,
   "id": "6fb4e931",
   "metadata": {},
   "outputs": [],
   "source": []
  },
  {
   "cell_type": "code",
   "execution_count": 5,
   "id": "a622b986",
   "metadata": {},
   "outputs": [
    {
     "data": {
      "text/html": [
       "<div>\n",
       "<style scoped>\n",
       "    .dataframe tbody tr th:only-of-type {\n",
       "        vertical-align: middle;\n",
       "    }\n",
       "\n",
       "    .dataframe tbody tr th {\n",
       "        vertical-align: top;\n",
       "    }\n",
       "\n",
       "    .dataframe thead th {\n",
       "        text-align: right;\n",
       "    }\n",
       "</style>\n",
       "<table border=\"1\" class=\"dataframe\">\n",
       "  <thead>\n",
       "    <tr style=\"text-align: right;\">\n",
       "      <th></th>\n",
       "      <th>longitude</th>\n",
       "      <th>latitude</th>\n",
       "      <th>housing_median_age</th>\n",
       "      <th>total_rooms</th>\n",
       "      <th>population</th>\n",
       "      <th>median_income</th>\n",
       "      <th>median_house_value</th>\n",
       "      <th>ocean_proximity</th>\n",
       "      <th>bedrooms_per_room</th>\n",
       "      <th>population_per_household</th>\n",
       "    </tr>\n",
       "  </thead>\n",
       "  <tbody>\n",
       "    <tr>\n",
       "      <th>0</th>\n",
       "      <td>-122.24</td>\n",
       "      <td>37.85</td>\n",
       "      <td>52.0</td>\n",
       "      <td>1467.0</td>\n",
       "      <td>496.0</td>\n",
       "      <td>7.2574</td>\n",
       "      <td>352100.0</td>\n",
       "      <td>NEAR BAY</td>\n",
       "      <td>0.129516</td>\n",
       "      <td>2.802260</td>\n",
       "    </tr>\n",
       "    <tr>\n",
       "      <th>1</th>\n",
       "      <td>-122.25</td>\n",
       "      <td>37.85</td>\n",
       "      <td>52.0</td>\n",
       "      <td>1274.0</td>\n",
       "      <td>558.0</td>\n",
       "      <td>5.6431</td>\n",
       "      <td>341300.0</td>\n",
       "      <td>NEAR BAY</td>\n",
       "      <td>0.184458</td>\n",
       "      <td>2.547945</td>\n",
       "    </tr>\n",
       "    <tr>\n",
       "      <th>2</th>\n",
       "      <td>-122.25</td>\n",
       "      <td>37.85</td>\n",
       "      <td>52.0</td>\n",
       "      <td>1627.0</td>\n",
       "      <td>565.0</td>\n",
       "      <td>3.8462</td>\n",
       "      <td>342200.0</td>\n",
       "      <td>NEAR BAY</td>\n",
       "      <td>0.172096</td>\n",
       "      <td>2.181467</td>\n",
       "    </tr>\n",
       "  </tbody>\n",
       "</table>\n",
       "</div>"
      ],
      "text/plain": [
       "   longitude  latitude  housing_median_age  total_rooms  population  \\\n",
       "0    -122.24     37.85                52.0       1467.0       496.0   \n",
       "1    -122.25     37.85                52.0       1274.0       558.0   \n",
       "2    -122.25     37.85                52.0       1627.0       565.0   \n",
       "\n",
       "   median_income  median_house_value ocean_proximity  bedrooms_per_room  \\\n",
       "0         7.2574            352100.0        NEAR BAY           0.129516   \n",
       "1         5.6431            341300.0        NEAR BAY           0.184458   \n",
       "2         3.8462            342200.0        NEAR BAY           0.172096   \n",
       "\n",
       "   population_per_household  \n",
       "0                  2.802260  \n",
       "1                  2.547945  \n",
       "2                  2.181467  "
      ]
     },
     "execution_count": 5,
     "metadata": {},
     "output_type": "execute_result"
    }
   ],
   "source": [
    "houses.head(3)"
   ]
  },
  {
   "cell_type": "code",
   "execution_count": null,
   "id": "76337032",
   "metadata": {},
   "outputs": [],
   "source": []
  },
  {
   "cell_type": "code",
   "execution_count": 6,
   "id": "b51d87d0",
   "metadata": {},
   "outputs": [],
   "source": [
    "def num_cat_col_list(DF) : \n",
    "    \n",
    "    from pandas.api.types import is_string_dtype, is_numeric_dtype\n",
    "\n",
    "    \n",
    "    num_list = []\n",
    "    cat_list = []\n",
    "\n",
    "    for column in DF:\n",
    "\n",
    "        if is_numeric_dtype(DF[column]):\n",
    "            num_list.append(column)\n",
    "\n",
    "        elif is_string_dtype(DF[column]):\n",
    "            cat_list.append(column)\n",
    "\n",
    "    return (num_list , cat_list)"
   ]
  },
  {
   "cell_type": "code",
   "execution_count": null,
   "id": "587d1879",
   "metadata": {},
   "outputs": [],
   "source": []
  },
  {
   "cell_type": "code",
   "execution_count": 7,
   "id": "a6663169",
   "metadata": {
    "scrolled": true
   },
   "outputs": [
    {
     "name": "stdout",
     "output_type": "stream",
     "text": [
      "Numerical column :  ['longitude', 'latitude', 'housing_median_age', 'total_rooms', 'population', 'median_income', 'median_house_value', 'bedrooms_per_room', 'population_per_household']\n",
      "Categorical column :  ['ocean_proximity']\n"
     ]
    }
   ],
   "source": [
    "num_list , cat_list = num_cat_col_list(houses)\n",
    "\n",
    "print(\"Numerical column : \",num_list)\n",
    "print(\"Categorical column : \",cat_list)"
   ]
  },
  {
   "cell_type": "code",
   "execution_count": null,
   "id": "168db3c3",
   "metadata": {},
   "outputs": [],
   "source": []
  },
  {
   "cell_type": "code",
   "execution_count": null,
   "id": "630ee821",
   "metadata": {},
   "outputs": [],
   "source": []
  },
  {
   "cell_type": "markdown",
   "id": "479ef3d7",
   "metadata": {},
   "source": [
    "## STEP 1 : Package importing "
   ]
  },
  {
   "cell_type": "code",
   "execution_count": 8,
   "id": "6770e8f1",
   "metadata": {},
   "outputs": [],
   "source": [
    "from sklearn.impute import SimpleImputer\n",
    "from sklearn.preprocessing import StandardScaler\n",
    "\n",
    "from sklearn.preprocessing import OrdinalEncoder\n",
    "from sklearn.preprocessing import OneHotEncoder\n",
    "\n",
    "from sklearn.pipeline import Pipeline                \n",
    "from sklearn.compose import ColumnTransformer\n",
    "\n",
    "from sklearn.model_selection import train_test_split"
   ]
  },
  {
   "cell_type": "code",
   "execution_count": null,
   "id": "ace4afc5",
   "metadata": {},
   "outputs": [],
   "source": []
  },
  {
   "cell_type": "markdown",
   "id": "bf2331f9",
   "metadata": {},
   "source": [
    "## STEP 2 : Features and Target split"
   ]
  },
  {
   "cell_type": "code",
   "execution_count": 9,
   "id": "cf8125c8",
   "metadata": {},
   "outputs": [],
   "source": [
    "df = houses.copy()"
   ]
  },
  {
   "cell_type": "code",
   "execution_count": null,
   "id": "aa83369b",
   "metadata": {},
   "outputs": [],
   "source": []
  },
  {
   "cell_type": "markdown",
   "id": "c2b2870d",
   "metadata": {},
   "source": [
    "## STEP 2 : Train - Test Split"
   ]
  },
  {
   "cell_type": "code",
   "execution_count": null,
   "id": "bfae02ed",
   "metadata": {},
   "outputs": [],
   "source": []
  },
  {
   "cell_type": "code",
   "execution_count": 10,
   "id": "4545ef6c",
   "metadata": {},
   "outputs": [],
   "source": [
    "# np.ceil(df['median_income']).unique()"
   ]
  },
  {
   "cell_type": "code",
   "execution_count": null,
   "id": "06c2725d",
   "metadata": {},
   "outputs": [],
   "source": []
  },
  {
   "cell_type": "code",
   "execution_count": 11,
   "id": "ef58eb09",
   "metadata": {},
   "outputs": [],
   "source": [
    "df['MI'] = np.ceil(df['median_income'])"
   ]
  },
  {
   "cell_type": "code",
   "execution_count": 12,
   "id": "796e0624",
   "metadata": {},
   "outputs": [
    {
     "data": {
      "text/plain": [
       "4.0    4431\n",
       "3.0    4306\n",
       "5.0    3102\n",
       "2.0    2068\n",
       "6.0    1836\n",
       "7.0    1007\n",
       "8.0     448\n",
       "1.0     149\n",
       "9.0      11\n",
       "Name: MI, dtype: int64"
      ]
     },
     "execution_count": 12,
     "metadata": {},
     "output_type": "execute_result"
    }
   ],
   "source": [
    "df['MI'].value_counts()"
   ]
  },
  {
   "cell_type": "code",
   "execution_count": null,
   "id": "c1fc3f7e",
   "metadata": {},
   "outputs": [],
   "source": []
  },
  {
   "cell_type": "code",
   "execution_count": 13,
   "id": "56bde631",
   "metadata": {},
   "outputs": [],
   "source": [
    "df['MI_final'] = np.where(df['MI'] >6.0 ,7.0 ,df['MI'])"
   ]
  },
  {
   "cell_type": "code",
   "execution_count": 14,
   "id": "b852cfae",
   "metadata": {},
   "outputs": [
    {
     "data": {
      "text/plain": [
       "4.0    4431\n",
       "3.0    4306\n",
       "5.0    3102\n",
       "2.0    2068\n",
       "6.0    1836\n",
       "7.0    1466\n",
       "1.0     149\n",
       "Name: MI_final, dtype: int64"
      ]
     },
     "execution_count": 14,
     "metadata": {},
     "output_type": "execute_result"
    }
   ],
   "source": [
    "df['MI_final'].value_counts()"
   ]
  },
  {
   "cell_type": "code",
   "execution_count": null,
   "id": "fb38dfe9",
   "metadata": {},
   "outputs": [],
   "source": []
  },
  {
   "cell_type": "code",
   "execution_count": 15,
   "id": "63310014",
   "metadata": {},
   "outputs": [],
   "source": [
    "from sklearn.model_selection import StratifiedShuffleSplit"
   ]
  },
  {
   "cell_type": "code",
   "execution_count": 16,
   "id": "52418b23",
   "metadata": {},
   "outputs": [],
   "source": [
    "split = StratifiedShuffleSplit(n_splits=1, test_size=0.2, random_state=42)"
   ]
  },
  {
   "cell_type": "code",
   "execution_count": null,
   "id": "df9e5825",
   "metadata": {},
   "outputs": [],
   "source": []
  },
  {
   "cell_type": "code",
   "execution_count": 17,
   "id": "30a786bf",
   "metadata": {},
   "outputs": [],
   "source": [
    "for train_index, test_index in split.split(df, df['MI_final']):\n",
    "    \n",
    "    strat_train_set = df.loc[train_index]\n",
    "    strat_test_set = df.loc[test_index]"
   ]
  },
  {
   "cell_type": "code",
   "execution_count": null,
   "id": "0a39983e",
   "metadata": {},
   "outputs": [],
   "source": []
  },
  {
   "cell_type": "code",
   "execution_count": 18,
   "id": "3a6b392c",
   "metadata": {},
   "outputs": [
    {
     "data": {
      "text/plain": [
       "(13886, 12)"
      ]
     },
     "execution_count": 18,
     "metadata": {},
     "output_type": "execute_result"
    }
   ],
   "source": [
    "strat_train_set.shape"
   ]
  },
  {
   "cell_type": "code",
   "execution_count": 19,
   "id": "c1fb82e5",
   "metadata": {},
   "outputs": [
    {
     "data": {
      "text/plain": [
       "(3472, 12)"
      ]
     },
     "execution_count": 19,
     "metadata": {},
     "output_type": "execute_result"
    }
   ],
   "source": [
    "strat_test_set.shape"
   ]
  },
  {
   "cell_type": "code",
   "execution_count": null,
   "id": "1f28218b",
   "metadata": {},
   "outputs": [],
   "source": []
  },
  {
   "cell_type": "code",
   "execution_count": 20,
   "id": "40bf4619",
   "metadata": {},
   "outputs": [],
   "source": [
    "for dataframe in [strat_train_set , strat_test_set]:\n",
    "    \n",
    "    dataframe.drop(labels = ['MI', 'MI_final'] , axis = 1 , inplace = True)\n",
    "    "
   ]
  },
  {
   "cell_type": "code",
   "execution_count": 21,
   "id": "be9c4e54",
   "metadata": {},
   "outputs": [],
   "source": [
    "X = df.drop(labels = ['median_house_value'] ,axis = 1)\n",
    "y = df['median_house_value']"
   ]
  },
  {
   "cell_type": "code",
   "execution_count": null,
   "id": "292e132e",
   "metadata": {},
   "outputs": [],
   "source": []
  },
  {
   "cell_type": "code",
   "execution_count": 22,
   "id": "cabc71b8",
   "metadata": {},
   "outputs": [
    {
     "data": {
      "text/plain": [
       "Index(['longitude', 'latitude', 'housing_median_age', 'total_rooms',\n",
       "       'population', 'median_income', 'median_house_value', 'ocean_proximity',\n",
       "       'bedrooms_per_room', 'population_per_household'],\n",
       "      dtype='object')"
      ]
     },
     "execution_count": 22,
     "metadata": {},
     "output_type": "execute_result"
    }
   ],
   "source": [
    "strat_train_set.columns"
   ]
  },
  {
   "cell_type": "code",
   "execution_count": 23,
   "id": "0da6bcc8",
   "metadata": {},
   "outputs": [
    {
     "data": {
      "text/plain": [
       "Index(['longitude', 'latitude', 'housing_median_age', 'total_rooms',\n",
       "       'population', 'median_income', 'median_house_value', 'ocean_proximity',\n",
       "       'bedrooms_per_room', 'population_per_household'],\n",
       "      dtype='object')"
      ]
     },
     "execution_count": 23,
     "metadata": {},
     "output_type": "execute_result"
    }
   ],
   "source": [
    "strat_test_set.columns"
   ]
  },
  {
   "cell_type": "code",
   "execution_count": null,
   "id": "f945ad10",
   "metadata": {},
   "outputs": [],
   "source": []
  },
  {
   "cell_type": "code",
   "execution_count": 18,
   "id": "4e3683e9",
   "metadata": {},
   "outputs": [
    {
     "data": {
      "text/plain": [
       "(13886, 12)"
      ]
     },
     "execution_count": 18,
     "metadata": {},
     "output_type": "execute_result"
    }
   ],
   "source": [
    "strat_train_set.shape"
   ]
  },
  {
   "cell_type": "code",
   "execution_count": 19,
   "id": "a86b63fe",
   "metadata": {},
   "outputs": [
    {
     "data": {
      "text/plain": [
       "(3472, 12)"
      ]
     },
     "execution_count": 19,
     "metadata": {},
     "output_type": "execute_result"
    }
   ],
   "source": [
    "strat_test_set.shape"
   ]
  },
  {
   "cell_type": "code",
   "execution_count": null,
   "id": "b98f2e83",
   "metadata": {},
   "outputs": [],
   "source": []
  },
  {
   "cell_type": "code",
   "execution_count": 24,
   "id": "dc4f5d75",
   "metadata": {},
   "outputs": [],
   "source": [
    "X_train = strat_train_set.drop(labels = ['median_house_value'] ,axis = 1)\n",
    "y_train = strat_train_set['median_house_value']\n",
    "\n",
    "X_test =  strat_test_set.drop(labels = ['median_house_value'] ,axis = 1)\n",
    "y_test =  strat_test_set['median_house_value']"
   ]
  },
  {
   "cell_type": "code",
   "execution_count": null,
   "id": "dc5f99b5",
   "metadata": {},
   "outputs": [],
   "source": []
  },
  {
   "cell_type": "code",
   "execution_count": 25,
   "id": "4151d2f4",
   "metadata": {},
   "outputs": [
    {
     "data": {
      "text/plain": [
       "((13886, 9), (13886,))"
      ]
     },
     "execution_count": 25,
     "metadata": {},
     "output_type": "execute_result"
    }
   ],
   "source": [
    "X_train.shape , y_train.shape"
   ]
  },
  {
   "cell_type": "code",
   "execution_count": 26,
   "id": "587e1e69",
   "metadata": {},
   "outputs": [
    {
     "data": {
      "text/plain": [
       "((3472, 9), (3472,))"
      ]
     },
     "execution_count": 26,
     "metadata": {},
     "output_type": "execute_result"
    }
   ],
   "source": [
    "X_test.shape , y_test.shape"
   ]
  },
  {
   "cell_type": "code",
   "execution_count": null,
   "id": "8d71612b",
   "metadata": {},
   "outputs": [],
   "source": []
  },
  {
   "cell_type": "markdown",
   "id": "3df8b876",
   "metadata": {},
   "source": [
    "## STEP 4 : Making changes to num_feat and cat_feat list"
   ]
  },
  {
   "cell_type": "code",
   "execution_count": 10,
   "id": "2bcf8df5",
   "metadata": {},
   "outputs": [],
   "source": [
    "# num_list"
   ]
  },
  {
   "cell_type": "code",
   "execution_count": 28,
   "id": "9afa04fd",
   "metadata": {},
   "outputs": [],
   "source": [
    "num_feat = num_list.copy()\n",
    "num_feat.remove('median_house_value')\n",
    "\n",
    "cat_feat = cat_list.copy()"
   ]
  },
  {
   "cell_type": "code",
   "execution_count": null,
   "id": "3cc7cd96",
   "metadata": {},
   "outputs": [],
   "source": []
  },
  {
   "cell_type": "code",
   "execution_count": null,
   "id": "ff3ae0ef",
   "metadata": {},
   "outputs": [],
   "source": []
  },
  {
   "cell_type": "markdown",
   "id": "1b5620fd",
   "metadata": {},
   "source": [
    "## STEP 5 : PipeLine"
   ]
  },
  {
   "cell_type": "code",
   "execution_count": null,
   "id": "aa294768",
   "metadata": {},
   "outputs": [],
   "source": []
  },
  {
   "cell_type": "markdown",
   "id": "40f317f0",
   "metadata": {},
   "source": [
    "### Pipelines :  numerical and categorical features"
   ]
  },
  {
   "cell_type": "code",
   "execution_count": null,
   "id": "850785c8",
   "metadata": {},
   "outputs": [],
   "source": []
  },
  {
   "cell_type": "code",
   "execution_count": 29,
   "id": "6b7ac43a",
   "metadata": {},
   "outputs": [],
   "source": [
    "ohe = OneHotEncoder()"
   ]
  },
  {
   "cell_type": "code",
   "execution_count": null,
   "id": "848e1ee2",
   "metadata": {},
   "outputs": [],
   "source": []
  },
  {
   "cell_type": "code",
   "execution_count": 30,
   "id": "f92c6730",
   "metadata": {},
   "outputs": [],
   "source": [
    "num_pipeline = Pipeline([('Imputer' , SimpleImputer(strategy='median')) ,\n",
    "                         (\"scaling\", StandardScaler())\n",
    "                        ])"
   ]
  },
  {
   "cell_type": "code",
   "execution_count": 31,
   "id": "e4d5ce17",
   "metadata": {},
   "outputs": [],
   "source": [
    "cat_pipeline = Pipeline([('Nominal Encoding' ,ohe)])"
   ]
  },
  {
   "cell_type": "code",
   "execution_count": null,
   "id": "a57e9234",
   "metadata": {},
   "outputs": [],
   "source": []
  },
  {
   "cell_type": "markdown",
   "id": "0f62ceb7",
   "metadata": {},
   "source": [
    "### Main-Pipeline"
   ]
  },
  {
   "cell_type": "code",
   "execution_count": 32,
   "id": "8bef23bd",
   "metadata": {},
   "outputs": [],
   "source": [
    "pipeline = ColumnTransformer([(\"Num pipeline\" , num_pipeline , num_feat),\n",
    "                             (\"Nominal pipeline\" , cat_pipeline , cat_feat)\n",
    "                             ])"
   ]
  },
  {
   "cell_type": "code",
   "execution_count": null,
   "id": "0ffbfcc5",
   "metadata": {},
   "outputs": [],
   "source": []
  },
  {
   "cell_type": "markdown",
   "id": "b050fb29",
   "metadata": {},
   "source": [
    "### Transforming"
   ]
  },
  {
   "cell_type": "code",
   "execution_count": null,
   "id": "e793b509",
   "metadata": {},
   "outputs": [],
   "source": []
  },
  {
   "cell_type": "code",
   "execution_count": 33,
   "id": "92ea6e1e",
   "metadata": {},
   "outputs": [],
   "source": [
    "X_train_tr = pipeline.fit_transform(X_train)"
   ]
  },
  {
   "cell_type": "code",
   "execution_count": 34,
   "id": "a7ddbea8",
   "metadata": {},
   "outputs": [],
   "source": [
    "X_test_tr = pipeline.transform(X_test)"
   ]
  },
  {
   "cell_type": "code",
   "execution_count": null,
   "id": "97142fbb",
   "metadata": {},
   "outputs": [],
   "source": []
  },
  {
   "cell_type": "markdown",
   "id": "3b55de31",
   "metadata": {},
   "source": [
    "## STEP 6 : Create DF from transformed 2D-array"
   ]
  },
  {
   "cell_type": "code",
   "execution_count": 35,
   "id": "d5979b7e",
   "metadata": {},
   "outputs": [
    {
     "data": {
      "text/plain": [
       "array(['Num pipeline__longitude', 'Num pipeline__latitude',\n",
       "       'Num pipeline__housing_median_age', 'Num pipeline__total_rooms',\n",
       "       'Num pipeline__population', 'Num pipeline__median_income',\n",
       "       'Num pipeline__bedrooms_per_room',\n",
       "       'Num pipeline__population_per_household',\n",
       "       'Nominal pipeline__ocean_proximity_<1H OCEAN',\n",
       "       'Nominal pipeline__ocean_proximity_INLAND',\n",
       "       'Nominal pipeline__ocean_proximity_ISLAND',\n",
       "       'Nominal pipeline__ocean_proximity_NEAR BAY',\n",
       "       'Nominal pipeline__ocean_proximity_NEAR OCEAN'], dtype=object)"
      ]
     },
     "execution_count": 35,
     "metadata": {},
     "output_type": "execute_result"
    }
   ],
   "source": [
    "feat = pipeline.get_feature_names_out()\n",
    "feat"
   ]
  },
  {
   "cell_type": "code",
   "execution_count": null,
   "id": "ab643754",
   "metadata": {},
   "outputs": [],
   "source": []
  },
  {
   "cell_type": "code",
   "execution_count": 36,
   "id": "ed06eed6",
   "metadata": {},
   "outputs": [
    {
     "name": "stdout",
     "output_type": "stream",
     "text": [
      "['longitude', 'latitude', 'housing_median_age', 'total_rooms', 'population', 'median_income', 'bedrooms_per_room', 'population_per_household', 'ocean_proximity_<1H OCEAN', 'ocean_proximity_INLAND', 'ocean_proximity_ISLAND', 'ocean_proximity_NEAR BAY', 'ocean_proximity_NEAR OCEAN']\n"
     ]
    }
   ],
   "source": [
    "out_cols = []\n",
    "\n",
    "i= 0  # counter\n",
    "\n",
    "for col in pipeline.get_feature_names_out():\n",
    "    out_cols.append(col.split(\"__\")[-1])\n",
    "    #out_cols[i] = out_cols[i].split(\"_\")[-1]\n",
    "    \n",
    "    i += 1\n",
    "print(out_cols)"
   ]
  },
  {
   "cell_type": "code",
   "execution_count": null,
   "id": "4cefecfc",
   "metadata": {},
   "outputs": [],
   "source": []
  },
  {
   "cell_type": "code",
   "execution_count": 37,
   "id": "7402c5a4",
   "metadata": {},
   "outputs": [
    {
     "data": {
      "text/plain": [
       "13"
      ]
     },
     "execution_count": 37,
     "metadata": {},
     "output_type": "execute_result"
    }
   ],
   "source": [
    "len(out_cols)"
   ]
  },
  {
   "cell_type": "code",
   "execution_count": null,
   "id": "ab77f614",
   "metadata": {},
   "outputs": [],
   "source": []
  },
  {
   "cell_type": "code",
   "execution_count": 38,
   "id": "4e0b4c5e",
   "metadata": {},
   "outputs": [],
   "source": [
    "X_train_tr_df = pd.DataFrame(X_train_tr, columns= out_cols)\n",
    "\n",
    "X_test_tr_df = pd.DataFrame(X_test_tr , columns = out_cols)"
   ]
  },
  {
   "cell_type": "code",
   "execution_count": null,
   "id": "368ed5fb",
   "metadata": {},
   "outputs": [],
   "source": []
  },
  {
   "cell_type": "code",
   "execution_count": null,
   "id": "4a8a8387",
   "metadata": {},
   "outputs": [],
   "source": []
  },
  {
   "cell_type": "markdown",
   "id": "464d8bc6",
   "metadata": {},
   "source": [
    "## STEP 7 :  Merging transformed train and test DF"
   ]
  },
  {
   "cell_type": "code",
   "execution_count": null,
   "id": "d5e09989",
   "metadata": {},
   "outputs": [],
   "source": []
  },
  {
   "cell_type": "code",
   "execution_count": 39,
   "id": "0deab735",
   "metadata": {},
   "outputs": [],
   "source": [
    "# Datatypes of each column in respective DF must be same.\n",
    "\n",
    "X_df_trans = pd.concat([X_train_tr_df,X_test_tr_df],ignore_index= True ,axis = 0)"
   ]
  },
  {
   "cell_type": "code",
   "execution_count": null,
   "id": "6c89521f",
   "metadata": {},
   "outputs": [],
   "source": []
  },
  {
   "cell_type": "code",
   "execution_count": 40,
   "id": "0dbf6fbb",
   "metadata": {},
   "outputs": [
    {
     "data": {
      "text/plain": [
       "(17358, 13)"
      ]
     },
     "execution_count": 40,
     "metadata": {},
     "output_type": "execute_result"
    }
   ],
   "source": [
    "X_df_trans.shape"
   ]
  },
  {
   "cell_type": "code",
   "execution_count": 24,
   "id": "42fa17c7",
   "metadata": {},
   "outputs": [],
   "source": [
    "# X_df_trans.head(2)"
   ]
  },
  {
   "cell_type": "code",
   "execution_count": null,
   "id": "cd291782",
   "metadata": {},
   "outputs": [],
   "source": []
  },
  {
   "cell_type": "code",
   "execution_count": 41,
   "id": "80123866",
   "metadata": {},
   "outputs": [],
   "source": [
    "y_comb = pd.concat([y_train,y_test] ,axis = 0 ,ignore_index= True)"
   ]
  },
  {
   "cell_type": "code",
   "execution_count": 42,
   "id": "23bd8b55",
   "metadata": {},
   "outputs": [
    {
     "data": {
      "text/plain": [
       "(17358,)"
      ]
     },
     "execution_count": 42,
     "metadata": {},
     "output_type": "execute_result"
    }
   ],
   "source": [
    "y_comb.shape"
   ]
  },
  {
   "cell_type": "code",
   "execution_count": null,
   "id": "0c495f3d",
   "metadata": {},
   "outputs": [],
   "source": []
  },
  {
   "cell_type": "code",
   "execution_count": 43,
   "id": "58d3ac5b",
   "metadata": {},
   "outputs": [],
   "source": [
    "df_trans = pd.concat([X_df_trans,y_comb] ,axis = 1)"
   ]
  },
  {
   "cell_type": "code",
   "execution_count": null,
   "id": "a56dcd7e",
   "metadata": {},
   "outputs": [],
   "source": []
  },
  {
   "cell_type": "code",
   "execution_count": 44,
   "id": "9f9bdb49",
   "metadata": {},
   "outputs": [
    {
     "data": {
      "text/plain": [
       "(17358, 14)"
      ]
     },
     "execution_count": 44,
     "metadata": {},
     "output_type": "execute_result"
    }
   ],
   "source": [
    "df_trans.shape"
   ]
  },
  {
   "cell_type": "code",
   "execution_count": null,
   "id": "f1ddaef7",
   "metadata": {},
   "outputs": [],
   "source": []
  },
  {
   "cell_type": "markdown",
   "id": "8b92d8d7",
   "metadata": {},
   "source": [
    "## STEP 8 :  Exporting Final Transformed DF"
   ]
  },
  {
   "cell_type": "code",
   "execution_count": null,
   "id": "15b5b0de",
   "metadata": {},
   "outputs": [],
   "source": []
  },
  {
   "cell_type": "code",
   "execution_count": 45,
   "id": "1000927a",
   "metadata": {},
   "outputs": [],
   "source": [
    "df_trans.to_csv(\"S2_Part3_test_Trimming_DataPreprocessing2.csv\")"
   ]
  },
  {
   "cell_type": "code",
   "execution_count": null,
   "id": "58477b36",
   "metadata": {},
   "outputs": [],
   "source": []
  }
 ],
 "metadata": {
  "kernelspec": {
   "display_name": "Python 3 (ipykernel)",
   "language": "python",
   "name": "python3"
  },
  "language_info": {
   "codemirror_mode": {
    "name": "ipython",
    "version": 3
   },
   "file_extension": ".py",
   "mimetype": "text/x-python",
   "name": "python",
   "nbconvert_exporter": "python",
   "pygments_lexer": "ipython3",
   "version": "3.10.9"
  }
 },
 "nbformat": 4,
 "nbformat_minor": 5
}
