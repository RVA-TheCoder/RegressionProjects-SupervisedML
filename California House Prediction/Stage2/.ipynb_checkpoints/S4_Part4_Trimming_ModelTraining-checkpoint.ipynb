{
 "cells": [
  {
   "cell_type": "code",
   "execution_count": 1,
   "id": "53b9330c",
   "metadata": {},
   "outputs": [],
   "source": [
    "import numpy as np\n",
    "import pandas as pd\n",
    "import matplotlib.pyplot as plt\n",
    "import seaborn as sns"
   ]
  },
  {
   "cell_type": "code",
   "execution_count": null,
   "id": "51c99b16",
   "metadata": {},
   "outputs": [],
   "source": []
  },
  {
   "cell_type": "code",
   "execution_count": 2,
   "id": "de936f3c",
   "metadata": {},
   "outputs": [],
   "source": [
    "from sklearn.impute import SimpleImputer\n",
    "from sklearn.preprocessing import StandardScaler\n",
    "\n",
    "from sklearn.preprocessing import OrdinalEncoder\n",
    "from sklearn.preprocessing import OneHotEncoder\n",
    "\n",
    "from sklearn.pipeline import Pipeline                \n",
    "from sklearn.compose import ColumnTransformer\n",
    "\n",
    "from sklearn.model_selection import train_test_split"
   ]
  },
  {
   "cell_type": "code",
   "execution_count": null,
   "id": "704821ef",
   "metadata": {},
   "outputs": [],
   "source": []
  },
  {
   "cell_type": "markdown",
   "id": "90544ff6",
   "metadata": {},
   "source": [
    "## STEP 1 : Import Transforrmed Dataset"
   ]
  },
  {
   "cell_type": "code",
   "execution_count": null,
   "id": "b28f5d54",
   "metadata": {},
   "outputs": [],
   "source": []
  },
  {
   "cell_type": "code",
   "execution_count": 3,
   "id": "10e74b9e",
   "metadata": {},
   "outputs": [
    {
     "data": {
      "text/html": [
       "<div>\n",
       "<style scoped>\n",
       "    .dataframe tbody tr th:only-of-type {\n",
       "        vertical-align: middle;\n",
       "    }\n",
       "\n",
       "    .dataframe tbody tr th {\n",
       "        vertical-align: top;\n",
       "    }\n",
       "\n",
       "    .dataframe thead th {\n",
       "        text-align: right;\n",
       "    }\n",
       "</style>\n",
       "<table border=\"1\" class=\"dataframe\">\n",
       "  <thead>\n",
       "    <tr style=\"text-align: right;\">\n",
       "      <th></th>\n",
       "      <th>crime_rate</th>\n",
       "      <th>resid_area</th>\n",
       "      <th>air_qual</th>\n",
       "      <th>room_num</th>\n",
       "      <th>age</th>\n",
       "      <th>teachers</th>\n",
       "      <th>poor_prop</th>\n",
       "      <th>dist</th>\n",
       "      <th>airport_NO</th>\n",
       "      <th>airport_YES</th>\n",
       "      <th>waterbody_Lake</th>\n",
       "      <th>waterbody_Lake and River</th>\n",
       "      <th>waterbody_None</th>\n",
       "      <th>waterbody_River</th>\n",
       "      <th>price</th>\n",
       "    </tr>\n",
       "  </thead>\n",
       "  <tbody>\n",
       "    <tr>\n",
       "      <th>0</th>\n",
       "      <td>-0.730598</td>\n",
       "      <td>-0.597280</td>\n",
       "      <td>-0.782594</td>\n",
       "      <td>-0.626900</td>\n",
       "      <td>-0.243555</td>\n",
       "      <td>-0.080221</td>\n",
       "      <td>0.431855</td>\n",
       "      <td>0.074131</td>\n",
       "      <td>1.0</td>\n",
       "      <td>0.0</td>\n",
       "      <td>0.0</td>\n",
       "      <td>1.0</td>\n",
       "      <td>0.0</td>\n",
       "      <td>0.0</td>\n",
       "      <td>20.7</td>\n",
       "    </tr>\n",
       "    <tr>\n",
       "      <th>1</th>\n",
       "      <td>1.934350</td>\n",
       "      <td>1.040462</td>\n",
       "      <td>1.325589</td>\n",
       "      <td>-2.629425</td>\n",
       "      <td>1.138512</td>\n",
       "      <td>-0.831225</td>\n",
       "      <td>1.662088</td>\n",
       "      <td>-1.185532</td>\n",
       "      <td>0.0</td>\n",
       "      <td>1.0</td>\n",
       "      <td>0.0</td>\n",
       "      <td>0.0</td>\n",
       "      <td>0.0</td>\n",
       "      <td>1.0</td>\n",
       "      <td>10.5</td>\n",
       "    </tr>\n",
       "    <tr>\n",
       "      <th>2</th>\n",
       "      <td>1.198306</td>\n",
       "      <td>1.040462</td>\n",
       "      <td>1.950898</td>\n",
       "      <td>-0.299989</td>\n",
       "      <td>0.542608</td>\n",
       "      <td>-0.831225</td>\n",
       "      <td>0.139448</td>\n",
       "      <td>-0.540276</td>\n",
       "      <td>1.0</td>\n",
       "      <td>0.0</td>\n",
       "      <td>0.0</td>\n",
       "      <td>1.0</td>\n",
       "      <td>0.0</td>\n",
       "      <td>0.0</td>\n",
       "      <td>22.7</td>\n",
       "    </tr>\n",
       "    <tr>\n",
       "      <th>3</th>\n",
       "      <td>-1.124940</td>\n",
       "      <td>-0.857496</td>\n",
       "      <td>-0.327012</td>\n",
       "      <td>-0.442124</td>\n",
       "      <td>-1.212797</td>\n",
       "      <td>-0.831225</td>\n",
       "      <td>-0.468419</td>\n",
       "      <td>1.137132</td>\n",
       "      <td>0.0</td>\n",
       "      <td>1.0</td>\n",
       "      <td>0.0</td>\n",
       "      <td>0.0</td>\n",
       "      <td>1.0</td>\n",
       "      <td>0.0</td>\n",
       "      <td>21.1</td>\n",
       "    </tr>\n",
       "    <tr>\n",
       "      <th>4</th>\n",
       "      <td>1.146823</td>\n",
       "      <td>1.040462</td>\n",
       "      <td>1.441718</td>\n",
       "      <td>-0.538460</td>\n",
       "      <td>0.704148</td>\n",
       "      <td>-0.831225</td>\n",
       "      <td>0.991267</td>\n",
       "      <td>-0.613542</td>\n",
       "      <td>1.0</td>\n",
       "      <td>0.0</td>\n",
       "      <td>0.0</td>\n",
       "      <td>0.0</td>\n",
       "      <td>0.0</td>\n",
       "      <td>1.0</td>\n",
       "      <td>12.7</td>\n",
       "    </tr>\n",
       "  </tbody>\n",
       "</table>\n",
       "</div>"
      ],
      "text/plain": [
       "   crime_rate  resid_area  air_qual  room_num       age  teachers  poor_prop  \\\n",
       "0   -0.730598   -0.597280 -0.782594 -0.626900 -0.243555 -0.080221   0.431855   \n",
       "1    1.934350    1.040462  1.325589 -2.629425  1.138512 -0.831225   1.662088   \n",
       "2    1.198306    1.040462  1.950898 -0.299989  0.542608 -0.831225   0.139448   \n",
       "3   -1.124940   -0.857496 -0.327012 -0.442124 -1.212797 -0.831225  -0.468419   \n",
       "4    1.146823    1.040462  1.441718 -0.538460  0.704148 -0.831225   0.991267   \n",
       "\n",
       "       dist  airport_NO  airport_YES  waterbody_Lake  \\\n",
       "0  0.074131         1.0          0.0             0.0   \n",
       "1 -1.185532         0.0          1.0             0.0   \n",
       "2 -0.540276         1.0          0.0             0.0   \n",
       "3  1.137132         0.0          1.0             0.0   \n",
       "4 -0.613542         1.0          0.0             0.0   \n",
       "\n",
       "   waterbody_Lake and River  waterbody_None  waterbody_River  price  \n",
       "0                       1.0             0.0              0.0   20.7  \n",
       "1                       0.0             0.0              1.0   10.5  \n",
       "2                       1.0             0.0              0.0   22.7  \n",
       "3                       0.0             1.0              0.0   21.1  \n",
       "4                       0.0             0.0              1.0   12.7  "
      ]
     },
     "execution_count": 3,
     "metadata": {},
     "output_type": "execute_result"
    }
   ],
   "source": [
    "houses_trans = pd.read_csv('S4_Part3_Trimming_DataPreprocessing2.csv' ,index_col = 0)\n",
    "houses_trans.head()"
   ]
  },
  {
   "cell_type": "code",
   "execution_count": null,
   "id": "3ba9b494",
   "metadata": {},
   "outputs": [],
   "source": []
  },
  {
   "cell_type": "code",
   "execution_count": 4,
   "id": "a9d7130a",
   "metadata": {},
   "outputs": [],
   "source": [
    "df = houses_trans.copy()"
   ]
  },
  {
   "cell_type": "code",
   "execution_count": null,
   "id": "77441b67",
   "metadata": {},
   "outputs": [],
   "source": []
  },
  {
   "cell_type": "markdown",
   "id": "ffada84e",
   "metadata": {},
   "source": [
    "## STEP 2 : Features and Target Split"
   ]
  },
  {
   "cell_type": "code",
   "execution_count": 5,
   "id": "3c530388",
   "metadata": {},
   "outputs": [],
   "source": [
    "X = df.drop('price' ,axis = 1)"
   ]
  },
  {
   "cell_type": "code",
   "execution_count": 6,
   "id": "a9aeb9e8",
   "metadata": {},
   "outputs": [],
   "source": [
    "y = df['price']"
   ]
  },
  {
   "cell_type": "code",
   "execution_count": null,
   "id": "276aef13",
   "metadata": {},
   "outputs": [],
   "source": []
  },
  {
   "cell_type": "markdown",
   "id": "480bdcf1",
   "metadata": {},
   "source": [
    "## STEP 3 :  Train - Test Split"
   ]
  },
  {
   "cell_type": "code",
   "execution_count": null,
   "id": "d10689bb",
   "metadata": {},
   "outputs": [],
   "source": []
  },
  {
   "cell_type": "code",
   "execution_count": 7,
   "id": "d74a843c",
   "metadata": {},
   "outputs": [],
   "source": [
    "X_train ,X_test ,y_train ,y_test = train_test_split(X ,y ,test_size= 0.2 , random_state= 123)"
   ]
  },
  {
   "cell_type": "code",
   "execution_count": null,
   "id": "3507a52f",
   "metadata": {},
   "outputs": [],
   "source": []
  },
  {
   "cell_type": "code",
   "execution_count": 8,
   "id": "4ff6fd6e",
   "metadata": {},
   "outputs": [
    {
     "data": {
      "text/plain": [
       "((385, 14), (385,))"
      ]
     },
     "execution_count": 8,
     "metadata": {},
     "output_type": "execute_result"
    }
   ],
   "source": [
    "X_train.shape ,y_train.shape"
   ]
  },
  {
   "cell_type": "code",
   "execution_count": 9,
   "id": "5222517a",
   "metadata": {},
   "outputs": [
    {
     "data": {
      "text/plain": [
       "((97, 14), (97,))"
      ]
     },
     "execution_count": 9,
     "metadata": {},
     "output_type": "execute_result"
    }
   ],
   "source": [
    "X_test.shape , y_test.shape"
   ]
  },
  {
   "cell_type": "code",
   "execution_count": null,
   "id": "d64eb4bc",
   "metadata": {},
   "outputs": [],
   "source": []
  },
  {
   "cell_type": "markdown",
   "id": "4ee11c7e",
   "metadata": {},
   "source": [
    "## STEP 4 : Training models"
   ]
  },
  {
   "cell_type": "code",
   "execution_count": null,
   "id": "18d797ff",
   "metadata": {},
   "outputs": [],
   "source": []
  },
  {
   "cell_type": "code",
   "execution_count": 10,
   "id": "aef2672c",
   "metadata": {},
   "outputs": [],
   "source": [
    "from sklearn.linear_model import LinearRegression\n",
    "from sklearn.svm import SVR\n",
    "\n",
    "from sklearn.tree import DecisionTreeRegressor\n",
    "from sklearn.ensemble import RandomForestRegressor"
   ]
  },
  {
   "cell_type": "code",
   "execution_count": null,
   "id": "2abcda81",
   "metadata": {},
   "outputs": [],
   "source": []
  },
  {
   "cell_type": "code",
   "execution_count": 11,
   "id": "1d4a0236",
   "metadata": {},
   "outputs": [],
   "source": [
    "from sklearn.metrics import mean_squared_error,r2_score"
   ]
  },
  {
   "cell_type": "code",
   "execution_count": null,
   "id": "9f652953",
   "metadata": {},
   "outputs": [],
   "source": []
  },
  {
   "cell_type": "markdown",
   "id": "2584dc83",
   "metadata": {},
   "source": [
    "### Various Algorithms for Regression Task : \n",
    "\n",
    "- Linear Regression, Polynomial Regression, Ridge Regression, Lasso Regression, Elastic Net Regression.\n",
    "- Support Vector Regression (SVR),\n",
    "- Decision Tree Regression, \n",
    "- Random Forest Regression, and \n",
    "- Gradient Boosting Regression."
   ]
  },
  {
   "cell_type": "code",
   "execution_count": 12,
   "id": "581328dd",
   "metadata": {},
   "outputs": [],
   "source": [
    "models = [LinearRegression(), SVR(),DecisionTreeRegressor(), RandomForestRegressor()]"
   ]
  },
  {
   "cell_type": "code",
   "execution_count": null,
   "id": "9da5351d",
   "metadata": {},
   "outputs": [],
   "source": []
  },
  {
   "cell_type": "code",
   "execution_count": 13,
   "id": "2055a00d",
   "metadata": {},
   "outputs": [],
   "source": [
    "import warnings\n",
    "warnings.filterwarnings('ignore')"
   ]
  },
  {
   "cell_type": "code",
   "execution_count": null,
   "id": "f61d451b",
   "metadata": {},
   "outputs": [],
   "source": []
  },
  {
   "cell_type": "code",
   "execution_count": 14,
   "id": "f53f14be",
   "metadata": {
    "scrolled": false
   },
   "outputs": [
    {
     "name": "stdout",
     "output_type": "stream",
     "text": [
      "******************* \u001b[1mLinearRegression()\u001b[0m *******************\n",
      "\n",
      "\\Regression Report : \n",
      "\n",
      "Mean Squared Error :  24.59\n",
      "RMSE :  4.96\n",
      "R2 Square :  0.7767268491055086\n",
      "\n",
      "******************* \u001b[1mSVR()\u001b[0m *******************\n",
      "\n",
      "\\Regression Report : \n",
      "\n",
      "Mean Squared Error :  42.33\n",
      "RMSE :  6.51\n",
      "R2 Square :  0.6156287696532654\n",
      "\n",
      "******************* \u001b[1mDecisionTreeRegressor()\u001b[0m *******************\n",
      "\n",
      "\\Regression Report : \n",
      "\n",
      "Mean Squared Error :  10.95\n",
      "RMSE :  3.31\n",
      "R2 Square :  0.9005742985960872\n",
      "\n",
      "******************* \u001b[1mRandomForestRegressor()\u001b[0m *******************\n",
      "\n",
      "\\Regression Report : \n",
      "\n",
      "Mean Squared Error :  13.12\n",
      "RMSE :  3.62\n",
      "R2 Square :  0.8808256170199379\n",
      "\n"
     ]
    }
   ],
   "source": [
    "for model in models :\n",
    "    \n",
    "    model.fit(X_train.values, y_train)\n",
    "    y_hat_train = model.predict(X_train.values)\n",
    "    y_hat_test = model.predict(X_test.values)\n",
    "    \n",
    "    print(f\"******************* \\33[1m{str(model)}\\33[0m *******************\\n\")\n",
    "  \n",
    "    print(\"\\Regression Report : \\n\")\n",
    "    print(\"Mean Squared Error : \",round(mean_squared_error(y_test,y_hat_test),2))\n",
    "    print(\"RMSE : \",round(np.sqrt(mean_squared_error(y_test,y_hat_test)),2))\n",
    "    print(\"R2 Square : \",r2_score(y_test,y_hat_test))\n",
    "    \n",
    "  \n",
    "    print()"
   ]
  },
  {
   "cell_type": "code",
   "execution_count": null,
   "id": "42dbdcb9",
   "metadata": {},
   "outputs": [],
   "source": []
  },
  {
   "cell_type": "markdown",
   "id": "032b2718",
   "metadata": {},
   "source": [
    "**Without Outlier Removal**<br>\n",
    "    ******************* LinearRegression() *******************\n",
    "\n",
    "    \\Regression Report : \n",
    "\n",
    "    Mean Squared Error :  23.37\n",
    "    RMSE :  4.83\n",
    "    R2 Square :  0.7889297842627835\n",
    "\n",
    "    ******************* SVR() *******************\n",
    "\n",
    "    \\Regression Report : \n",
    "\n",
    "    Mean Squared Error :  83.98\n",
    "    RMSE :  9.16\n",
    "    R2 Square :  0.24157755953772664\n",
    "\n",
    "    ******************* DecisionTreeRegressor() *******************\n",
    "\n",
    "    \\Regression Report : \n",
    "\n",
    "    Mean Squared Error :  13.64\n",
    "    RMSE :  3.69\n",
    "    R2 Square :  0.8768555514569143\n",
    "\n",
    "    ******************* RandomForestRegressor() *******************\n",
    "\n",
    "    \\Regression Report : \n",
    "\n",
    "    Mean Squared Error :  8.7\n",
    "    RMSE :  2.95\n",
    "    R2 Square :  0.9213876567955999"
   ]
  },
  {
   "cell_type": "code",
   "execution_count": null,
   "id": "017f2b55",
   "metadata": {},
   "outputs": [],
   "source": []
  },
  {
   "cell_type": "code",
   "execution_count": 15,
   "id": "828c9dc7",
   "metadata": {},
   "outputs": [
    {
     "data": {
      "text/plain": [
       "count    97.000000\n",
       "mean     23.705155\n",
       "std      10.548572\n",
       "min       8.200000\n",
       "25%      17.800000\n",
       "50%      20.600000\n",
       "75%      27.000000\n",
       "max      50.000000\n",
       "Name: price, dtype: float64"
      ]
     },
     "execution_count": 15,
     "metadata": {},
     "output_type": "execute_result"
    }
   ],
   "source": [
    "y_test.describe()"
   ]
  }
 ],
 "metadata": {
  "kernelspec": {
   "display_name": "Python 3 (ipykernel)",
   "language": "python",
   "name": "python3"
  },
  "language_info": {
   "codemirror_mode": {
    "name": "ipython",
    "version": 3
   },
   "file_extension": ".py",
   "mimetype": "text/x-python",
   "name": "python",
   "nbconvert_exporter": "python",
   "pygments_lexer": "ipython3",
   "version": "3.10.9"
  }
 },
 "nbformat": 4,
 "nbformat_minor": 5
}
