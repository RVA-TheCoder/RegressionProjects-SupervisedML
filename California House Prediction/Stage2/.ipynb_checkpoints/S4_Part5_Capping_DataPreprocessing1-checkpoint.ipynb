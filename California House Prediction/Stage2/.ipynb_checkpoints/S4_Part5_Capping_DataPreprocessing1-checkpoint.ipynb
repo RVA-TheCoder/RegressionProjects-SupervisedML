{
 "cells": [
  {
   "cell_type": "code",
   "execution_count": 1,
   "id": "d88e4c19",
   "metadata": {},
   "outputs": [],
   "source": [
    "import pandas as pd\n",
    "import numpy as np\n",
    "import matplotlib.pyplot as plt\n",
    "import seaborn as sns"
   ]
  },
  {
   "cell_type": "code",
   "execution_count": null,
   "id": "a1cc84c2",
   "metadata": {},
   "outputs": [],
   "source": []
  },
  {
   "cell_type": "markdown",
   "id": "b36908ef",
   "metadata": {},
   "source": [
    "## STEP 1 : Data Collection"
   ]
  },
  {
   "cell_type": "code",
   "execution_count": null,
   "id": "aba15aa8",
   "metadata": {},
   "outputs": [],
   "source": []
  },
  {
   "cell_type": "code",
   "execution_count": 2,
   "id": "3dfd557a",
   "metadata": {},
   "outputs": [],
   "source": [
    "filepath_House_Price = r\"C:\\Users\\aakas\\PythonStuff\\Regression_udemy\\resources\\Linear_Regression\\House_Price.csv\"\n"
   ]
  },
  {
   "cell_type": "code",
   "execution_count": 3,
   "id": "e4092c25",
   "metadata": {},
   "outputs": [],
   "source": [
    "houses = pd.read_csv(filepath_House_Price , header = 0 )"
   ]
  },
  {
   "cell_type": "code",
   "execution_count": 4,
   "id": "e01a2867",
   "metadata": {},
   "outputs": [
    {
     "data": {
      "text/html": [
       "<div>\n",
       "<style scoped>\n",
       "    .dataframe tbody tr th:only-of-type {\n",
       "        vertical-align: middle;\n",
       "    }\n",
       "\n",
       "    .dataframe tbody tr th {\n",
       "        vertical-align: top;\n",
       "    }\n",
       "\n",
       "    .dataframe thead th {\n",
       "        text-align: right;\n",
       "    }\n",
       "</style>\n",
       "<table border=\"1\" class=\"dataframe\">\n",
       "  <thead>\n",
       "    <tr style=\"text-align: right;\">\n",
       "      <th></th>\n",
       "      <th>price</th>\n",
       "      <th>crime_rate</th>\n",
       "      <th>resid_area</th>\n",
       "      <th>air_qual</th>\n",
       "      <th>room_num</th>\n",
       "      <th>age</th>\n",
       "      <th>dist1</th>\n",
       "      <th>dist2</th>\n",
       "      <th>dist3</th>\n",
       "      <th>dist4</th>\n",
       "      <th>teachers</th>\n",
       "      <th>poor_prop</th>\n",
       "      <th>airport</th>\n",
       "      <th>n_hos_beds</th>\n",
       "      <th>n_hot_rooms</th>\n",
       "      <th>waterbody</th>\n",
       "      <th>rainfall</th>\n",
       "      <th>bus_ter</th>\n",
       "      <th>parks</th>\n",
       "    </tr>\n",
       "  </thead>\n",
       "  <tbody>\n",
       "    <tr>\n",
       "      <th>0</th>\n",
       "      <td>24.0</td>\n",
       "      <td>0.00632</td>\n",
       "      <td>32.31</td>\n",
       "      <td>0.538</td>\n",
       "      <td>6.575</td>\n",
       "      <td>65.2</td>\n",
       "      <td>4.35</td>\n",
       "      <td>3.81</td>\n",
       "      <td>4.18</td>\n",
       "      <td>4.01</td>\n",
       "      <td>24.7</td>\n",
       "      <td>4.98</td>\n",
       "      <td>YES</td>\n",
       "      <td>5.480</td>\n",
       "      <td>11.1920</td>\n",
       "      <td>River</td>\n",
       "      <td>23</td>\n",
       "      <td>YES</td>\n",
       "      <td>0.049347</td>\n",
       "    </tr>\n",
       "    <tr>\n",
       "      <th>1</th>\n",
       "      <td>21.6</td>\n",
       "      <td>0.02731</td>\n",
       "      <td>37.07</td>\n",
       "      <td>0.469</td>\n",
       "      <td>6.421</td>\n",
       "      <td>78.9</td>\n",
       "      <td>4.99</td>\n",
       "      <td>4.70</td>\n",
       "      <td>5.12</td>\n",
       "      <td>5.06</td>\n",
       "      <td>22.2</td>\n",
       "      <td>9.14</td>\n",
       "      <td>NO</td>\n",
       "      <td>7.332</td>\n",
       "      <td>12.1728</td>\n",
       "      <td>Lake</td>\n",
       "      <td>42</td>\n",
       "      <td>YES</td>\n",
       "      <td>0.046146</td>\n",
       "    </tr>\n",
       "    <tr>\n",
       "      <th>2</th>\n",
       "      <td>34.7</td>\n",
       "      <td>0.02729</td>\n",
       "      <td>37.07</td>\n",
       "      <td>0.469</td>\n",
       "      <td>7.185</td>\n",
       "      <td>61.1</td>\n",
       "      <td>5.03</td>\n",
       "      <td>4.86</td>\n",
       "      <td>5.01</td>\n",
       "      <td>4.97</td>\n",
       "      <td>22.2</td>\n",
       "      <td>4.03</td>\n",
       "      <td>NO</td>\n",
       "      <td>7.394</td>\n",
       "      <td>101.1200</td>\n",
       "      <td>None</td>\n",
       "      <td>38</td>\n",
       "      <td>YES</td>\n",
       "      <td>0.045764</td>\n",
       "    </tr>\n",
       "    <tr>\n",
       "      <th>3</th>\n",
       "      <td>33.4</td>\n",
       "      <td>0.03237</td>\n",
       "      <td>32.18</td>\n",
       "      <td>0.458</td>\n",
       "      <td>6.998</td>\n",
       "      <td>45.8</td>\n",
       "      <td>6.21</td>\n",
       "      <td>5.93</td>\n",
       "      <td>6.16</td>\n",
       "      <td>5.96</td>\n",
       "      <td>21.3</td>\n",
       "      <td>2.94</td>\n",
       "      <td>YES</td>\n",
       "      <td>9.268</td>\n",
       "      <td>11.2672</td>\n",
       "      <td>Lake</td>\n",
       "      <td>45</td>\n",
       "      <td>YES</td>\n",
       "      <td>0.047151</td>\n",
       "    </tr>\n",
       "    <tr>\n",
       "      <th>4</th>\n",
       "      <td>36.2</td>\n",
       "      <td>0.06905</td>\n",
       "      <td>32.18</td>\n",
       "      <td>0.458</td>\n",
       "      <td>7.147</td>\n",
       "      <td>54.2</td>\n",
       "      <td>6.16</td>\n",
       "      <td>5.86</td>\n",
       "      <td>6.37</td>\n",
       "      <td>5.86</td>\n",
       "      <td>21.3</td>\n",
       "      <td>5.33</td>\n",
       "      <td>NO</td>\n",
       "      <td>8.824</td>\n",
       "      <td>11.2896</td>\n",
       "      <td>Lake</td>\n",
       "      <td>55</td>\n",
       "      <td>YES</td>\n",
       "      <td>0.039474</td>\n",
       "    </tr>\n",
       "  </tbody>\n",
       "</table>\n",
       "</div>"
      ],
      "text/plain": [
       "   price  crime_rate  resid_area  air_qual  room_num   age  dist1  dist2  \\\n",
       "0   24.0     0.00632       32.31     0.538     6.575  65.2   4.35   3.81   \n",
       "1   21.6     0.02731       37.07     0.469     6.421  78.9   4.99   4.70   \n",
       "2   34.7     0.02729       37.07     0.469     7.185  61.1   5.03   4.86   \n",
       "3   33.4     0.03237       32.18     0.458     6.998  45.8   6.21   5.93   \n",
       "4   36.2     0.06905       32.18     0.458     7.147  54.2   6.16   5.86   \n",
       "\n",
       "   dist3  dist4  teachers  poor_prop airport  n_hos_beds  n_hot_rooms  \\\n",
       "0   4.18   4.01      24.7       4.98     YES       5.480      11.1920   \n",
       "1   5.12   5.06      22.2       9.14      NO       7.332      12.1728   \n",
       "2   5.01   4.97      22.2       4.03      NO       7.394     101.1200   \n",
       "3   6.16   5.96      21.3       2.94     YES       9.268      11.2672   \n",
       "4   6.37   5.86      21.3       5.33      NO       8.824      11.2896   \n",
       "\n",
       "  waterbody  rainfall bus_ter     parks  \n",
       "0     River        23     YES  0.049347  \n",
       "1      Lake        42     YES  0.046146  \n",
       "2      None        38     YES  0.045764  \n",
       "3      Lake        45     YES  0.047151  \n",
       "4      Lake        55     YES  0.039474  "
      ]
     },
     "execution_count": 4,
     "metadata": {},
     "output_type": "execute_result"
    }
   ],
   "source": [
    "houses.head()"
   ]
  },
  {
   "cell_type": "code",
   "execution_count": null,
   "id": "0ae35dee",
   "metadata": {},
   "outputs": [],
   "source": []
  },
  {
   "cell_type": "markdown",
   "id": "3d24d8c0",
   "metadata": {},
   "source": [
    "## STEP 2 : Outlier Treatment - Capping"
   ]
  },
  {
   "cell_type": "code",
   "execution_count": null,
   "id": "e8fcf4bc",
   "metadata": {},
   "outputs": [],
   "source": []
  },
  {
   "cell_type": "code",
   "execution_count": 5,
   "id": "8b40f227",
   "metadata": {},
   "outputs": [],
   "source": [
    "# Z-score for Normally or almost normally distributed data\n",
    "\n",
    "nor_col = ['room_num',]\n",
    "skew_col = ['dist1', 'dist2', 'dist3', 'dist4','poor_prop' , 'parks']"
   ]
  },
  {
   "cell_type": "code",
   "execution_count": null,
   "id": "6654cfdb",
   "metadata": {},
   "outputs": [],
   "source": []
  },
  {
   "cell_type": "code",
   "execution_count": 6,
   "id": "1fd39f29",
   "metadata": {},
   "outputs": [],
   "source": [
    "df_capp = houses.copy()"
   ]
  },
  {
   "cell_type": "code",
   "execution_count": null,
   "id": "fe17b148",
   "metadata": {},
   "outputs": [],
   "source": []
  },
  {
   "cell_type": "code",
   "execution_count": 7,
   "id": "65f9cab3",
   "metadata": {},
   "outputs": [],
   "source": [
    "# loop for normally or almost normally distributed data\n",
    "for col in nor_col :\n",
    "    \n",
    "    # Finding mean and Std\n",
    "    mean_col = df_capp[col].mean()\n",
    "    std_col = df_capp[col].std()\n",
    "    \n",
    "    # Finding lower and upper limits\n",
    "    lower_limit = mean_col - 3*std_col\n",
    "    upper_limit = mean_col + 3*std_col\n",
    "    \n",
    "    # Capping\n",
    "    df_capp[col] = np.round(np.where(df_capp[col] > upper_limit , upper_limit , \n",
    "                     np.where(df_capp[col] < lower_limit , lower_limit , df_capp[col])\n",
    "                            ),3)\n",
    "    \n",
    "\n",
    "# loop for skew data\n",
    "for col in skew_col :\n",
    "    \n",
    "    # Finding IQR\n",
    "    percentile25 = df_capp[col].quantile(0.25)\n",
    "    percentile75 = df_capp[col].quantile(.75)\n",
    "    \n",
    "    # Compute IQR\n",
    "    IQR = percentile75 - percentile25\n",
    "    \n",
    "    # Finding lower and upper limits\n",
    "    lowerlimit = percentile25 - 1.5*IQR\n",
    "    upperlimit = percentile75 + 1.5*IQR\n",
    "    \n",
    "    # Capping\n",
    "    df_capp[col] = np.round(np.where(df_capp[col] > upperlimit , upperlimit , \n",
    "                     np.where(df_capp[col] < lowerlimit , lowerlimit , df_capp[col])\n",
    "                            ),3)\n",
    "    "
   ]
  },
  {
   "cell_type": "code",
   "execution_count": 8,
   "id": "69b2415b",
   "metadata": {},
   "outputs": [
    {
     "data": {
      "text/plain": [
       "(506, 19)"
      ]
     },
     "execution_count": 8,
     "metadata": {},
     "output_type": "execute_result"
    }
   ],
   "source": [
    "df_capp.shape"
   ]
  },
  {
   "cell_type": "code",
   "execution_count": null,
   "id": "a46658c4",
   "metadata": {},
   "outputs": [],
   "source": []
  },
  {
   "cell_type": "markdown",
   "id": "228b4e86",
   "metadata": {},
   "source": [
    "## STEP 3 : Feature Enginnering"
   ]
  },
  {
   "cell_type": "markdown",
   "id": "09090609",
   "metadata": {},
   "source": [
    "#### ******* Initial Correlation ********\n",
    "    price          1.000000\n",
    "    poor_prop     -0.740836\n",
    "    room_num       0.696304\n",
    "    teachers       0.505655\n",
    "    resid_area    -0.484754\n",
    "    air_qual      -0.429300\n",
    "    parks         -0.391574\n",
    "    crime_rate    -0.389582\n",
    "    age           -0.377999\n",
    "    dist1          0.251355\n",
    "    dist2          0.249459\n",
    "    dist4          0.248200\n",
    "    dist3          0.246650\n",
    "    n_hos_beds     0.109646\n",
    "    rainfall      -0.047426\n",
    "    n_hot_rooms    0.023122"
   ]
  },
  {
   "cell_type": "code",
   "execution_count": null,
   "id": "868cc44a",
   "metadata": {},
   "outputs": [],
   "source": []
  },
  {
   "cell_type": "markdown",
   "id": "4a1c7cba",
   "metadata": {},
   "source": [
    "### (i) crime_rate vs price has 1/x plot"
   ]
  },
  {
   "cell_type": "code",
   "execution_count": 9,
   "id": "59dde2e2",
   "metadata": {},
   "outputs": [],
   "source": [
    "df_capp['crime_rate'] = np.log(df_capp['crime_rate'])"
   ]
  },
  {
   "cell_type": "code",
   "execution_count": null,
   "id": "ca4659c2",
   "metadata": {},
   "outputs": [],
   "source": []
  },
  {
   "cell_type": "code",
   "execution_count": 10,
   "id": "26c7bd58",
   "metadata": {
    "scrolled": false
   },
   "outputs": [
    {
     "data": {
      "image/png": "[encoded data removed]",
      "text/plain": [
       "<Figure size 500x400 with 1 Axes>"
      ]
     },
     "metadata": {},
     "output_type": "display_data"
    }
   ],
   "source": [
    "plt.figure(figsize = (5,4))\n",
    "plt.scatter(x = df_capp['crime_rate'] , y = df_capp['price']  )\n",
    "\n",
    "plt.show()"
   ]
  },
  {
   "cell_type": "code",
   "execution_count": null,
   "id": "57b43294",
   "metadata": {},
   "outputs": [],
   "source": []
  },
  {
   "cell_type": "code",
   "execution_count": 11,
   "id": "29377820",
   "metadata": {},
   "outputs": [
    {
     "data": {
      "text/plain": [
       "price          1.000000\n",
       "poor_prop     -0.747332\n",
       "room_num       0.705175\n",
       "teachers       0.505655\n",
       "resid_area    -0.484754\n",
       "crime_rate    -0.457303\n",
       "air_qual      -0.429300\n",
       "parks         -0.393647\n",
       "age           -0.377999\n",
       "dist1          0.254597\n",
       "dist2          0.252929\n",
       "dist4          0.251799\n",
       "dist3          0.249109\n",
       "n_hos_beds     0.109646\n",
       "rainfall      -0.047426\n",
       "n_hot_rooms    0.023122\n",
       "dtype: float64"
      ]
     },
     "execution_count": 11,
     "metadata": {},
     "output_type": "execute_result"
    }
   ],
   "source": [
    "df_capp.corrwith(other = df_capp['price'] ,numeric_only= True).sort_values(ascending=False, \n",
    "                                                                         key=lambda x: abs(x))"
   ]
  },
  {
   "cell_type": "code",
   "execution_count": null,
   "id": "06aaaff3",
   "metadata": {},
   "outputs": [],
   "source": []
  },
  {
   "cell_type": "markdown",
   "id": "33c255ac",
   "metadata": {},
   "source": [
    "### (ii) poor_prop vs price has 1/x plot."
   ]
  },
  {
   "cell_type": "code",
   "execution_count": null,
   "id": "e7f077e5",
   "metadata": {},
   "outputs": [],
   "source": []
  },
  {
   "cell_type": "code",
   "execution_count": 12,
   "id": "b246667c",
   "metadata": {},
   "outputs": [],
   "source": [
    "df_capp['poor_prop'] = np.log(df_capp['poor_prop'])"
   ]
  },
  {
   "cell_type": "code",
   "execution_count": 13,
   "id": "c21a5832",
   "metadata": {},
   "outputs": [
    {
     "data": {
      "image/png": "[encoded data removed]",
      "text/plain": [
       "<Figure size 640x480 with 1 Axes>"
      ]
     },
     "metadata": {},
     "output_type": "display_data"
    }
   ],
   "source": [
    "plt.scatter(x = df_capp['poor_prop'] , y = df_capp['price'])\n",
    "\n",
    "plt.show()"
   ]
  },
  {
   "cell_type": "code",
   "execution_count": null,
   "id": "c948ce2b",
   "metadata": {},
   "outputs": [],
   "source": []
  },
  {
   "cell_type": "code",
   "execution_count": 14,
   "id": "7c40c374",
   "metadata": {},
   "outputs": [
    {
     "data": {
      "text/plain": [
       "price          1.000000\n",
       "poor_prop     -0.819141\n",
       "room_num       0.705175\n",
       "teachers       0.505655\n",
       "resid_area    -0.484754\n",
       "crime_rate    -0.457303\n",
       "air_qual      -0.429300\n",
       "parks         -0.393647\n",
       "age           -0.377999\n",
       "dist1          0.254597\n",
       "dist2          0.252929\n",
       "dist4          0.251799\n",
       "dist3          0.249109\n",
       "n_hos_beds     0.109646\n",
       "rainfall      -0.047426\n",
       "n_hot_rooms    0.023122\n",
       "dtype: float64"
      ]
     },
     "execution_count": 14,
     "metadata": {},
     "output_type": "execute_result"
    }
   ],
   "source": [
    "df_capp.corrwith(other = df_capp['price'] ,numeric_only= True).sort_values(ascending=False, \n",
    "                                                                         key=lambda x: abs(x))"
   ]
  },
  {
   "cell_type": "code",
   "execution_count": null,
   "id": "23848d6b",
   "metadata": {},
   "outputs": [],
   "source": []
  },
  {
   "cell_type": "markdown",
   "id": "2f4679c0",
   "metadata": {},
   "source": [
    "### (iii) Feature Merging"
   ]
  },
  {
   "cell_type": "code",
   "execution_count": 15,
   "id": "c38fe5b5",
   "metadata": {},
   "outputs": [],
   "source": [
    "df_capp['dist'] = (df_capp['dist1'] + df_capp['dist2'] + df_capp['dist3'] + df_capp['dist4'] )/4"
   ]
  },
  {
   "cell_type": "code",
   "execution_count": null,
   "id": "984b712c",
   "metadata": {},
   "outputs": [],
   "source": []
  },
  {
   "cell_type": "code",
   "execution_count": 16,
   "id": "4b4ba3a1",
   "metadata": {},
   "outputs": [],
   "source": [
    "df_capp.drop(labels = ['dist1', 'dist2', 'dist3', 'dist4'] ,axis = 1 , inplace = True)"
   ]
  },
  {
   "cell_type": "code",
   "execution_count": null,
   "id": "62215592",
   "metadata": {},
   "outputs": [],
   "source": []
  },
  {
   "cell_type": "code",
   "execution_count": 17,
   "id": "05b154f4",
   "metadata": {},
   "outputs": [
    {
     "data": {
      "text/plain": [
       "Index(['price', 'crime_rate', 'resid_area', 'air_qual', 'room_num', 'age',\n",
       "       'teachers', 'poor_prop', 'airport', 'n_hos_beds', 'n_hot_rooms',\n",
       "       'waterbody', 'rainfall', 'bus_ter', 'parks', 'dist'],\n",
       "      dtype='object')"
      ]
     },
     "execution_count": 17,
     "metadata": {},
     "output_type": "execute_result"
    }
   ],
   "source": [
    "df_capp.columns"
   ]
  },
  {
   "cell_type": "code",
   "execution_count": 18,
   "id": "f283a971",
   "metadata": {},
   "outputs": [
    {
     "data": {
      "text/plain": [
       "price          1.000000\n",
       "poor_prop     -0.819141\n",
       "room_num       0.705175\n",
       "teachers       0.505655\n",
       "resid_area    -0.484754\n",
       "crime_rate    -0.457303\n",
       "air_qual      -0.429300\n",
       "parks         -0.393647\n",
       "age           -0.377999\n",
       "dist           0.252496\n",
       "n_hos_beds     0.109646\n",
       "rainfall      -0.047426\n",
       "n_hot_rooms    0.023122\n",
       "dtype: float64"
      ]
     },
     "execution_count": 18,
     "metadata": {},
     "output_type": "execute_result"
    }
   ],
   "source": [
    "df_capp.corrwith(other = houses['price'] ,numeric_only= True).sort_values(ascending=False, \n",
    "                                                                         key=lambda x: abs(x))"
   ]
  },
  {
   "cell_type": "code",
   "execution_count": null,
   "id": "076f47be",
   "metadata": {},
   "outputs": [],
   "source": []
  },
  {
   "cell_type": "markdown",
   "id": "4931b8f8",
   "metadata": {},
   "source": [
    "## STEP 4 : Multi-Variate Analysis"
   ]
  },
  {
   "cell_type": "code",
   "execution_count": null,
   "id": "c589165b",
   "metadata": {},
   "outputs": [],
   "source": []
  },
  {
   "cell_type": "markdown",
   "id": "f4999d9f",
   "metadata": {},
   "source": [
    "#### From correlation analysis following conclusions have been made:\n",
    "\n",
    "- **air_quality** is highly correlated with **parks** with Correlation coefficient = 0.92\n",
    "\n",
    "#### so checking them for multicollinarity\n",
    "\n",
    "- **Threshold value** of VIF is : VIF >= 10 for dropping a column\n",
    "\n"
   ]
  },
  {
   "cell_type": "code",
   "execution_count": null,
   "id": "d944e6b6",
   "metadata": {},
   "outputs": [],
   "source": []
  },
  {
   "cell_type": "code",
   "execution_count": 19,
   "id": "c4776237",
   "metadata": {},
   "outputs": [],
   "source": [
    "mc_feat = ['resid_area' , 'room_num' ,'teachers' , 'poor_prop','dist','parks','air_qual']"
   ]
  },
  {
   "cell_type": "code",
   "execution_count": null,
   "id": "a55ca512",
   "metadata": {},
   "outputs": [],
   "source": []
  },
  {
   "cell_type": "code",
   "execution_count": 20,
   "id": "f1beb81c",
   "metadata": {},
   "outputs": [],
   "source": [
    "from statsmodels.stats.outliers_influence import variance_inflation_factor\n",
    "from statsmodels.tools.tools import add_constant"
   ]
  },
  {
   "cell_type": "code",
   "execution_count": null,
   "id": "a81766c9",
   "metadata": {},
   "outputs": [],
   "source": []
  },
  {
   "cell_type": "markdown",
   "id": "7a9e19c4",
   "metadata": {},
   "source": [
    "#### Syntax : variance_inflation_factor(exog, exog_idx)\n",
    "\n",
    "- **Explanation :**\n",
    "\n",
    "    One recommendation is that if VIF is greater than 5, then the explanatory variable given by \n",
    "\n",
    "    'exog_idx' is highly collinear with the other explanatory variables, and \n",
    "\n",
    "    the parameter estimates will have large standard errors because of this."
   ]
  },
  {
   "cell_type": "code",
   "execution_count": 21,
   "id": "2b0af7c4",
   "metadata": {},
   "outputs": [
    {
     "data": {
      "text/plain": [
       "price          0\n",
       "crime_rate     0\n",
       "resid_area     0\n",
       "air_qual       0\n",
       "room_num       0\n",
       "age            0\n",
       "teachers       0\n",
       "poor_prop      0\n",
       "airport        0\n",
       "n_hos_beds     8\n",
       "n_hot_rooms    0\n",
       "waterbody      0\n",
       "rainfall       0\n",
       "bus_ter        0\n",
       "parks          0\n",
       "dist           0\n",
       "dtype: int64"
      ]
     },
     "execution_count": 21,
     "metadata": {},
     "output_type": "execute_result"
    }
   ],
   "source": [
    "df_capp.isnull().sum()"
   ]
  },
  {
   "cell_type": "code",
   "execution_count": null,
   "id": "4038bcda",
   "metadata": {},
   "outputs": [],
   "source": []
  },
  {
   "cell_type": "code",
   "execution_count": 22,
   "id": "c2b64621",
   "metadata": {},
   "outputs": [],
   "source": [
    "df_houses = df_capp.copy()"
   ]
  },
  {
   "cell_type": "code",
   "execution_count": 23,
   "id": "d523bd4f",
   "metadata": {},
   "outputs": [
    {
     "data": {
      "text/plain": [
       "506"
      ]
     },
     "execution_count": 23,
     "metadata": {},
     "output_type": "execute_result"
    }
   ],
   "source": [
    "len(df_houses)"
   ]
  },
  {
   "cell_type": "code",
   "execution_count": 24,
   "id": "f15ba4cb",
   "metadata": {},
   "outputs": [],
   "source": [
    "df_houses.dropna(inplace = True)  "
   ]
  },
  {
   "cell_type": "code",
   "execution_count": null,
   "id": "44dde82a",
   "metadata": {},
   "outputs": [],
   "source": []
  },
  {
   "cell_type": "code",
   "execution_count": 25,
   "id": "edc5deb6",
   "metadata": {},
   "outputs": [],
   "source": [
    "# Defining custom function for calculating VIF\n",
    "\n",
    "def compute_vif(feature_list ,dataframe):\n",
    "    \n",
    "    X = dataframe[feature_list]\n",
    "    \n",
    "    # Dropping any NaN values\n",
    "    X.dropna(inplace = True)\n",
    "    \n",
    "    # Adding constant column in X\n",
    "    X  = add_constant(X ,prepend=True)\n",
    "    \n",
    "    # Creating DF for storing VIF values\n",
    "    vif = pd.DataFrame()\n",
    "    vif['variable'] = X.columns\n",
    "    \n",
    "    \n",
    "    vif['VIF'] = [variance_inflation_factor(X.values ,i) for i in range(X.shape[1])]\n",
    "    \n",
    "    vif = vif[vif['variable'] != 'const']\n",
    "    \n",
    "    return vif"
   ]
  },
  {
   "cell_type": "code",
   "execution_count": null,
   "id": "553cb185",
   "metadata": {},
   "outputs": [],
   "source": []
  },
  {
   "cell_type": "code",
   "execution_count": 26,
   "id": "c6a51bb5",
   "metadata": {},
   "outputs": [
    {
     "name": "stderr",
     "output_type": "stream",
     "text": [
      "C:\\Users\\aakas\\AppData\\Local\\Temp\\ipykernel_12908\\2931035945.py:8: SettingWithCopyWarning: \n",
      "A value is trying to be set on a copy of a slice from a DataFrame\n",
      "\n",
      "See the caveats in the documentation: https://pandas.pydata.org/pandas-docs/stable/user_guide/indexing.html#returning-a-view-versus-a-copy\n",
      "  X.dropna(inplace = True)\n"
     ]
    },
    {
     "data": {
      "text/html": [
       "<div>\n",
       "<style scoped>\n",
       "    .dataframe tbody tr th:only-of-type {\n",
       "        vertical-align: middle;\n",
       "    }\n",
       "\n",
       "    .dataframe tbody tr th {\n",
       "        vertical-align: top;\n",
       "    }\n",
       "\n",
       "    .dataframe thead th {\n",
       "        text-align: right;\n",
       "    }\n",
       "</style>\n",
       "<table border=\"1\" class=\"dataframe\">\n",
       "  <thead>\n",
       "    <tr style=\"text-align: right;\">\n",
       "      <th></th>\n",
       "      <th>variable</th>\n",
       "      <th>VIF</th>\n",
       "    </tr>\n",
       "  </thead>\n",
       "  <tbody>\n",
       "    <tr>\n",
       "      <th>1</th>\n",
       "      <td>resid_area</td>\n",
       "      <td>3.153064</td>\n",
       "    </tr>\n",
       "    <tr>\n",
       "      <th>2</th>\n",
       "      <td>room_num</td>\n",
       "      <td>1.942970</td>\n",
       "    </tr>\n",
       "    <tr>\n",
       "      <th>3</th>\n",
       "      <td>teachers</td>\n",
       "      <td>1.343855</td>\n",
       "    </tr>\n",
       "    <tr>\n",
       "      <th>4</th>\n",
       "      <td>poor_prop</td>\n",
       "      <td>2.748160</td>\n",
       "    </tr>\n",
       "    <tr>\n",
       "      <th>5</th>\n",
       "      <td>dist</td>\n",
       "      <td>2.832756</td>\n",
       "    </tr>\n",
       "    <tr>\n",
       "      <th>6</th>\n",
       "      <td>parks</td>\n",
       "      <td>6.157863</td>\n",
       "    </tr>\n",
       "    <tr>\n",
       "      <th>7</th>\n",
       "      <td>air_qual</td>\n",
       "      <td>8.501124</td>\n",
       "    </tr>\n",
       "  </tbody>\n",
       "</table>\n",
       "</div>"
      ],
      "text/plain": [
       "     variable       VIF\n",
       "1  resid_area  3.153064\n",
       "2    room_num  1.942970\n",
       "3    teachers  1.343855\n",
       "4   poor_prop  2.748160\n",
       "5        dist  2.832756\n",
       "6       parks  6.157863\n",
       "7    air_qual  8.501124"
      ]
     },
     "execution_count": 26,
     "metadata": {},
     "output_type": "execute_result"
    }
   ],
   "source": [
    "compute_vif(feature_list = mc_feat ,dataframe = df_houses)"
   ]
  },
  {
   "cell_type": "code",
   "execution_count": null,
   "id": "faa77dd4",
   "metadata": {},
   "outputs": [],
   "source": []
  },
  {
   "cell_type": "code",
   "execution_count": 27,
   "id": "4a3b6181",
   "metadata": {},
   "outputs": [
    {
     "data": {
      "text/plain": [
       "0.9148559000931916"
      ]
     },
     "execution_count": 27,
     "metadata": {},
     "output_type": "execute_result"
    }
   ],
   "source": [
    "df_houses['parks'].corr(df_houses['air_qual'])"
   ]
  },
  {
   "cell_type": "code",
   "execution_count": 28,
   "id": "67fe97ec",
   "metadata": {},
   "outputs": [
    {
     "data": {
      "text/plain": [
       "498"
      ]
     },
     "execution_count": 28,
     "metadata": {},
     "output_type": "execute_result"
    }
   ],
   "source": [
    "len(df_houses)"
   ]
  },
  {
   "cell_type": "code",
   "execution_count": null,
   "id": "e546a04f",
   "metadata": {},
   "outputs": [],
   "source": []
  },
  {
   "cell_type": "code",
   "execution_count": 29,
   "id": "069d078e",
   "metadata": {},
   "outputs": [],
   "source": [
    "# lets remove 'air_qual' column\n",
    "# correlation coefficent of 'price' with 'air_qual'= -0.429300\n",
    "# correlation coefficent of 'price' with 'parks' = -0.391574\n",
    "# so be careful\n",
    "\n",
    "mc_feat.remove('parks')"
   ]
  },
  {
   "cell_type": "code",
   "execution_count": 30,
   "id": "b2844558",
   "metadata": {
    "scrolled": true
   },
   "outputs": [
    {
     "name": "stderr",
     "output_type": "stream",
     "text": [
      "C:\\Users\\aakas\\AppData\\Local\\Temp\\ipykernel_12908\\2931035945.py:8: SettingWithCopyWarning: \n",
      "A value is trying to be set on a copy of a slice from a DataFrame\n",
      "\n",
      "See the caveats in the documentation: https://pandas.pydata.org/pandas-docs/stable/user_guide/indexing.html#returning-a-view-versus-a-copy\n",
      "  X.dropna(inplace = True)\n"
     ]
    },
    {
     "data": {
      "text/html": [
       "<div>\n",
       "<style scoped>\n",
       "    .dataframe tbody tr th:only-of-type {\n",
       "        vertical-align: middle;\n",
       "    }\n",
       "\n",
       "    .dataframe tbody tr th {\n",
       "        vertical-align: top;\n",
       "    }\n",
       "\n",
       "    .dataframe thead th {\n",
       "        text-align: right;\n",
       "    }\n",
       "</style>\n",
       "<table border=\"1\" class=\"dataframe\">\n",
       "  <thead>\n",
       "    <tr style=\"text-align: right;\">\n",
       "      <th></th>\n",
       "      <th>variable</th>\n",
       "      <th>VIF</th>\n",
       "    </tr>\n",
       "  </thead>\n",
       "  <tbody>\n",
       "    <tr>\n",
       "      <th>1</th>\n",
       "      <td>resid_area</td>\n",
       "      <td>3.151160</td>\n",
       "    </tr>\n",
       "    <tr>\n",
       "      <th>2</th>\n",
       "      <td>room_num</td>\n",
       "      <td>1.942773</td>\n",
       "    </tr>\n",
       "    <tr>\n",
       "      <th>3</th>\n",
       "      <td>teachers</td>\n",
       "      <td>1.343091</td>\n",
       "    </tr>\n",
       "    <tr>\n",
       "      <th>4</th>\n",
       "      <td>poor_prop</td>\n",
       "      <td>2.746128</td>\n",
       "    </tr>\n",
       "    <tr>\n",
       "      <th>5</th>\n",
       "      <td>dist</td>\n",
       "      <td>2.832755</td>\n",
       "    </tr>\n",
       "    <tr>\n",
       "      <th>6</th>\n",
       "      <td>air_qual</td>\n",
       "      <td>3.620509</td>\n",
       "    </tr>\n",
       "  </tbody>\n",
       "</table>\n",
       "</div>"
      ],
      "text/plain": [
       "     variable       VIF\n",
       "1  resid_area  3.151160\n",
       "2    room_num  1.942773\n",
       "3    teachers  1.343091\n",
       "4   poor_prop  2.746128\n",
       "5        dist  2.832755\n",
       "6    air_qual  3.620509"
      ]
     },
     "execution_count": 30,
     "metadata": {},
     "output_type": "execute_result"
    }
   ],
   "source": [
    "compute_vif(feature_list = mc_feat , dataframe  = df_houses)"
   ]
  },
  {
   "cell_type": "code",
   "execution_count": null,
   "id": "750b569c",
   "metadata": {},
   "outputs": [],
   "source": []
  },
  {
   "cell_type": "markdown",
   "id": "4136bc94",
   "metadata": {},
   "source": [
    "#### Conclusion : we have to do feature enginnering\n",
    "\n",
    "- **parks** and **air_qual** columns are highly correlated ,so we can drop **parks** column\n",
    "   because it is less correlated to **price** column compared to **air_qual** column."
   ]
  },
  {
   "cell_type": "code",
   "execution_count": null,
   "id": "5c74aa55",
   "metadata": {},
   "outputs": [],
   "source": []
  },
  {
   "cell_type": "markdown",
   "id": "09359b6b",
   "metadata": {},
   "source": [
    "## STEP 5 : Drop Irrelevent Features\n",
    "\n",
    "- Dropping :  parks,rainfall,n_hot_rooms,n_hos_beds columns,bus_ter features"
   ]
  },
  {
   "cell_type": "code",
   "execution_count": null,
   "id": "deac62ca",
   "metadata": {},
   "outputs": [],
   "source": []
  },
  {
   "cell_type": "code",
   "execution_count": 31,
   "id": "6f3f2210",
   "metadata": {},
   "outputs": [],
   "source": [
    "df_export = df_capp.drop(labels = ['parks','rainfall','n_hot_rooms','n_hos_beds','bus_ter'] , axis = 1)"
   ]
  },
  {
   "cell_type": "code",
   "execution_count": 32,
   "id": "5b1e85ac",
   "metadata": {
    "scrolled": true
   },
   "outputs": [
    {
     "data": {
      "text/html": [
       "<div>\n",
       "<style scoped>\n",
       "    .dataframe tbody tr th:only-of-type {\n",
       "        vertical-align: middle;\n",
       "    }\n",
       "\n",
       "    .dataframe tbody tr th {\n",
       "        vertical-align: top;\n",
       "    }\n",
       "\n",
       "    .dataframe thead th {\n",
       "        text-align: right;\n",
       "    }\n",
       "</style>\n",
       "<table border=\"1\" class=\"dataframe\">\n",
       "  <thead>\n",
       "    <tr style=\"text-align: right;\">\n",
       "      <th></th>\n",
       "      <th>price</th>\n",
       "      <th>crime_rate</th>\n",
       "      <th>resid_area</th>\n",
       "      <th>air_qual</th>\n",
       "      <th>room_num</th>\n",
       "      <th>age</th>\n",
       "      <th>teachers</th>\n",
       "      <th>poor_prop</th>\n",
       "      <th>airport</th>\n",
       "      <th>waterbody</th>\n",
       "      <th>dist</th>\n",
       "    </tr>\n",
       "  </thead>\n",
       "  <tbody>\n",
       "    <tr>\n",
       "      <th>0</th>\n",
       "      <td>24.0</td>\n",
       "      <td>-5.064036</td>\n",
       "      <td>32.31</td>\n",
       "      <td>0.538</td>\n",
       "      <td>6.575</td>\n",
       "      <td>65.2</td>\n",
       "      <td>24.7</td>\n",
       "      <td>1.60543</td>\n",
       "      <td>YES</td>\n",
       "      <td>River</td>\n",
       "      <td>4.0875</td>\n",
       "    </tr>\n",
       "    <tr>\n",
       "      <th>1</th>\n",
       "      <td>21.6</td>\n",
       "      <td>-3.600502</td>\n",
       "      <td>37.07</td>\n",
       "      <td>0.469</td>\n",
       "      <td>6.421</td>\n",
       "      <td>78.9</td>\n",
       "      <td>22.2</td>\n",
       "      <td>2.21266</td>\n",
       "      <td>NO</td>\n",
       "      <td>Lake</td>\n",
       "      <td>4.9675</td>\n",
       "    </tr>\n",
       "  </tbody>\n",
       "</table>\n",
       "</div>"
      ],
      "text/plain": [
       "   price  crime_rate  resid_area  air_qual  room_num   age  teachers  \\\n",
       "0   24.0   -5.064036       32.31     0.538     6.575  65.2      24.7   \n",
       "1   21.6   -3.600502       37.07     0.469     6.421  78.9      22.2   \n",
       "\n",
       "   poor_prop airport waterbody    dist  \n",
       "0    1.60543     YES     River  4.0875  \n",
       "1    2.21266      NO      Lake  4.9675  "
      ]
     },
     "execution_count": 32,
     "metadata": {},
     "output_type": "execute_result"
    }
   ],
   "source": [
    "df_export.head(2)"
   ]
  },
  {
   "cell_type": "code",
   "execution_count": null,
   "id": "20cbbee5",
   "metadata": {},
   "outputs": [],
   "source": []
  },
  {
   "cell_type": "code",
   "execution_count": null,
   "id": "1ecec3fc",
   "metadata": {},
   "outputs": [],
   "source": []
  },
  {
   "cell_type": "markdown",
   "id": "d508fa7c",
   "metadata": {},
   "source": [
    "## STEP 6 : Export the DF as a .csv file."
   ]
  },
  {
   "cell_type": "code",
   "execution_count": null,
   "id": "444a45ea",
   "metadata": {},
   "outputs": [],
   "source": []
  },
  {
   "cell_type": "code",
   "execution_count": 33,
   "id": "de8d2d17",
   "metadata": {},
   "outputs": [],
   "source": [
    "df_export.to_csv(\"S4_Part5_Capping_DataPreprocessing1.csv\")"
   ]
  },
  {
   "cell_type": "code",
   "execution_count": null,
   "id": "bb44a111",
   "metadata": {},
   "outputs": [],
   "source": []
  },
  {
   "cell_type": "code",
   "execution_count": null,
   "id": "306930b4",
   "metadata": {},
   "outputs": [],
   "source": []
  }
 ],
 "metadata": {
  "kernelspec": {
   "display_name": "Python 3 (ipykernel)",
   "language": "python",
   "name": "python3"
  },
  "language_info": {
   "codemirror_mode": {
    "name": "ipython",
    "version": 3
   },
   "file_extension": ".py",
   "mimetype": "text/x-python",
   "name": "python",
   "nbconvert_exporter": "python",
   "pygments_lexer": "ipython3",
   "version": "3.10.9"
  }
 },
 "nbformat": 4,
 "nbformat_minor": 5
}
