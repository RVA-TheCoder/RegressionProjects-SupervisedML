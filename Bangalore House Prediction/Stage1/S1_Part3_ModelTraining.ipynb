{
 "cells": [
  {
   "cell_type": "code",
   "execution_count": 1,
   "id": "53b9330c",
   "metadata": {},
   "outputs": [],
   "source": [
    "import numpy as np\n",
    "import pandas as pd\n",
    "import matplotlib.pyplot as plt\n",
    "import seaborn as sns"
   ]
  },
  {
   "cell_type": "code",
   "execution_count": null,
   "id": "51c99b16",
   "metadata": {},
   "outputs": [],
   "source": []
  },
  {
   "cell_type": "markdown",
   "id": "90544ff6",
   "metadata": {},
   "source": [
    "## STEP 1 : Import Transforrmed Dataset"
   ]
  },
  {
   "cell_type": "code",
   "execution_count": null,
   "id": "b28f5d54",
   "metadata": {},
   "outputs": [],
   "source": []
  },
  {
   "cell_type": "code",
   "execution_count": 2,
   "id": "10e74b9e",
   "metadata": {},
   "outputs": [],
   "source": [
    "filepath_train = r\"S1_Part2_Train_DS.csv\"\n",
    "filepath_test = r\"S1_Part2_Test_DS.csv\""
   ]
  },
  {
   "cell_type": "code",
   "execution_count": null,
   "id": "c23a9c93",
   "metadata": {},
   "outputs": [],
   "source": []
  },
  {
   "cell_type": "code",
   "execution_count": 3,
   "id": "6ec6c881",
   "metadata": {},
   "outputs": [],
   "source": [
    "d_train = pd.read_csv(filepath_train  ,index_col= 0 , header= 0)\n",
    "d_test = pd.read_csv(filepath_test  ,index_col= 0 , header= 0)"
   ]
  },
  {
   "cell_type": "code",
   "execution_count": null,
   "id": "e596e797",
   "metadata": {},
   "outputs": [],
   "source": []
  },
  {
   "cell_type": "code",
   "execution_count": 4,
   "id": "bc5bba44",
   "metadata": {},
   "outputs": [
    {
     "data": {
      "text/html": [
       "<div>\n",
       "<style scoped>\n",
       "    .dataframe tbody tr th:only-of-type {\n",
       "        vertical-align: middle;\n",
       "    }\n",
       "\n",
       "    .dataframe tbody tr th {\n",
       "        vertical-align: top;\n",
       "    }\n",
       "\n",
       "    .dataframe thead th {\n",
       "        text-align: right;\n",
       "    }\n",
       "</style>\n",
       "<table border=\"1\" class=\"dataframe\">\n",
       "  <thead>\n",
       "    <tr style=\"text-align: right;\">\n",
       "      <th></th>\n",
       "      <th>crime_rate</th>\n",
       "      <th>resid_area</th>\n",
       "      <th>air_qual</th>\n",
       "      <th>room_num</th>\n",
       "      <th>age</th>\n",
       "      <th>dist1</th>\n",
       "      <th>dist2</th>\n",
       "      <th>dist3</th>\n",
       "      <th>dist4</th>\n",
       "      <th>teachers</th>\n",
       "      <th>...</th>\n",
       "      <th>rainfall</th>\n",
       "      <th>parks</th>\n",
       "      <th>airport_NO</th>\n",
       "      <th>airport_YES</th>\n",
       "      <th>waterbody_Lake</th>\n",
       "      <th>waterbody_Lake and River</th>\n",
       "      <th>waterbody_None</th>\n",
       "      <th>waterbody_River</th>\n",
       "      <th>bus_ter_YES</th>\n",
       "      <th>price</th>\n",
       "    </tr>\n",
       "  </thead>\n",
       "  <tbody>\n",
       "    <tr>\n",
       "      <th>0</th>\n",
       "      <td>17.86670</td>\n",
       "      <td>48.10</td>\n",
       "      <td>0.671</td>\n",
       "      <td>6.223</td>\n",
       "      <td>100.0</td>\n",
       "      <td>1.48</td>\n",
       "      <td>1.13</td>\n",
       "      <td>1.48</td>\n",
       "      <td>1.46</td>\n",
       "      <td>19.8</td>\n",
       "      <td>...</td>\n",
       "      <td>46.0</td>\n",
       "      <td>0.058067</td>\n",
       "      <td>1.0</td>\n",
       "      <td>0.0</td>\n",
       "      <td>0.0</td>\n",
       "      <td>1.0</td>\n",
       "      <td>0.0</td>\n",
       "      <td>0.0</td>\n",
       "      <td>1.0</td>\n",
       "      <td>10.2</td>\n",
       "    </tr>\n",
       "    <tr>\n",
       "      <th>1</th>\n",
       "      <td>0.79041</td>\n",
       "      <td>39.90</td>\n",
       "      <td>0.544</td>\n",
       "      <td>6.122</td>\n",
       "      <td>52.8</td>\n",
       "      <td>2.89</td>\n",
       "      <td>2.34</td>\n",
       "      <td>2.77</td>\n",
       "      <td>2.55</td>\n",
       "      <td>21.6</td>\n",
       "      <td>...</td>\n",
       "      <td>46.0</td>\n",
       "      <td>0.055734</td>\n",
       "      <td>0.0</td>\n",
       "      <td>1.0</td>\n",
       "      <td>0.0</td>\n",
       "      <td>0.0</td>\n",
       "      <td>0.0</td>\n",
       "      <td>1.0</td>\n",
       "      <td>1.0</td>\n",
       "      <td>22.1</td>\n",
       "    </tr>\n",
       "    <tr>\n",
       "      <th>2</th>\n",
       "      <td>1.22358</td>\n",
       "      <td>49.58</td>\n",
       "      <td>0.605</td>\n",
       "      <td>6.943</td>\n",
       "      <td>97.4</td>\n",
       "      <td>1.99</td>\n",
       "      <td>1.76</td>\n",
       "      <td>1.92</td>\n",
       "      <td>1.84</td>\n",
       "      <td>25.3</td>\n",
       "      <td>...</td>\n",
       "      <td>57.0</td>\n",
       "      <td>0.054814</td>\n",
       "      <td>0.0</td>\n",
       "      <td>1.0</td>\n",
       "      <td>0.0</td>\n",
       "      <td>0.0</td>\n",
       "      <td>1.0</td>\n",
       "      <td>0.0</td>\n",
       "      <td>1.0</td>\n",
       "      <td>41.3</td>\n",
       "    </tr>\n",
       "  </tbody>\n",
       "</table>\n",
       "<p>3 rows × 23 columns</p>\n",
       "</div>"
      ],
      "text/plain": [
       "   crime_rate  resid_area  air_qual  room_num    age  dist1  dist2  dist3  \\\n",
       "0    17.86670       48.10     0.671     6.223  100.0   1.48   1.13   1.48   \n",
       "1     0.79041       39.90     0.544     6.122   52.8   2.89   2.34   2.77   \n",
       "2     1.22358       49.58     0.605     6.943   97.4   1.99   1.76   1.92   \n",
       "\n",
       "   dist4  teachers  ...  rainfall     parks  airport_NO  airport_YES  \\\n",
       "0   1.46      19.8  ...      46.0  0.058067         1.0          0.0   \n",
       "1   2.55      21.6  ...      46.0  0.055734         0.0          1.0   \n",
       "2   1.84      25.3  ...      57.0  0.054814         0.0          1.0   \n",
       "\n",
       "   waterbody_Lake  waterbody_Lake and River  waterbody_None  waterbody_River  \\\n",
       "0             0.0                       1.0             0.0              0.0   \n",
       "1             0.0                       0.0             0.0              1.0   \n",
       "2             0.0                       0.0             1.0              0.0   \n",
       "\n",
       "   bus_ter_YES  price  \n",
       "0          1.0   10.2  \n",
       "1          1.0   22.1  \n",
       "2          1.0   41.3  \n",
       "\n",
       "[3 rows x 23 columns]"
      ]
     },
     "execution_count": 4,
     "metadata": {},
     "output_type": "execute_result"
    }
   ],
   "source": [
    "d_train.head(3)"
   ]
  },
  {
   "cell_type": "code",
   "execution_count": 5,
   "id": "26582a22",
   "metadata": {},
   "outputs": [
    {
     "data": {
      "text/html": [
       "<div>\n",
       "<style scoped>\n",
       "    .dataframe tbody tr th:only-of-type {\n",
       "        vertical-align: middle;\n",
       "    }\n",
       "\n",
       "    .dataframe tbody tr th {\n",
       "        vertical-align: top;\n",
       "    }\n",
       "\n",
       "    .dataframe thead th {\n",
       "        text-align: right;\n",
       "    }\n",
       "</style>\n",
       "<table border=\"1\" class=\"dataframe\">\n",
       "  <thead>\n",
       "    <tr style=\"text-align: right;\">\n",
       "      <th></th>\n",
       "      <th>crime_rate</th>\n",
       "      <th>resid_area</th>\n",
       "      <th>air_qual</th>\n",
       "      <th>room_num</th>\n",
       "      <th>age</th>\n",
       "      <th>dist1</th>\n",
       "      <th>dist2</th>\n",
       "      <th>dist3</th>\n",
       "      <th>dist4</th>\n",
       "      <th>teachers</th>\n",
       "      <th>...</th>\n",
       "      <th>rainfall</th>\n",
       "      <th>parks</th>\n",
       "      <th>airport_NO</th>\n",
       "      <th>airport_YES</th>\n",
       "      <th>waterbody_Lake</th>\n",
       "      <th>waterbody_Lake and River</th>\n",
       "      <th>waterbody_None</th>\n",
       "      <th>waterbody_River</th>\n",
       "      <th>bus_ter_YES</th>\n",
       "      <th>price</th>\n",
       "    </tr>\n",
       "  </thead>\n",
       "  <tbody>\n",
       "    <tr>\n",
       "      <th>0</th>\n",
       "      <td>0.03768</td>\n",
       "      <td>31.52</td>\n",
       "      <td>0.404</td>\n",
       "      <td>7.274</td>\n",
       "      <td>38.3</td>\n",
       "      <td>7.53</td>\n",
       "      <td>7.22</td>\n",
       "      <td>7.46</td>\n",
       "      <td>7.03</td>\n",
       "      <td>27.4</td>\n",
       "      <td>...</td>\n",
       "      <td>43.0</td>\n",
       "      <td>0.041174</td>\n",
       "      <td>1.0</td>\n",
       "      <td>0.0</td>\n",
       "      <td>1.0</td>\n",
       "      <td>0.0</td>\n",
       "      <td>0.0</td>\n",
       "      <td>0.0</td>\n",
       "      <td>1.0</td>\n",
       "      <td>34.6</td>\n",
       "    </tr>\n",
       "    <tr>\n",
       "      <th>1</th>\n",
       "      <td>0.44178</td>\n",
       "      <td>36.20</td>\n",
       "      <td>0.504</td>\n",
       "      <td>6.552</td>\n",
       "      <td>21.4</td>\n",
       "      <td>3.56</td>\n",
       "      <td>3.28</td>\n",
       "      <td>3.42</td>\n",
       "      <td>3.23</td>\n",
       "      <td>22.6</td>\n",
       "      <td>...</td>\n",
       "      <td>47.0</td>\n",
       "      <td>0.044352</td>\n",
       "      <td>0.0</td>\n",
       "      <td>1.0</td>\n",
       "      <td>0.0</td>\n",
       "      <td>0.0</td>\n",
       "      <td>1.0</td>\n",
       "      <td>0.0</td>\n",
       "      <td>1.0</td>\n",
       "      <td>31.5</td>\n",
       "    </tr>\n",
       "    <tr>\n",
       "      <th>2</th>\n",
       "      <td>0.04527</td>\n",
       "      <td>41.93</td>\n",
       "      <td>0.573</td>\n",
       "      <td>6.120</td>\n",
       "      <td>76.7</td>\n",
       "      <td>2.44</td>\n",
       "      <td>2.11</td>\n",
       "      <td>2.46</td>\n",
       "      <td>2.14</td>\n",
       "      <td>19.0</td>\n",
       "      <td>...</td>\n",
       "      <td>20.0</td>\n",
       "      <td>0.059903</td>\n",
       "      <td>0.0</td>\n",
       "      <td>1.0</td>\n",
       "      <td>0.0</td>\n",
       "      <td>1.0</td>\n",
       "      <td>0.0</td>\n",
       "      <td>0.0</td>\n",
       "      <td>1.0</td>\n",
       "      <td>20.6</td>\n",
       "    </tr>\n",
       "  </tbody>\n",
       "</table>\n",
       "<p>3 rows × 23 columns</p>\n",
       "</div>"
      ],
      "text/plain": [
       "   crime_rate  resid_area  air_qual  room_num   age  dist1  dist2  dist3  \\\n",
       "0     0.03768       31.52     0.404     7.274  38.3   7.53   7.22   7.46   \n",
       "1     0.44178       36.20     0.504     6.552  21.4   3.56   3.28   3.42   \n",
       "2     0.04527       41.93     0.573     6.120  76.7   2.44   2.11   2.46   \n",
       "\n",
       "   dist4  teachers  ...  rainfall     parks  airport_NO  airport_YES  \\\n",
       "0   7.03      27.4  ...      43.0  0.041174         1.0          0.0   \n",
       "1   3.23      22.6  ...      47.0  0.044352         0.0          1.0   \n",
       "2   2.14      19.0  ...      20.0  0.059903         0.0          1.0   \n",
       "\n",
       "   waterbody_Lake  waterbody_Lake and River  waterbody_None  waterbody_River  \\\n",
       "0             1.0                       0.0             0.0              0.0   \n",
       "1             0.0                       0.0             1.0              0.0   \n",
       "2             0.0                       1.0             0.0              0.0   \n",
       "\n",
       "   bus_ter_YES  price  \n",
       "0          1.0   34.6  \n",
       "1          1.0   31.5  \n",
       "2          1.0   20.6  \n",
       "\n",
       "[3 rows x 23 columns]"
      ]
     },
     "execution_count": 5,
     "metadata": {},
     "output_type": "execute_result"
    }
   ],
   "source": [
    "d_test.head(3)"
   ]
  },
  {
   "cell_type": "code",
   "execution_count": null,
   "id": "0119495a",
   "metadata": {},
   "outputs": [],
   "source": []
  },
  {
   "cell_type": "markdown",
   "id": "480bdcf1",
   "metadata": {},
   "source": [
    "## STEP 2 :  Train - Test Split"
   ]
  },
  {
   "cell_type": "code",
   "execution_count": null,
   "id": "006514d4",
   "metadata": {},
   "outputs": [],
   "source": []
  },
  {
   "cell_type": "code",
   "execution_count": 6,
   "id": "c6bb7372",
   "metadata": {},
   "outputs": [],
   "source": [
    "X_train = d_train.drop(labels= ['price'] , axis = 1)\n",
    "y_train = d_train['price']\n",
    "\n",
    "X_test = d_test.drop(labels= ['price'] , axis = 1)\n",
    "y_test = d_test['price']"
   ]
  },
  {
   "cell_type": "code",
   "execution_count": null,
   "id": "8389fe8f",
   "metadata": {},
   "outputs": [],
   "source": []
  },
  {
   "cell_type": "code",
   "execution_count": 7,
   "id": "ed8b05b0",
   "metadata": {},
   "outputs": [
    {
     "data": {
      "text/plain": [
       "((404, 22), (404,))"
      ]
     },
     "execution_count": 7,
     "metadata": {},
     "output_type": "execute_result"
    }
   ],
   "source": [
    "X_train.shape , y_train.shape"
   ]
  },
  {
   "cell_type": "code",
   "execution_count": 8,
   "id": "b65c102c",
   "metadata": {},
   "outputs": [
    {
     "data": {
      "text/plain": [
       "((102, 22), (102,))"
      ]
     },
     "execution_count": 8,
     "metadata": {},
     "output_type": "execute_result"
    }
   ],
   "source": [
    "X_test.shape , y_test.shape"
   ]
  },
  {
   "cell_type": "code",
   "execution_count": null,
   "id": "40f22657",
   "metadata": {},
   "outputs": [],
   "source": []
  },
  {
   "cell_type": "markdown",
   "id": "4ee11c7e",
   "metadata": {},
   "source": [
    "## STEP 3 : Training models"
   ]
  },
  {
   "cell_type": "code",
   "execution_count": null,
   "id": "18d797ff",
   "metadata": {},
   "outputs": [],
   "source": []
  },
  {
   "cell_type": "code",
   "execution_count": 9,
   "id": "aef2672c",
   "metadata": {},
   "outputs": [],
   "source": [
    "from sklearn.linear_model import LinearRegression\n",
    "from sklearn.svm import SVR\n",
    "\n",
    "from sklearn.tree import DecisionTreeRegressor\n",
    "from sklearn.ensemble import RandomForestRegressor\n",
    "\n",
    "from sklearn.neighbors import KNeighborsRegressor"
   ]
  },
  {
   "cell_type": "code",
   "execution_count": null,
   "id": "2abcda81",
   "metadata": {},
   "outputs": [],
   "source": []
  },
  {
   "cell_type": "code",
   "execution_count": 10,
   "id": "1d4a0236",
   "metadata": {},
   "outputs": [],
   "source": [
    "from sklearn.metrics import mean_squared_error,r2_score"
   ]
  },
  {
   "cell_type": "code",
   "execution_count": null,
   "id": "a517ac3d",
   "metadata": {},
   "outputs": [],
   "source": []
  },
  {
   "cell_type": "markdown",
   "id": "2584dc83",
   "metadata": {},
   "source": [
    "### Various Algorithms for Regression Task : \n",
    "\n",
    "- Linear Regression, Polynomial Regression, Ridge Regression, Lasso Regression, Elastic Net Regression.\n",
    "- Support Vector Regression (SVR),\n",
    "- Decision Tree Regression, \n",
    "- Random Forest Regression, and \n",
    "- Gradient Boosting Regression."
   ]
  },
  {
   "cell_type": "code",
   "execution_count": null,
   "id": "13171651",
   "metadata": {},
   "outputs": [],
   "source": []
  },
  {
   "cell_type": "code",
   "execution_count": 11,
   "id": "581328dd",
   "metadata": {},
   "outputs": [],
   "source": [
    "models = [LinearRegression(), SVR(),KNeighborsRegressor(), DecisionTreeRegressor(), RandomForestRegressor(), ]"
   ]
  },
  {
   "cell_type": "code",
   "execution_count": null,
   "id": "9da5351d",
   "metadata": {},
   "outputs": [],
   "source": []
  },
  {
   "cell_type": "code",
   "execution_count": 12,
   "id": "2055a00d",
   "metadata": {},
   "outputs": [],
   "source": [
    "import warnings\n",
    "warnings.filterwarnings('ignore')"
   ]
  },
  {
   "cell_type": "code",
   "execution_count": null,
   "id": "e508be00",
   "metadata": {},
   "outputs": [],
   "source": []
  },
  {
   "cell_type": "code",
   "execution_count": 13,
   "id": "f53f14be",
   "metadata": {
    "scrolled": true
   },
   "outputs": [],
   "source": [
    "def ModelTraining(ML_models , X_train ,y_train ,X_test,y_test):\n",
    "    \n",
    "    for model in ML_models :\n",
    "\n",
    "        model.fit(X_train.values, y_train)\n",
    "        y_hat_train = model.predict(X_train.values)\n",
    "        y_hat_test = model.predict(X_test.values)\n",
    "\n",
    "        print(f\"******************* \\33[1m{str(model)}\\33[0m *******************\\n\")\n",
    "\n",
    "        print(\"\\33[1mTraining Report :\\33[0m \\n\")\n",
    "        print(\"Mean Squared Error : \",round(mean_squared_error(y_train,y_hat_train),2))\n",
    "        print(\"RMSE : \",round(np.sqrt(mean_squared_error(y_train,y_hat_train)),2))\n",
    "        print(\"R2 Square : \",r2_score(y_train,y_hat_train))\n",
    "\n",
    "        print() \n",
    "\n",
    "        print(\"\\33[1mTesting Report :\\33[0m \\n\")\n",
    "        print(\"Mean Squared Error : \",round(mean_squared_error(y_test,y_hat_test),2))\n",
    "        print(\"RMSE : \",round(np.sqrt(mean_squared_error(y_test,y_hat_test)),2))\n",
    "        print(\"R2 Square : \",r2_score(y_test,y_hat_test))\n",
    "\n",
    "\n",
    "        print()"
   ]
  },
  {
   "cell_type": "code",
   "execution_count": 14,
   "id": "bb5a8c67",
   "metadata": {
    "scrolled": false
   },
   "outputs": [
    {
     "name": "stdout",
     "output_type": "stream",
     "text": [
      "******************* \u001b[1mLinearRegression()\u001b[0m *******************\n",
      "\n",
      "\u001b[1mTraining Report :\u001b[0m \n",
      "\n",
      "Mean Squared Error :  22.69\n",
      "RMSE :  4.76\n",
      "R2 Square :  0.7198030471441095\n",
      "\n",
      "\u001b[1mTesting Report :\u001b[0m \n",
      "\n",
      "Mean Squared Error :  26.25\n",
      "RMSE :  5.12\n",
      "R2 Square :  0.7279578448432433\n",
      "\n",
      "******************* \u001b[1mSVR()\u001b[0m *******************\n",
      "\n",
      "\u001b[1mTraining Report :\u001b[0m \n",
      "\n",
      "Mean Squared Error :  55.69\n",
      "RMSE :  7.46\n",
      "R2 Square :  0.3122522544529428\n",
      "\n",
      "\u001b[1mTesting Report :\u001b[0m \n",
      "\n",
      "Mean Squared Error :  68.48\n",
      "RMSE :  8.28\n",
      "R2 Square :  0.2902806211526078\n",
      "\n",
      "******************* \u001b[1mKNeighborsRegressor()\u001b[0m *******************\n",
      "\n",
      "\u001b[1mTraining Report :\u001b[0m \n",
      "\n",
      "Mean Squared Error :  26.44\n",
      "RMSE :  5.14\n",
      "R2 Square :  0.6734930935951073\n",
      "\n",
      "\u001b[1mTesting Report :\u001b[0m \n",
      "\n",
      "Mean Squared Error :  38.09\n",
      "RMSE :  6.17\n",
      "R2 Square :  0.6052584916720938\n",
      "\n",
      "******************* \u001b[1mDecisionTreeRegressor()\u001b[0m *******************\n",
      "\n",
      "\u001b[1mTraining Report :\u001b[0m \n",
      "\n",
      "Mean Squared Error :  0.0\n",
      "RMSE :  0.0\n",
      "R2 Square :  1.0\n",
      "\n",
      "\u001b[1mTesting Report :\u001b[0m \n",
      "\n",
      "Mean Squared Error :  34.01\n",
      "RMSE :  5.83\n",
      "R2 Square :  0.6475565792707476\n",
      "\n",
      "******************* \u001b[1mRandomForestRegressor()\u001b[0m *******************\n",
      "\n",
      "\u001b[1mTraining Report :\u001b[0m \n",
      "\n",
      "Mean Squared Error :  1.58\n",
      "RMSE :  1.26\n",
      "R2 Square :  0.9804615231343865\n",
      "\n",
      "\u001b[1mTesting Report :\u001b[0m \n",
      "\n",
      "Mean Squared Error :  11.67\n",
      "RMSE :  3.42\n",
      "R2 Square :  0.8790759276313211\n",
      "\n"
     ]
    }
   ],
   "source": [
    "ModelTraining(ML_models = models ,  X_train = X_train ,y_train = y_train ,\n",
    "             X_test = X_test, y_test = y_test)"
   ]
  },
  {
   "cell_type": "code",
   "execution_count": null,
   "id": "9cf5ad61",
   "metadata": {},
   "outputs": [],
   "source": []
  },
  {
   "cell_type": "code",
   "execution_count": 15,
   "id": "3e3d1d76",
   "metadata": {},
   "outputs": [
    {
     "data": {
      "text/plain": [
       "count    102.000000\n",
       "mean      22.129412\n",
       "std        9.871397\n",
       "min        6.300000\n",
       "25%       15.575000\n",
       "50%       20.900000\n",
       "75%       24.650000\n",
       "max       50.000000\n",
       "Name: price, dtype: float64"
      ]
     },
     "execution_count": 15,
     "metadata": {},
     "output_type": "execute_result"
    }
   ],
   "source": [
    "y_test.describe()"
   ]
  },
  {
   "cell_type": "code",
   "execution_count": null,
   "id": "bbceedeb",
   "metadata": {},
   "outputs": [],
   "source": []
  },
  {
   "cell_type": "code",
   "execution_count": null,
   "id": "20fc1da3",
   "metadata": {},
   "outputs": [],
   "source": []
  }
 ],
 "metadata": {
  "kernelspec": {
   "display_name": "Python 3 (ipykernel)",
   "language": "python",
   "name": "python3"
  },
  "language_info": {
   "codemirror_mode": {
    "name": "ipython",
    "version": 3
   },
   "file_extension": ".py",
   "mimetype": "text/x-python",
   "name": "python",
   "nbconvert_exporter": "python",
   "pygments_lexer": "ipython3",
   "version": "3.10.9"
  }
 },
 "nbformat": 4,
 "nbformat_minor": 5
}
