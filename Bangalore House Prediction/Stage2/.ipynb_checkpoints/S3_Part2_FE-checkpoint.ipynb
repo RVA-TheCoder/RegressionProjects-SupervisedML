{
 "cells": [
  {
   "cell_type": "code",
   "execution_count": 1,
   "id": "d88e4c19",
   "metadata": {},
   "outputs": [],
   "source": [
    "import pandas as pd\n",
    "import numpy as np\n",
    "import matplotlib.pyplot as plt\n",
    "import seaborn as sns"
   ]
  },
  {
   "cell_type": "code",
   "execution_count": null,
   "id": "a1cc84c2",
   "metadata": {},
   "outputs": [],
   "source": []
  },
  {
   "cell_type": "markdown",
   "id": "b36908ef",
   "metadata": {},
   "source": [
    "## STEP 1 : Data Collection"
   ]
  },
  {
   "cell_type": "code",
   "execution_count": null,
   "id": "aba15aa8",
   "metadata": {},
   "outputs": [],
   "source": []
  },
  {
   "cell_type": "code",
   "execution_count": 2,
   "id": "3dfd557a",
   "metadata": {},
   "outputs": [],
   "source": [
    "filepath_House_Price = r\"C:\\Users\\aakas\\PythonStuff\\Regression_udemy\\resources\\Linear_Regression\\House_Price.csv\"\n"
   ]
  },
  {
   "cell_type": "code",
   "execution_count": 3,
   "id": "e4092c25",
   "metadata": {},
   "outputs": [],
   "source": [
    "houses = pd.read_csv(filepath_House_Price , header = 0 )"
   ]
  },
  {
   "cell_type": "code",
   "execution_count": null,
   "id": "454e7b9e",
   "metadata": {},
   "outputs": [],
   "source": []
  },
  {
   "cell_type": "code",
   "execution_count": 4,
   "id": "889cbe16",
   "metadata": {},
   "outputs": [],
   "source": [
    "df = houses.copy()"
   ]
  },
  {
   "cell_type": "code",
   "execution_count": 5,
   "id": "d1f5ce39",
   "metadata": {},
   "outputs": [
    {
     "data": {
      "text/html": [
       "<div>\n",
       "<style scoped>\n",
       "    .dataframe tbody tr th:only-of-type {\n",
       "        vertical-align: middle;\n",
       "    }\n",
       "\n",
       "    .dataframe tbody tr th {\n",
       "        vertical-align: top;\n",
       "    }\n",
       "\n",
       "    .dataframe thead th {\n",
       "        text-align: right;\n",
       "    }\n",
       "</style>\n",
       "<table border=\"1\" class=\"dataframe\">\n",
       "  <thead>\n",
       "    <tr style=\"text-align: right;\">\n",
       "      <th></th>\n",
       "      <th>price</th>\n",
       "      <th>crime_rate</th>\n",
       "      <th>resid_area</th>\n",
       "      <th>air_qual</th>\n",
       "      <th>room_num</th>\n",
       "      <th>age</th>\n",
       "      <th>dist1</th>\n",
       "      <th>dist2</th>\n",
       "      <th>dist3</th>\n",
       "      <th>dist4</th>\n",
       "      <th>teachers</th>\n",
       "      <th>poor_prop</th>\n",
       "      <th>airport</th>\n",
       "      <th>n_hos_beds</th>\n",
       "      <th>n_hot_rooms</th>\n",
       "      <th>waterbody</th>\n",
       "      <th>rainfall</th>\n",
       "      <th>bus_ter</th>\n",
       "      <th>parks</th>\n",
       "    </tr>\n",
       "  </thead>\n",
       "  <tbody>\n",
       "    <tr>\n",
       "      <th>0</th>\n",
       "      <td>24.0</td>\n",
       "      <td>0.00632</td>\n",
       "      <td>32.31</td>\n",
       "      <td>0.538</td>\n",
       "      <td>6.575</td>\n",
       "      <td>65.2</td>\n",
       "      <td>4.35</td>\n",
       "      <td>3.81</td>\n",
       "      <td>4.18</td>\n",
       "      <td>4.01</td>\n",
       "      <td>24.7</td>\n",
       "      <td>4.98</td>\n",
       "      <td>YES</td>\n",
       "      <td>5.480</td>\n",
       "      <td>11.1920</td>\n",
       "      <td>River</td>\n",
       "      <td>23</td>\n",
       "      <td>YES</td>\n",
       "      <td>0.049347</td>\n",
       "    </tr>\n",
       "    <tr>\n",
       "      <th>1</th>\n",
       "      <td>21.6</td>\n",
       "      <td>0.02731</td>\n",
       "      <td>37.07</td>\n",
       "      <td>0.469</td>\n",
       "      <td>6.421</td>\n",
       "      <td>78.9</td>\n",
       "      <td>4.99</td>\n",
       "      <td>4.70</td>\n",
       "      <td>5.12</td>\n",
       "      <td>5.06</td>\n",
       "      <td>22.2</td>\n",
       "      <td>9.14</td>\n",
       "      <td>NO</td>\n",
       "      <td>7.332</td>\n",
       "      <td>12.1728</td>\n",
       "      <td>Lake</td>\n",
       "      <td>42</td>\n",
       "      <td>YES</td>\n",
       "      <td>0.046146</td>\n",
       "    </tr>\n",
       "    <tr>\n",
       "      <th>2</th>\n",
       "      <td>34.7</td>\n",
       "      <td>0.02729</td>\n",
       "      <td>37.07</td>\n",
       "      <td>0.469</td>\n",
       "      <td>7.185</td>\n",
       "      <td>61.1</td>\n",
       "      <td>5.03</td>\n",
       "      <td>4.86</td>\n",
       "      <td>5.01</td>\n",
       "      <td>4.97</td>\n",
       "      <td>22.2</td>\n",
       "      <td>4.03</td>\n",
       "      <td>NO</td>\n",
       "      <td>7.394</td>\n",
       "      <td>101.1200</td>\n",
       "      <td>None</td>\n",
       "      <td>38</td>\n",
       "      <td>YES</td>\n",
       "      <td>0.045764</td>\n",
       "    </tr>\n",
       "    <tr>\n",
       "      <th>3</th>\n",
       "      <td>33.4</td>\n",
       "      <td>0.03237</td>\n",
       "      <td>32.18</td>\n",
       "      <td>0.458</td>\n",
       "      <td>6.998</td>\n",
       "      <td>45.8</td>\n",
       "      <td>6.21</td>\n",
       "      <td>5.93</td>\n",
       "      <td>6.16</td>\n",
       "      <td>5.96</td>\n",
       "      <td>21.3</td>\n",
       "      <td>2.94</td>\n",
       "      <td>YES</td>\n",
       "      <td>9.268</td>\n",
       "      <td>11.2672</td>\n",
       "      <td>Lake</td>\n",
       "      <td>45</td>\n",
       "      <td>YES</td>\n",
       "      <td>0.047151</td>\n",
       "    </tr>\n",
       "    <tr>\n",
       "      <th>4</th>\n",
       "      <td>36.2</td>\n",
       "      <td>0.06905</td>\n",
       "      <td>32.18</td>\n",
       "      <td>0.458</td>\n",
       "      <td>7.147</td>\n",
       "      <td>54.2</td>\n",
       "      <td>6.16</td>\n",
       "      <td>5.86</td>\n",
       "      <td>6.37</td>\n",
       "      <td>5.86</td>\n",
       "      <td>21.3</td>\n",
       "      <td>5.33</td>\n",
       "      <td>NO</td>\n",
       "      <td>8.824</td>\n",
       "      <td>11.2896</td>\n",
       "      <td>Lake</td>\n",
       "      <td>55</td>\n",
       "      <td>YES</td>\n",
       "      <td>0.039474</td>\n",
       "    </tr>\n",
       "  </tbody>\n",
       "</table>\n",
       "</div>"
      ],
      "text/plain": [
       "   price  crime_rate  resid_area  air_qual  room_num   age  dist1  dist2  \\\n",
       "0   24.0     0.00632       32.31     0.538     6.575  65.2   4.35   3.81   \n",
       "1   21.6     0.02731       37.07     0.469     6.421  78.9   4.99   4.70   \n",
       "2   34.7     0.02729       37.07     0.469     7.185  61.1   5.03   4.86   \n",
       "3   33.4     0.03237       32.18     0.458     6.998  45.8   6.21   5.93   \n",
       "4   36.2     0.06905       32.18     0.458     7.147  54.2   6.16   5.86   \n",
       "\n",
       "   dist3  dist4  teachers  poor_prop airport  n_hos_beds  n_hot_rooms  \\\n",
       "0   4.18   4.01      24.7       4.98     YES       5.480      11.1920   \n",
       "1   5.12   5.06      22.2       9.14      NO       7.332      12.1728   \n",
       "2   5.01   4.97      22.2       4.03      NO       7.394     101.1200   \n",
       "3   6.16   5.96      21.3       2.94     YES       9.268      11.2672   \n",
       "4   6.37   5.86      21.3       5.33      NO       8.824      11.2896   \n",
       "\n",
       "  waterbody  rainfall bus_ter     parks  \n",
       "0     River        23     YES  0.049347  \n",
       "1      Lake        42     YES  0.046146  \n",
       "2      None        38     YES  0.045764  \n",
       "3      Lake        45     YES  0.047151  \n",
       "4      Lake        55     YES  0.039474  "
      ]
     },
     "execution_count": 5,
     "metadata": {},
     "output_type": "execute_result"
    }
   ],
   "source": [
    "df.head()"
   ]
  },
  {
   "cell_type": "code",
   "execution_count": 1,
   "id": "2b347da3",
   "metadata": {},
   "outputs": [],
   "source": [
    "# df[df['crime_rate'] < 0]"
   ]
  },
  {
   "cell_type": "code",
   "execution_count": null,
   "id": "a97c6d64",
   "metadata": {},
   "outputs": [],
   "source": []
  },
  {
   "cell_type": "code",
   "execution_count": null,
   "id": "dcc5bb48",
   "metadata": {},
   "outputs": [],
   "source": []
  },
  {
   "cell_type": "code",
   "execution_count": 7,
   "id": "15069ef7",
   "metadata": {},
   "outputs": [
    {
     "data": {
      "text/plain": [
       "Index(['price', 'crime_rate', 'resid_area', 'air_qual', 'room_num', 'age',\n",
       "       'dist1', 'dist2', 'dist3', 'dist4', 'teachers', 'poor_prop', 'airport',\n",
       "       'n_hos_beds', 'n_hot_rooms', 'waterbody', 'rainfall', 'bus_ter',\n",
       "       'parks'],\n",
       "      dtype='object')"
      ]
     },
     "execution_count": 7,
     "metadata": {},
     "output_type": "execute_result"
    }
   ],
   "source": [
    "houses.columns"
   ]
  },
  {
   "cell_type": "markdown",
   "id": "228b4e86",
   "metadata": {},
   "source": [
    "## 2. Feature Enginnering"
   ]
  },
  {
   "cell_type": "code",
   "execution_count": null,
   "id": "9f1908ae",
   "metadata": {},
   "outputs": [],
   "source": []
  },
  {
   "cell_type": "markdown",
   "id": "9c78be6c",
   "metadata": {},
   "source": [
    "    price          1.000000\n",
    "    poor_prop     -0.740836\n",
    "    room_num       0.696304\n",
    "    teachers       0.505655\n",
    "    resid_area    -0.484754\n",
    "    air_qual      -0.429300\n",
    "    parks         -0.391574\n",
    "    crime_rate    -0.389582\n",
    "    age           -0.377999\n",
    "    dist1          0.251355\n",
    "    dist2          0.249459\n",
    "    dist4          0.248200\n",
    "    dist3          0.246650\n",
    "    n_hos_beds     0.109646\n",
    "    rainfall      -0.047426\n",
    "    n_hot_rooms    0.023122"
   ]
  },
  {
   "cell_type": "markdown",
   "id": "4a1c7cba",
   "metadata": {},
   "source": [
    "### (i) crime_rate vs price has 1/x plot"
   ]
  },
  {
   "cell_type": "markdown",
   "id": "7930fbb3",
   "metadata": {},
   "source": [
    "    crime_rate    -0.389582"
   ]
  },
  {
   "cell_type": "code",
   "execution_count": null,
   "id": "6b1d715b",
   "metadata": {},
   "outputs": [],
   "source": []
  },
  {
   "cell_type": "code",
   "execution_count": 8,
   "id": "59dde2e2",
   "metadata": {},
   "outputs": [],
   "source": [
    "# df['crime_rate'] = -np.log(1) + np.log(df['crime_rate'])    : -0.457303\n",
    "df['crime_rate'] = np.log(df['crime_rate'])"
   ]
  },
  {
   "cell_type": "code",
   "execution_count": null,
   "id": "ca4659c2",
   "metadata": {},
   "outputs": [],
   "source": []
  },
  {
   "cell_type": "code",
   "execution_count": 9,
   "id": "26c7bd58",
   "metadata": {
    "scrolled": false
   },
   "outputs": [
    {
     "data": {
      "image/png": "[encoded data removed]",
      "text/plain": [
       "<Figure size 500x400 with 1 Axes>"
      ]
     },
     "metadata": {},
     "output_type": "display_data"
    }
   ],
   "source": [
    "plt.figure(figsize = (5,4))\n",
    "plt.scatter(x = df['crime_rate'] , y = df['price']  )\n",
    "\n",
    "plt.show()"
   ]
  },
  {
   "cell_type": "code",
   "execution_count": null,
   "id": "57b43294",
   "metadata": {},
   "outputs": [],
   "source": []
  },
  {
   "cell_type": "code",
   "execution_count": 10,
   "id": "03650c4a",
   "metadata": {
    "scrolled": true
   },
   "outputs": [
    {
     "data": {
      "text/plain": [
       "price          1.000000\n",
       "poor_prop     -0.740836\n",
       "room_num       0.696304\n",
       "teachers       0.505655\n",
       "resid_area    -0.484754\n",
       "crime_rate    -0.457303\n",
       "air_qual      -0.429300\n",
       "parks         -0.391574\n",
       "age           -0.377999\n",
       "dist1          0.251355\n",
       "dist2          0.249459\n",
       "dist4          0.248200\n",
       "dist3          0.246650\n",
       "n_hos_beds     0.109646\n",
       "rainfall      -0.047426\n",
       "n_hot_rooms    0.023122\n",
       "dtype: float64"
      ]
     },
     "execution_count": 10,
     "metadata": {},
     "output_type": "execute_result"
    }
   ],
   "source": [
    "df.corrwith(other = houses['price'] ,numeric_only= True).sort_values(ascending=False, \n",
    "                                                                         key=lambda x: abs(x))"
   ]
  },
  {
   "cell_type": "code",
   "execution_count": null,
   "id": "afb47794",
   "metadata": {},
   "outputs": [],
   "source": []
  },
  {
   "cell_type": "markdown",
   "id": "f7e5c47b",
   "metadata": {},
   "source": [
    "### (ii) resid_area vs price has 1/x plot"
   ]
  },
  {
   "cell_type": "code",
   "execution_count": null,
   "id": "cf446282",
   "metadata": {},
   "outputs": [],
   "source": []
  },
  {
   "cell_type": "code",
   "execution_count": 9,
   "id": "ab9ac843",
   "metadata": {},
   "outputs": [],
   "source": [
    "# df['resid_area'] = np.log(df['resid_area'])"
   ]
  },
  {
   "cell_type": "code",
   "execution_count": null,
   "id": "aa14243a",
   "metadata": {},
   "outputs": [],
   "source": []
  },
  {
   "cell_type": "code",
   "execution_count": 10,
   "id": "93a2bf05",
   "metadata": {},
   "outputs": [],
   "source": [
    "# plt.scatter(x = df['resid_area'] , y = df['price'])"
   ]
  },
  {
   "cell_type": "code",
   "execution_count": null,
   "id": "1aeef8da",
   "metadata": {},
   "outputs": [],
   "source": []
  },
  {
   "cell_type": "code",
   "execution_count": 11,
   "id": "d0a28083",
   "metadata": {},
   "outputs": [],
   "source": [
    "# print(\"Max :\" ,df['resid_area'].max())\n",
    "# print(\"Min : \",df['resid_area'].min())"
   ]
  },
  {
   "cell_type": "markdown",
   "id": "ccb3bdf7",
   "metadata": {},
   "source": [
    "    Max : -0.7083641463648056\n",
    "    Min :  -1.3478999731325794"
   ]
  },
  {
   "cell_type": "code",
   "execution_count": null,
   "id": "8692ec31",
   "metadata": {},
   "outputs": [],
   "source": []
  },
  {
   "cell_type": "code",
   "execution_count": 12,
   "id": "40a401bc",
   "metadata": {},
   "outputs": [],
   "source": [
    "# df.corrwith(other = houses['price'] ,numeric_only= True).sort_values(ascending=False, \n",
    "#                                                                          key=lambda x: abs(x))\n",
    "\n",
    "# Conclusion : Slight change so no need to do FE  : resid_area    -0.496515"
   ]
  },
  {
   "cell_type": "code",
   "execution_count": null,
   "id": "ec652dbb",
   "metadata": {},
   "outputs": [],
   "source": []
  },
  {
   "cell_type": "markdown",
   "id": "33c255ac",
   "metadata": {},
   "source": [
    "### (iii) poor_prop vs price has 1/x plot"
   ]
  },
  {
   "cell_type": "code",
   "execution_count": null,
   "id": "109fdf3d",
   "metadata": {},
   "outputs": [],
   "source": []
  },
  {
   "cell_type": "code",
   "execution_count": 11,
   "id": "b246667c",
   "metadata": {},
   "outputs": [],
   "source": [
    "df['poor_prop'] = np.log(df['poor_prop'])"
   ]
  },
  {
   "cell_type": "code",
   "execution_count": null,
   "id": "0eccde81",
   "metadata": {},
   "outputs": [],
   "source": []
  },
  {
   "cell_type": "code",
   "execution_count": 12,
   "id": "c21a5832",
   "metadata": {},
   "outputs": [
    {
     "data": {
      "text/plain": [
       "<matplotlib.collections.PathCollection at 0x24070ea7610>"
      ]
     },
     "execution_count": 12,
     "metadata": {},
     "output_type": "execute_result"
    },
    {
     "data": {
      "image/png": "[encoded data removed]",
      "text/plain": [
       "<Figure size 640x480 with 1 Axes>"
      ]
     },
     "metadata": {},
     "output_type": "display_data"
    }
   ],
   "source": [
    "plt.scatter(x = df['poor_prop'] , y = df['price'])\n",
    "\n",
    "plt.show()"
   ]
  },
  {
   "cell_type": "code",
   "execution_count": null,
   "id": "b241f5c7",
   "metadata": {},
   "outputs": [],
   "source": []
  },
  {
   "cell_type": "code",
   "execution_count": 13,
   "id": "138276f8",
   "metadata": {},
   "outputs": [
    {
     "data": {
      "text/plain": [
       "price          1.000000\n",
       "poor_prop     -0.818237\n",
       "room_num       0.696304\n",
       "teachers       0.505655\n",
       "resid_area    -0.484754\n",
       "crime_rate    -0.457303\n",
       "air_qual      -0.429300\n",
       "parks         -0.391574\n",
       "age           -0.377999\n",
       "dist1          0.251355\n",
       "dist2          0.249459\n",
       "dist4          0.248200\n",
       "dist3          0.246650\n",
       "n_hos_beds     0.109646\n",
       "rainfall      -0.047426\n",
       "n_hot_rooms    0.023122\n",
       "dtype: float64"
      ]
     },
     "execution_count": 13,
     "metadata": {},
     "output_type": "execute_result"
    }
   ],
   "source": [
    "df.corrwith(other = houses['price'] ,numeric_only= True).sort_values(ascending=False, \n",
    "                                                                         key=lambda x: abs(x))"
   ]
  },
  {
   "cell_type": "markdown",
   "id": "4c39f43e",
   "metadata": {},
   "source": [
    "    poor_prop =     0.818237   :  10/x"
   ]
  },
  {
   "cell_type": "code",
   "execution_count": null,
   "id": "58a9af35",
   "metadata": {},
   "outputs": [],
   "source": []
  },
  {
   "cell_type": "code",
   "execution_count": 14,
   "id": "a291d900",
   "metadata": {},
   "outputs": [],
   "source": [
    "df['dist'] = (df['dist1'] + df['dist2'] + df['dist3'] + df['dist4'] )/4"
   ]
  },
  {
   "cell_type": "code",
   "execution_count": null,
   "id": "2e2359ae",
   "metadata": {},
   "outputs": [],
   "source": []
  },
  {
   "cell_type": "code",
   "execution_count": 15,
   "id": "5c99b408",
   "metadata": {},
   "outputs": [
    {
     "data": {
      "text/plain": [
       "0      4.0875\n",
       "1      4.9675\n",
       "2      4.9675\n",
       "3      6.0650\n",
       "4      6.0625\n",
       "        ...  \n",
       "501    2.4775\n",
       "502    2.2875\n",
       "503    2.1675\n",
       "504    2.3900\n",
       "505    2.5050\n",
       "Name: dist, Length: 506, dtype: float64"
      ]
     },
     "execution_count": 15,
     "metadata": {},
     "output_type": "execute_result"
    }
   ],
   "source": [
    "df['dist']"
   ]
  },
  {
   "cell_type": "code",
   "execution_count": null,
   "id": "2271a061",
   "metadata": {},
   "outputs": [],
   "source": []
  },
  {
   "cell_type": "code",
   "execution_count": 17,
   "id": "c92cd565",
   "metadata": {},
   "outputs": [
    {
     "data": {
      "text/plain": [
       "Index(['price', 'crime_rate', 'resid_area', 'air_qual', 'room_num', 'age',\n",
       "       'dist1', 'dist2', 'dist3', 'dist4', 'teachers', 'poor_prop', 'airport',\n",
       "       'n_hos_beds', 'n_hot_rooms', 'waterbody', 'rainfall', 'bus_ter',\n",
       "       'parks', 'dist'],\n",
       "      dtype='object')"
      ]
     },
     "execution_count": 17,
     "metadata": {},
     "output_type": "execute_result"
    }
   ],
   "source": [
    "df.columns"
   ]
  },
  {
   "cell_type": "code",
   "execution_count": null,
   "id": "0d01acac",
   "metadata": {},
   "outputs": [],
   "source": []
  },
  {
   "cell_type": "code",
   "execution_count": null,
   "id": "9e479863",
   "metadata": {},
   "outputs": [],
   "source": []
  },
  {
   "cell_type": "code",
   "execution_count": null,
   "id": "47a014d1",
   "metadata": {},
   "outputs": [],
   "source": []
  },
  {
   "cell_type": "code",
   "execution_count": 18,
   "id": "4b4ba3a1",
   "metadata": {},
   "outputs": [],
   "source": [
    "df.drop(labels = ['dist1', 'dist2', 'dist3', 'dist4'] ,axis = 1 , inplace = True)"
   ]
  },
  {
   "cell_type": "code",
   "execution_count": null,
   "id": "62215592",
   "metadata": {},
   "outputs": [],
   "source": []
  },
  {
   "cell_type": "code",
   "execution_count": 19,
   "id": "05b154f4",
   "metadata": {},
   "outputs": [
    {
     "data": {
      "text/plain": [
       "Index(['price', 'crime_rate', 'resid_area', 'air_qual', 'room_num', 'age',\n",
       "       'teachers', 'poor_prop', 'airport', 'n_hos_beds', 'n_hot_rooms',\n",
       "       'waterbody', 'rainfall', 'bus_ter', 'parks', 'dist'],\n",
       "      dtype='object')"
      ]
     },
     "execution_count": 19,
     "metadata": {},
     "output_type": "execute_result"
    }
   ],
   "source": [
    "df.columns"
   ]
  },
  {
   "cell_type": "code",
   "execution_count": 20,
   "id": "f283a971",
   "metadata": {},
   "outputs": [
    {
     "data": {
      "text/plain": [
       "price          1.000000\n",
       "poor_prop     -0.818237\n",
       "room_num       0.696304\n",
       "teachers       0.505655\n",
       "resid_area    -0.484754\n",
       "crime_rate    -0.457303\n",
       "air_qual      -0.429300\n",
       "parks         -0.391574\n",
       "age           -0.377999\n",
       "dist           0.249289\n",
       "n_hos_beds     0.109646\n",
       "rainfall      -0.047426\n",
       "n_hot_rooms    0.023122\n",
       "dtype: float64"
      ]
     },
     "execution_count": 20,
     "metadata": {},
     "output_type": "execute_result"
    }
   ],
   "source": [
    "df.corrwith(other = houses['price'] ,numeric_only= True).sort_values(ascending=False, \n",
    "                                                                         key=lambda x: abs(x))"
   ]
  },
  {
   "cell_type": "code",
   "execution_count": null,
   "id": "74cb5e9a",
   "metadata": {},
   "outputs": [],
   "source": []
  },
  {
   "cell_type": "markdown",
   "id": "4931b8f8",
   "metadata": {},
   "source": [
    "## 3. Multi-Variate Analysis"
   ]
  },
  {
   "cell_type": "code",
   "execution_count": null,
   "id": "c589165b",
   "metadata": {},
   "outputs": [],
   "source": []
  },
  {
   "cell_type": "markdown",
   "id": "f4999d9f",
   "metadata": {},
   "source": [
    "#### From correlation analysis following conclusions have been made:\n",
    "\n",
    " \n",
    "- **dist1** is highly correlated with **dist2**, **dist3** & **dist4** with correlation coefficent >=0.99\n",
    "- **air_quality** is highly correlated with **parks** with Correlation coefficient = 0.92\n",
    "\n",
    "#### so checking them for multicollinarity\n",
    "\n",
    "- **Threshold value** of VIF is : VIF >= 10 for dropping a column\n",
    "\n"
   ]
  },
  {
   "cell_type": "code",
   "execution_count": null,
   "id": "38124fdb",
   "metadata": {},
   "outputs": [],
   "source": []
  },
  {
   "cell_type": "code",
   "execution_count": 21,
   "id": "ca349177",
   "metadata": {},
   "outputs": [
    {
     "data": {
      "text/plain": [
       "Index(['price', 'crime_rate', 'resid_area', 'air_qual', 'room_num', 'age',\n",
       "       'teachers', 'poor_prop', 'airport', 'n_hos_beds', 'n_hot_rooms',\n",
       "       'waterbody', 'rainfall', 'bus_ter', 'parks', 'dist'],\n",
       "      dtype='object')"
      ]
     },
     "execution_count": 21,
     "metadata": {},
     "output_type": "execute_result"
    }
   ],
   "source": [
    "df.columns"
   ]
  },
  {
   "cell_type": "code",
   "execution_count": null,
   "id": "55223c3b",
   "metadata": {},
   "outputs": [],
   "source": []
  },
  {
   "cell_type": "code",
   "execution_count": 22,
   "id": "c4776237",
   "metadata": {},
   "outputs": [],
   "source": [
    "mc_feat = ['resid_area' , 'room_num' ,'teachers' , 'poor_prop','dist','parks','air_qual']"
   ]
  },
  {
   "cell_type": "code",
   "execution_count": null,
   "id": "b487dc6b",
   "metadata": {},
   "outputs": [],
   "source": []
  },
  {
   "cell_type": "code",
   "execution_count": 23,
   "id": "f1beb81c",
   "metadata": {},
   "outputs": [],
   "source": [
    "from statsmodels.stats.outliers_influence import variance_inflation_factor\n",
    "from statsmodels.tools.tools import add_constant"
   ]
  },
  {
   "cell_type": "code",
   "execution_count": null,
   "id": "2663baa5",
   "metadata": {},
   "outputs": [],
   "source": []
  },
  {
   "cell_type": "markdown",
   "id": "7a9e19c4",
   "metadata": {},
   "source": [
    "#### Syntax : variance_inflation_factor(exog, exog_idx)\n",
    "\n",
    "- **Explanation :**\n",
    "\n",
    "    One recommendation is that if VIF is greater than 5, then the explanatory variable given by \n",
    "\n",
    "    'exog_idx' is highly collinear with the other explanatory variables, and \n",
    "\n",
    "    the parameter estimates will have large standard errors because of this."
   ]
  },
  {
   "cell_type": "code",
   "execution_count": null,
   "id": "00dffeee",
   "metadata": {},
   "outputs": [],
   "source": []
  },
  {
   "cell_type": "code",
   "execution_count": 24,
   "id": "0161a1cd",
   "metadata": {},
   "outputs": [],
   "source": [
    "df_houses = df.copy()"
   ]
  },
  {
   "cell_type": "code",
   "execution_count": null,
   "id": "2a4a7373",
   "metadata": {},
   "outputs": [],
   "source": []
  },
  {
   "cell_type": "code",
   "execution_count": 25,
   "id": "f44e0175",
   "metadata": {},
   "outputs": [
    {
     "data": {
      "text/plain": [
       "506"
      ]
     },
     "execution_count": 25,
     "metadata": {},
     "output_type": "execute_result"
    }
   ],
   "source": [
    "len(df_houses)"
   ]
  },
  {
   "cell_type": "code",
   "execution_count": null,
   "id": "a7511545",
   "metadata": {},
   "outputs": [],
   "source": []
  },
  {
   "cell_type": "markdown",
   "id": "0a5f7fb7",
   "metadata": {},
   "source": [
    "## before this do the pipeline and merge the Dataframe"
   ]
  },
  {
   "cell_type": "code",
   "execution_count": 26,
   "id": "460e0524",
   "metadata": {},
   "outputs": [],
   "source": [
    "df_houses.dropna(inplace = True)      # we donot want the dropna  functionality"
   ]
  },
  {
   "cell_type": "code",
   "execution_count": 27,
   "id": "fd539cf9",
   "metadata": {},
   "outputs": [
    {
     "data": {
      "text/plain": [
       "498"
      ]
     },
     "execution_count": 27,
     "metadata": {},
     "output_type": "execute_result"
    }
   ],
   "source": [
    "len(df_houses)"
   ]
  },
  {
   "cell_type": "code",
   "execution_count": null,
   "id": "a55569f0",
   "metadata": {},
   "outputs": [],
   "source": []
  },
  {
   "cell_type": "code",
   "execution_count": 28,
   "id": "dd5ffa39",
   "metadata": {},
   "outputs": [],
   "source": [
    "# Defining custom function for calculating VIF\n",
    "\n",
    "def compute_vif(feature_list ,dataframe):\n",
    "    \n",
    "    X = dataframe[feature_list]\n",
    "    \n",
    "    # Dropping any NaN values\n",
    "    X.dropna(inplace = True)\n",
    "    \n",
    "    # Adding constant column in X\n",
    "    X  = add_constant(X ,prepend=True)\n",
    "    \n",
    "    # Creating DF for storing VIF values\n",
    "    vif = pd.DataFrame()\n",
    "    vif['variable'] = X.columns\n",
    "    \n",
    "    \n",
    "    vif['VIF'] = [variance_inflation_factor(X.values ,i) for i in range(X.shape[1])]\n",
    "    \n",
    "    vif = vif[vif['variable'] != 'const']\n",
    "    \n",
    "    return vif"
   ]
  },
  {
   "cell_type": "code",
   "execution_count": null,
   "id": "127468d6",
   "metadata": {},
   "outputs": [],
   "source": []
  },
  {
   "cell_type": "code",
   "execution_count": null,
   "id": "d9a83ce7",
   "metadata": {},
   "outputs": [],
   "source": []
  },
  {
   "cell_type": "code",
   "execution_count": 29,
   "id": "51507f35",
   "metadata": {},
   "outputs": [
    {
     "data": {
      "text/plain": [
       "['resid_area',\n",
       " 'room_num',\n",
       " 'teachers',\n",
       " 'poor_prop',\n",
       " 'dist',\n",
       " 'parks',\n",
       " 'air_qual']"
      ]
     },
     "execution_count": 29,
     "metadata": {},
     "output_type": "execute_result"
    }
   ],
   "source": [
    "mc_feat"
   ]
  },
  {
   "cell_type": "code",
   "execution_count": null,
   "id": "aa155632",
   "metadata": {},
   "outputs": [],
   "source": []
  },
  {
   "cell_type": "code",
   "execution_count": 30,
   "id": "221ed78b",
   "metadata": {},
   "outputs": [
    {
     "name": "stderr",
     "output_type": "stream",
     "text": [
      "C:\\Users\\aakas\\AppData\\Local\\Temp\\ipykernel_12292\\2931035945.py:8: SettingWithCopyWarning: \n",
      "A value is trying to be set on a copy of a slice from a DataFrame\n",
      "\n",
      "See the caveats in the documentation: https://pandas.pydata.org/pandas-docs/stable/user_guide/indexing.html#returning-a-view-versus-a-copy\n",
      "  X.dropna(inplace = True)\n"
     ]
    },
    {
     "data": {
      "text/html": [
       "<div>\n",
       "<style scoped>\n",
       "    .dataframe tbody tr th:only-of-type {\n",
       "        vertical-align: middle;\n",
       "    }\n",
       "\n",
       "    .dataframe tbody tr th {\n",
       "        vertical-align: top;\n",
       "    }\n",
       "\n",
       "    .dataframe thead th {\n",
       "        text-align: right;\n",
       "    }\n",
       "</style>\n",
       "<table border=\"1\" class=\"dataframe\">\n",
       "  <thead>\n",
       "    <tr style=\"text-align: right;\">\n",
       "      <th></th>\n",
       "      <th>variable</th>\n",
       "      <th>VIF</th>\n",
       "    </tr>\n",
       "  </thead>\n",
       "  <tbody>\n",
       "    <tr>\n",
       "      <th>1</th>\n",
       "      <td>resid_area</td>\n",
       "      <td>3.148868</td>\n",
       "    </tr>\n",
       "    <tr>\n",
       "      <th>2</th>\n",
       "      <td>room_num</td>\n",
       "      <td>1.906034</td>\n",
       "    </tr>\n",
       "    <tr>\n",
       "      <th>3</th>\n",
       "      <td>teachers</td>\n",
       "      <td>1.342233</td>\n",
       "    </tr>\n",
       "    <tr>\n",
       "      <th>4</th>\n",
       "      <td>poor_prop</td>\n",
       "      <td>2.709285</td>\n",
       "    </tr>\n",
       "    <tr>\n",
       "      <th>5</th>\n",
       "      <td>dist</td>\n",
       "      <td>2.751577</td>\n",
       "    </tr>\n",
       "    <tr>\n",
       "      <th>6</th>\n",
       "      <td>parks</td>\n",
       "      <td>6.136646</td>\n",
       "    </tr>\n",
       "    <tr>\n",
       "      <th>7</th>\n",
       "      <td>air_qual</td>\n",
       "      <td>8.467899</td>\n",
       "    </tr>\n",
       "  </tbody>\n",
       "</table>\n",
       "</div>"
      ],
      "text/plain": [
       "     variable       VIF\n",
       "1  resid_area  3.148868\n",
       "2    room_num  1.906034\n",
       "3    teachers  1.342233\n",
       "4   poor_prop  2.709285\n",
       "5        dist  2.751577\n",
       "6       parks  6.136646\n",
       "7    air_qual  8.467899"
      ]
     },
     "execution_count": 30,
     "metadata": {},
     "output_type": "execute_result"
    }
   ],
   "source": [
    "compute_vif(feature_list = mc_feat ,dataframe = df_houses)"
   ]
  },
  {
   "cell_type": "code",
   "execution_count": null,
   "id": "91e2403f",
   "metadata": {},
   "outputs": [],
   "source": []
  },
  {
   "cell_type": "code",
   "execution_count": null,
   "id": "8bb87679",
   "metadata": {},
   "outputs": [],
   "source": []
  },
  {
   "cell_type": "code",
   "execution_count": 34,
   "id": "d65e9b92",
   "metadata": {},
   "outputs": [
    {
     "data": {
      "text/plain": [
       "0.9146125867454172"
      ]
     },
     "execution_count": 34,
     "metadata": {},
     "output_type": "execute_result"
    }
   ],
   "source": [
    "df_houses['parks'].corr(df_houses['air_qual'])"
   ]
  },
  {
   "cell_type": "code",
   "execution_count": 35,
   "id": "069d078e",
   "metadata": {},
   "outputs": [],
   "source": [
    "# lets remove 'air_qual' column\n",
    "# correlation coefficent of 'price' with 'air_qual'= -0.429300\n",
    "# correlation coefficent of 'price' with 'parks' = -0.391574\n",
    "# so be careful\n",
    "\n",
    "mc_feat.remove('parks')"
   ]
  },
  {
   "cell_type": "code",
   "execution_count": 36,
   "id": "b2844558",
   "metadata": {},
   "outputs": [
    {
     "name": "stderr",
     "output_type": "stream",
     "text": [
      "C:\\Users\\aakas\\AppData\\Local\\Temp\\ipykernel_12292\\2931035945.py:8: SettingWithCopyWarning: \n",
      "A value is trying to be set on a copy of a slice from a DataFrame\n",
      "\n",
      "See the caveats in the documentation: https://pandas.pydata.org/pandas-docs/stable/user_guide/indexing.html#returning-a-view-versus-a-copy\n",
      "  X.dropna(inplace = True)\n"
     ]
    },
    {
     "data": {
      "text/html": [
       "<div>\n",
       "<style scoped>\n",
       "    .dataframe tbody tr th:only-of-type {\n",
       "        vertical-align: middle;\n",
       "    }\n",
       "\n",
       "    .dataframe tbody tr th {\n",
       "        vertical-align: top;\n",
       "    }\n",
       "\n",
       "    .dataframe thead th {\n",
       "        text-align: right;\n",
       "    }\n",
       "</style>\n",
       "<table border=\"1\" class=\"dataframe\">\n",
       "  <thead>\n",
       "    <tr style=\"text-align: right;\">\n",
       "      <th></th>\n",
       "      <th>variable</th>\n",
       "      <th>VIF</th>\n",
       "    </tr>\n",
       "  </thead>\n",
       "  <tbody>\n",
       "    <tr>\n",
       "      <th>1</th>\n",
       "      <td>resid_area</td>\n",
       "      <td>3.146744</td>\n",
       "    </tr>\n",
       "    <tr>\n",
       "      <th>2</th>\n",
       "      <td>room_num</td>\n",
       "      <td>1.905646</td>\n",
       "    </tr>\n",
       "    <tr>\n",
       "      <th>3</th>\n",
       "      <td>teachers</td>\n",
       "      <td>1.341627</td>\n",
       "    </tr>\n",
       "    <tr>\n",
       "      <th>4</th>\n",
       "      <td>poor_prop</td>\n",
       "      <td>2.707515</td>\n",
       "    </tr>\n",
       "    <tr>\n",
       "      <th>5</th>\n",
       "      <td>dist</td>\n",
       "      <td>2.751500</td>\n",
       "    </tr>\n",
       "    <tr>\n",
       "      <th>6</th>\n",
       "      <td>air_qual</td>\n",
       "      <td>3.564931</td>\n",
       "    </tr>\n",
       "  </tbody>\n",
       "</table>\n",
       "</div>"
      ],
      "text/plain": [
       "     variable       VIF\n",
       "1  resid_area  3.146744\n",
       "2    room_num  1.905646\n",
       "3    teachers  1.341627\n",
       "4   poor_prop  2.707515\n",
       "5        dist  2.751500\n",
       "6    air_qual  3.564931"
      ]
     },
     "execution_count": 36,
     "metadata": {},
     "output_type": "execute_result"
    }
   ],
   "source": [
    "compute_vif(feature_list = mc_feat , dataframe  = df_houses)"
   ]
  },
  {
   "cell_type": "code",
   "execution_count": null,
   "id": "5219a6db",
   "metadata": {},
   "outputs": [],
   "source": []
  },
  {
   "cell_type": "markdown",
   "id": "4136bc94",
   "metadata": {},
   "source": [
    "#### Conclusion : we have to do feature enginnering\n",
    "\n",
    "- **parks** and **air_qual** columns are highly correlated ,so we can drop **parks** column\n",
    "   because it is less correlated to **price** column compared to **air_qual** column."
   ]
  },
  {
   "cell_type": "code",
   "execution_count": null,
   "id": "905c741c",
   "metadata": {},
   "outputs": [],
   "source": []
  },
  {
   "cell_type": "code",
   "execution_count": 37,
   "id": "ce65da8f",
   "metadata": {},
   "outputs": [
    {
     "name": "stdout",
     "output_type": "stream",
     "text": [
      "<class 'pandas.core.frame.DataFrame'>\n",
      "Int64Index: 498 entries, 0 to 505\n",
      "Data columns (total 16 columns):\n",
      " #   Column       Non-Null Count  Dtype  \n",
      "---  ------       --------------  -----  \n",
      " 0   price        498 non-null    float64\n",
      " 1   crime_rate   498 non-null    float64\n",
      " 2   resid_area   498 non-null    float64\n",
      " 3   air_qual     498 non-null    float64\n",
      " 4   room_num     498 non-null    float64\n",
      " 5   age          498 non-null    float64\n",
      " 6   teachers     498 non-null    float64\n",
      " 7   poor_prop    498 non-null    float64\n",
      " 8   airport      498 non-null    object \n",
      " 9   n_hos_beds   498 non-null    float64\n",
      " 10  n_hot_rooms  498 non-null    float64\n",
      " 11  waterbody    498 non-null    object \n",
      " 12  rainfall     498 non-null    int64  \n",
      " 13  bus_ter      498 non-null    object \n",
      " 14  parks        498 non-null    float64\n",
      " 15  dist         498 non-null    float64\n",
      "dtypes: float64(12), int64(1), object(3)\n",
      "memory usage: 66.1+ KB\n"
     ]
    }
   ],
   "source": [
    "df_houses.info()"
   ]
  },
  {
   "cell_type": "code",
   "execution_count": null,
   "id": "bcb9fc6f",
   "metadata": {},
   "outputs": [],
   "source": []
  },
  {
   "cell_type": "code",
   "execution_count": 41,
   "id": "663d904a",
   "metadata": {},
   "outputs": [
    {
     "data": {
      "text/plain": [
       "price          1.000000\n",
       "poor_prop     -0.818260\n",
       "room_num       0.699058\n",
       "teachers       0.503035\n",
       "resid_area    -0.482223\n",
       "crime_rate    -0.454607\n",
       "air_qual      -0.430731\n",
       "parks         -0.394332\n",
       "age           -0.377020\n",
       "dist           0.248232\n",
       "n_hos_beds     0.109646\n",
       "rainfall      -0.045949\n",
       "n_hot_rooms    0.023550\n",
       "dtype: float64"
      ]
     },
     "execution_count": 41,
     "metadata": {},
     "output_type": "execute_result"
    }
   ],
   "source": [
    "df_houses.corrwith(df_houses['price'] , numeric_only = True).sort_values(key = lambda x : abs(x) , \n",
    "                                                                         ascending = False)"
   ]
  },
  {
   "cell_type": "code",
   "execution_count": null,
   "id": "c13f9b08",
   "metadata": {},
   "outputs": [],
   "source": []
  },
  {
   "cell_type": "markdown",
   "id": "09359b6b",
   "metadata": {},
   "source": [
    "### Dropping parks,rainfall,n_hot_rooms,n_hos_beds columns"
   ]
  },
  {
   "cell_type": "code",
   "execution_count": 42,
   "id": "6f3f2210",
   "metadata": {},
   "outputs": [],
   "source": [
    "df_export = df_houses.drop(labels = ['parks','rainfall','n_hot_rooms','n_hos_beds'] , axis = 1)"
   ]
  },
  {
   "cell_type": "code",
   "execution_count": 43,
   "id": "5b1e85ac",
   "metadata": {},
   "outputs": [
    {
     "data": {
      "text/html": [
       "<div>\n",
       "<style scoped>\n",
       "    .dataframe tbody tr th:only-of-type {\n",
       "        vertical-align: middle;\n",
       "    }\n",
       "\n",
       "    .dataframe tbody tr th {\n",
       "        vertical-align: top;\n",
       "    }\n",
       "\n",
       "    .dataframe thead th {\n",
       "        text-align: right;\n",
       "    }\n",
       "</style>\n",
       "<table border=\"1\" class=\"dataframe\">\n",
       "  <thead>\n",
       "    <tr style=\"text-align: right;\">\n",
       "      <th></th>\n",
       "      <th>price</th>\n",
       "      <th>crime_rate</th>\n",
       "      <th>resid_area</th>\n",
       "      <th>air_qual</th>\n",
       "      <th>room_num</th>\n",
       "      <th>age</th>\n",
       "      <th>teachers</th>\n",
       "      <th>poor_prop</th>\n",
       "      <th>airport</th>\n",
       "      <th>waterbody</th>\n",
       "      <th>bus_ter</th>\n",
       "      <th>dist</th>\n",
       "    </tr>\n",
       "  </thead>\n",
       "  <tbody>\n",
       "    <tr>\n",
       "      <th>0</th>\n",
       "      <td>24.0</td>\n",
       "      <td>-5.064036</td>\n",
       "      <td>32.31</td>\n",
       "      <td>0.538</td>\n",
       "      <td>6.575</td>\n",
       "      <td>65.2</td>\n",
       "      <td>24.7</td>\n",
       "      <td>1.60543</td>\n",
       "      <td>YES</td>\n",
       "      <td>River</td>\n",
       "      <td>YES</td>\n",
       "      <td>4.0875</td>\n",
       "    </tr>\n",
       "    <tr>\n",
       "      <th>1</th>\n",
       "      <td>21.6</td>\n",
       "      <td>-3.600502</td>\n",
       "      <td>37.07</td>\n",
       "      <td>0.469</td>\n",
       "      <td>6.421</td>\n",
       "      <td>78.9</td>\n",
       "      <td>22.2</td>\n",
       "      <td>2.21266</td>\n",
       "      <td>NO</td>\n",
       "      <td>Lake</td>\n",
       "      <td>YES</td>\n",
       "      <td>4.9675</td>\n",
       "    </tr>\n",
       "  </tbody>\n",
       "</table>\n",
       "</div>"
      ],
      "text/plain": [
       "   price  crime_rate  resid_area  air_qual  room_num   age  teachers  \\\n",
       "0   24.0   -5.064036       32.31     0.538     6.575  65.2      24.7   \n",
       "1   21.6   -3.600502       37.07     0.469     6.421  78.9      22.2   \n",
       "\n",
       "   poor_prop airport waterbody bus_ter    dist  \n",
       "0    1.60543     YES     River     YES  4.0875  \n",
       "1    2.21266      NO      Lake     YES  4.9675  "
      ]
     },
     "execution_count": 43,
     "metadata": {},
     "output_type": "execute_result"
    }
   ],
   "source": [
    "df_export.head(2)"
   ]
  },
  {
   "cell_type": "code",
   "execution_count": null,
   "id": "dcf9d399",
   "metadata": {},
   "outputs": [],
   "source": []
  },
  {
   "cell_type": "code",
   "execution_count": 44,
   "id": "d0aeae5e",
   "metadata": {},
   "outputs": [
    {
     "name": "stdout",
     "output_type": "stream",
     "text": [
      "Numerical attributes :  ['price', 'crime_rate', 'resid_area', 'air_qual', 'room_num', 'age', 'teachers', 'poor_prop', 'dist'] \n",
      "\n",
      "Categorical attributes :  ['airport', 'waterbody', 'bus_ter']\n"
     ]
    }
   ],
   "source": [
    "from pandas.api.types import is_string_dtype, is_numeric_dtype\n",
    "\n",
    "num_list = []\n",
    "cat_list = []\n",
    "\n",
    "for column in df_export:\n",
    "    \n",
    "    if is_numeric_dtype(df_export[column]):\n",
    "        num_list.append(column)\n",
    "        \n",
    "    elif is_string_dtype(df_export[column]):\n",
    "        cat_list.append(column)\n",
    "\n",
    "\n",
    "\n",
    "print('Numerical attributes : ',num_list,'\\n')\n",
    "\n",
    "print('Categorical attributes : ',cat_list)"
   ]
  },
  {
   "cell_type": "code",
   "execution_count": null,
   "id": "ae4df4eb",
   "metadata": {},
   "outputs": [],
   "source": []
  },
  {
   "cell_type": "code",
   "execution_count": 48,
   "id": "7ab97d61",
   "metadata": {},
   "outputs": [
    {
     "name": "stdout",
     "output_type": "stream",
     "text": [
      "Unique Values in airport: ['YES' 'NO']\n",
      "Unique Values in waterbody: ['River' 'Lake' 'None' 'Lake and River']\n",
      "Unique Values in bus_ter: ['YES']\n"
     ]
    }
   ],
   "source": [
    "for col in cat_list:\n",
    "    \n",
    "    print(f\"Unique Values in {col}: {df_export[col].unique()}\")"
   ]
  },
  {
   "cell_type": "code",
   "execution_count": null,
   "id": "25a10cbb",
   "metadata": {},
   "outputs": [],
   "source": []
  },
  {
   "cell_type": "code",
   "execution_count": 49,
   "id": "77c0b083",
   "metadata": {},
   "outputs": [
    {
     "data": {
      "text/html": [
       "<div>\n",
       "<style scoped>\n",
       "    .dataframe tbody tr th:only-of-type {\n",
       "        vertical-align: middle;\n",
       "    }\n",
       "\n",
       "    .dataframe tbody tr th {\n",
       "        vertical-align: top;\n",
       "    }\n",
       "\n",
       "    .dataframe thead th {\n",
       "        text-align: right;\n",
       "    }\n",
       "</style>\n",
       "<table border=\"1\" class=\"dataframe\">\n",
       "  <thead>\n",
       "    <tr style=\"text-align: right;\">\n",
       "      <th></th>\n",
       "      <th>price</th>\n",
       "      <th>crime_rate</th>\n",
       "      <th>resid_area</th>\n",
       "      <th>air_qual</th>\n",
       "      <th>room_num</th>\n",
       "      <th>age</th>\n",
       "      <th>teachers</th>\n",
       "      <th>poor_prop</th>\n",
       "      <th>airport</th>\n",
       "      <th>waterbody</th>\n",
       "      <th>dist</th>\n",
       "    </tr>\n",
       "  </thead>\n",
       "  <tbody>\n",
       "    <tr>\n",
       "      <th>0</th>\n",
       "      <td>24.0</td>\n",
       "      <td>-5.064036</td>\n",
       "      <td>32.31</td>\n",
       "      <td>0.538</td>\n",
       "      <td>6.575</td>\n",
       "      <td>65.2</td>\n",
       "      <td>24.7</td>\n",
       "      <td>1.605430</td>\n",
       "      <td>YES</td>\n",
       "      <td>River</td>\n",
       "      <td>4.0875</td>\n",
       "    </tr>\n",
       "    <tr>\n",
       "      <th>1</th>\n",
       "      <td>21.6</td>\n",
       "      <td>-3.600502</td>\n",
       "      <td>37.07</td>\n",
       "      <td>0.469</td>\n",
       "      <td>6.421</td>\n",
       "      <td>78.9</td>\n",
       "      <td>22.2</td>\n",
       "      <td>2.212660</td>\n",
       "      <td>NO</td>\n",
       "      <td>Lake</td>\n",
       "      <td>4.9675</td>\n",
       "    </tr>\n",
       "    <tr>\n",
       "      <th>2</th>\n",
       "      <td>34.7</td>\n",
       "      <td>-3.601235</td>\n",
       "      <td>37.07</td>\n",
       "      <td>0.469</td>\n",
       "      <td>7.185</td>\n",
       "      <td>61.1</td>\n",
       "      <td>22.2</td>\n",
       "      <td>1.393766</td>\n",
       "      <td>NO</td>\n",
       "      <td>None</td>\n",
       "      <td>4.9675</td>\n",
       "    </tr>\n",
       "    <tr>\n",
       "      <th>3</th>\n",
       "      <td>33.4</td>\n",
       "      <td>-3.430523</td>\n",
       "      <td>32.18</td>\n",
       "      <td>0.458</td>\n",
       "      <td>6.998</td>\n",
       "      <td>45.8</td>\n",
       "      <td>21.3</td>\n",
       "      <td>1.078410</td>\n",
       "      <td>YES</td>\n",
       "      <td>Lake</td>\n",
       "      <td>6.0650</td>\n",
       "    </tr>\n",
       "    <tr>\n",
       "      <th>4</th>\n",
       "      <td>36.2</td>\n",
       "      <td>-2.672924</td>\n",
       "      <td>32.18</td>\n",
       "      <td>0.458</td>\n",
       "      <td>7.147</td>\n",
       "      <td>54.2</td>\n",
       "      <td>21.3</td>\n",
       "      <td>1.673351</td>\n",
       "      <td>NO</td>\n",
       "      <td>Lake</td>\n",
       "      <td>6.0625</td>\n",
       "    </tr>\n",
       "  </tbody>\n",
       "</table>\n",
       "</div>"
      ],
      "text/plain": [
       "   price  crime_rate  resid_area  air_qual  room_num   age  teachers  \\\n",
       "0   24.0   -5.064036       32.31     0.538     6.575  65.2      24.7   \n",
       "1   21.6   -3.600502       37.07     0.469     6.421  78.9      22.2   \n",
       "2   34.7   -3.601235       37.07     0.469     7.185  61.1      22.2   \n",
       "3   33.4   -3.430523       32.18     0.458     6.998  45.8      21.3   \n",
       "4   36.2   -2.672924       32.18     0.458     7.147  54.2      21.3   \n",
       "\n",
       "   poor_prop airport waterbody    dist  \n",
       "0   1.605430     YES     River  4.0875  \n",
       "1   2.212660      NO      Lake  4.9675  \n",
       "2   1.393766      NO      None  4.9675  \n",
       "3   1.078410     YES      Lake  6.0650  \n",
       "4   1.673351      NO      Lake  6.0625  "
      ]
     },
     "execution_count": 49,
     "metadata": {},
     "output_type": "execute_result"
    }
   ],
   "source": [
    "# dropping bus_ter column \n",
    "\n",
    "df_export = df_export.drop(labels = ['bus_ter'] , axis = 1)\n",
    "df_export.head()"
   ]
  },
  {
   "cell_type": "code",
   "execution_count": null,
   "id": "b959bec7",
   "metadata": {},
   "outputs": [],
   "source": []
  },
  {
   "cell_type": "code",
   "execution_count": null,
   "id": "80eb1cb7",
   "metadata": {},
   "outputs": [],
   "source": []
  },
  {
   "cell_type": "markdown",
   "id": "d508fa7c",
   "metadata": {},
   "source": [
    "## After this export the DF as a .csv file."
   ]
  },
  {
   "cell_type": "code",
   "execution_count": null,
   "id": "444a45ea",
   "metadata": {},
   "outputs": [],
   "source": []
  },
  {
   "cell_type": "code",
   "execution_count": 50,
   "id": "de8d2d17",
   "metadata": {},
   "outputs": [],
   "source": [
    "df_export.to_csv(\"S3_part2_FE.csv\")"
   ]
  },
  {
   "cell_type": "code",
   "execution_count": null,
   "id": "c535b23b",
   "metadata": {},
   "outputs": [],
   "source": []
  }
 ],
 "metadata": {
  "kernelspec": {
   "display_name": "Python 3 (ipykernel)",
   "language": "python",
   "name": "python3"
  },
  "language_info": {
   "codemirror_mode": {
    "name": "ipython",
    "version": 3
   },
   "file_extension": ".py",
   "mimetype": "text/x-python",
   "name": "python",
   "nbconvert_exporter": "python",
   "pygments_lexer": "ipython3",
   "version": "3.10.9"
  }
 },
 "nbformat": 4,
 "nbformat_minor": 5
}
