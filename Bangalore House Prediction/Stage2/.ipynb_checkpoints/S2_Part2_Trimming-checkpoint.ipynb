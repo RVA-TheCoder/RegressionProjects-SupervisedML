{
 "cells": [
  {
   "cell_type": "code",
   "execution_count": 1,
   "id": "28a1f7b9",
   "metadata": {},
   "outputs": [],
   "source": [
    "import pandas as pd\n",
    "import numpy as np\n",
    "import matplotlib.pyplot as plt\n",
    "import seaborn as sns"
   ]
  },
  {
   "cell_type": "code",
   "execution_count": null,
   "id": "dbbfe473",
   "metadata": {},
   "outputs": [],
   "source": []
  },
  {
   "cell_type": "code",
   "execution_count": 2,
   "id": "a69c2833",
   "metadata": {},
   "outputs": [],
   "source": [
    "filepath_House_Price = r\"C:\\Users\\aakas\\PythonStuff\\Regression_udemy\\resources\\Linear_Regression\\House_Price.csv\"\n",
    "\n",
    "\n",
    "houses = pd.read_csv(filepath_House_Price , header = 0 )"
   ]
  },
  {
   "cell_type": "code",
   "execution_count": null,
   "id": "7dcb69d8",
   "metadata": {},
   "outputs": [],
   "source": []
  },
  {
   "cell_type": "code",
   "execution_count": 3,
   "id": "eaf58f18",
   "metadata": {},
   "outputs": [
    {
     "name": "stdout",
     "output_type": "stream",
     "text": [
      "Numerical attributes :  ['price', 'crime_rate', 'resid_area', 'air_qual', 'room_num', 'age', 'dist1', 'dist2', 'dist3', 'dist4', 'teachers', 'poor_prop', 'n_hos_beds', 'n_hot_rooms', 'rainfall', 'parks'] \n",
      "\n",
      "Categorical attributes :  ['airport', 'waterbody', 'bus_ter']\n"
     ]
    }
   ],
   "source": [
    "from pandas.api.types import is_string_dtype, is_numeric_dtype\n",
    "\n",
    "num_list = []\n",
    "cat_list = []\n",
    "\n",
    "for column in houses:\n",
    "    \n",
    "    if is_numeric_dtype(houses[column]):\n",
    "        num_list.append(column)\n",
    "        \n",
    "    elif is_string_dtype(houses[column]):\n",
    "        cat_list.append(column)\n",
    "\n",
    "\n",
    "\n",
    "print('Numerical attributes : ',num_list,'\\n')\n",
    "\n",
    "print('Categorical attributes : ',cat_list)"
   ]
  },
  {
   "cell_type": "code",
   "execution_count": null,
   "id": "769994ec",
   "metadata": {},
   "outputs": [],
   "source": []
  },
  {
   "cell_type": "markdown",
   "id": "479ef3d7",
   "metadata": {},
   "source": [
    "## Package importing "
   ]
  },
  {
   "cell_type": "code",
   "execution_count": 4,
   "id": "6770e8f1",
   "metadata": {},
   "outputs": [],
   "source": [
    "from sklearn.impute import SimpleImputer\n",
    "from sklearn.preprocessing import StandardScaler\n",
    "\n",
    "from sklearn.preprocessing import OrdinalEncoder\n",
    "from sklearn.preprocessing import OneHotEncoder\n",
    "\n",
    "from sklearn.pipeline import Pipeline                \n",
    "from sklearn.compose import ColumnTransformer\n",
    "\n",
    "from sklearn.model_selection import train_test_split"
   ]
  },
  {
   "cell_type": "code",
   "execution_count": null,
   "id": "181accc5",
   "metadata": {},
   "outputs": [],
   "source": []
  },
  {
   "cell_type": "markdown",
   "id": "3d24d8c0",
   "metadata": {},
   "source": [
    "# 1. Outlier Treatment "
   ]
  },
  {
   "cell_type": "code",
   "execution_count": null,
   "id": "8e9e96dd",
   "metadata": {},
   "outputs": [],
   "source": []
  },
  {
   "cell_type": "code",
   "execution_count": 5,
   "id": "cd302d3a",
   "metadata": {},
   "outputs": [],
   "source": [
    "# Z-score for Normally or almost normally distributed data\n",
    "\n",
    "nor_col = ['room_num',]\n",
    "skew_col = ['dist1', 'dist2', 'dist3', 'dist4','poor_prop' , 'parks']"
   ]
  },
  {
   "cell_type": "code",
   "execution_count": null,
   "id": "d61194c6",
   "metadata": {},
   "outputs": [],
   "source": []
  },
  {
   "cell_type": "markdown",
   "id": "3b8d9fc1",
   "metadata": {},
   "source": [
    "## PART 1 : Trimming"
   ]
  },
  {
   "cell_type": "code",
   "execution_count": null,
   "id": "dbf34cfb",
   "metadata": {},
   "outputs": [],
   "source": []
  },
  {
   "cell_type": "code",
   "execution_count": 6,
   "id": "38ab8cae",
   "metadata": {},
   "outputs": [],
   "source": [
    "df_trim = houses.copy()"
   ]
  },
  {
   "cell_type": "code",
   "execution_count": null,
   "id": "4cf92b09",
   "metadata": {},
   "outputs": [],
   "source": []
  },
  {
   "cell_type": "code",
   "execution_count": 7,
   "id": "4744cea8",
   "metadata": {},
   "outputs": [
    {
     "name": "stdout",
     "output_type": "stream",
     "text": [
      "<class 'pandas.core.frame.DataFrame'>\n",
      "RangeIndex: 506 entries, 0 to 505\n",
      "Data columns (total 19 columns):\n",
      " #   Column       Non-Null Count  Dtype  \n",
      "---  ------       --------------  -----  \n",
      " 0   price        506 non-null    float64\n",
      " 1   crime_rate   506 non-null    float64\n",
      " 2   resid_area   506 non-null    float64\n",
      " 3   air_qual     506 non-null    float64\n",
      " 4   room_num     506 non-null    float64\n",
      " 5   age          506 non-null    float64\n",
      " 6   dist1        506 non-null    float64\n",
      " 7   dist2        506 non-null    float64\n",
      " 8   dist3        506 non-null    float64\n",
      " 9   dist4        506 non-null    float64\n",
      " 10  teachers     506 non-null    float64\n",
      " 11  poor_prop    506 non-null    float64\n",
      " 12  airport      506 non-null    object \n",
      " 13  n_hos_beds   498 non-null    float64\n",
      " 14  n_hot_rooms  506 non-null    float64\n",
      " 15  waterbody    506 non-null    object \n",
      " 16  rainfall     506 non-null    int64  \n",
      " 17  bus_ter      506 non-null    object \n",
      " 18  parks        506 non-null    float64\n",
      "dtypes: float64(15), int64(1), object(3)\n",
      "memory usage: 75.2+ KB\n"
     ]
    }
   ],
   "source": [
    "df_trim.info()"
   ]
  },
  {
   "cell_type": "code",
   "execution_count": null,
   "id": "ce2442ad",
   "metadata": {},
   "outputs": [],
   "source": []
  },
  {
   "cell_type": "code",
   "execution_count": 8,
   "id": "4d66c3bb",
   "metadata": {},
   "outputs": [],
   "source": [
    "# loop for normally or almost normally distributed data\n",
    "for col in nor_col :\n",
    "    \n",
    "    # Finding mean and Std\n",
    "    mean_col = df_trim[col].mean()\n",
    "    std_col = df_trim[col].std()\n",
    "    \n",
    "    # Finding lower and upper limits\n",
    "    lower_limit = mean_col - 3*std_col\n",
    "    upper_limit = mean_col + 3*std_col\n",
    "    \n",
    "    df_trim = df_trim[(df_trim[col] > lower_limit)  & (df_trim[col] < upper_limit)]\n",
    "    \n",
    "\n",
    "# loop for skew data\n",
    "for col in skew_col :\n",
    "    \n",
    "    # Finding IQR\n",
    "    percentile25 = df_trim[col].quantile(0.25)\n",
    "    percentile75 = df_trim[col].quantile(.75)\n",
    "    \n",
    "    # Compute IQR\n",
    "    IQR = percentile75 - percentile25\n",
    "    \n",
    "    # Finding lower and upper limits\n",
    "    lowerlimit = percentile25 - 1.5*IQR\n",
    "    upperlimit = percentile75 + 1.5*IQR\n",
    "    \n",
    "    # Trimming\n",
    "    df_trim = df_trim[(df_trim[col]> lowerlimit) & (df_trim[col] < upperlimit) ]\n",
    "    \n",
    "    \n",
    "    # min_cgpa = df_trim['cgpa'].min()\n",
    "    # max_cgpa = df_trim['cgpa'].max()"
   ]
  },
  {
   "cell_type": "code",
   "execution_count": null,
   "id": "3e48dfaa",
   "metadata": {},
   "outputs": [],
   "source": []
  },
  {
   "cell_type": "code",
   "execution_count": 9,
   "id": "51678bb3",
   "metadata": {},
   "outputs": [
    {
     "data": {
      "text/plain": [
       "(482, 19)"
      ]
     },
     "execution_count": 9,
     "metadata": {},
     "output_type": "execute_result"
    }
   ],
   "source": [
    "df_trim.shape"
   ]
  },
  {
   "cell_type": "code",
   "execution_count": null,
   "id": "f26e5bcf",
   "metadata": {},
   "outputs": [],
   "source": []
  },
  {
   "cell_type": "markdown",
   "id": "bf2331f9",
   "metadata": {},
   "source": [
    "### Features and Target split"
   ]
  },
  {
   "cell_type": "code",
   "execution_count": 10,
   "id": "cf8125c8",
   "metadata": {},
   "outputs": [],
   "source": [
    "df1 = df_trim.copy()"
   ]
  },
  {
   "cell_type": "code",
   "execution_count": 11,
   "id": "aa83369b",
   "metadata": {},
   "outputs": [],
   "source": [
    "X = df1.drop(labels = ['price'] ,axis = 1)\n",
    "y = df1['price']"
   ]
  },
  {
   "cell_type": "code",
   "execution_count": null,
   "id": "63e64935",
   "metadata": {},
   "outputs": [],
   "source": []
  },
  {
   "cell_type": "markdown",
   "id": "c2b2870d",
   "metadata": {},
   "source": [
    "### Train - Test Split"
   ]
  },
  {
   "cell_type": "code",
   "execution_count": 12,
   "id": "74a53c27",
   "metadata": {},
   "outputs": [],
   "source": [
    "X_train ,X_test ,y_train ,y_test = train_test_split(X ,y ,test_size= 0.2 , random_state= 123)"
   ]
  },
  {
   "cell_type": "code",
   "execution_count": null,
   "id": "a9210baa",
   "metadata": {},
   "outputs": [],
   "source": []
  },
  {
   "cell_type": "code",
   "execution_count": 13,
   "id": "630e04d3",
   "metadata": {},
   "outputs": [
    {
     "data": {
      "text/plain": [
       "((385, 18), (385,))"
      ]
     },
     "execution_count": 13,
     "metadata": {},
     "output_type": "execute_result"
    }
   ],
   "source": [
    "X_train.shape ,y_train.shape"
   ]
  },
  {
   "cell_type": "code",
   "execution_count": 14,
   "id": "6559b67f",
   "metadata": {},
   "outputs": [
    {
     "data": {
      "text/plain": [
       "((97, 18), (97,))"
      ]
     },
     "execution_count": 14,
     "metadata": {},
     "output_type": "execute_result"
    }
   ],
   "source": [
    "X_test.shape , y_test.shape"
   ]
  },
  {
   "cell_type": "code",
   "execution_count": null,
   "id": "fa85f0de",
   "metadata": {},
   "outputs": [],
   "source": []
  },
  {
   "cell_type": "markdown",
   "id": "3df8b876",
   "metadata": {},
   "source": [
    "### Making changes to num_feat and cat_feat list"
   ]
  },
  {
   "cell_type": "code",
   "execution_count": 15,
   "id": "2bcf8df5",
   "metadata": {},
   "outputs": [],
   "source": [
    "# num_list"
   ]
  },
  {
   "cell_type": "code",
   "execution_count": 16,
   "id": "9afa04fd",
   "metadata": {},
   "outputs": [],
   "source": [
    "num_feat = num_list.copy()\n",
    "num_feat.remove('price')\n",
    "\n",
    "cat_feat = cat_list.copy()"
   ]
  },
  {
   "cell_type": "code",
   "execution_count": null,
   "id": "6a5c2354",
   "metadata": {},
   "outputs": [],
   "source": []
  },
  {
   "cell_type": "code",
   "execution_count": 17,
   "id": "2fa41867",
   "metadata": {
    "scrolled": true
   },
   "outputs": [
    {
     "name": "stdout",
     "output_type": "stream",
     "text": [
      "<class 'pandas.core.frame.DataFrame'>\n",
      "Int64Index: 482 entries, 0 to 505\n",
      "Data columns (total 19 columns):\n",
      " #   Column       Non-Null Count  Dtype  \n",
      "---  ------       --------------  -----  \n",
      " 0   price        482 non-null    float64\n",
      " 1   crime_rate   482 non-null    float64\n",
      " 2   resid_area   482 non-null    float64\n",
      " 3   air_qual     482 non-null    float64\n",
      " 4   room_num     482 non-null    float64\n",
      " 5   age          482 non-null    float64\n",
      " 6   dist1        482 non-null    float64\n",
      " 7   dist2        482 non-null    float64\n",
      " 8   dist3        482 non-null    float64\n",
      " 9   dist4        482 non-null    float64\n",
      " 10  teachers     482 non-null    float64\n",
      " 11  poor_prop    482 non-null    float64\n",
      " 12  airport      482 non-null    object \n",
      " 13  n_hos_beds   474 non-null    float64\n",
      " 14  n_hot_rooms  482 non-null    float64\n",
      " 15  waterbody    482 non-null    object \n",
      " 16  rainfall     482 non-null    int64  \n",
      " 17  bus_ter      482 non-null    object \n",
      " 18  parks        482 non-null    float64\n",
      "dtypes: float64(15), int64(1), object(3)\n",
      "memory usage: 75.3+ KB\n"
     ]
    }
   ],
   "source": [
    "df1.info()"
   ]
  },
  {
   "cell_type": "markdown",
   "id": "40f317f0",
   "metadata": {},
   "source": [
    "### Pipelines :  numerical and categorical features"
   ]
  },
  {
   "cell_type": "code",
   "execution_count": null,
   "id": "850785c8",
   "metadata": {},
   "outputs": [],
   "source": []
  },
  {
   "cell_type": "code",
   "execution_count": 18,
   "id": "6b7ac43a",
   "metadata": {},
   "outputs": [],
   "source": [
    "ohe = OneHotEncoder()"
   ]
  },
  {
   "cell_type": "code",
   "execution_count": null,
   "id": "848e1ee2",
   "metadata": {},
   "outputs": [],
   "source": []
  },
  {
   "cell_type": "code",
   "execution_count": 19,
   "id": "f92c6730",
   "metadata": {},
   "outputs": [],
   "source": [
    "num_pipeline = Pipeline([('Imputer' , SimpleImputer(strategy='median'))                       \n",
    "                        ])"
   ]
  },
  {
   "cell_type": "code",
   "execution_count": 20,
   "id": "e4d5ce17",
   "metadata": {},
   "outputs": [],
   "source": [
    "cat_pipeline = Pipeline([('Nominal Encoding' ,ohe)])"
   ]
  },
  {
   "cell_type": "code",
   "execution_count": null,
   "id": "af65482f",
   "metadata": {},
   "outputs": [],
   "source": []
  },
  {
   "cell_type": "markdown",
   "id": "0f62ceb7",
   "metadata": {},
   "source": [
    "### Main-Pipeline"
   ]
  },
  {
   "cell_type": "code",
   "execution_count": 21,
   "id": "8bef23bd",
   "metadata": {},
   "outputs": [],
   "source": [
    "pipeline = ColumnTransformer([(\"Num pipeline\" , num_pipeline , num_feat),\n",
    "                             (\"Nominal pipeline\" , cat_pipeline , cat_feat)\n",
    "                             ])"
   ]
  },
  {
   "cell_type": "code",
   "execution_count": null,
   "id": "0ffbfcc5",
   "metadata": {},
   "outputs": [],
   "source": []
  },
  {
   "cell_type": "markdown",
   "id": "b050fb29",
   "metadata": {},
   "source": [
    "### Transforming"
   ]
  },
  {
   "cell_type": "code",
   "execution_count": null,
   "id": "e793b509",
   "metadata": {},
   "outputs": [],
   "source": []
  },
  {
   "cell_type": "code",
   "execution_count": 22,
   "id": "92ea6e1e",
   "metadata": {},
   "outputs": [],
   "source": [
    "X_train_tr = pipeline.fit_transform(X_train)"
   ]
  },
  {
   "cell_type": "code",
   "execution_count": 23,
   "id": "a7ddbea8",
   "metadata": {},
   "outputs": [],
   "source": [
    "X_test_tr = pipeline.transform(X_test)"
   ]
  },
  {
   "cell_type": "code",
   "execution_count": null,
   "id": "11dad14b",
   "metadata": {},
   "outputs": [],
   "source": []
  },
  {
   "cell_type": "markdown",
   "id": "3b55de31",
   "metadata": {},
   "source": [
    "### Create DF from transformed 2D-array"
   ]
  },
  {
   "cell_type": "code",
   "execution_count": 24,
   "id": "d5979b7e",
   "metadata": {},
   "outputs": [
    {
     "data": {
      "text/plain": [
       "array(['Num pipeline__crime_rate', 'Num pipeline__resid_area',\n",
       "       'Num pipeline__air_qual', 'Num pipeline__room_num',\n",
       "       'Num pipeline__age', 'Num pipeline__dist1', 'Num pipeline__dist2',\n",
       "       'Num pipeline__dist3', 'Num pipeline__dist4',\n",
       "       'Num pipeline__teachers', 'Num pipeline__poor_prop',\n",
       "       'Num pipeline__n_hos_beds', 'Num pipeline__n_hot_rooms',\n",
       "       'Num pipeline__rainfall', 'Num pipeline__parks',\n",
       "       'Nominal pipeline__airport_NO', 'Nominal pipeline__airport_YES',\n",
       "       'Nominal pipeline__waterbody_Lake',\n",
       "       'Nominal pipeline__waterbody_Lake and River',\n",
       "       'Nominal pipeline__waterbody_None',\n",
       "       'Nominal pipeline__waterbody_River',\n",
       "       'Nominal pipeline__bus_ter_YES'], dtype=object)"
      ]
     },
     "execution_count": 24,
     "metadata": {},
     "output_type": "execute_result"
    }
   ],
   "source": [
    "feat = pipeline.get_feature_names_out()\n",
    "feat"
   ]
  },
  {
   "cell_type": "code",
   "execution_count": null,
   "id": "ab643754",
   "metadata": {},
   "outputs": [],
   "source": []
  },
  {
   "cell_type": "code",
   "execution_count": 25,
   "id": "ed06eed6",
   "metadata": {},
   "outputs": [
    {
     "name": "stdout",
     "output_type": "stream",
     "text": [
      "['crime_rate', 'resid_area', 'air_qual', 'room_num', 'age', 'dist1', 'dist2', 'dist3', 'dist4', 'teachers', 'poor_prop', 'n_hos_beds', 'n_hot_rooms', 'rainfall', 'parks', 'airport_NO', 'airport_YES', 'waterbody_Lake', 'waterbody_Lake and River', 'waterbody_None', 'waterbody_River', 'bus_ter_YES']\n"
     ]
    }
   ],
   "source": [
    "out_cols = []\n",
    "\n",
    "i= 0  # counter\n",
    "\n",
    "for col in pipeline.get_feature_names_out():\n",
    "    out_cols.append(col.split(\"__\")[-1])\n",
    "    #out_cols[i] = out_cols[i].split(\"_\")[-1]\n",
    "    \n",
    "    i += 1\n",
    "print(out_cols)"
   ]
  },
  {
   "cell_type": "code",
   "execution_count": null,
   "id": "a474cee0",
   "metadata": {},
   "outputs": [],
   "source": []
  },
  {
   "cell_type": "code",
   "execution_count": 26,
   "id": "7402c5a4",
   "metadata": {},
   "outputs": [
    {
     "data": {
      "text/plain": [
       "22"
      ]
     },
     "execution_count": 26,
     "metadata": {},
     "output_type": "execute_result"
    }
   ],
   "source": [
    "len(out_cols)"
   ]
  },
  {
   "cell_type": "code",
   "execution_count": null,
   "id": "ab77f614",
   "metadata": {},
   "outputs": [],
   "source": []
  },
  {
   "cell_type": "code",
   "execution_count": 27,
   "id": "4e0b4c5e",
   "metadata": {},
   "outputs": [],
   "source": [
    "X_train_tr_df = pd.DataFrame(X_train_tr, columns= out_cols)\n",
    "\n",
    "X_test_tr_df = pd.DataFrame(X_test_tr , columns = out_cols)"
   ]
  },
  {
   "cell_type": "code",
   "execution_count": null,
   "id": "43e698f5",
   "metadata": {},
   "outputs": [],
   "source": []
  },
  {
   "cell_type": "markdown",
   "id": "464d8bc6",
   "metadata": {},
   "source": [
    "### Merging transformed train and test DF"
   ]
  },
  {
   "cell_type": "code",
   "execution_count": 28,
   "id": "0deab735",
   "metadata": {},
   "outputs": [],
   "source": [
    "# Datatypes of each column in respective DF must be same.\n",
    "\n",
    "X_df_trans = pd.concat([X_train_tr_df,X_test_tr_df],ignore_index= True ,axis = 0)"
   ]
  },
  {
   "cell_type": "code",
   "execution_count": null,
   "id": "6c89521f",
   "metadata": {},
   "outputs": [],
   "source": []
  },
  {
   "cell_type": "code",
   "execution_count": 29,
   "id": "0dbf6fbb",
   "metadata": {},
   "outputs": [
    {
     "data": {
      "text/plain": [
       "(482, 22)"
      ]
     },
     "execution_count": 29,
     "metadata": {},
     "output_type": "execute_result"
    }
   ],
   "source": [
    "X_df_trans.shape"
   ]
  },
  {
   "cell_type": "code",
   "execution_count": 30,
   "id": "42fa17c7",
   "metadata": {},
   "outputs": [],
   "source": [
    "# X_df_trans.head(2)"
   ]
  },
  {
   "cell_type": "code",
   "execution_count": null,
   "id": "cd291782",
   "metadata": {},
   "outputs": [],
   "source": []
  },
  {
   "cell_type": "code",
   "execution_count": 31,
   "id": "80123866",
   "metadata": {},
   "outputs": [],
   "source": [
    "y_comb = pd.concat([y_train,y_test] ,axis = 0 ,ignore_index= True)"
   ]
  },
  {
   "cell_type": "code",
   "execution_count": 32,
   "id": "23bd8b55",
   "metadata": {},
   "outputs": [
    {
     "data": {
      "text/plain": [
       "(482,)"
      ]
     },
     "execution_count": 32,
     "metadata": {},
     "output_type": "execute_result"
    }
   ],
   "source": [
    "y_comb.shape"
   ]
  },
  {
   "cell_type": "code",
   "execution_count": null,
   "id": "0c495f3d",
   "metadata": {},
   "outputs": [],
   "source": []
  },
  {
   "cell_type": "code",
   "execution_count": 33,
   "id": "58d3ac5b",
   "metadata": {},
   "outputs": [],
   "source": [
    "df1_trans = pd.concat([X_df_trans,y_comb] ,axis = 1)"
   ]
  },
  {
   "cell_type": "code",
   "execution_count": null,
   "id": "a56dcd7e",
   "metadata": {},
   "outputs": [],
   "source": []
  },
  {
   "cell_type": "code",
   "execution_count": 34,
   "id": "9f9bdb49",
   "metadata": {},
   "outputs": [
    {
     "data": {
      "text/plain": [
       "(482, 23)"
      ]
     },
     "execution_count": 34,
     "metadata": {},
     "output_type": "execute_result"
    }
   ],
   "source": [
    "df1_trans.shape"
   ]
  },
  {
   "cell_type": "code",
   "execution_count": null,
   "id": "d1289fe7",
   "metadata": {},
   "outputs": [],
   "source": []
  },
  {
   "cell_type": "markdown",
   "id": "8b92d8d7",
   "metadata": {},
   "source": [
    "### Exporting Final Transformed DF"
   ]
  },
  {
   "cell_type": "code",
   "execution_count": 35,
   "id": "1000927a",
   "metadata": {},
   "outputs": [],
   "source": [
    "df1_trans.to_csv(\"trans_DF_S2_Part2.csv\")"
   ]
  },
  {
   "cell_type": "code",
   "execution_count": null,
   "id": "d5741e27",
   "metadata": {},
   "outputs": [],
   "source": []
  }
 ],
 "metadata": {
  "kernelspec": {
   "display_name": "Python 3 (ipykernel)",
   "language": "python",
   "name": "python3"
  },
  "language_info": {
   "codemirror_mode": {
    "name": "ipython",
    "version": 3
   },
   "file_extension": ".py",
   "mimetype": "text/x-python",
   "name": "python",
   "nbconvert_exporter": "python",
   "pygments_lexer": "ipython3",
   "version": "3.10.9"
  }
 },
 "nbformat": 4,
 "nbformat_minor": 5
}
