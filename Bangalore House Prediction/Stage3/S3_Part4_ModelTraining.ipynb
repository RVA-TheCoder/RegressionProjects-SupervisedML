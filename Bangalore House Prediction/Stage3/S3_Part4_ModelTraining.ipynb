{
 "cells": [
  {
   "cell_type": "code",
   "execution_count": 1,
   "id": "54ee7d89",
   "metadata": {},
   "outputs": [],
   "source": [
    "import numpy as np\n",
    "import pandas as pd\n",
    "import matplotlib.pyplot as plt\n",
    "import seaborn as sns"
   ]
  },
  {
   "cell_type": "code",
   "execution_count": null,
   "id": "7eefe3ef",
   "metadata": {},
   "outputs": [],
   "source": []
  },
  {
   "cell_type": "markdown",
   "id": "90544ff6",
   "metadata": {},
   "source": [
    "## STEP 1 : Import Transforrmed Dataset"
   ]
  },
  {
   "cell_type": "code",
   "execution_count": null,
   "id": "b28f5d54",
   "metadata": {},
   "outputs": [],
   "source": []
  },
  {
   "cell_type": "code",
   "execution_count": 2,
   "id": "10e74b9e",
   "metadata": {},
   "outputs": [],
   "source": [
    "filepath_train = r\"S3_Part3_pipeline_pipeline_Train_DS.csv\"\n",
    "filepath_test = r\"S3_Part3_pipeline_pipeline_Test_DS.csv\""
   ]
  },
  {
   "cell_type": "code",
   "execution_count": null,
   "id": "c23a9c93",
   "metadata": {},
   "outputs": [],
   "source": []
  },
  {
   "cell_type": "code",
   "execution_count": 3,
   "id": "6ec6c881",
   "metadata": {},
   "outputs": [],
   "source": [
    "d_train = pd.read_csv(filepath_train  ,index_col= 0 , header= 0)\n",
    "d_test = pd.read_csv(filepath_test  ,index_col= 0 , header= 0)"
   ]
  },
  {
   "cell_type": "code",
   "execution_count": null,
   "id": "e596e797",
   "metadata": {},
   "outputs": [],
   "source": []
  },
  {
   "cell_type": "code",
   "execution_count": 4,
   "id": "bc5bba44",
   "metadata": {},
   "outputs": [
    {
     "data": {
      "text/html": [
       "<div>\n",
       "<style scoped>\n",
       "    .dataframe tbody tr th:only-of-type {\n",
       "        vertical-align: middle;\n",
       "    }\n",
       "\n",
       "    .dataframe tbody tr th {\n",
       "        vertical-align: top;\n",
       "    }\n",
       "\n",
       "    .dataframe thead th {\n",
       "        text-align: right;\n",
       "    }\n",
       "</style>\n",
       "<table border=\"1\" class=\"dataframe\">\n",
       "  <thead>\n",
       "    <tr style=\"text-align: right;\">\n",
       "      <th></th>\n",
       "      <th>crime_rate</th>\n",
       "      <th>resid_area</th>\n",
       "      <th>air_qual</th>\n",
       "      <th>room_num</th>\n",
       "      <th>age</th>\n",
       "      <th>teachers</th>\n",
       "      <th>poor_prop</th>\n",
       "      <th>n_hos_beds</th>\n",
       "      <th>n_hot_rooms</th>\n",
       "      <th>rainfall</th>\n",
       "      <th>dist</th>\n",
       "      <th>airport_NO</th>\n",
       "      <th>airport_YES</th>\n",
       "      <th>waterbody_Lake</th>\n",
       "      <th>waterbody_Lake and River</th>\n",
       "      <th>waterbody_None</th>\n",
       "      <th>waterbody_River</th>\n",
       "      <th>price</th>\n",
       "    </tr>\n",
       "  </thead>\n",
       "  <tbody>\n",
       "    <tr>\n",
       "      <th>0</th>\n",
       "      <td>1.750941</td>\n",
       "      <td>1.035280</td>\n",
       "      <td>1.019549</td>\n",
       "      <td>-0.074765</td>\n",
       "      <td>1.128863</td>\n",
       "      <td>-0.813975</td>\n",
       "      <td>1.194251</td>\n",
       "      <td>-0.019931</td>\n",
       "      <td>-0.356733</td>\n",
       "      <td>0.562485</td>\n",
       "      <td>-1.174428</td>\n",
       "      <td>1.0</td>\n",
       "      <td>0.0</td>\n",
       "      <td>0.0</td>\n",
       "      <td>1.0</td>\n",
       "      <td>0.0</td>\n",
       "      <td>0.0</td>\n",
       "      <td>10.2</td>\n",
       "    </tr>\n",
       "    <tr>\n",
       "      <th>1</th>\n",
       "      <td>0.283472</td>\n",
       "      <td>-0.161802</td>\n",
       "      <td>-0.077387</td>\n",
       "      <td>-0.218185</td>\n",
       "      <td>-0.552953</td>\n",
       "      <td>0.039554</td>\n",
       "      <td>-0.958566</td>\n",
       "      <td>0.209591</td>\n",
       "      <td>0.350918</td>\n",
       "      <td>0.562485</td>\n",
       "      <td>-0.563210</td>\n",
       "      <td>0.0</td>\n",
       "      <td>1.0</td>\n",
       "      <td>0.0</td>\n",
       "      <td>0.0</td>\n",
       "      <td>0.0</td>\n",
       "      <td>1.0</td>\n",
       "      <td>22.1</td>\n",
       "    </tr>\n",
       "    <tr>\n",
       "      <th>2</th>\n",
       "      <td>0.489127</td>\n",
       "      <td>1.251338</td>\n",
       "      <td>0.449488</td>\n",
       "      <td>0.947639</td>\n",
       "      <td>1.036220</td>\n",
       "      <td>1.794031</td>\n",
       "      <td>-1.399167</td>\n",
       "      <td>0.198726</td>\n",
       "      <td>0.031860</td>\n",
       "      <td>1.457145</td>\n",
       "      <td>-0.934830</td>\n",
       "      <td>0.0</td>\n",
       "      <td>1.0</td>\n",
       "      <td>0.0</td>\n",
       "      <td>0.0</td>\n",
       "      <td>1.0</td>\n",
       "      <td>0.0</td>\n",
       "      <td>41.3</td>\n",
       "    </tr>\n",
       "  </tbody>\n",
       "</table>\n",
       "</div>"
      ],
      "text/plain": [
       "   crime_rate  resid_area  air_qual  room_num       age  teachers  poor_prop  \\\n",
       "0    1.750941    1.035280  1.019549 -0.074765  1.128863 -0.813975   1.194251   \n",
       "1    0.283472   -0.161802 -0.077387 -0.218185 -0.552953  0.039554  -0.958566   \n",
       "2    0.489127    1.251338  0.449488  0.947639  1.036220  1.794031  -1.399167   \n",
       "\n",
       "   n_hos_beds  n_hot_rooms  rainfall      dist  airport_NO  airport_YES  \\\n",
       "0   -0.019931    -0.356733  0.562485 -1.174428         1.0          0.0   \n",
       "1    0.209591     0.350918  0.562485 -0.563210         0.0          1.0   \n",
       "2    0.198726     0.031860  1.457145 -0.934830         0.0          1.0   \n",
       "\n",
       "   waterbody_Lake  waterbody_Lake and River  waterbody_None  waterbody_River  \\\n",
       "0             0.0                       1.0             0.0              0.0   \n",
       "1             0.0                       0.0             0.0              1.0   \n",
       "2             0.0                       0.0             1.0              0.0   \n",
       "\n",
       "   price  \n",
       "0   10.2  \n",
       "1   22.1  \n",
       "2   41.3  "
      ]
     },
     "execution_count": 4,
     "metadata": {},
     "output_type": "execute_result"
    }
   ],
   "source": [
    "d_train.head(3)"
   ]
  },
  {
   "cell_type": "code",
   "execution_count": 5,
   "id": "26582a22",
   "metadata": {},
   "outputs": [
    {
     "data": {
      "text/html": [
       "<div>\n",
       "<style scoped>\n",
       "    .dataframe tbody tr th:only-of-type {\n",
       "        vertical-align: middle;\n",
       "    }\n",
       "\n",
       "    .dataframe tbody tr th {\n",
       "        vertical-align: top;\n",
       "    }\n",
       "\n",
       "    .dataframe thead th {\n",
       "        text-align: right;\n",
       "    }\n",
       "</style>\n",
       "<table border=\"1\" class=\"dataframe\">\n",
       "  <thead>\n",
       "    <tr style=\"text-align: right;\">\n",
       "      <th></th>\n",
       "      <th>crime_rate</th>\n",
       "      <th>resid_area</th>\n",
       "      <th>air_qual</th>\n",
       "      <th>room_num</th>\n",
       "      <th>age</th>\n",
       "      <th>teachers</th>\n",
       "      <th>poor_prop</th>\n",
       "      <th>n_hos_beds</th>\n",
       "      <th>n_hot_rooms</th>\n",
       "      <th>rainfall</th>\n",
       "      <th>dist</th>\n",
       "      <th>airport_NO</th>\n",
       "      <th>airport_YES</th>\n",
       "      <th>waterbody_Lake</th>\n",
       "      <th>waterbody_Lake and River</th>\n",
       "      <th>waterbody_None</th>\n",
       "      <th>waterbody_River</th>\n",
       "      <th>price</th>\n",
       "    </tr>\n",
       "  </thead>\n",
       "  <tbody>\n",
       "    <tr>\n",
       "      <th>0</th>\n",
       "      <td>-1.148833</td>\n",
       "      <td>-1.385161</td>\n",
       "      <td>-1.286608</td>\n",
       "      <td>1.417661</td>\n",
       "      <td>-1.069612</td>\n",
       "      <td>2.789815</td>\n",
       "      <td>-0.789224</td>\n",
       "      <td>1.533755</td>\n",
       "      <td>0.195398</td>\n",
       "      <td>0.318486</td>\n",
       "      <td>1.721522</td>\n",
       "      <td>1.0</td>\n",
       "      <td>0.0</td>\n",
       "      <td>1.0</td>\n",
       "      <td>0.0</td>\n",
       "      <td>0.0</td>\n",
       "      <td>0.0</td>\n",
       "      <td>34.6</td>\n",
       "    </tr>\n",
       "    <tr>\n",
       "      <th>1</th>\n",
       "      <td>0.009692</td>\n",
       "      <td>-0.701948</td>\n",
       "      <td>-0.422879</td>\n",
       "      <td>0.392417</td>\n",
       "      <td>-1.671787</td>\n",
       "      <td>0.513737</td>\n",
       "      <td>-1.731375</td>\n",
       "      <td>-0.409711</td>\n",
       "      <td>0.363912</td>\n",
       "      <td>0.643817</td>\n",
       "      <td>-0.203814</td>\n",
       "      <td>0.0</td>\n",
       "      <td>1.0</td>\n",
       "      <td>0.0</td>\n",
       "      <td>0.0</td>\n",
       "      <td>1.0</td>\n",
       "      <td>0.0</td>\n",
       "      <td>31.5</td>\n",
       "    </tr>\n",
       "    <tr>\n",
       "      <th>2</th>\n",
       "      <td>-1.062466</td>\n",
       "      <td>0.134549</td>\n",
       "      <td>0.173094</td>\n",
       "      <td>-0.221025</td>\n",
       "      <td>0.298645</td>\n",
       "      <td>-1.193321</td>\n",
       "      <td>-0.262952</td>\n",
       "      <td>-0.897276</td>\n",
       "      <td>0.003244</td>\n",
       "      <td>-1.552167</td>\n",
       "      <td>-0.734351</td>\n",
       "      <td>0.0</td>\n",
       "      <td>1.0</td>\n",
       "      <td>0.0</td>\n",
       "      <td>1.0</td>\n",
       "      <td>0.0</td>\n",
       "      <td>0.0</td>\n",
       "      <td>20.6</td>\n",
       "    </tr>\n",
       "  </tbody>\n",
       "</table>\n",
       "</div>"
      ],
      "text/plain": [
       "   crime_rate  resid_area  air_qual  room_num       age  teachers  poor_prop  \\\n",
       "0   -1.148833   -1.385161 -1.286608  1.417661 -1.069612  2.789815  -0.789224   \n",
       "1    0.009692   -0.701948 -0.422879  0.392417 -1.671787  0.513737  -1.731375   \n",
       "2   -1.062466    0.134549  0.173094 -0.221025  0.298645 -1.193321  -0.262952   \n",
       "\n",
       "   n_hos_beds  n_hot_rooms  rainfall      dist  airport_NO  airport_YES  \\\n",
       "0    1.533755     0.195398  0.318486  1.721522         1.0          0.0   \n",
       "1   -0.409711     0.363912  0.643817 -0.203814         0.0          1.0   \n",
       "2   -0.897276     0.003244 -1.552167 -0.734351         0.0          1.0   \n",
       "\n",
       "   waterbody_Lake  waterbody_Lake and River  waterbody_None  waterbody_River  \\\n",
       "0             1.0                       0.0             0.0              0.0   \n",
       "1             0.0                       0.0             1.0              0.0   \n",
       "2             0.0                       1.0             0.0              0.0   \n",
       "\n",
       "   price  \n",
       "0   34.6  \n",
       "1   31.5  \n",
       "2   20.6  "
      ]
     },
     "execution_count": 5,
     "metadata": {},
     "output_type": "execute_result"
    }
   ],
   "source": [
    "d_test.head(3)"
   ]
  },
  {
   "cell_type": "code",
   "execution_count": null,
   "id": "b5b2444a",
   "metadata": {},
   "outputs": [],
   "source": []
  },
  {
   "cell_type": "markdown",
   "id": "480bdcf1",
   "metadata": {},
   "source": [
    "## STEP 2 :  Train - Test Split"
   ]
  },
  {
   "cell_type": "code",
   "execution_count": null,
   "id": "006514d4",
   "metadata": {},
   "outputs": [],
   "source": []
  },
  {
   "cell_type": "code",
   "execution_count": 6,
   "id": "c6bb7372",
   "metadata": {},
   "outputs": [],
   "source": [
    "X_train = d_train.drop(labels= ['price'] , axis = 1)\n",
    "y_train = d_train['price']\n",
    "\n",
    "X_test = d_test.drop(labels= ['price'] , axis = 1)\n",
    "y_test = d_test['price']"
   ]
  },
  {
   "cell_type": "code",
   "execution_count": null,
   "id": "8389fe8f",
   "metadata": {},
   "outputs": [],
   "source": []
  },
  {
   "cell_type": "code",
   "execution_count": 7,
   "id": "ed8b05b0",
   "metadata": {},
   "outputs": [
    {
     "data": {
      "text/plain": [
       "((404, 17), (404,))"
      ]
     },
     "execution_count": 7,
     "metadata": {},
     "output_type": "execute_result"
    }
   ],
   "source": [
    "X_train.shape , y_train.shape"
   ]
  },
  {
   "cell_type": "code",
   "execution_count": 8,
   "id": "b65c102c",
   "metadata": {},
   "outputs": [
    {
     "data": {
      "text/plain": [
       "((102, 17), (102,))"
      ]
     },
     "execution_count": 8,
     "metadata": {},
     "output_type": "execute_result"
    }
   ],
   "source": [
    "X_test.shape , y_test.shape"
   ]
  },
  {
   "cell_type": "code",
   "execution_count": null,
   "id": "92d4967b",
   "metadata": {},
   "outputs": [],
   "source": []
  },
  {
   "cell_type": "code",
   "execution_count": null,
   "id": "887b2310",
   "metadata": {},
   "outputs": [],
   "source": []
  },
  {
   "cell_type": "markdown",
   "id": "4ee11c7e",
   "metadata": {},
   "source": [
    "## STEP 3 : Training models"
   ]
  },
  {
   "cell_type": "code",
   "execution_count": null,
   "id": "61974d55",
   "metadata": {},
   "outputs": [],
   "source": []
  },
  {
   "cell_type": "code",
   "execution_count": 9,
   "id": "18d797ff",
   "metadata": {},
   "outputs": [],
   "source": [
    "from sklearn.neighbors import KNeighborsRegressor"
   ]
  },
  {
   "cell_type": "code",
   "execution_count": 10,
   "id": "aef2672c",
   "metadata": {},
   "outputs": [],
   "source": [
    "from sklearn.linear_model import LinearRegression\n",
    "from sklearn.svm import SVR\n",
    "\n",
    "from sklearn.tree import DecisionTreeRegressor\n",
    "from sklearn.ensemble import RandomForestRegressor"
   ]
  },
  {
   "cell_type": "code",
   "execution_count": null,
   "id": "2abcda81",
   "metadata": {},
   "outputs": [],
   "source": []
  },
  {
   "cell_type": "code",
   "execution_count": 11,
   "id": "1d4a0236",
   "metadata": {},
   "outputs": [],
   "source": [
    "from sklearn.metrics import mean_squared_error,r2_score"
   ]
  },
  {
   "cell_type": "code",
   "execution_count": null,
   "id": "9f652953",
   "metadata": {},
   "outputs": [],
   "source": []
  },
  {
   "cell_type": "markdown",
   "id": "2584dc83",
   "metadata": {},
   "source": [
    "### Various Algorithms for Regression Task : \n",
    "\n",
    "- Linear Regression, Polynomial Regression, Ridge Regression, Lasso Regression, Elastic Net Regression.\n",
    "- Support Vector Regression (SVR),\n",
    "- Decision Tree Regression, \n",
    "- Random Forest Regression, and \n",
    "- Gradient Boosting Regression."
   ]
  },
  {
   "cell_type": "code",
   "execution_count": null,
   "id": "13171651",
   "metadata": {},
   "outputs": [],
   "source": []
  },
  {
   "cell_type": "code",
   "execution_count": 12,
   "id": "581328dd",
   "metadata": {},
   "outputs": [],
   "source": [
    "models = [LinearRegression(), SVR(),KNeighborsRegressor(),DecisionTreeRegressor(), RandomForestRegressor()]"
   ]
  },
  {
   "cell_type": "code",
   "execution_count": null,
   "id": "9da5351d",
   "metadata": {},
   "outputs": [],
   "source": []
  },
  {
   "cell_type": "code",
   "execution_count": 13,
   "id": "2055a00d",
   "metadata": {},
   "outputs": [],
   "source": [
    "import warnings\n",
    "warnings.filterwarnings('ignore')"
   ]
  },
  {
   "cell_type": "code",
   "execution_count": null,
   "id": "f61d451b",
   "metadata": {},
   "outputs": [],
   "source": []
  },
  {
   "cell_type": "code",
   "execution_count": 14,
   "id": "f53f14be",
   "metadata": {
    "scrolled": true
   },
   "outputs": [],
   "source": [
    "def ModelTraining(ML_models , X_train ,y_train ,X_test,y_test):\n",
    "    \n",
    "    for model in ML_models :\n",
    "\n",
    "        model.fit(X_train.values, y_train)\n",
    "        y_hat_train = model.predict(X_train.values)\n",
    "        y_hat_test = model.predict(X_test.values)\n",
    "\n",
    "        print(f\"******************* \\33[1m{str(model)}\\33[0m *******************\\n\")\n",
    "\n",
    "        print(\"\\33[1mTraining Report :\\33[0m \\n\")\n",
    "        print(\"Mean Squared Error : \",round(mean_squared_error(y_train,y_hat_train),2))\n",
    "        print(\"RMSE : \",round(np.sqrt(mean_squared_error(y_train,y_hat_train)),2))\n",
    "        print(\"R2 Square : \",r2_score(y_train,y_hat_train))\n",
    "\n",
    "        print() \n",
    "\n",
    "        print(\"\\33[1mTesting Report :\\33[0m \\n\")\n",
    "        print(\"Mean Squared Error : \",round(mean_squared_error(y_test,y_hat_test),2))\n",
    "        print(\"RMSE : \",round(np.sqrt(mean_squared_error(y_test,y_hat_test)),2))\n",
    "        print(\"R2 Square : \",r2_score(y_test,y_hat_test))\n",
    "\n",
    "\n",
    "        print()"
   ]
  },
  {
   "cell_type": "code",
   "execution_count": 15,
   "id": "bb5a8c67",
   "metadata": {
    "scrolled": false
   },
   "outputs": [
    {
     "name": "stdout",
     "output_type": "stream",
     "text": [
      "******************* \u001b[1mLinearRegression()\u001b[0m *******************\n",
      "\n",
      "\u001b[1mTraining Report :\u001b[0m \n",
      "\n",
      "Mean Squared Error :  18.34\n",
      "RMSE :  4.28\n",
      "R2 Square :  0.7735816921822523\n",
      "\n",
      "\u001b[1mTesting Report :\u001b[0m \n",
      "\n",
      "Mean Squared Error :  21.34\n",
      "RMSE :  4.62\n",
      "R2 Square :  0.7788496168668546\n",
      "\n",
      "******************* \u001b[1mSVR()\u001b[0m *******************\n",
      "\n",
      "\u001b[1mTraining Report :\u001b[0m \n",
      "\n",
      "Mean Squared Error :  25.22\n",
      "RMSE :  5.02\n",
      "R2 Square :  0.6885310921865826\n",
      "\n",
      "\u001b[1mTesting Report :\u001b[0m \n",
      "\n",
      "Mean Squared Error :  30.35\n",
      "RMSE :  5.51\n",
      "R2 Square :  0.6854907633125435\n",
      "\n",
      "******************* \u001b[1mKNeighborsRegressor()\u001b[0m *******************\n",
      "\n",
      "\u001b[1mTraining Report :\u001b[0m \n",
      "\n",
      "Mean Squared Error :  15.61\n",
      "RMSE :  3.95\n",
      "R2 Square :  0.8072790749977554\n",
      "\n",
      "\u001b[1mTesting Report :\u001b[0m \n",
      "\n",
      "Mean Squared Error :  21.36\n",
      "RMSE :  4.62\n",
      "R2 Square :  0.7786733229670815\n",
      "\n",
      "******************* \u001b[1mDecisionTreeRegressor()\u001b[0m *******************\n",
      "\n",
      "\u001b[1mTraining Report :\u001b[0m \n",
      "\n",
      "Mean Squared Error :  0.0\n",
      "RMSE :  0.0\n",
      "R2 Square :  1.0\n",
      "\n",
      "\u001b[1mTesting Report :\u001b[0m \n",
      "\n",
      "Mean Squared Error :  32.5\n",
      "RMSE :  5.7\n",
      "R2 Square :  0.6631795919674935\n",
      "\n",
      "******************* \u001b[1mRandomForestRegressor()\u001b[0m *******************\n",
      "\n",
      "\u001b[1mTraining Report :\u001b[0m \n",
      "\n",
      "Mean Squared Error :  1.59\n",
      "RMSE :  1.26\n",
      "R2 Square :  0.980363853908526\n",
      "\n",
      "\u001b[1mTesting Report :\u001b[0m \n",
      "\n",
      "Mean Squared Error :  10.18\n",
      "RMSE :  3.19\n",
      "R2 Square :  0.8944981843100944\n",
      "\n"
     ]
    }
   ],
   "source": [
    "ModelTraining(ML_models = models ,  X_train = X_train ,y_train = y_train ,\n",
    "                   X_test = X_test, y_test = y_test)"
   ]
  },
  {
   "cell_type": "code",
   "execution_count": null,
   "id": "9c6547d0",
   "metadata": {},
   "outputs": [],
   "source": []
  },
  {
   "cell_type": "code",
   "execution_count": 17,
   "id": "57ffd410",
   "metadata": {},
   "outputs": [
    {
     "data": {
      "text/plain": [
       "count    102.000000\n",
       "mean      22.129412\n",
       "std        9.871397\n",
       "min        6.300000\n",
       "25%       15.575000\n",
       "50%       20.900000\n",
       "75%       24.650000\n",
       "max       50.000000\n",
       "Name: price, dtype: float64"
      ]
     },
     "execution_count": 17,
     "metadata": {},
     "output_type": "execute_result"
    }
   ],
   "source": [
    "y_test.describe()"
   ]
  },
  {
   "cell_type": "code",
   "execution_count": null,
   "id": "f355f78d",
   "metadata": {},
   "outputs": [],
   "source": []
  },
  {
   "cell_type": "markdown",
   "id": "246a67d6",
   "metadata": {},
   "source": [
    "## HyperParameter Tuning"
   ]
  },
  {
   "cell_type": "markdown",
   "id": "8a655552",
   "metadata": {},
   "source": [
    "###  Choosing best models\n",
    "\n",
    "- Random forest classifier"
   ]
  },
  {
   "cell_type": "code",
   "execution_count": 23,
   "id": "eda9666b",
   "metadata": {},
   "outputs": [],
   "source": [
    "from sklearn.model_selection import GridSearchCV"
   ]
  },
  {
   "cell_type": "code",
   "execution_count": 24,
   "id": "6f8fb8e1",
   "metadata": {},
   "outputs": [],
   "source": [
    "random_forest = RandomForestRegressor()"
   ]
  },
  {
   "cell_type": "code",
   "execution_count": null,
   "id": "fdb938ee",
   "metadata": {},
   "outputs": [],
   "source": []
  },
  {
   "cell_type": "code",
   "execution_count": 25,
   "id": "c521dc3e",
   "metadata": {},
   "outputs": [],
   "source": [
    "Param_grid = [\n",
    "                {\n",
    "                    \"max_depth\": [7,9,11,13],\n",
    "                    \"n_estimators\": [150,175,200,250]\n",
    "                }\n",
    "             ]"
   ]
  },
  {
   "cell_type": "markdown",
   "id": "12d39545",
   "metadata": {},
   "source": [
    "#### Various Scoring Parameters for Regression"
   ]
  },
  {
   "cell_type": "markdown",
   "id": "986a09db",
   "metadata": {},
   "source": [
    "    'neg_mean_absolute_error'   :     metrics.mean_absolute_error\n",
    "\n",
    "    'neg_mean_squared_error'    :     metrics.mean_squared_error\n",
    "\n",
    "    'neg_root_mean_squared_error'  :  metrics.mean_squared_error\n",
    "\n",
    "    'neg_mean_squared_log_error'  :   metrics.mean_squared_log_error\n",
    "\n",
    "    'neg_median_absolute_error'   :   metrics.median_absolute_error\n",
    "\n",
    "    'r2'                          :   metrics.r2_score"
   ]
  },
  {
   "cell_type": "code",
   "execution_count": null,
   "id": "3b9ed841",
   "metadata": {},
   "outputs": [],
   "source": []
  },
  {
   "cell_type": "code",
   "execution_count": 21,
   "id": "f3f2a3fe",
   "metadata": {},
   "outputs": [],
   "source": [
    "def GridCV(Model , Param_Grid ,Scoring , CV ,X_train ,y_train ,X_test ,y_test):\n",
    "    \n",
    "    # Creating object of GridSearchCV class\n",
    "    grid_search = GridSearchCV(estimator = Model, param_grid =  Param_Grid, \n",
    "                               scoring = Scoring , cv = CV)\n",
    "    \n",
    "    # Fitting to the object\n",
    "    grid_search.fit(X_train.values , y_train)\n",
    "    \n",
    "    # Printing the Best parameters\n",
    "    print(\"Grid Search CV Best Parameters : \",grid_search.best_params_)\n",
    "    \n",
    "    # Mean cross-validated score of the best_estimator\n",
    "    print(\"Grid Search CV Best Score : \",grid_search.best_score_,\"\\n\")\n",
    "    \n",
    "    # Best Fitted Model\n",
    "    best_model = grid_search.best_estimator_\n",
    "    \n",
    "    # Prediction : Trian and Test\n",
    "    y_hat_GSCV_train = best_model.predict(X_train.values)\n",
    "    y_hat_GSCV_test = best_model.predict(X_test.values)\n",
    "\n",
    "    print(\"\\33[1mResults after HyperParameter Tuning\\33[0m \\n\")\n",
    "    print(\"\\33[1mTraining Report :\\33[0m \\n\")\n",
    "    print(\"Mean Squared Error : \",round(mean_squared_error(y_train,y_hat_GSCV_train),2))\n",
    "    print(\"RMSE : \",round(np.sqrt(mean_squared_error(y_train,y_hat_GSCV_train)),2))\n",
    "    print(\"R2 Square : \",r2_score(y_train,y_hat_GSCV_train))\n",
    "    print(\"\\n\")\n",
    "\n",
    "\n",
    "    print(\"\\33[1mTesting Report :\\33[0m \\n\")\n",
    "    print(\"Mean Squared Error : \",round(mean_squared_error(y_test,y_hat_GSCV_test),2))\n",
    "    print(\"RMSE : \",round(np.sqrt(mean_squared_error(y_test,y_hat_GSCV_test)),2))\n",
    "    print(\"R2 Square : \",r2_score(y_test,y_hat_GSCV_test))"
   ]
  },
  {
   "cell_type": "code",
   "execution_count": null,
   "id": "f77c0ccc",
   "metadata": {},
   "outputs": [],
   "source": []
  },
  {
   "cell_type": "code",
   "execution_count": 26,
   "id": "db3bc67a",
   "metadata": {},
   "outputs": [
    {
     "name": "stdout",
     "output_type": "stream",
     "text": [
      "Grid Search CV Best Parameters :  {'max_depth': 11, 'n_estimators': 150}\n",
      "Grid Search CV Best Score :  0.802177461187763 \n",
      "\n",
      "\u001b[1mResults after HyperParameter Tuning\u001b[0m \n",
      "\n",
      "\u001b[1mTraining Report :\u001b[0m \n",
      "\n",
      "Mean Squared Error :  1.78\n",
      "RMSE :  1.33\n",
      "R2 Square :  0.9779954870423716\n",
      "\n",
      "\n",
      "\u001b[1mTesting Report :\u001b[0m \n",
      "\n",
      "Mean Squared Error :  11.14\n",
      "RMSE :  3.34\n",
      "R2 Square :  0.8845372248713267\n"
     ]
    }
   ],
   "source": [
    "GridCV(Model = random_forest , Param_Grid =Param_grid ,Scoring = \"r2\" , CV = 3 ,\n",
    "       X_train = X_train ,y_train = y_train ,X_test = X_test ,y_test = y_test)"
   ]
  },
  {
   "cell_type": "code",
   "execution_count": null,
   "id": "246491ea",
   "metadata": {},
   "outputs": [],
   "source": []
  },
  {
   "cell_type": "code",
   "execution_count": null,
   "id": "1646f408",
   "metadata": {},
   "outputs": [],
   "source": []
  }
 ],
 "metadata": {
  "kernelspec": {
   "display_name": "Python 3 (ipykernel)",
   "language": "python",
   "name": "python3"
  },
  "language_info": {
   "codemirror_mode": {
    "name": "ipython",
    "version": 3
   },
   "file_extension": ".py",
   "mimetype": "text/x-python",
   "name": "python",
   "nbconvert_exporter": "python",
   "pygments_lexer": "ipython3",
   "version": "3.10.9"
  }
 },
 "nbformat": 4,
 "nbformat_minor": 5
}
