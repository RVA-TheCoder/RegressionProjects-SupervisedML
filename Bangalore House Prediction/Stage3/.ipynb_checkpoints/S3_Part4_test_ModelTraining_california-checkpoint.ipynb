{
 "cells": [
  {
   "cell_type": "code",
   "execution_count": 1,
   "id": "53b9330c",
   "metadata": {},
   "outputs": [],
   "source": [
    "import numpy as np\n",
    "import pandas as pd\n",
    "import matplotlib.pyplot as plt\n",
    "import seaborn as sns"
   ]
  },
  {
   "cell_type": "code",
   "execution_count": null,
   "id": "10f4cbfe",
   "metadata": {},
   "outputs": [],
   "source": []
  },
  {
   "cell_type": "markdown",
   "id": "90544ff6",
   "metadata": {},
   "source": [
    "## STEP 1 : Import Transforrmed Dataset"
   ]
  },
  {
   "cell_type": "code",
   "execution_count": null,
   "id": "b28f5d54",
   "metadata": {},
   "outputs": [],
   "source": []
  },
  {
   "cell_type": "code",
   "execution_count": 2,
   "id": "10e74b9e",
   "metadata": {},
   "outputs": [],
   "source": [
    "filepath_train = r\"S3_Part3_test_pipeline_Train_DS.csv\"\n",
    "filepath_test = r\"S3_Part3_test_pipeline_Test_DS.csv\""
   ]
  },
  {
   "cell_type": "code",
   "execution_count": null,
   "id": "c23a9c93",
   "metadata": {},
   "outputs": [],
   "source": []
  },
  {
   "cell_type": "code",
   "execution_count": 3,
   "id": "6ec6c881",
   "metadata": {},
   "outputs": [],
   "source": [
    "d_train = pd.read_csv(filepath_train  ,index_col= 0 , header= 0)\n",
    "d_test = pd.read_csv(filepath_test  ,index_col= 0 , header= 0)"
   ]
  },
  {
   "cell_type": "code",
   "execution_count": null,
   "id": "e596e797",
   "metadata": {},
   "outputs": [],
   "source": []
  },
  {
   "cell_type": "code",
   "execution_count": 4,
   "id": "bc5bba44",
   "metadata": {},
   "outputs": [
    {
     "data": {
      "text/html": [
       "<div>\n",
       "<style scoped>\n",
       "    .dataframe tbody tr th:only-of-type {\n",
       "        vertical-align: middle;\n",
       "    }\n",
       "\n",
       "    .dataframe tbody tr th {\n",
       "        vertical-align: top;\n",
       "    }\n",
       "\n",
       "    .dataframe thead th {\n",
       "        text-align: right;\n",
       "    }\n",
       "</style>\n",
       "<table border=\"1\" class=\"dataframe\">\n",
       "  <thead>\n",
       "    <tr style=\"text-align: right;\">\n",
       "      <th></th>\n",
       "      <th>longitude</th>\n",
       "      <th>latitude</th>\n",
       "      <th>housing_median_age</th>\n",
       "      <th>total_rooms</th>\n",
       "      <th>population</th>\n",
       "      <th>median_income</th>\n",
       "      <th>rooms_per_household</th>\n",
       "      <th>bedrooms_per_room</th>\n",
       "      <th>population_per_household</th>\n",
       "      <th>ocean_proximity_&lt;1H OCEAN</th>\n",
       "      <th>ocean_proximity_INLAND</th>\n",
       "      <th>ocean_proximity_ISLAND</th>\n",
       "      <th>ocean_proximity_NEAR BAY</th>\n",
       "      <th>ocean_proximity_NEAR OCEAN</th>\n",
       "      <th>median_house_value</th>\n",
       "    </tr>\n",
       "  </thead>\n",
       "  <tbody>\n",
       "    <tr>\n",
       "      <th>0</th>\n",
       "      <td>-1.554442</td>\n",
       "      <td>1.636779</td>\n",
       "      <td>-1.240082</td>\n",
       "      <td>-0.970473</td>\n",
       "      <td>-1.064046</td>\n",
       "      <td>-0.249954</td>\n",
       "      <td>1.262319</td>\n",
       "      <td>-0.078290</td>\n",
       "      <td>0.031965</td>\n",
       "      <td>0.0</td>\n",
       "      <td>1.0</td>\n",
       "      <td>0.0</td>\n",
       "      <td>0.0</td>\n",
       "      <td>0.0</td>\n",
       "      <td>108300.0</td>\n",
       "    </tr>\n",
       "    <tr>\n",
       "      <th>1</th>\n",
       "      <td>-0.623047</td>\n",
       "      <td>-0.148644</td>\n",
       "      <td>-1.398615</td>\n",
       "      <td>0.278105</td>\n",
       "      <td>0.334906</td>\n",
       "      <td>-0.339735</td>\n",
       "      <td>-0.199874</td>\n",
       "      <td>0.040216</td>\n",
       "      <td>-0.029367</td>\n",
       "      <td>0.0</td>\n",
       "      <td>0.0</td>\n",
       "      <td>0.0</td>\n",
       "      <td>0.0</td>\n",
       "      <td>1.0</td>\n",
       "      <td>183200.0</td>\n",
       "    </tr>\n",
       "    <tr>\n",
       "      <th>2</th>\n",
       "      <td>-1.360194</td>\n",
       "      <td>2.267753</td>\n",
       "      <td>-0.843750</td>\n",
       "      <td>0.633399</td>\n",
       "      <td>0.262335</td>\n",
       "      <td>-0.272571</td>\n",
       "      <td>0.113653</td>\n",
       "      <td>-0.597804</td>\n",
       "      <td>-0.054939</td>\n",
       "      <td>0.0</td>\n",
       "      <td>1.0</td>\n",
       "      <td>0.0</td>\n",
       "      <td>0.0</td>\n",
       "      <td>0.0</td>\n",
       "      <td>118400.0</td>\n",
       "    </tr>\n",
       "  </tbody>\n",
       "</table>\n",
       "</div>"
      ],
      "text/plain": [
       "   longitude  latitude  housing_median_age  total_rooms  population  \\\n",
       "0  -1.554442  1.636779           -1.240082    -0.970473   -1.064046   \n",
       "1  -0.623047 -0.148644           -1.398615     0.278105    0.334906   \n",
       "2  -1.360194  2.267753           -0.843750     0.633399    0.262335   \n",
       "\n",
       "   median_income  rooms_per_household  bedrooms_per_room  \\\n",
       "0      -0.249954             1.262319          -0.078290   \n",
       "1      -0.339735            -0.199874           0.040216   \n",
       "2      -0.272571             0.113653          -0.597804   \n",
       "\n",
       "   population_per_household  ocean_proximity_<1H OCEAN  \\\n",
       "0                  0.031965                        0.0   \n",
       "1                 -0.029367                        0.0   \n",
       "2                 -0.054939                        0.0   \n",
       "\n",
       "   ocean_proximity_INLAND  ocean_proximity_ISLAND  ocean_proximity_NEAR BAY  \\\n",
       "0                     1.0                     0.0                       0.0   \n",
       "1                     0.0                     0.0                       0.0   \n",
       "2                     1.0                     0.0                       0.0   \n",
       "\n",
       "   ocean_proximity_NEAR OCEAN  median_house_value  \n",
       "0                         0.0            108300.0  \n",
       "1                         1.0            183200.0  \n",
       "2                         0.0            118400.0  "
      ]
     },
     "execution_count": 4,
     "metadata": {},
     "output_type": "execute_result"
    }
   ],
   "source": [
    "d_train.head(3)"
   ]
  },
  {
   "cell_type": "code",
   "execution_count": 5,
   "id": "26582a22",
   "metadata": {},
   "outputs": [
    {
     "data": {
      "text/html": [
       "<div>\n",
       "<style scoped>\n",
       "    .dataframe tbody tr th:only-of-type {\n",
       "        vertical-align: middle;\n",
       "    }\n",
       "\n",
       "    .dataframe tbody tr th {\n",
       "        vertical-align: top;\n",
       "    }\n",
       "\n",
       "    .dataframe thead th {\n",
       "        text-align: right;\n",
       "    }\n",
       "</style>\n",
       "<table border=\"1\" class=\"dataframe\">\n",
       "  <thead>\n",
       "    <tr style=\"text-align: right;\">\n",
       "      <th></th>\n",
       "      <th>longitude</th>\n",
       "      <th>latitude</th>\n",
       "      <th>housing_median_age</th>\n",
       "      <th>total_rooms</th>\n",
       "      <th>population</th>\n",
       "      <th>median_income</th>\n",
       "      <th>rooms_per_household</th>\n",
       "      <th>bedrooms_per_room</th>\n",
       "      <th>population_per_household</th>\n",
       "      <th>ocean_proximity_&lt;1H OCEAN</th>\n",
       "      <th>ocean_proximity_INLAND</th>\n",
       "      <th>ocean_proximity_ISLAND</th>\n",
       "      <th>ocean_proximity_NEAR BAY</th>\n",
       "      <th>ocean_proximity_NEAR OCEAN</th>\n",
       "      <th>median_house_value</th>\n",
       "    </tr>\n",
       "  </thead>\n",
       "  <tbody>\n",
       "    <tr>\n",
       "      <th>0</th>\n",
       "      <td>0.736691</td>\n",
       "      <td>-0.854400</td>\n",
       "      <td>0.583043</td>\n",
       "      <td>-0.704691</td>\n",
       "      <td>-0.862947</td>\n",
       "      <td>-0.086419</td>\n",
       "      <td>0.340263</td>\n",
       "      <td>-0.815927</td>\n",
       "      <td>-0.050302</td>\n",
       "      <td>1.0</td>\n",
       "      <td>0.0</td>\n",
       "      <td>0.0</td>\n",
       "      <td>0.0</td>\n",
       "      <td>0.0</td>\n",
       "      <td>245300.0</td>\n",
       "    </tr>\n",
       "    <tr>\n",
       "      <th>1</th>\n",
       "      <td>-1.340271</td>\n",
       "      <td>1.019826</td>\n",
       "      <td>1.851305</td>\n",
       "      <td>-0.466451</td>\n",
       "      <td>-0.235167</td>\n",
       "      <td>-1.380994</td>\n",
       "      <td>-0.540981</td>\n",
       "      <td>1.140670</td>\n",
       "      <td>-0.015714</td>\n",
       "      <td>0.0</td>\n",
       "      <td>0.0</td>\n",
       "      <td>0.0</td>\n",
       "      <td>1.0</td>\n",
       "      <td>0.0</td>\n",
       "      <td>104200.0</td>\n",
       "    </tr>\n",
       "    <tr>\n",
       "      <th>2</th>\n",
       "      <td>0.228657</td>\n",
       "      <td>-0.125275</td>\n",
       "      <td>-1.240082</td>\n",
       "      <td>0.863376</td>\n",
       "      <td>0.646173</td>\n",
       "      <td>0.505882</td>\n",
       "      <td>0.528296</td>\n",
       "      <td>-0.955074</td>\n",
       "      <td>0.012981</td>\n",
       "      <td>0.0</td>\n",
       "      <td>1.0</td>\n",
       "      <td>0.0</td>\n",
       "      <td>0.0</td>\n",
       "      <td>0.0</td>\n",
       "      <td>146200.0</td>\n",
       "    </tr>\n",
       "  </tbody>\n",
       "</table>\n",
       "</div>"
      ],
      "text/plain": [
       "   longitude  latitude  housing_median_age  total_rooms  population  \\\n",
       "0   0.736691 -0.854400            0.583043    -0.704691   -0.862947   \n",
       "1  -1.340271  1.019826            1.851305    -0.466451   -0.235167   \n",
       "2   0.228657 -0.125275           -1.240082     0.863376    0.646173   \n",
       "\n",
       "   median_income  rooms_per_household  bedrooms_per_room  \\\n",
       "0      -0.086419             0.340263          -0.815927   \n",
       "1      -1.380994            -0.540981           1.140670   \n",
       "2       0.505882             0.528296          -0.955074   \n",
       "\n",
       "   population_per_household  ocean_proximity_<1H OCEAN  \\\n",
       "0                 -0.050302                        1.0   \n",
       "1                 -0.015714                        0.0   \n",
       "2                  0.012981                        0.0   \n",
       "\n",
       "   ocean_proximity_INLAND  ocean_proximity_ISLAND  ocean_proximity_NEAR BAY  \\\n",
       "0                     0.0                     0.0                       0.0   \n",
       "1                     0.0                     0.0                       1.0   \n",
       "2                     1.0                     0.0                       0.0   \n",
       "\n",
       "   ocean_proximity_NEAR OCEAN  median_house_value  \n",
       "0                         0.0            245300.0  \n",
       "1                         0.0            104200.0  \n",
       "2                         0.0            146200.0  "
      ]
     },
     "execution_count": 5,
     "metadata": {},
     "output_type": "execute_result"
    }
   ],
   "source": [
    "d_test.head(3)"
   ]
  },
  {
   "cell_type": "code",
   "execution_count": null,
   "id": "e85b2b98",
   "metadata": {},
   "outputs": [],
   "source": []
  },
  {
   "cell_type": "markdown",
   "id": "480bdcf1",
   "metadata": {},
   "source": [
    "## STEP 2 :  Train - Test Split"
   ]
  },
  {
   "cell_type": "code",
   "execution_count": null,
   "id": "006514d4",
   "metadata": {},
   "outputs": [],
   "source": []
  },
  {
   "cell_type": "code",
   "execution_count": 4,
   "id": "c6bb7372",
   "metadata": {},
   "outputs": [],
   "source": [
    "X_train = d_train.drop(labels= ['median_house_value'] , axis = 1)\n",
    "y_train = d_train['median_house_value']\n",
    "\n",
    "X_test = d_test.drop(labels= ['median_house_value'] , axis = 1)\n",
    "y_test = d_test['median_house_value']"
   ]
  },
  {
   "cell_type": "code",
   "execution_count": null,
   "id": "8389fe8f",
   "metadata": {},
   "outputs": [],
   "source": []
  },
  {
   "cell_type": "code",
   "execution_count": 7,
   "id": "ed8b05b0",
   "metadata": {},
   "outputs": [
    {
     "data": {
      "text/plain": [
       "((16512, 14), (16512,))"
      ]
     },
     "execution_count": 7,
     "metadata": {},
     "output_type": "execute_result"
    }
   ],
   "source": [
    "X_train.shape , y_train.shape"
   ]
  },
  {
   "cell_type": "code",
   "execution_count": 8,
   "id": "b65c102c",
   "metadata": {},
   "outputs": [
    {
     "data": {
      "text/plain": [
       "((4128, 14), (4128,))"
      ]
     },
     "execution_count": 8,
     "metadata": {},
     "output_type": "execute_result"
    }
   ],
   "source": [
    "X_test.shape , y_test.shape"
   ]
  },
  {
   "cell_type": "code",
   "execution_count": null,
   "id": "40f22657",
   "metadata": {},
   "outputs": [],
   "source": []
  },
  {
   "cell_type": "markdown",
   "id": "4ee11c7e",
   "metadata": {},
   "source": [
    "## STEP 3 : Training models"
   ]
  },
  {
   "cell_type": "code",
   "execution_count": null,
   "id": "e977e684",
   "metadata": {},
   "outputs": [],
   "source": []
  },
  {
   "cell_type": "code",
   "execution_count": 9,
   "id": "18d797ff",
   "metadata": {},
   "outputs": [],
   "source": [
    "from sklearn.neighbors import KNeighborsRegressor"
   ]
  },
  {
   "cell_type": "code",
   "execution_count": 10,
   "id": "aef2672c",
   "metadata": {},
   "outputs": [],
   "source": [
    "from sklearn.linear_model import LinearRegression\n",
    "from sklearn.svm import SVR\n",
    "\n",
    "from sklearn.tree import DecisionTreeRegressor\n",
    "from sklearn.ensemble import RandomForestRegressor"
   ]
  },
  {
   "cell_type": "code",
   "execution_count": null,
   "id": "2abcda81",
   "metadata": {},
   "outputs": [],
   "source": []
  },
  {
   "cell_type": "code",
   "execution_count": 11,
   "id": "1d4a0236",
   "metadata": {},
   "outputs": [],
   "source": [
    "from sklearn.metrics import mean_squared_error,r2_score"
   ]
  },
  {
   "cell_type": "code",
   "execution_count": null,
   "id": "9f652953",
   "metadata": {},
   "outputs": [],
   "source": []
  },
  {
   "cell_type": "markdown",
   "id": "2584dc83",
   "metadata": {},
   "source": [
    "### Various Algorithms for Regression Task : \n",
    "\n",
    "- Linear Regression, Polynomial Regression, Ridge Regression, Lasso Regression, Elastic Net Regression.\n",
    "- Support Vector Regression (SVR),\n",
    "- Decision Tree Regression, \n",
    "- Random Forest Regression, and \n",
    "- Gradient Boosting Regression."
   ]
  },
  {
   "cell_type": "code",
   "execution_count": null,
   "id": "13171651",
   "metadata": {},
   "outputs": [],
   "source": []
  },
  {
   "cell_type": "code",
   "execution_count": 12,
   "id": "581328dd",
   "metadata": {},
   "outputs": [],
   "source": [
    "models = [LinearRegression(), SVR(),KNeighborsRegressor(),DecisionTreeRegressor(), RandomForestRegressor()]"
   ]
  },
  {
   "cell_type": "code",
   "execution_count": null,
   "id": "9da5351d",
   "metadata": {},
   "outputs": [],
   "source": []
  },
  {
   "cell_type": "code",
   "execution_count": 13,
   "id": "2055a00d",
   "metadata": {},
   "outputs": [],
   "source": [
    "import warnings\n",
    "warnings.filterwarnings('ignore')"
   ]
  },
  {
   "cell_type": "code",
   "execution_count": null,
   "id": "f61d451b",
   "metadata": {},
   "outputs": [],
   "source": []
  },
  {
   "cell_type": "code",
   "execution_count": 14,
   "id": "08c1a2c4",
   "metadata": {},
   "outputs": [
    {
     "name": "stdout",
     "output_type": "stream",
     "text": [
      "******************* \u001b[1mLinearRegression()\u001b[0m *******************\n",
      "\n",
      "\u001b[1mTraining Report :\u001b[0m \n",
      "\n",
      "Mean Squared Error :  4778382221.77\n",
      "RMSE :  69125.84\n",
      "R2 Square :  0.6400583546029388\n",
      "\n",
      "\n",
      "\u001b[1mTesting Report :\u001b[0m \n",
      "\n",
      "Mean Squared Error :  4596215761.45\n",
      "RMSE :  67795.4\n",
      "R2 Square :  0.6588819117445954\n",
      "\n",
      "******************* \u001b[1mSVR()\u001b[0m *******************\n",
      "\n",
      "\u001b[1mTraining Report :\u001b[0m \n",
      "\n",
      "Mean Squared Error :  13893902333.46\n",
      "RMSE :  117872.4\n",
      "R2 Square :  -0.046587283056869655\n",
      "\n",
      "\n",
      "\u001b[1mTesting Report :\u001b[0m \n",
      "\n",
      "Mean Squared Error :  14011270917.79\n",
      "RMSE :  118369.21\n",
      "R2 Square :  -0.03987675896157272\n",
      "\n",
      "******************* \u001b[1mKNeighborsRegressor()\u001b[0m *******************\n",
      "\n",
      "\u001b[1mTraining Report :\u001b[0m \n",
      "\n",
      "Mean Squared Error :  2417600642.17\n",
      "RMSE :  49169.1\n",
      "R2 Square :  0.8178891698761604\n",
      "\n",
      "\n",
      "\u001b[1mTesting Report :\u001b[0m \n",
      "\n",
      "Mean Squared Error :  3659240718.47\n",
      "RMSE :  60491.66\n",
      "R2 Square :  0.7284215399934539\n",
      "\n",
      "******************* \u001b[1mDecisionTreeRegressor()\u001b[0m *******************\n",
      "\n",
      "\u001b[1mTraining Report :\u001b[0m \n",
      "\n",
      "Mean Squared Error :  0.0\n",
      "RMSE :  0.0\n",
      "R2 Square :  1.0\n",
      "\n",
      "\n",
      "\u001b[1mTesting Report :\u001b[0m \n",
      "\n",
      "Mean Squared Error :  4758592427.37\n",
      "RMSE :  68982.55\n",
      "R2 Square :  0.6468307764781063\n",
      "\n",
      "******************* \u001b[1mRandomForestRegressor()\u001b[0m *******************\n",
      "\n",
      "\u001b[1mTraining Report :\u001b[0m \n",
      "\n",
      "Mean Squared Error :  345792718.6\n",
      "RMSE :  18595.5\n",
      "R2 Square :  0.973952439481961\n",
      "\n",
      "\n",
      "\u001b[1mTesting Report :\u001b[0m \n",
      "\n",
      "Mean Squared Error :  2362172417.7\n",
      "RMSE :  48602.19\n",
      "R2 Square :  0.8246862677740299\n",
      "\n"
     ]
    }
   ],
   "source": [
    "for model in models :\n",
    "    \n",
    "    model.fit(X_train.values, y_train)\n",
    "    y_hat_train = model.predict(X_train.values)\n",
    "    y_hat_test = model.predict(X_test.values)\n",
    "    \n",
    "    print(f\"******************* \\33[1m{str(model)}\\33[0m *******************\\n\")\n",
    "  \n",
    "    print(\"\\33[1mTraining Report :\\33[0m \\n\")\n",
    "    print(\"Mean Squared Error : \",round(mean_squared_error(y_train,y_hat_train),2))\n",
    "    print(\"RMSE : \",round(np.sqrt(mean_squared_error(y_train,y_hat_train)),2))\n",
    "    print(\"R2 Square : \",r2_score(y_train,y_hat_train))\n",
    "    print(\"\\n\")\n",
    "    \n",
    "    \n",
    "    print(\"\\33[1mTesting Report :\\33[0m \\n\")\n",
    "    print(\"Mean Squared Error : \",round(mean_squared_error(y_test,y_hat_test),2))\n",
    "    print(\"RMSE : \",round(np.sqrt(mean_squared_error(y_test,y_hat_test)),2))\n",
    "    print(\"R2 Square : \",r2_score(y_test,y_hat_test))\n",
    "    \n",
    "  \n",
    "    print()"
   ]
  },
  {
   "cell_type": "code",
   "execution_count": null,
   "id": "ec4b79c7",
   "metadata": {},
   "outputs": [],
   "source": []
  },
  {
   "cell_type": "markdown",
   "id": "d1c3d68f",
   "metadata": {},
   "source": [
    "    ******************* LinearRegression() *******************\n",
    "\n",
    "    \\Regression Report : \n",
    "\n",
    "    Mean Squared Error :  5064810851.17\n",
    "    RMSE :  71167.48\n",
    "    R2 Square :  0.6241041142112207\n",
    "\n",
    "    ******************* SVR() *******************\n",
    "\n",
    "    \\Regression Report : \n",
    "\n",
    "    Mean Squared Error :  14011299992.0\n",
    "    RMSE :  118369.34\n",
    "    R2 Square :  -0.039878916767023265\n",
    "\n",
    "    ******************* DecisionTreeRegressor() *******************\n",
    "\n",
    "    \\Regression Report : \n",
    "\n",
    "    Mean Squared Error :  4642827176.64\n",
    "    RMSE :  68138.29\n",
    "    R2 Square :  0.6554225448075801\n",
    "\n",
    "    ******************* RandomForestRegressor() *******************\n",
    "\n",
    "    \\Regression Report : \n",
    "\n",
    "    Mean Squared Error :  2382362645.6\n",
    "    RMSE :  48809.45\n",
    "    R2 Square :  0.823187806365523"
   ]
  },
  {
   "cell_type": "code",
   "execution_count": 5,
   "id": "57ffd410",
   "metadata": {},
   "outputs": [
    {
     "data": {
      "text/plain": [
       "count      4128.000000\n",
       "mean     205656.130814\n",
       "std      116091.504411\n",
       "min       22500.000000\n",
       "25%      118175.000000\n",
       "50%      177750.000000\n",
       "75%      262500.000000\n",
       "max      500001.000000\n",
       "Name: median_house_value, dtype: float64"
      ]
     },
     "execution_count": 5,
     "metadata": {},
     "output_type": "execute_result"
    }
   ],
   "source": [
    "y_test.describe()"
   ]
  },
  {
   "cell_type": "code",
   "execution_count": null,
   "id": "bd3eb740",
   "metadata": {},
   "outputs": [],
   "source": []
  },
  {
   "cell_type": "markdown",
   "id": "246a67d6",
   "metadata": {},
   "source": [
    "## HyperParameter Tuning"
   ]
  },
  {
   "cell_type": "markdown",
   "id": "8a655552",
   "metadata": {},
   "source": [
    "###  Choosing best models\n",
    "\n",
    "- Random forest classifier"
   ]
  },
  {
   "cell_type": "code",
   "execution_count": 57,
   "id": "eda9666b",
   "metadata": {},
   "outputs": [],
   "source": [
    "from sklearn.model_selection import GridSearchCV"
   ]
  },
  {
   "cell_type": "code",
   "execution_count": 58,
   "id": "6f8fb8e1",
   "metadata": {},
   "outputs": [],
   "source": [
    "random_forest = RandomForestRegressor()"
   ]
  },
  {
   "cell_type": "code",
   "execution_count": null,
   "id": "fdb938ee",
   "metadata": {},
   "outputs": [],
   "source": []
  },
  {
   "cell_type": "code",
   "execution_count": 59,
   "id": "c521dc3e",
   "metadata": {},
   "outputs": [],
   "source": [
    "param_grid = [\n",
    "                {\n",
    "                    \"max_depth\": [10,11,12],\n",
    "                    \"n_estimators\": [200,250,300]\n",
    "\n",
    "                }\n",
    "             ]"
   ]
  },
  {
   "cell_type": "markdown",
   "id": "12d39545",
   "metadata": {},
   "source": [
    "#### Various Scoring Parameters for Regression"
   ]
  },
  {
   "cell_type": "markdown",
   "id": "986a09db",
   "metadata": {},
   "source": [
    "    'neg_mean_absolute_error'   :     metrics.mean_absolute_error\n",
    "\n",
    "    'neg_mean_squared_error'    :     metrics.mean_squared_error\n",
    "\n",
    "    'neg_root_mean_squared_error'  :  metrics.mean_squared_error\n",
    "\n",
    "    'neg_mean_squared_log_error'  :   metrics.mean_squared_log_error\n",
    "\n",
    "    'neg_median_absolute_error'   :   metrics.median_absolute_error\n",
    "\n",
    "    'r2'                          :   metrics.r2_score"
   ]
  },
  {
   "cell_type": "code",
   "execution_count": null,
   "id": "3b9ed841",
   "metadata": {},
   "outputs": [],
   "source": []
  },
  {
   "cell_type": "code",
   "execution_count": 60,
   "id": "0172c561",
   "metadata": {},
   "outputs": [],
   "source": [
    "grid_search = GridSearchCV(random_forest, param_grid, scoring='r2' , cv = 3)"
   ]
  },
  {
   "cell_type": "code",
   "execution_count": 61,
   "id": "f4abf7b7",
   "metadata": {},
   "outputs": [],
   "source": [
    "# X_train.values, y_train"
   ]
  },
  {
   "cell_type": "code",
   "execution_count": 62,
   "id": "8a7cc054",
   "metadata": {},
   "outputs": [
    {
     "data": {
      "text/html": [
       "<style>#sk-container-id-4 {color: black;background-color: white;}#sk-container-id-4 pre{padding: 0;}#sk-container-id-4 div.sk-toggleable {background-color: white;}#sk-container-id-4 label.sk-toggleable__label {cursor: pointer;display: block;width: 100%;margin-bottom: 0;padding: 0.3em;box-sizing: border-box;text-align: center;}#sk-container-id-4 label.sk-toggleable__label-arrow:before {content: \"▸\";float: left;margin-right: 0.25em;color: #696969;}#sk-container-id-4 label.sk-toggleable__label-arrow:hover:before {color: black;}#sk-container-id-4 div.sk-estimator:hover label.sk-toggleable__label-arrow:before {color: black;}#sk-container-id-4 div.sk-toggleable__content {max-height: 0;max-width: 0;overflow: hidden;text-align: left;background-color: #f0f8ff;}#sk-container-id-4 div.sk-toggleable__content pre {margin: 0.2em;color: black;border-radius: 0.25em;background-color: #f0f8ff;}#sk-container-id-4 input.sk-toggleable__control:checked~div.sk-toggleable__content {max-height: 200px;max-width: 100%;overflow: auto;}#sk-container-id-4 input.sk-toggleable__control:checked~label.sk-toggleable__label-arrow:before {content: \"▾\";}#sk-container-id-4 div.sk-estimator input.sk-toggleable__control:checked~label.sk-toggleable__label {background-color: #d4ebff;}#sk-container-id-4 div.sk-label input.sk-toggleable__control:checked~label.sk-toggleable__label {background-color: #d4ebff;}#sk-container-id-4 input.sk-hidden--visually {border: 0;clip: rect(1px 1px 1px 1px);clip: rect(1px, 1px, 1px, 1px);height: 1px;margin: -1px;overflow: hidden;padding: 0;position: absolute;width: 1px;}#sk-container-id-4 div.sk-estimator {font-family: monospace;background-color: #f0f8ff;border: 1px dotted black;border-radius: 0.25em;box-sizing: border-box;margin-bottom: 0.5em;}#sk-container-id-4 div.sk-estimator:hover {background-color: #d4ebff;}#sk-container-id-4 div.sk-parallel-item::after {content: \"\";width: 100%;border-bottom: 1px solid gray;flex-grow: 1;}#sk-container-id-4 div.sk-label:hover label.sk-toggleable__label {background-color: #d4ebff;}#sk-container-id-4 div.sk-serial::before {content: \"\";position: absolute;border-left: 1px solid gray;box-sizing: border-box;top: 0;bottom: 0;left: 50%;z-index: 0;}#sk-container-id-4 div.sk-serial {display: flex;flex-direction: column;align-items: center;background-color: white;padding-right: 0.2em;padding-left: 0.2em;position: relative;}#sk-container-id-4 div.sk-item {position: relative;z-index: 1;}#sk-container-id-4 div.sk-parallel {display: flex;align-items: stretch;justify-content: center;background-color: white;position: relative;}#sk-container-id-4 div.sk-item::before, #sk-container-id-4 div.sk-parallel-item::before {content: \"\";position: absolute;border-left: 1px solid gray;box-sizing: border-box;top: 0;bottom: 0;left: 50%;z-index: -1;}#sk-container-id-4 div.sk-parallel-item {display: flex;flex-direction: column;z-index: 1;position: relative;background-color: white;}#sk-container-id-4 div.sk-parallel-item:first-child::after {align-self: flex-end;width: 50%;}#sk-container-id-4 div.sk-parallel-item:last-child::after {align-self: flex-start;width: 50%;}#sk-container-id-4 div.sk-parallel-item:only-child::after {width: 0;}#sk-container-id-4 div.sk-dashed-wrapped {border: 1px dashed gray;margin: 0 0.4em 0.5em 0.4em;box-sizing: border-box;padding-bottom: 0.4em;background-color: white;}#sk-container-id-4 div.sk-label label {font-family: monospace;font-weight: bold;display: inline-block;line-height: 1.2em;}#sk-container-id-4 div.sk-label-container {text-align: center;}#sk-container-id-4 div.sk-container {/* jupyter's `normalize.less` sets `[hidden] { display: none; }` but bootstrap.min.css set `[hidden] { display: none !important; }` so we also need the `!important` here to be able to override the default hidden behavior on the sphinx rendered scikit-learn.org. See: https://github.com/scikit-learn/scikit-learn/issues/21755 */display: inline-block !important;position: relative;}#sk-container-id-4 div.sk-text-repr-fallback {display: none;}</style><div id=\"sk-container-id-4\" class=\"sk-top-container\"><div class=\"sk-text-repr-fallback\"><pre>GridSearchCV(cv=3, estimator=RandomForestRegressor(),\n",
       "             param_grid=[{&#x27;max_depth&#x27;: [10, 11, 12],\n",
       "                          &#x27;n_estimators&#x27;: [200, 250, 300]}],\n",
       "             scoring=&#x27;r2&#x27;)</pre><b>In a Jupyter environment, please rerun this cell to show the HTML representation or trust the notebook. <br />On GitHub, the HTML representation is unable to render, please try loading this page with nbviewer.org.</b></div><div class=\"sk-container\" hidden><div class=\"sk-item sk-dashed-wrapped\"><div class=\"sk-label-container\"><div class=\"sk-label sk-toggleable\"><input class=\"sk-toggleable__control sk-hidden--visually\" id=\"sk-estimator-id-10\" type=\"checkbox\" ><label for=\"sk-estimator-id-10\" class=\"sk-toggleable__label sk-toggleable__label-arrow\">GridSearchCV</label><div class=\"sk-toggleable__content\"><pre>GridSearchCV(cv=3, estimator=RandomForestRegressor(),\n",
       "             param_grid=[{&#x27;max_depth&#x27;: [10, 11, 12],\n",
       "                          &#x27;n_estimators&#x27;: [200, 250, 300]}],\n",
       "             scoring=&#x27;r2&#x27;)</pre></div></div></div><div class=\"sk-parallel\"><div class=\"sk-parallel-item\"><div class=\"sk-item\"><div class=\"sk-label-container\"><div class=\"sk-label sk-toggleable\"><input class=\"sk-toggleable__control sk-hidden--visually\" id=\"sk-estimator-id-11\" type=\"checkbox\" ><label for=\"sk-estimator-id-11\" class=\"sk-toggleable__label sk-toggleable__label-arrow\">estimator: RandomForestRegressor</label><div class=\"sk-toggleable__content\"><pre>RandomForestRegressor()</pre></div></div></div><div class=\"sk-serial\"><div class=\"sk-item\"><div class=\"sk-estimator sk-toggleable\"><input class=\"sk-toggleable__control sk-hidden--visually\" id=\"sk-estimator-id-12\" type=\"checkbox\" ><label for=\"sk-estimator-id-12\" class=\"sk-toggleable__label sk-toggleable__label-arrow\">RandomForestRegressor</label><div class=\"sk-toggleable__content\"><pre>RandomForestRegressor()</pre></div></div></div></div></div></div></div></div></div></div>"
      ],
      "text/plain": [
       "GridSearchCV(cv=3, estimator=RandomForestRegressor(),\n",
       "             param_grid=[{'max_depth': [10, 11, 12],\n",
       "                          'n_estimators': [200, 250, 300]}],\n",
       "             scoring='r2')"
      ]
     },
     "execution_count": 62,
     "metadata": {},
     "output_type": "execute_result"
    }
   ],
   "source": [
    "grid_search.fit(X_train.values , y_train)"
   ]
  },
  {
   "cell_type": "code",
   "execution_count": null,
   "id": "3bd86591",
   "metadata": {},
   "outputs": [],
   "source": []
  },
  {
   "cell_type": "code",
   "execution_count": 63,
   "id": "9d45441c",
   "metadata": {},
   "outputs": [
    {
     "data": {
      "text/plain": [
       "{'max_depth': 12, 'n_estimators': 300}"
      ]
     },
     "execution_count": 63,
     "metadata": {},
     "output_type": "execute_result"
    }
   ],
   "source": [
    "grid_search.best_params_"
   ]
  },
  {
   "cell_type": "code",
   "execution_count": null,
   "id": "1038d69a",
   "metadata": {},
   "outputs": [],
   "source": []
  },
  {
   "cell_type": "code",
   "execution_count": 64,
   "id": "3b55b38a",
   "metadata": {},
   "outputs": [
    {
     "data": {
      "text/plain": [
       "0.7940812271195461"
      ]
     },
     "execution_count": 64,
     "metadata": {},
     "output_type": "execute_result"
    }
   ],
   "source": [
    "# best_score_ :\n",
    "# Mean cross-validated score of the best_estimator\n",
    "\n",
    "grid_search.best_score_"
   ]
  },
  {
   "cell_type": "code",
   "execution_count": null,
   "id": "e2c5d336",
   "metadata": {},
   "outputs": [],
   "source": []
  },
  {
   "cell_type": "code",
   "execution_count": 65,
   "id": "cac84ffb",
   "metadata": {},
   "outputs": [],
   "source": [
    "best_model = grid_search.best_estimator_"
   ]
  },
  {
   "cell_type": "code",
   "execution_count": 66,
   "id": "d8f12620",
   "metadata": {},
   "outputs": [],
   "source": [
    "# X_test X_train.values, y_train y_test"
   ]
  },
  {
   "cell_type": "code",
   "execution_count": 67,
   "id": "a8732377",
   "metadata": {},
   "outputs": [],
   "source": [
    "y_hat_GSCV_test = best_model.predict(X_test.values)"
   ]
  },
  {
   "cell_type": "code",
   "execution_count": 68,
   "id": "709bdb24",
   "metadata": {},
   "outputs": [],
   "source": [
    "y_hat_GSCV_train = best_model.predict(X_train.values)"
   ]
  },
  {
   "cell_type": "code",
   "execution_count": null,
   "id": "26c35da5",
   "metadata": {},
   "outputs": [],
   "source": []
  },
  {
   "cell_type": "code",
   "execution_count": 69,
   "id": "14c9b03b",
   "metadata": {},
   "outputs": [
    {
     "name": "stdout",
     "output_type": "stream",
     "text": [
      "Training : \n",
      " 0.9111389454521721\n"
     ]
    }
   ],
   "source": [
    "print(\"Training : \\n\",r2_score(y_train,y_hat_GSCV_train))"
   ]
  },
  {
   "cell_type": "code",
   "execution_count": 70,
   "id": "e7dabf68",
   "metadata": {
    "scrolled": true
   },
   "outputs": [
    {
     "name": "stdout",
     "output_type": "stream",
     "text": [
      "Testing : \n",
      " 0.8113270101135001\n"
     ]
    }
   ],
   "source": [
    "print(\"Testing : \\n\",r2_score(y_test,y_hat_GSCV_test))"
   ]
  },
  {
   "cell_type": "code",
   "execution_count": null,
   "id": "f39ee2f0",
   "metadata": {},
   "outputs": [],
   "source": []
  },
  {
   "cell_type": "code",
   "execution_count": null,
   "id": "f66b97df",
   "metadata": {},
   "outputs": [],
   "source": []
  },
  {
   "cell_type": "code",
   "execution_count": null,
   "id": "e7a15ebf",
   "metadata": {},
   "outputs": [],
   "source": []
  }
 ],
 "metadata": {
  "kernelspec": {
   "display_name": "Python 3 (ipykernel)",
   "language": "python",
   "name": "python3"
  },
  "language_info": {
   "codemirror_mode": {
    "name": "ipython",
    "version": 3
   },
   "file_extension": ".py",
   "mimetype": "text/x-python",
   "name": "python",
   "nbconvert_exporter": "python",
   "pygments_lexer": "ipython3",
   "version": "3.10.9"
  }
 },
 "nbformat": 4,
 "nbformat_minor": 5
}
