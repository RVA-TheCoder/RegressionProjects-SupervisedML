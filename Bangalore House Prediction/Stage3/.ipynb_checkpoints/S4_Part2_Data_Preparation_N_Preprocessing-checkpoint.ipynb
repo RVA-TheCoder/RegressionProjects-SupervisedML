{
 "cells": [
  {
   "cell_type": "code",
   "execution_count": 1,
   "id": "d88e4c19",
   "metadata": {},
   "outputs": [],
   "source": [
    "import pandas as pd\n",
    "import numpy as np\n",
    "import matplotlib.pyplot as plt\n",
    "import seaborn as sns"
   ]
  },
  {
   "cell_type": "code",
   "execution_count": null,
   "id": "a1cc84c2",
   "metadata": {},
   "outputs": [],
   "source": []
  },
  {
   "cell_type": "markdown",
   "id": "b36908ef",
   "metadata": {},
   "source": [
    "## STEP 1 : Data Collection"
   ]
  },
  {
   "cell_type": "code",
   "execution_count": null,
   "id": "d8ad84dc",
   "metadata": {},
   "outputs": [],
   "source": []
  },
  {
   "cell_type": "code",
   "execution_count": 2,
   "id": "3dfd557a",
   "metadata": {},
   "outputs": [],
   "source": [
    "filepath_House_Price = r\"C:\\Users\\aakas\\PythonStuff\\Regression_udemy\\resources\\Linear_Regression\\House_Price.csv\"\n"
   ]
  },
  {
   "cell_type": "code",
   "execution_count": 3,
   "id": "e4092c25",
   "metadata": {},
   "outputs": [],
   "source": [
    "houses = pd.read_csv(filepath_House_Price , header = 0 )"
   ]
  },
  {
   "cell_type": "code",
   "execution_count": 4,
   "id": "7fdc4f23",
   "metadata": {},
   "outputs": [
    {
     "data": {
      "text/html": [
       "<div>\n",
       "<style scoped>\n",
       "    .dataframe tbody tr th:only-of-type {\n",
       "        vertical-align: middle;\n",
       "    }\n",
       "\n",
       "    .dataframe tbody tr th {\n",
       "        vertical-align: top;\n",
       "    }\n",
       "\n",
       "    .dataframe thead th {\n",
       "        text-align: right;\n",
       "    }\n",
       "</style>\n",
       "<table border=\"1\" class=\"dataframe\">\n",
       "  <thead>\n",
       "    <tr style=\"text-align: right;\">\n",
       "      <th></th>\n",
       "      <th>price</th>\n",
       "      <th>crime_rate</th>\n",
       "      <th>resid_area</th>\n",
       "      <th>air_qual</th>\n",
       "      <th>room_num</th>\n",
       "      <th>age</th>\n",
       "      <th>dist1</th>\n",
       "      <th>dist2</th>\n",
       "      <th>dist3</th>\n",
       "      <th>dist4</th>\n",
       "      <th>teachers</th>\n",
       "      <th>poor_prop</th>\n",
       "      <th>airport</th>\n",
       "      <th>n_hos_beds</th>\n",
       "      <th>n_hot_rooms</th>\n",
       "      <th>waterbody</th>\n",
       "      <th>rainfall</th>\n",
       "      <th>bus_ter</th>\n",
       "      <th>parks</th>\n",
       "    </tr>\n",
       "  </thead>\n",
       "  <tbody>\n",
       "    <tr>\n",
       "      <th>0</th>\n",
       "      <td>24.0</td>\n",
       "      <td>0.00632</td>\n",
       "      <td>32.31</td>\n",
       "      <td>0.538</td>\n",
       "      <td>6.575</td>\n",
       "      <td>65.2</td>\n",
       "      <td>4.35</td>\n",
       "      <td>3.81</td>\n",
       "      <td>4.18</td>\n",
       "      <td>4.01</td>\n",
       "      <td>24.7</td>\n",
       "      <td>4.98</td>\n",
       "      <td>YES</td>\n",
       "      <td>5.480</td>\n",
       "      <td>11.1920</td>\n",
       "      <td>River</td>\n",
       "      <td>23</td>\n",
       "      <td>YES</td>\n",
       "      <td>0.049347</td>\n",
       "    </tr>\n",
       "    <tr>\n",
       "      <th>1</th>\n",
       "      <td>21.6</td>\n",
       "      <td>0.02731</td>\n",
       "      <td>37.07</td>\n",
       "      <td>0.469</td>\n",
       "      <td>6.421</td>\n",
       "      <td>78.9</td>\n",
       "      <td>4.99</td>\n",
       "      <td>4.70</td>\n",
       "      <td>5.12</td>\n",
       "      <td>5.06</td>\n",
       "      <td>22.2</td>\n",
       "      <td>9.14</td>\n",
       "      <td>NO</td>\n",
       "      <td>7.332</td>\n",
       "      <td>12.1728</td>\n",
       "      <td>Lake</td>\n",
       "      <td>42</td>\n",
       "      <td>YES</td>\n",
       "      <td>0.046146</td>\n",
       "    </tr>\n",
       "  </tbody>\n",
       "</table>\n",
       "</div>"
      ],
      "text/plain": [
       "   price  crime_rate  resid_area  air_qual  room_num   age  dist1  dist2  \\\n",
       "0   24.0     0.00632       32.31     0.538     6.575  65.2   4.35   3.81   \n",
       "1   21.6     0.02731       37.07     0.469     6.421  78.9   4.99   4.70   \n",
       "\n",
       "   dist3  dist4  teachers  poor_prop airport  n_hos_beds  n_hot_rooms  \\\n",
       "0   4.18   4.01      24.7       4.98     YES       5.480      11.1920   \n",
       "1   5.12   5.06      22.2       9.14      NO       7.332      12.1728   \n",
       "\n",
       "  waterbody  rainfall bus_ter     parks  \n",
       "0     River        23     YES  0.049347  \n",
       "1      Lake        42     YES  0.046146  "
      ]
     },
     "execution_count": 4,
     "metadata": {},
     "output_type": "execute_result"
    }
   ],
   "source": [
    "houses.head(2)"
   ]
  },
  {
   "cell_type": "code",
   "execution_count": null,
   "id": "f95dc7be",
   "metadata": {},
   "outputs": [],
   "source": []
  },
  {
   "cell_type": "code",
   "execution_count": null,
   "id": "3af8d175",
   "metadata": {},
   "outputs": [],
   "source": []
  },
  {
   "cell_type": "markdown",
   "id": "43bb7b23",
   "metadata": {},
   "source": [
    "## STEP 2  : Feature Merging"
   ]
  },
  {
   "cell_type": "code",
   "execution_count": 5,
   "id": "b8e53265",
   "metadata": {},
   "outputs": [],
   "source": [
    "# STEP 5 : Custom Transformer"
   ]
  },
  {
   "cell_type": "code",
   "execution_count": 6,
   "id": "56aba153",
   "metadata": {},
   "outputs": [],
   "source": [
    "# from sklearn.base import TransformerMixin, BaseEstimator"
   ]
  },
  {
   "cell_type": "code",
   "execution_count": null,
   "id": "7e2f0fa0",
   "metadata": {},
   "outputs": [],
   "source": []
  },
  {
   "cell_type": "markdown",
   "id": "c889fc4a",
   "metadata": {},
   "source": [
    "    class FeatureMerger(BaseEstimator, TransformerMixin):\n",
    "\n",
    "        def __init__(self):\n",
    "\n",
    "            self.in_column = ['dist1', 'dist2', 'dist3', 'dist4']\n",
    "            self.out_column = 'dist'\n",
    "\n",
    "        def fit(self, X, y=None):\n",
    "\n",
    "            # X -> Data Frame \n",
    "            return self\n",
    "\n",
    "        def transform(self, X, y=None):\n",
    "\n",
    "            X[self.out_column] = X[self.in_column].mean(axis = 1)\n",
    "\n",
    "            X.drop(labels = self.in_column , axis = 1 , inplace = True)\n",
    "\n",
    "            return X\n",
    "\n",
    "        def fit_transform(self, X, y=None):\n",
    "\n",
    "            self.fit(X, y) # parameter \n",
    "\n",
    "            return self.transform(X, y) # act to transform"
   ]
  },
  {
   "cell_type": "code",
   "execution_count": null,
   "id": "49241d28",
   "metadata": {},
   "outputs": [],
   "source": []
  },
  {
   "cell_type": "code",
   "execution_count": 7,
   "id": "183dada9",
   "metadata": {},
   "outputs": [],
   "source": [
    "def FeatureMerger(DF , inp_col , out_col):\n",
    "    \n",
    "    inp_columns = inp_col\n",
    "    out_columns = out_col\n",
    "    \n",
    "    DF[out_columns] = DF[inp_columns].mean(axis = 1)\n",
    "        \n",
    "    DF.drop(labels = inp_columns , axis = 1 , inplace = True)\n",
    "        \n",
    "    return DF\n",
    "    "
   ]
  },
  {
   "cell_type": "code",
   "execution_count": null,
   "id": "81610f7f",
   "metadata": {},
   "outputs": [],
   "source": []
  },
  {
   "cell_type": "code",
   "execution_count": 8,
   "id": "7328a148",
   "metadata": {},
   "outputs": [],
   "source": [
    "df = houses.copy()\n",
    "\n",
    "inpcol = ['dist1', 'dist2', 'dist3', 'dist4']\n",
    "outcol = 'dist'\n",
    "\n",
    "df = FeatureMerger(DF = df ,inp_col = inpcol , out_col = outcol  )"
   ]
  },
  {
   "cell_type": "code",
   "execution_count": null,
   "id": "01c8e8d2",
   "metadata": {},
   "outputs": [],
   "source": []
  },
  {
   "cell_type": "code",
   "execution_count": 9,
   "id": "7422ebfe",
   "metadata": {},
   "outputs": [
    {
     "data": {
      "text/html": [
       "<div>\n",
       "<style scoped>\n",
       "    .dataframe tbody tr th:only-of-type {\n",
       "        vertical-align: middle;\n",
       "    }\n",
       "\n",
       "    .dataframe tbody tr th {\n",
       "        vertical-align: top;\n",
       "    }\n",
       "\n",
       "    .dataframe thead th {\n",
       "        text-align: right;\n",
       "    }\n",
       "</style>\n",
       "<table border=\"1\" class=\"dataframe\">\n",
       "  <thead>\n",
       "    <tr style=\"text-align: right;\">\n",
       "      <th></th>\n",
       "      <th>price</th>\n",
       "      <th>crime_rate</th>\n",
       "      <th>resid_area</th>\n",
       "      <th>air_qual</th>\n",
       "      <th>room_num</th>\n",
       "      <th>age</th>\n",
       "      <th>teachers</th>\n",
       "      <th>poor_prop</th>\n",
       "      <th>airport</th>\n",
       "      <th>n_hos_beds</th>\n",
       "      <th>n_hot_rooms</th>\n",
       "      <th>waterbody</th>\n",
       "      <th>rainfall</th>\n",
       "      <th>bus_ter</th>\n",
       "      <th>parks</th>\n",
       "      <th>dist</th>\n",
       "    </tr>\n",
       "  </thead>\n",
       "  <tbody>\n",
       "    <tr>\n",
       "      <th>0</th>\n",
       "      <td>24.0</td>\n",
       "      <td>0.00632</td>\n",
       "      <td>32.31</td>\n",
       "      <td>0.538</td>\n",
       "      <td>6.575</td>\n",
       "      <td>65.2</td>\n",
       "      <td>24.7</td>\n",
       "      <td>4.98</td>\n",
       "      <td>YES</td>\n",
       "      <td>5.480</td>\n",
       "      <td>11.1920</td>\n",
       "      <td>River</td>\n",
       "      <td>23</td>\n",
       "      <td>YES</td>\n",
       "      <td>0.049347</td>\n",
       "      <td>4.0875</td>\n",
       "    </tr>\n",
       "    <tr>\n",
       "      <th>1</th>\n",
       "      <td>21.6</td>\n",
       "      <td>0.02731</td>\n",
       "      <td>37.07</td>\n",
       "      <td>0.469</td>\n",
       "      <td>6.421</td>\n",
       "      <td>78.9</td>\n",
       "      <td>22.2</td>\n",
       "      <td>9.14</td>\n",
       "      <td>NO</td>\n",
       "      <td>7.332</td>\n",
       "      <td>12.1728</td>\n",
       "      <td>Lake</td>\n",
       "      <td>42</td>\n",
       "      <td>YES</td>\n",
       "      <td>0.046146</td>\n",
       "      <td>4.9675</td>\n",
       "    </tr>\n",
       "  </tbody>\n",
       "</table>\n",
       "</div>"
      ],
      "text/plain": [
       "   price  crime_rate  resid_area  air_qual  room_num   age  teachers  \\\n",
       "0   24.0     0.00632       32.31     0.538     6.575  65.2      24.7   \n",
       "1   21.6     0.02731       37.07     0.469     6.421  78.9      22.2   \n",
       "\n",
       "   poor_prop airport  n_hos_beds  n_hot_rooms waterbody  rainfall bus_ter  \\\n",
       "0       4.98     YES       5.480      11.1920     River        23     YES   \n",
       "1       9.14      NO       7.332      12.1728      Lake        42     YES   \n",
       "\n",
       "      parks    dist  \n",
       "0  0.049347  4.0875  \n",
       "1  0.046146  4.9675  "
      ]
     },
     "execution_count": 9,
     "metadata": {},
     "output_type": "execute_result"
    }
   ],
   "source": [
    "df.head(2)"
   ]
  },
  {
   "cell_type": "code",
   "execution_count": null,
   "id": "e2cfc80d",
   "metadata": {},
   "outputs": [],
   "source": []
  },
  {
   "cell_type": "code",
   "execution_count": 10,
   "id": "74d351f4",
   "metadata": {},
   "outputs": [
    {
     "data": {
      "text/plain": [
       "Index(['price', 'crime_rate', 'resid_area', 'air_qual', 'room_num', 'age',\n",
       "       'teachers', 'poor_prop', 'airport', 'n_hos_beds', 'n_hot_rooms',\n",
       "       'waterbody', 'rainfall', 'bus_ter', 'parks', 'dist'],\n",
       "      dtype='object')"
      ]
     },
     "execution_count": 10,
     "metadata": {},
     "output_type": "execute_result"
    }
   ],
   "source": [
    "df.columns"
   ]
  },
  {
   "cell_type": "markdown",
   "id": "36870a0f",
   "metadata": {},
   "source": [
    "## STEP 3. Fetching numerical and categorical columns"
   ]
  },
  {
   "cell_type": "code",
   "execution_count": null,
   "id": "7cb60479",
   "metadata": {},
   "outputs": [],
   "source": []
  },
  {
   "cell_type": "code",
   "execution_count": 11,
   "id": "e782e01b",
   "metadata": {},
   "outputs": [
    {
     "name": "stdout",
     "output_type": "stream",
     "text": [
      "Numerical attributes :  ['price', 'crime_rate', 'resid_area', 'air_qual', 'room_num', 'age', 'teachers', 'poor_prop', 'n_hos_beds', 'n_hot_rooms', 'rainfall', 'parks', 'dist'] \n",
      "\n",
      "Categorical attributes :  ['airport', 'waterbody', 'bus_ter']\n"
     ]
    }
   ],
   "source": [
    "from pandas.api.types import is_string_dtype, is_numeric_dtype\n",
    "\n",
    "num_list = []\n",
    "cat_list = []\n",
    "\n",
    "for column in df:\n",
    "    \n",
    "    if is_numeric_dtype(df[column]):\n",
    "        num_list.append(column)\n",
    "        \n",
    "    elif is_string_dtype(df[column]):\n",
    "        cat_list.append(column)\n",
    "\n",
    "\n",
    "\n",
    "print('Numerical attributes : ',num_list,'\\n')\n",
    "\n",
    "print('Categorical attributes : ',cat_list)"
   ]
  },
  {
   "cell_type": "code",
   "execution_count": null,
   "id": "05112ed8",
   "metadata": {},
   "outputs": [],
   "source": []
  },
  {
   "cell_type": "code",
   "execution_count": null,
   "id": "e3d9964c",
   "metadata": {},
   "outputs": [],
   "source": []
  },
  {
   "cell_type": "markdown",
   "id": "bf2331f9",
   "metadata": {},
   "source": [
    "## STEP 4 : Features and Target split"
   ]
  },
  {
   "cell_type": "code",
   "execution_count": null,
   "id": "cf8125c8",
   "metadata": {},
   "outputs": [],
   "source": []
  },
  {
   "cell_type": "code",
   "execution_count": 12,
   "id": "aa83369b",
   "metadata": {},
   "outputs": [],
   "source": [
    "X = df.drop(labels = ['price'] ,axis = 1)\n",
    "y = df['price']"
   ]
  },
  {
   "cell_type": "code",
   "execution_count": null,
   "id": "7bbce01d",
   "metadata": {},
   "outputs": [],
   "source": []
  },
  {
   "cell_type": "code",
   "execution_count": null,
   "id": "b03454ea",
   "metadata": {},
   "outputs": [],
   "source": []
  },
  {
   "cell_type": "markdown",
   "id": "c2b2870d",
   "metadata": {},
   "source": [
    "## STEP 5 : Train - Test Split"
   ]
  },
  {
   "cell_type": "code",
   "execution_count": 13,
   "id": "a803bc38",
   "metadata": {},
   "outputs": [],
   "source": [
    "from sklearn.model_selection import train_test_split"
   ]
  },
  {
   "cell_type": "code",
   "execution_count": 14,
   "id": "74a53c27",
   "metadata": {},
   "outputs": [],
   "source": [
    "X_train ,X_test ,y_train ,y_test = train_test_split(X ,y ,test_size= 0.2 , random_state= 123)"
   ]
  },
  {
   "cell_type": "code",
   "execution_count": null,
   "id": "a9210baa",
   "metadata": {},
   "outputs": [],
   "source": []
  },
  {
   "cell_type": "code",
   "execution_count": 15,
   "id": "630e04d3",
   "metadata": {},
   "outputs": [
    {
     "data": {
      "text/plain": [
       "((404, 15), (404,))"
      ]
     },
     "execution_count": 15,
     "metadata": {},
     "output_type": "execute_result"
    }
   ],
   "source": [
    "X_train.shape ,y_train.shape"
   ]
  },
  {
   "cell_type": "code",
   "execution_count": 16,
   "id": "6559b67f",
   "metadata": {},
   "outputs": [
    {
     "data": {
      "text/plain": [
       "((102, 15), (102,))"
      ]
     },
     "execution_count": 16,
     "metadata": {},
     "output_type": "execute_result"
    }
   ],
   "source": [
    "X_test.shape , y_test.shape"
   ]
  },
  {
   "cell_type": "code",
   "execution_count": null,
   "id": "a0395c5a",
   "metadata": {},
   "outputs": [],
   "source": []
  },
  {
   "cell_type": "code",
   "execution_count": null,
   "id": "05e9149a",
   "metadata": {},
   "outputs": [],
   "source": []
  },
  {
   "cell_type": "markdown",
   "id": "f9039aec",
   "metadata": {},
   "source": [
    "## STEP 6 : Pipeline"
   ]
  },
  {
   "cell_type": "code",
   "execution_count": null,
   "id": "39f2c92b",
   "metadata": {},
   "outputs": [],
   "source": []
  },
  {
   "cell_type": "code",
   "execution_count": 17,
   "id": "f2d8cb10",
   "metadata": {},
   "outputs": [],
   "source": [
    "from sklearn.impute import SimpleImputer\n",
    "from sklearn.preprocessing import StandardScaler\n",
    "# from sklearn.preprocessing import OrdinalEncoder\n",
    "from sklearn.preprocessing import OneHotEncoder\n",
    "from sklearn.pipeline import Pipeline # sequential pipeline\n",
    "from sklearn.compose import ColumnTransformer\n"
   ]
  },
  {
   "cell_type": "code",
   "execution_count": 18,
   "id": "f424a932",
   "metadata": {},
   "outputs": [
    {
     "data": {
      "text/plain": [
       "Index(['price', 'crime_rate', 'resid_area', 'air_qual', 'room_num', 'age',\n",
       "       'teachers', 'poor_prop', 'airport', 'n_hos_beds', 'n_hot_rooms',\n",
       "       'waterbody', 'rainfall', 'bus_ter', 'parks', 'dist'],\n",
       "      dtype='object')"
      ]
     },
     "execution_count": 18,
     "metadata": {},
     "output_type": "execute_result"
    }
   ],
   "source": [
    "df.columns"
   ]
  },
  {
   "cell_type": "code",
   "execution_count": 19,
   "id": "bf1b68e0",
   "metadata": {},
   "outputs": [],
   "source": [
    "# num_list"
   ]
  },
  {
   "cell_type": "code",
   "execution_count": null,
   "id": "ee052935",
   "metadata": {},
   "outputs": [],
   "source": []
  },
  {
   "cell_type": "code",
   "execution_count": 20,
   "id": "628fbf37",
   "metadata": {},
   "outputs": [
    {
     "data": {
      "text/plain": [
       "['price',\n",
       " 'crime_rate',\n",
       " 'resid_area',\n",
       " 'air_qual',\n",
       " 'room_num',\n",
       " 'age',\n",
       " 'teachers',\n",
       " 'poor_prop',\n",
       " 'n_hos_beds',\n",
       " 'n_hot_rooms',\n",
       " 'rainfall',\n",
       " 'parks',\n",
       " 'dist']"
      ]
     },
     "execution_count": 20,
     "metadata": {},
     "output_type": "execute_result"
    }
   ],
   "source": [
    "num_feat = num_list.copy()\n",
    "num_feat"
   ]
  },
  {
   "cell_type": "code",
   "execution_count": null,
   "id": "bcc4fa81",
   "metadata": {},
   "outputs": [],
   "source": []
  },
  {
   "cell_type": "code",
   "execution_count": 21,
   "id": "b792e35e",
   "metadata": {},
   "outputs": [
    {
     "data": {
      "text/plain": [
       "['crime_rate',\n",
       " 'resid_area',\n",
       " 'air_qual',\n",
       " 'room_num',\n",
       " 'age',\n",
       " 'teachers',\n",
       " 'poor_prop',\n",
       " 'parks',\n",
       " 'dist']"
      ]
     },
     "execution_count": 21,
     "metadata": {},
     "output_type": "execute_result"
    }
   ],
   "source": [
    "num_feat_drop = ['price' , 'n_hos_beds', 'n_hot_rooms','rainfall' ]\n",
    "\n",
    "for col in num_feat_drop :\n",
    "    \n",
    "    num_feat.remove(col)\n",
    "num_feat"
   ]
  },
  {
   "cell_type": "code",
   "execution_count": null,
   "id": "ccc75218",
   "metadata": {},
   "outputs": [],
   "source": []
  },
  {
   "cell_type": "code",
   "execution_count": 22,
   "id": "e7894dee",
   "metadata": {},
   "outputs": [
    {
     "data": {
      "text/plain": [
       "['airport', 'waterbody', 'bus_ter']"
      ]
     },
     "execution_count": 22,
     "metadata": {},
     "output_type": "execute_result"
    }
   ],
   "source": [
    "cat_feat = cat_list.copy()\n",
    "cat_feat"
   ]
  },
  {
   "cell_type": "code",
   "execution_count": 23,
   "id": "7b39fa1d",
   "metadata": {},
   "outputs": [],
   "source": [
    "cat_feat.remove('bus_ter')"
   ]
  },
  {
   "cell_type": "code",
   "execution_count": 24,
   "id": "1fbe7d00",
   "metadata": {},
   "outputs": [
    {
     "data": {
      "text/plain": [
       "['airport', 'waterbody']"
      ]
     },
     "execution_count": 24,
     "metadata": {},
     "output_type": "execute_result"
    }
   ],
   "source": [
    "cat_feat"
   ]
  },
  {
   "cell_type": "code",
   "execution_count": null,
   "id": "3ccc389a",
   "metadata": {},
   "outputs": [],
   "source": []
  },
  {
   "cell_type": "code",
   "execution_count": 25,
   "id": "880da5ed",
   "metadata": {},
   "outputs": [],
   "source": [
    "drop_cols = ['bus_ter', 'n_hos_beds', 'n_hot_rooms','rainfall']"
   ]
  },
  {
   "cell_type": "code",
   "execution_count": null,
   "id": "016d214e",
   "metadata": {},
   "outputs": [],
   "source": []
  },
  {
   "cell_type": "code",
   "execution_count": 26,
   "id": "09e594ad",
   "metadata": {},
   "outputs": [
    {
     "data": {
      "text/plain": [
       "Index(['crime_rate', 'resid_area', 'air_qual', 'room_num', 'age', 'teachers',\n",
       "       'poor_prop', 'airport', 'n_hos_beds', 'n_hot_rooms', 'waterbody',\n",
       "       'rainfall', 'bus_ter', 'parks', 'dist'],\n",
       "      dtype='object')"
      ]
     },
     "execution_count": 26,
     "metadata": {},
     "output_type": "execute_result"
    }
   ],
   "source": [
    "X_train.columns"
   ]
  },
  {
   "cell_type": "code",
   "execution_count": null,
   "id": "c8fd4f84",
   "metadata": {},
   "outputs": [],
   "source": []
  },
  {
   "cell_type": "code",
   "execution_count": null,
   "id": "dd7f2100",
   "metadata": {},
   "outputs": [],
   "source": []
  },
  {
   "cell_type": "markdown",
   "id": "3449c478",
   "metadata": {},
   "source": [
    "    num_pipeline = Pipeline([\n",
    "                            ('Merging' , FeatureMerger()),\n",
    "                            (\"imputer\", SimpleImputer(strategy=\"median\")),\n",
    "                            (\"scaler\",  StandardScaler())\n",
    "\n",
    "                            ])"
   ]
  },
  {
   "cell_type": "code",
   "execution_count": 27,
   "id": "2f8749db",
   "metadata": {},
   "outputs": [],
   "source": [
    "num_pipeline = Pipeline([\n",
    "                        (\"imputer\", SimpleImputer(strategy=\"median\")),\n",
    "                        (\"scaler\",  StandardScaler())\n",
    "\n",
    "                        ])"
   ]
  },
  {
   "cell_type": "code",
   "execution_count": null,
   "id": "528b58a4",
   "metadata": {},
   "outputs": [],
   "source": []
  },
  {
   "cell_type": "code",
   "execution_count": 28,
   "id": "3893cfde",
   "metadata": {},
   "outputs": [],
   "source": [
    "ohe = OneHotEncoder()"
   ]
  },
  {
   "cell_type": "code",
   "execution_count": 29,
   "id": "23073393",
   "metadata": {},
   "outputs": [],
   "source": [
    "cat_pipeline = Pipeline([('Nominal Encoding' ,ohe)])"
   ]
  },
  {
   "cell_type": "code",
   "execution_count": null,
   "id": "c2dc71f0",
   "metadata": {},
   "outputs": [],
   "source": []
  },
  {
   "cell_type": "markdown",
   "id": "89f30222",
   "metadata": {},
   "source": [
    "### Main-Pipeline"
   ]
  },
  {
   "cell_type": "code",
   "execution_count": 30,
   "id": "3f4c5920",
   "metadata": {},
   "outputs": [],
   "source": [
    "pipeline = ColumnTransformer([\n",
    "                            (\"num pipeline\", num_pipeline, num_feat), \n",
    "                            (\"nominal transformer\", cat_pipeline, cat_feat), \n",
    "    \n",
    "                            (\"drop columns\", \"drop\", drop_cols) \n",
    "    \n",
    "                            ])"
   ]
  },
  {
   "cell_type": "code",
   "execution_count": null,
   "id": "9027a95a",
   "metadata": {},
   "outputs": [],
   "source": []
  },
  {
   "cell_type": "code",
   "execution_count": null,
   "id": "3d4d46ce",
   "metadata": {},
   "outputs": [],
   "source": []
  },
  {
   "cell_type": "markdown",
   "id": "b050fb29",
   "metadata": {},
   "source": [
    "## STEP 7 : Transforming"
   ]
  },
  {
   "cell_type": "code",
   "execution_count": null,
   "id": "e793b509",
   "metadata": {},
   "outputs": [],
   "source": []
  },
  {
   "cell_type": "code",
   "execution_count": 31,
   "id": "fdd45414",
   "metadata": {},
   "outputs": [],
   "source": [
    "# X_train"
   ]
  },
  {
   "cell_type": "code",
   "execution_count": 32,
   "id": "92ea6e1e",
   "metadata": {},
   "outputs": [],
   "source": [
    "X_train_tr = pipeline.fit_transform(X_train)"
   ]
  },
  {
   "cell_type": "code",
   "execution_count": 33,
   "id": "a7ddbea8",
   "metadata": {},
   "outputs": [],
   "source": [
    "X_test_tr = pipeline.transform(X_test)"
   ]
  },
  {
   "cell_type": "code",
   "execution_count": null,
   "id": "d9fceb6b",
   "metadata": {},
   "outputs": [],
   "source": []
  },
  {
   "cell_type": "code",
   "execution_count": 34,
   "id": "646595c3",
   "metadata": {},
   "outputs": [],
   "source": [
    "# X_train_tr[0]"
   ]
  },
  {
   "cell_type": "code",
   "execution_count": null,
   "id": "97bbe03f",
   "metadata": {},
   "outputs": [],
   "source": []
  },
  {
   "cell_type": "code",
   "execution_count": 35,
   "id": "1ecebc60",
   "metadata": {},
   "outputs": [
    {
     "name": "stdout",
     "output_type": "stream",
     "text": [
      "['crime_rate', 'resid_area', 'air_qual', 'room_num', 'age', 'teachers', 'poor_prop', 'parks', 'dist', 'airport_NO', 'airport_YES', 'waterbody_Lake', 'waterbody_Lake and River', 'waterbody_None', 'waterbody_River']\n"
     ]
    }
   ],
   "source": [
    "out_cols = []\n",
    "\n",
    "i= 0  # counter\n",
    "\n",
    "for col in pipeline.get_feature_names_out():\n",
    "    out_cols.append(col.split(\"__\")[-1])\n",
    "    #out_cols[i] = out_cols[i].split(\"_\")[-1]\n",
    "    \n",
    "    i += 1\n",
    "print(out_cols)"
   ]
  },
  {
   "cell_type": "code",
   "execution_count": 36,
   "id": "875cd8a0",
   "metadata": {},
   "outputs": [
    {
     "data": {
      "text/plain": [
       "15"
      ]
     },
     "execution_count": 36,
     "metadata": {},
     "output_type": "execute_result"
    }
   ],
   "source": [
    "len(out_cols)"
   ]
  },
  {
   "cell_type": "code",
   "execution_count": null,
   "id": "2c25d3de",
   "metadata": {},
   "outputs": [],
   "source": []
  },
  {
   "cell_type": "code",
   "execution_count": 37,
   "id": "f4e5736d",
   "metadata": {},
   "outputs": [],
   "source": [
    "# X_train_tr[0]"
   ]
  },
  {
   "cell_type": "code",
   "execution_count": null,
   "id": "9903dd87",
   "metadata": {},
   "outputs": [],
   "source": []
  },
  {
   "cell_type": "code",
   "execution_count": 38,
   "id": "aead7637",
   "metadata": {},
   "outputs": [],
   "source": [
    "X_train_tr_df = pd.DataFrame(X_train_tr, columns=out_cols)\n",
    "\n",
    "X_test_tr_df = pd.DataFrame(X_test_tr , columns = out_cols)"
   ]
  },
  {
   "cell_type": "code",
   "execution_count": null,
   "id": "cd694846",
   "metadata": {},
   "outputs": [],
   "source": []
  },
  {
   "cell_type": "code",
   "execution_count": 39,
   "id": "67edcdf0",
   "metadata": {},
   "outputs": [
    {
     "name": "stdout",
     "output_type": "stream",
     "text": [
      "<class 'pandas.core.frame.DataFrame'>\n",
      "RangeIndex: 404 entries, 0 to 403\n",
      "Data columns (total 15 columns):\n",
      " #   Column                    Non-Null Count  Dtype  \n",
      "---  ------                    --------------  -----  \n",
      " 0   crime_rate                404 non-null    float64\n",
      " 1   resid_area                404 non-null    float64\n",
      " 2   air_qual                  404 non-null    float64\n",
      " 3   room_num                  404 non-null    float64\n",
      " 4   age                       404 non-null    float64\n",
      " 5   teachers                  404 non-null    float64\n",
      " 6   poor_prop                 404 non-null    float64\n",
      " 7   parks                     404 non-null    float64\n",
      " 8   dist                      404 non-null    float64\n",
      " 9   airport_NO                404 non-null    float64\n",
      " 10  airport_YES               404 non-null    float64\n",
      " 11  waterbody_Lake            404 non-null    float64\n",
      " 12  waterbody_Lake and River  404 non-null    float64\n",
      " 13  waterbody_None            404 non-null    float64\n",
      " 14  waterbody_River           404 non-null    float64\n",
      "dtypes: float64(15)\n",
      "memory usage: 47.5 KB\n"
     ]
    }
   ],
   "source": [
    "X_train_tr_df.info()"
   ]
  },
  {
   "cell_type": "code",
   "execution_count": 40,
   "id": "39502400",
   "metadata": {},
   "outputs": [
    {
     "name": "stdout",
     "output_type": "stream",
     "text": [
      "<class 'pandas.core.frame.DataFrame'>\n",
      "RangeIndex: 102 entries, 0 to 101\n",
      "Data columns (total 15 columns):\n",
      " #   Column                    Non-Null Count  Dtype  \n",
      "---  ------                    --------------  -----  \n",
      " 0   crime_rate                102 non-null    float64\n",
      " 1   resid_area                102 non-null    float64\n",
      " 2   air_qual                  102 non-null    float64\n",
      " 3   room_num                  102 non-null    float64\n",
      " 4   age                       102 non-null    float64\n",
      " 5   teachers                  102 non-null    float64\n",
      " 6   poor_prop                 102 non-null    float64\n",
      " 7   parks                     102 non-null    float64\n",
      " 8   dist                      102 non-null    float64\n",
      " 9   airport_NO                102 non-null    float64\n",
      " 10  airport_YES               102 non-null    float64\n",
      " 11  waterbody_Lake            102 non-null    float64\n",
      " 12  waterbody_Lake and River  102 non-null    float64\n",
      " 13  waterbody_None            102 non-null    float64\n",
      " 14  waterbody_River           102 non-null    float64\n",
      "dtypes: float64(15)\n",
      "memory usage: 12.1 KB\n"
     ]
    }
   ],
   "source": [
    "X_test_tr_df.info()"
   ]
  },
  {
   "cell_type": "code",
   "execution_count": null,
   "id": "982cfac4",
   "metadata": {},
   "outputs": [],
   "source": []
  },
  {
   "cell_type": "markdown",
   "id": "464d8bc6",
   "metadata": {},
   "source": [
    "## STEP 8 :  Merging transformed train and test DF"
   ]
  },
  {
   "cell_type": "code",
   "execution_count": 41,
   "id": "0deab735",
   "metadata": {},
   "outputs": [],
   "source": [
    "# Datatypes of each column in respective DF must be same.\n",
    "\n",
    "X_df_trans = pd.concat([X_train_tr_df,X_test_tr_df],ignore_index= True)"
   ]
  },
  {
   "cell_type": "code",
   "execution_count": null,
   "id": "44729e33",
   "metadata": {},
   "outputs": [],
   "source": []
  },
  {
   "cell_type": "code",
   "execution_count": 42,
   "id": "80123866",
   "metadata": {},
   "outputs": [],
   "source": [
    "y_comb = pd.concat([y_train,y_test] ,axis = 0 ,ignore_index= True)"
   ]
  },
  {
   "cell_type": "code",
   "execution_count": 43,
   "id": "ecab219e",
   "metadata": {},
   "outputs": [],
   "source": [
    "# y_comb"
   ]
  },
  {
   "cell_type": "code",
   "execution_count": null,
   "id": "13521d97",
   "metadata": {},
   "outputs": [],
   "source": []
  },
  {
   "cell_type": "code",
   "execution_count": 44,
   "id": "917eab78",
   "metadata": {},
   "outputs": [],
   "source": [
    "df_trans = pd.concat([X_df_trans,y_comb] ,axis = 1)"
   ]
  },
  {
   "cell_type": "code",
   "execution_count": null,
   "id": "08e34594",
   "metadata": {},
   "outputs": [],
   "source": []
  },
  {
   "cell_type": "code",
   "execution_count": 45,
   "id": "b9b3d081",
   "metadata": {},
   "outputs": [
    {
     "data": {
      "text/plain": [
       "(506, 16)"
      ]
     },
     "execution_count": 45,
     "metadata": {},
     "output_type": "execute_result"
    }
   ],
   "source": [
    "df_trans.shape"
   ]
  },
  {
   "cell_type": "code",
   "execution_count": 46,
   "id": "021c413a",
   "metadata": {},
   "outputs": [
    {
     "data": {
      "text/plain": [
       "RangeIndex(start=0, stop=506, step=1)"
      ]
     },
     "execution_count": 46,
     "metadata": {},
     "output_type": "execute_result"
    }
   ],
   "source": [
    "df_trans.index"
   ]
  },
  {
   "cell_type": "code",
   "execution_count": null,
   "id": "c45c9345",
   "metadata": {},
   "outputs": [],
   "source": []
  },
  {
   "cell_type": "markdown",
   "id": "ed13a527",
   "metadata": {},
   "source": [
    "## STEP 9 : Exporting Final Transformed DF"
   ]
  },
  {
   "cell_type": "code",
   "execution_count": 47,
   "id": "e05d0582",
   "metadata": {},
   "outputs": [],
   "source": [
    "# Exporting Final Transformed DF"
   ]
  },
  {
   "cell_type": "code",
   "execution_count": 48,
   "id": "1000927a",
   "metadata": {},
   "outputs": [],
   "source": [
    "df_trans.to_csv(\"trans_DF_S4_Part2.csv\")"
   ]
  },
  {
   "cell_type": "code",
   "execution_count": null,
   "id": "60e35834",
   "metadata": {},
   "outputs": [],
   "source": []
  },
  {
   "cell_type": "code",
   "execution_count": null,
   "id": "03173670",
   "metadata": {},
   "outputs": [],
   "source": []
  }
 ],
 "metadata": {
  "kernelspec": {
   "display_name": "Python 3 (ipykernel)",
   "language": "python",
   "name": "python3"
  },
  "language_info": {
   "codemirror_mode": {
    "name": "ipython",
    "version": 3
   },
   "file_extension": ".py",
   "mimetype": "text/x-python",
   "name": "python",
   "nbconvert_exporter": "python",
   "pygments_lexer": "ipython3",
   "version": "3.10.9"
  }
 },
 "nbformat": 4,
 "nbformat_minor": 5
}
