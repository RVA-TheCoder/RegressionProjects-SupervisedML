{
 "cells": [
  {
   "cell_type": "code",
   "execution_count": 1,
   "id": "54ee7d89",
   "metadata": {},
   "outputs": [],
   "source": [
    "import numpy as np\n",
    "import pandas as pd\n",
    "import matplotlib.pyplot as plt\n",
    "import seaborn as sns"
   ]
  },
  {
   "cell_type": "code",
   "execution_count": null,
   "id": "7eefe3ef",
   "metadata": {},
   "outputs": [],
   "source": []
  },
  {
   "cell_type": "code",
   "execution_count": 2,
   "id": "a09c9a51",
   "metadata": {},
   "outputs": [],
   "source": [
    "from sklearn.impute import SimpleImputer\n",
    "from sklearn.preprocessing import StandardScaler\n",
    "\n",
    "from sklearn.preprocessing import OrdinalEncoder\n",
    "from sklearn.preprocessing import OneHotEncoder\n",
    "\n",
    "from sklearn.pipeline import Pipeline                \n",
    "from sklearn.compose import ColumnTransformer\n",
    "\n",
    "from sklearn.model_selection import train_test_split"
   ]
  },
  {
   "cell_type": "code",
   "execution_count": null,
   "id": "35569014",
   "metadata": {},
   "outputs": [],
   "source": []
  },
  {
   "cell_type": "code",
   "execution_count": 3,
   "id": "369a8f20",
   "metadata": {},
   "outputs": [
    {
     "data": {
      "text/html": [
       "<div>\n",
       "<style scoped>\n",
       "    .dataframe tbody tr th:only-of-type {\n",
       "        vertical-align: middle;\n",
       "    }\n",
       "\n",
       "    .dataframe tbody tr th {\n",
       "        vertical-align: top;\n",
       "    }\n",
       "\n",
       "    .dataframe thead th {\n",
       "        text-align: right;\n",
       "    }\n",
       "</style>\n",
       "<table border=\"1\" class=\"dataframe\">\n",
       "  <thead>\n",
       "    <tr style=\"text-align: right;\">\n",
       "      <th></th>\n",
       "      <th>crime_rate</th>\n",
       "      <th>resid_area</th>\n",
       "      <th>air_qual</th>\n",
       "      <th>room_num</th>\n",
       "      <th>age</th>\n",
       "      <th>teachers</th>\n",
       "      <th>poor_prop</th>\n",
       "      <th>parks</th>\n",
       "      <th>dist</th>\n",
       "      <th>airport_NO</th>\n",
       "      <th>airport_YES</th>\n",
       "      <th>waterbody_Lake</th>\n",
       "      <th>waterbody_Lake and River</th>\n",
       "      <th>waterbody_None</th>\n",
       "      <th>waterbody_River</th>\n",
       "      <th>price</th>\n",
       "    </tr>\n",
       "  </thead>\n",
       "  <tbody>\n",
       "    <tr>\n",
       "      <th>0</th>\n",
       "      <td>-0.401149</td>\n",
       "      <td>-1.226095</td>\n",
       "      <td>-1.199016</td>\n",
       "      <td>2.231987</td>\n",
       "      <td>-1.278274</td>\n",
       "      <td>1.753696</td>\n",
       "      <td>-1.266398</td>\n",
       "      <td>-1.272867</td>\n",
       "      <td>0.623366</td>\n",
       "      <td>1.0</td>\n",
       "      <td>0.0</td>\n",
       "      <td>0.0</td>\n",
       "      <td>0.0</td>\n",
       "      <td>1.0</td>\n",
       "      <td>0.0</td>\n",
       "      <td>48.5</td>\n",
       "    </tr>\n",
       "    <tr>\n",
       "      <th>1</th>\n",
       "      <td>0.702723</td>\n",
       "      <td>0.995482</td>\n",
       "      <td>1.587329</td>\n",
       "      <td>0.176596</td>\n",
       "      <td>1.008537</td>\n",
       "      <td>-0.808919</td>\n",
       "      <td>0.940407</td>\n",
       "      <td>2.139962</td>\n",
       "      <td>-0.804815</td>\n",
       "      <td>0.0</td>\n",
       "      <td>1.0</td>\n",
       "      <td>0.0</td>\n",
       "      <td>1.0</td>\n",
       "      <td>0.0</td>\n",
       "      <td>0.0</td>\n",
       "      <td>17.1</td>\n",
       "    </tr>\n",
       "    <tr>\n",
       "      <th>2</th>\n",
       "      <td>-0.389296</td>\n",
       "      <td>-1.028718</td>\n",
       "      <td>-0.391243</td>\n",
       "      <td>-1.008059</td>\n",
       "      <td>0.697674</td>\n",
       "      <td>0.868429</td>\n",
       "      <td>0.261930</td>\n",
       "      <td>-0.148523</td>\n",
       "      <td>-0.556639</td>\n",
       "      <td>1.0</td>\n",
       "      <td>0.0</td>\n",
       "      <td>0.0</td>\n",
       "      <td>0.0</td>\n",
       "      <td>0.0</td>\n",
       "      <td>1.0</td>\n",
       "      <td>23.1</td>\n",
       "    </tr>\n",
       "    <tr>\n",
       "      <th>3</th>\n",
       "      <td>-0.391244</td>\n",
       "      <td>-1.195840</td>\n",
       "      <td>-0.950404</td>\n",
       "      <td>0.487675</td>\n",
       "      <td>-0.399281</td>\n",
       "      <td>0.216127</td>\n",
       "      <td>-0.867459</td>\n",
       "      <td>-0.740051</td>\n",
       "      <td>-0.136380</td>\n",
       "      <td>1.0</td>\n",
       "      <td>0.0</td>\n",
       "      <td>0.0</td>\n",
       "      <td>0.0</td>\n",
       "      <td>0.0</td>\n",
       "      <td>1.0</td>\n",
       "      <td>28.4</td>\n",
       "    </tr>\n",
       "    <tr>\n",
       "      <th>4</th>\n",
       "      <td>-0.403599</td>\n",
       "      <td>-1.035921</td>\n",
       "      <td>-1.251491</td>\n",
       "      <td>-0.559197</td>\n",
       "      <td>-0.763742</td>\n",
       "      <td>-1.228256</td>\n",
       "      <td>0.277382</td>\n",
       "      <td>-1.483282</td>\n",
       "      <td>1.653529</td>\n",
       "      <td>0.0</td>\n",
       "      <td>1.0</td>\n",
       "      <td>0.0</td>\n",
       "      <td>0.0</td>\n",
       "      <td>1.0</td>\n",
       "      <td>0.0</td>\n",
       "      <td>18.9</td>\n",
       "    </tr>\n",
       "  </tbody>\n",
       "</table>\n",
       "</div>"
      ],
      "text/plain": [
       "   crime_rate  resid_area  air_qual  room_num       age  teachers  poor_prop  \\\n",
       "0   -0.401149   -1.226095 -1.199016  2.231987 -1.278274  1.753696  -1.266398   \n",
       "1    0.702723    0.995482  1.587329  0.176596  1.008537 -0.808919   0.940407   \n",
       "2   -0.389296   -1.028718 -0.391243 -1.008059  0.697674  0.868429   0.261930   \n",
       "3   -0.391244   -1.195840 -0.950404  0.487675 -0.399281  0.216127  -0.867459   \n",
       "4   -0.403599   -1.035921 -1.251491 -0.559197 -0.763742 -1.228256   0.277382   \n",
       "\n",
       "      parks      dist  airport_NO  airport_YES  waterbody_Lake  \\\n",
       "0 -1.272867  0.623366         1.0          0.0             0.0   \n",
       "1  2.139962 -0.804815         0.0          1.0             0.0   \n",
       "2 -0.148523 -0.556639         1.0          0.0             0.0   \n",
       "3 -0.740051 -0.136380         1.0          0.0             0.0   \n",
       "4 -1.483282  1.653529         0.0          1.0             0.0   \n",
       "\n",
       "   waterbody_Lake and River  waterbody_None  waterbody_River  price  \n",
       "0                       0.0             1.0              0.0   48.5  \n",
       "1                       1.0             0.0              0.0   17.1  \n",
       "2                       0.0             0.0              1.0   23.1  \n",
       "3                       0.0             0.0              1.0   28.4  \n",
       "4                       0.0             1.0              0.0   18.9  "
      ]
     },
     "execution_count": 3,
     "metadata": {},
     "output_type": "execute_result"
    }
   ],
   "source": [
    "houses_trans = pd.read_csv('trans_DF_S4_Part2.csv' ,index_col = 0)\n",
    "houses_trans.head()"
   ]
  },
  {
   "cell_type": "code",
   "execution_count": null,
   "id": "22373472",
   "metadata": {},
   "outputs": [],
   "source": []
  },
  {
   "cell_type": "code",
   "execution_count": 4,
   "id": "a9d7130a",
   "metadata": {},
   "outputs": [],
   "source": [
    "df = houses_trans.copy()"
   ]
  },
  {
   "cell_type": "code",
   "execution_count": null,
   "id": "7b0108cd",
   "metadata": {},
   "outputs": [],
   "source": []
  },
  {
   "cell_type": "code",
   "execution_count": 5,
   "id": "3c530388",
   "metadata": {},
   "outputs": [],
   "source": [
    "X = df.drop('price' ,axis = 1)"
   ]
  },
  {
   "cell_type": "code",
   "execution_count": 6,
   "id": "a9aeb9e8",
   "metadata": {},
   "outputs": [],
   "source": [
    "y = df['price']"
   ]
  },
  {
   "cell_type": "code",
   "execution_count": null,
   "id": "276aef13",
   "metadata": {},
   "outputs": [],
   "source": []
  },
  {
   "cell_type": "code",
   "execution_count": 7,
   "id": "d74a843c",
   "metadata": {},
   "outputs": [],
   "source": [
    "X_train ,X_test ,y_train ,y_test = train_test_split(X ,y ,test_size= 0.2 , random_state= 123)"
   ]
  },
  {
   "cell_type": "code",
   "execution_count": null,
   "id": "3507a52f",
   "metadata": {},
   "outputs": [],
   "source": []
  },
  {
   "cell_type": "code",
   "execution_count": 8,
   "id": "4ff6fd6e",
   "metadata": {},
   "outputs": [
    {
     "data": {
      "text/plain": [
       "((404, 15), (404,))"
      ]
     },
     "execution_count": 8,
     "metadata": {},
     "output_type": "execute_result"
    }
   ],
   "source": [
    "X_train.shape ,y_train.shape"
   ]
  },
  {
   "cell_type": "code",
   "execution_count": 9,
   "id": "5222517a",
   "metadata": {},
   "outputs": [
    {
     "data": {
      "text/plain": [
       "((102, 15), (102,))"
      ]
     },
     "execution_count": 9,
     "metadata": {},
     "output_type": "execute_result"
    }
   ],
   "source": [
    "X_test.shape , y_test.shape"
   ]
  },
  {
   "cell_type": "code",
   "execution_count": null,
   "id": "9436f24c",
   "metadata": {},
   "outputs": [],
   "source": []
  },
  {
   "cell_type": "markdown",
   "id": "4ee11c7e",
   "metadata": {},
   "source": [
    "## Training models"
   ]
  },
  {
   "cell_type": "code",
   "execution_count": null,
   "id": "18d797ff",
   "metadata": {},
   "outputs": [],
   "source": []
  },
  {
   "cell_type": "code",
   "execution_count": 10,
   "id": "aef2672c",
   "metadata": {},
   "outputs": [],
   "source": [
    "from sklearn.linear_model import LinearRegression\n",
    "from sklearn.svm import SVR\n",
    "\n",
    "from sklearn.tree import DecisionTreeRegressor\n",
    "from sklearn.ensemble import RandomForestRegressor"
   ]
  },
  {
   "cell_type": "code",
   "execution_count": null,
   "id": "2abcda81",
   "metadata": {},
   "outputs": [],
   "source": []
  },
  {
   "cell_type": "code",
   "execution_count": 11,
   "id": "1d4a0236",
   "metadata": {},
   "outputs": [],
   "source": [
    "from sklearn.metrics import mean_squared_error,r2_score"
   ]
  },
  {
   "cell_type": "code",
   "execution_count": null,
   "id": "2300d38c",
   "metadata": {},
   "outputs": [],
   "source": []
  },
  {
   "cell_type": "markdown",
   "id": "2584dc83",
   "metadata": {},
   "source": [
    "### Various Algorithms for Regression Task : \n",
    "\n",
    "- Linear Regression, Polynomial Regression, Ridge Regression, Lasso Regression, Elastic Net Regression.\n",
    "- Support Vector Regression (SVR),\n",
    "- Decision Tree Regression, \n",
    "- Random Forest Regression, and \n",
    "- Gradient Boosting Regression."
   ]
  },
  {
   "cell_type": "code",
   "execution_count": 12,
   "id": "581328dd",
   "metadata": {},
   "outputs": [],
   "source": [
    "models = [LinearRegression(), SVR(),DecisionTreeRegressor(), RandomForestRegressor()]"
   ]
  },
  {
   "cell_type": "code",
   "execution_count": null,
   "id": "9da5351d",
   "metadata": {},
   "outputs": [],
   "source": []
  },
  {
   "cell_type": "code",
   "execution_count": 13,
   "id": "2055a00d",
   "metadata": {},
   "outputs": [],
   "source": [
    "import warnings\n",
    "warnings.filterwarnings('ignore')"
   ]
  },
  {
   "cell_type": "code",
   "execution_count": null,
   "id": "d64eb4bc",
   "metadata": {},
   "outputs": [],
   "source": []
  },
  {
   "cell_type": "code",
   "execution_count": 14,
   "id": "f53f14be",
   "metadata": {
    "scrolled": false
   },
   "outputs": [
    {
     "name": "stdout",
     "output_type": "stream",
     "text": [
      "******************* \u001b[1mLinearRegression()\u001b[0m *******************\n",
      "\n",
      "\n",
      "\u001b[1mTraining Report :\u001b[0m \n",
      "\n",
      "Mean Squared Error :  23.88\n",
      "RMSE :  4.89\n",
      "R2 Square :  0.6904200500374265\n",
      "\n",
      "\u001b[1mTesting Report :\u001b[0m \n",
      "\n",
      "Mean Squared Error :  23.42\n",
      "RMSE :  4.84\n",
      "R2 Square :  0.7885004549396641\n",
      "\n",
      "******************* \u001b[1mSVR()\u001b[0m *******************\n",
      "\n",
      "\n",
      "\u001b[1mTraining Report :\u001b[0m \n",
      "\n",
      "Mean Squared Error :  23.72\n",
      "RMSE :  4.87\n",
      "R2 Square :  0.6925090031027239\n",
      "\n",
      "\u001b[1mTesting Report :\u001b[0m \n",
      "\n",
      "Mean Squared Error :  36.78\n",
      "RMSE :  6.06\n",
      "R2 Square :  0.6678101227671878\n",
      "\n",
      "******************* \u001b[1mDecisionTreeRegressor()\u001b[0m *******************\n",
      "\n",
      "\n",
      "\u001b[1mTraining Report :\u001b[0m \n",
      "\n",
      "Mean Squared Error :  0.0\n",
      "RMSE :  0.0\n",
      "R2 Square :  1.0\n",
      "\n",
      "\u001b[1mTesting Report :\u001b[0m \n",
      "\n",
      "Mean Squared Error :  13.71\n",
      "RMSE :  3.7\n",
      "R2 Square :  0.8762180707584132\n",
      "\n",
      "******************* \u001b[1mRandomForestRegressor()\u001b[0m *******************\n",
      "\n",
      "\n",
      "\u001b[1mTraining Report :\u001b[0m \n",
      "\n",
      "Mean Squared Error :  1.41\n",
      "RMSE :  1.19\n",
      "R2 Square :  0.9816838246362783\n",
      "\n",
      "\u001b[1mTesting Report :\u001b[0m \n",
      "\n",
      "Mean Squared Error :  9.25\n",
      "RMSE :  3.04\n",
      "R2 Square :  0.9164485673715018\n",
      "\n"
     ]
    }
   ],
   "source": [
    "for model in models :\n",
    "    \n",
    "    model.fit(X_train.values, y_train)\n",
    "    y_hat_train = model.predict(X_train.values)\n",
    "    y_hat_test = model.predict(X_test.values)\n",
    "    \n",
    "    print(f\"******************* \\33[1m{str(model)}\\33[0m *******************\\n\")\n",
    "    \n",
    "    print(\"\\n\\33[1mTraining Report :\\33[0m \\n\")\n",
    "    print(\"Mean Squared Error : \",round(mean_squared_error(y_train,y_hat_train),2))\n",
    "    print(\"RMSE : \",round(np.sqrt(mean_squared_error(y_train,y_hat_train)),2))\n",
    "    print(\"R2 Square : \",r2_score(y_train,y_hat_train))\n",
    "    \n",
    "    print(\"\\n\\33[1mTesting Report :\\33[0m \\n\")\n",
    "    print(\"Mean Squared Error : \",round(mean_squared_error(y_test,y_hat_test),2))\n",
    "    print(\"RMSE : \",round(np.sqrt(mean_squared_error(y_test,y_hat_test)),2))\n",
    "    print(\"R2 Square : \",r2_score(y_test,y_hat_test))\n",
    "   \n",
    "    print()"
   ]
  },
  {
   "cell_type": "code",
   "execution_count": null,
   "id": "98bafb57",
   "metadata": {},
   "outputs": [],
   "source": []
  },
  {
   "cell_type": "code",
   "execution_count": null,
   "id": "b95ab14d",
   "metadata": {},
   "outputs": [],
   "source": []
  }
 ],
 "metadata": {
  "kernelspec": {
   "display_name": "Python 3 (ipykernel)",
   "language": "python",
   "name": "python3"
  },
  "language_info": {
   "codemirror_mode": {
    "name": "ipython",
    "version": 3
   },
   "file_extension": ".py",
   "mimetype": "text/x-python",
   "name": "python",
   "nbconvert_exporter": "python",
   "pygments_lexer": "ipython3",
   "version": "3.10.9"
  }
 },
 "nbformat": 4,
 "nbformat_minor": 5
}
