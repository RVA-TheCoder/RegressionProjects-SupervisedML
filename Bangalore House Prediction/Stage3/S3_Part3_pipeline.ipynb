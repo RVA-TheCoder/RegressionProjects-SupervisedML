{
 "cells": [
  {
   "cell_type": "code",
   "execution_count": 1,
   "id": "d88e4c19",
   "metadata": {},
   "outputs": [],
   "source": [
    "import pandas as pd\n",
    "import numpy as np\n",
    "import matplotlib.pyplot as plt\n",
    "import seaborn as sns"
   ]
  },
  {
   "cell_type": "code",
   "execution_count": null,
   "id": "a1cc84c2",
   "metadata": {},
   "outputs": [],
   "source": []
  },
  {
   "cell_type": "markdown",
   "id": "b36908ef",
   "metadata": {},
   "source": [
    "## STEP 1 : Data Collection"
   ]
  },
  {
   "cell_type": "code",
   "execution_count": null,
   "id": "aba15aa8",
   "metadata": {},
   "outputs": [],
   "source": []
  },
  {
   "cell_type": "code",
   "execution_count": 2,
   "id": "3dfd557a",
   "metadata": {},
   "outputs": [],
   "source": [
    "filepath_House_Price = r\"S3_Part2_FE_VIF.csv\""
   ]
  },
  {
   "cell_type": "code",
   "execution_count": 3,
   "id": "e4092c25",
   "metadata": {},
   "outputs": [],
   "source": [
    "houses = pd.read_csv(filepath_House_Price , header = 0 ,index_col= 0)"
   ]
  },
  {
   "cell_type": "code",
   "execution_count": 4,
   "id": "e01a2867",
   "metadata": {
    "scrolled": true
   },
   "outputs": [
    {
     "data": {
      "text/html": [
       "<div>\n",
       "<style scoped>\n",
       "    .dataframe tbody tr th:only-of-type {\n",
       "        vertical-align: middle;\n",
       "    }\n",
       "\n",
       "    .dataframe tbody tr th {\n",
       "        vertical-align: top;\n",
       "    }\n",
       "\n",
       "    .dataframe thead th {\n",
       "        text-align: right;\n",
       "    }\n",
       "</style>\n",
       "<table border=\"1\" class=\"dataframe\">\n",
       "  <thead>\n",
       "    <tr style=\"text-align: right;\">\n",
       "      <th></th>\n",
       "      <th>price</th>\n",
       "      <th>crime_rate</th>\n",
       "      <th>resid_area</th>\n",
       "      <th>air_qual</th>\n",
       "      <th>room_num</th>\n",
       "      <th>age</th>\n",
       "      <th>teachers</th>\n",
       "      <th>poor_prop</th>\n",
       "      <th>airport</th>\n",
       "      <th>n_hos_beds</th>\n",
       "      <th>n_hot_rooms</th>\n",
       "      <th>waterbody</th>\n",
       "      <th>rainfall</th>\n",
       "      <th>dist</th>\n",
       "    </tr>\n",
       "  </thead>\n",
       "  <tbody>\n",
       "    <tr>\n",
       "      <th>0</th>\n",
       "      <td>24.0</td>\n",
       "      <td>-5.064036</td>\n",
       "      <td>32.31</td>\n",
       "      <td>0.538</td>\n",
       "      <td>6.575</td>\n",
       "      <td>65.2</td>\n",
       "      <td>24.7</td>\n",
       "      <td>1.605430</td>\n",
       "      <td>YES</td>\n",
       "      <td>5.480</td>\n",
       "      <td>11.1920</td>\n",
       "      <td>River</td>\n",
       "      <td>23</td>\n",
       "      <td>4.0875</td>\n",
       "    </tr>\n",
       "    <tr>\n",
       "      <th>1</th>\n",
       "      <td>21.6</td>\n",
       "      <td>-3.600502</td>\n",
       "      <td>37.07</td>\n",
       "      <td>0.469</td>\n",
       "      <td>6.421</td>\n",
       "      <td>78.9</td>\n",
       "      <td>22.2</td>\n",
       "      <td>2.212660</td>\n",
       "      <td>NO</td>\n",
       "      <td>7.332</td>\n",
       "      <td>12.1728</td>\n",
       "      <td>Lake</td>\n",
       "      <td>42</td>\n",
       "      <td>4.9675</td>\n",
       "    </tr>\n",
       "    <tr>\n",
       "      <th>2</th>\n",
       "      <td>34.7</td>\n",
       "      <td>-3.601235</td>\n",
       "      <td>37.07</td>\n",
       "      <td>0.469</td>\n",
       "      <td>7.185</td>\n",
       "      <td>61.1</td>\n",
       "      <td>22.2</td>\n",
       "      <td>1.393766</td>\n",
       "      <td>NO</td>\n",
       "      <td>7.394</td>\n",
       "      <td>101.1200</td>\n",
       "      <td>None</td>\n",
       "      <td>38</td>\n",
       "      <td>4.9675</td>\n",
       "    </tr>\n",
       "    <tr>\n",
       "      <th>3</th>\n",
       "      <td>33.4</td>\n",
       "      <td>-3.430523</td>\n",
       "      <td>32.18</td>\n",
       "      <td>0.458</td>\n",
       "      <td>6.998</td>\n",
       "      <td>45.8</td>\n",
       "      <td>21.3</td>\n",
       "      <td>1.078410</td>\n",
       "      <td>YES</td>\n",
       "      <td>9.268</td>\n",
       "      <td>11.2672</td>\n",
       "      <td>Lake</td>\n",
       "      <td>45</td>\n",
       "      <td>6.0650</td>\n",
       "    </tr>\n",
       "    <tr>\n",
       "      <th>4</th>\n",
       "      <td>36.2</td>\n",
       "      <td>-2.672924</td>\n",
       "      <td>32.18</td>\n",
       "      <td>0.458</td>\n",
       "      <td>7.147</td>\n",
       "      <td>54.2</td>\n",
       "      <td>21.3</td>\n",
       "      <td>1.673351</td>\n",
       "      <td>NO</td>\n",
       "      <td>8.824</td>\n",
       "      <td>11.2896</td>\n",
       "      <td>Lake</td>\n",
       "      <td>55</td>\n",
       "      <td>6.0625</td>\n",
       "    </tr>\n",
       "  </tbody>\n",
       "</table>\n",
       "</div>"
      ],
      "text/plain": [
       "   price  crime_rate  resid_area  air_qual  room_num   age  teachers  \\\n",
       "0   24.0   -5.064036       32.31     0.538     6.575  65.2      24.7   \n",
       "1   21.6   -3.600502       37.07     0.469     6.421  78.9      22.2   \n",
       "2   34.7   -3.601235       37.07     0.469     7.185  61.1      22.2   \n",
       "3   33.4   -3.430523       32.18     0.458     6.998  45.8      21.3   \n",
       "4   36.2   -2.672924       32.18     0.458     7.147  54.2      21.3   \n",
       "\n",
       "   poor_prop airport  n_hos_beds  n_hot_rooms waterbody  rainfall    dist  \n",
       "0   1.605430     YES       5.480      11.1920     River        23  4.0875  \n",
       "1   2.212660      NO       7.332      12.1728      Lake        42  4.9675  \n",
       "2   1.393766      NO       7.394     101.1200      None        38  4.9675  \n",
       "3   1.078410     YES       9.268      11.2672      Lake        45  6.0650  \n",
       "4   1.673351      NO       8.824      11.2896      Lake        55  6.0625  "
      ]
     },
     "execution_count": 4,
     "metadata": {},
     "output_type": "execute_result"
    }
   ],
   "source": [
    "houses.head()"
   ]
  },
  {
   "cell_type": "code",
   "execution_count": 5,
   "id": "8402f72f",
   "metadata": {},
   "outputs": [
    {
     "data": {
      "text/plain": [
       "(506, 14)"
      ]
     },
     "execution_count": 5,
     "metadata": {},
     "output_type": "execute_result"
    }
   ],
   "source": [
    "houses.shape"
   ]
  },
  {
   "cell_type": "code",
   "execution_count": null,
   "id": "7c1b3f27",
   "metadata": {},
   "outputs": [],
   "source": []
  },
  {
   "cell_type": "markdown",
   "id": "479ef3d7",
   "metadata": {},
   "source": [
    "## STEP 2 : Package importing "
   ]
  },
  {
   "cell_type": "code",
   "execution_count": null,
   "id": "e1ae7786",
   "metadata": {},
   "outputs": [],
   "source": []
  },
  {
   "cell_type": "code",
   "execution_count": 6,
   "id": "6770e8f1",
   "metadata": {},
   "outputs": [],
   "source": [
    "from sklearn.impute import SimpleImputer\n",
    "from sklearn.preprocessing import StandardScaler\n",
    "\n",
    "# from sklearn.preprocessing import OrdinalEncoder\n",
    "from sklearn.preprocessing import OneHotEncoder\n",
    "\n",
    "from sklearn.pipeline import Pipeline                \n",
    "from sklearn.compose import ColumnTransformer\n",
    "\n",
    "from sklearn.model_selection import train_test_split"
   ]
  },
  {
   "cell_type": "code",
   "execution_count": null,
   "id": "bfb9ea46",
   "metadata": {},
   "outputs": [],
   "source": []
  },
  {
   "cell_type": "markdown",
   "id": "3d24d8c0",
   "metadata": {},
   "source": [
    "## STEP 3 : Pipeline"
   ]
  },
  {
   "cell_type": "code",
   "execution_count": 7,
   "id": "5d88b12d",
   "metadata": {},
   "outputs": [],
   "source": [
    "df = houses.copy()"
   ]
  },
  {
   "cell_type": "code",
   "execution_count": null,
   "id": "10cf5a72",
   "metadata": {},
   "outputs": [],
   "source": []
  },
  {
   "cell_type": "code",
   "execution_count": 8,
   "id": "7c3fed9e",
   "metadata": {},
   "outputs": [],
   "source": [
    "def num_cat_col_list(DF) : \n",
    "    \n",
    "    from pandas.api.types import is_string_dtype, is_numeric_dtype\n",
    "   \n",
    "    num_list = []\n",
    "    cat_list = []\n",
    "\n",
    "    for column in DF:\n",
    "\n",
    "        if is_numeric_dtype(DF[column]):\n",
    "            num_list.append(column)\n",
    "\n",
    "        elif is_string_dtype(DF[column]):\n",
    "            cat_list.append(column)\n",
    "\n",
    "    return (num_list , cat_list)"
   ]
  },
  {
   "cell_type": "code",
   "execution_count": 9,
   "id": "659c532d",
   "metadata": {},
   "outputs": [
    {
     "name": "stdout",
     "output_type": "stream",
     "text": [
      "Numerical column :  ['price', 'crime_rate', 'resid_area', 'air_qual', 'room_num', 'age', 'teachers', 'poor_prop', 'n_hos_beds', 'n_hot_rooms', 'rainfall', 'dist']\n",
      "Categorical column :  ['airport', 'waterbody']\n"
     ]
    }
   ],
   "source": [
    "num_list , cat_list = num_cat_col_list(DF = df)\n",
    "\n",
    "print(\"Numerical column : \",num_list)\n",
    "print(\"Categorical column : \",cat_list)"
   ]
  },
  {
   "cell_type": "code",
   "execution_count": null,
   "id": "0098d63a",
   "metadata": {},
   "outputs": [],
   "source": []
  },
  {
   "cell_type": "markdown",
   "id": "828e2195",
   "metadata": {},
   "source": [
    "### Making changes to num_feat and cat_feat list"
   ]
  },
  {
   "cell_type": "code",
   "execution_count": null,
   "id": "a2713857",
   "metadata": {},
   "outputs": [],
   "source": []
  },
  {
   "cell_type": "code",
   "execution_count": 10,
   "id": "00fc9d0c",
   "metadata": {},
   "outputs": [],
   "source": [
    "# num_list\n",
    "\n",
    "num_feat = num_list.copy()\n",
    "num_feat.remove('price')\n",
    "\n",
    "cat_feat = cat_list.copy()"
   ]
  },
  {
   "cell_type": "code",
   "execution_count": null,
   "id": "f5f8c5da",
   "metadata": {},
   "outputs": [],
   "source": []
  },
  {
   "cell_type": "code",
   "execution_count": 11,
   "id": "63d0c9e9",
   "metadata": {},
   "outputs": [],
   "source": [
    "def pipeline_trans(DF,num_feat ,cat_feat):\n",
    "    \n",
    "    # Separating Independent and dependent variables\n",
    "    X  = DF.drop(labels = ['price' ], axis = 1)\n",
    "    y  = DF['price']\n",
    "    \n",
    "    # Train-Test Split\n",
    "    X_train,X_test,y_train,y_test = train_test_split(X,y , random_state= 100 ,test_size = 0.2 )\n",
    "    \n",
    "    # Pipeline\n",
    "    ohe = OneHotEncoder()\n",
    "    \n",
    "    num_pipeline = Pipeline([('Imputer' , SimpleImputer(strategy='median')) ,\n",
    "                             (\"scaling\", StandardScaler())\n",
    "                            ])\n",
    "    \n",
    "    cat_pipeline = Pipeline([('Nominal Encoding' ,ohe)])\n",
    "    \n",
    "    pipeline = ColumnTransformer([(\"Num pipeline\" , num_pipeline , num_feat),\n",
    "                                (\"Nominal pipeline\" , cat_pipeline , cat_feat)\n",
    "                                ])\n",
    "    \n",
    "    # Fit and Transformation\n",
    "    X_train_tr = pipeline.fit_transform(X_train)\n",
    "    X_test_tr =  pipeline.transform(X_test)\n",
    "    \n",
    "    # Output Columns after tranformation\n",
    "    out_cols = []\n",
    "\n",
    "    i= 0  # counter\n",
    "\n",
    "    for col in pipeline.get_feature_names_out():\n",
    "        out_cols.append(col.split(\"__\")[-1])\n",
    "        #out_cols[i] = out_cols[i].split(\"_\")[-1]\n",
    "\n",
    "        i += 1\n",
    "    # print(out_cols)\n",
    "    \n",
    "    # Conversion to train and test Dataframes\n",
    "    X_train_tr_df = pd.DataFrame(X_train_tr, columns= out_cols)\n",
    "    X_test_tr_df = pd.DataFrame(X_test_tr , columns = out_cols)\n",
    "    \n",
    "    y_train.reset_index(drop = True , inplace = True)\n",
    "    y_test.reset_index(drop = True , inplace = True)\n",
    "    \n",
    "    df_train_trans = pd.concat([X_train_tr_df,y_train] ,axis = 1 )\n",
    "    df_test_trans = pd.concat([X_test_tr_df,y_test] ,axis = 1 )\n",
    "    \n",
    "    return df_train_trans,df_test_trans"
   ]
  },
  {
   "cell_type": "code",
   "execution_count": null,
   "id": "eedbb132",
   "metadata": {},
   "outputs": [],
   "source": []
  },
  {
   "cell_type": "code",
   "execution_count": 12,
   "id": "56740a15",
   "metadata": {},
   "outputs": [],
   "source": [
    "df_train_tr ,df_test_tr = pipeline_trans(DF = df , num_feat = num_feat , cat_feat = cat_feat)"
   ]
  },
  {
   "cell_type": "code",
   "execution_count": null,
   "id": "a247196d",
   "metadata": {},
   "outputs": [],
   "source": []
  },
  {
   "cell_type": "code",
   "execution_count": 13,
   "id": "234f9ff7",
   "metadata": {},
   "outputs": [
    {
     "data": {
      "text/html": [
       "<div>\n",
       "<style scoped>\n",
       "    .dataframe tbody tr th:only-of-type {\n",
       "        vertical-align: middle;\n",
       "    }\n",
       "\n",
       "    .dataframe tbody tr th {\n",
       "        vertical-align: top;\n",
       "    }\n",
       "\n",
       "    .dataframe thead th {\n",
       "        text-align: right;\n",
       "    }\n",
       "</style>\n",
       "<table border=\"1\" class=\"dataframe\">\n",
       "  <thead>\n",
       "    <tr style=\"text-align: right;\">\n",
       "      <th></th>\n",
       "      <th>crime_rate</th>\n",
       "      <th>resid_area</th>\n",
       "      <th>air_qual</th>\n",
       "      <th>room_num</th>\n",
       "      <th>age</th>\n",
       "      <th>teachers</th>\n",
       "      <th>poor_prop</th>\n",
       "      <th>n_hos_beds</th>\n",
       "      <th>n_hot_rooms</th>\n",
       "      <th>rainfall</th>\n",
       "      <th>dist</th>\n",
       "      <th>airport_NO</th>\n",
       "      <th>airport_YES</th>\n",
       "      <th>waterbody_Lake</th>\n",
       "      <th>waterbody_Lake and River</th>\n",
       "      <th>waterbody_None</th>\n",
       "      <th>waterbody_River</th>\n",
       "      <th>price</th>\n",
       "    </tr>\n",
       "  </thead>\n",
       "  <tbody>\n",
       "    <tr>\n",
       "      <th>0</th>\n",
       "      <td>1.750941</td>\n",
       "      <td>1.035280</td>\n",
       "      <td>1.019549</td>\n",
       "      <td>-0.074765</td>\n",
       "      <td>1.128863</td>\n",
       "      <td>-0.813975</td>\n",
       "      <td>1.194251</td>\n",
       "      <td>-0.019931</td>\n",
       "      <td>-0.356733</td>\n",
       "      <td>0.562485</td>\n",
       "      <td>-1.174428</td>\n",
       "      <td>1.0</td>\n",
       "      <td>0.0</td>\n",
       "      <td>0.0</td>\n",
       "      <td>1.0</td>\n",
       "      <td>0.0</td>\n",
       "      <td>0.0</td>\n",
       "      <td>10.2</td>\n",
       "    </tr>\n",
       "    <tr>\n",
       "      <th>1</th>\n",
       "      <td>0.283472</td>\n",
       "      <td>-0.161802</td>\n",
       "      <td>-0.077387</td>\n",
       "      <td>-0.218185</td>\n",
       "      <td>-0.552953</td>\n",
       "      <td>0.039554</td>\n",
       "      <td>-0.958566</td>\n",
       "      <td>0.209591</td>\n",
       "      <td>0.350918</td>\n",
       "      <td>0.562485</td>\n",
       "      <td>-0.563210</td>\n",
       "      <td>0.0</td>\n",
       "      <td>1.0</td>\n",
       "      <td>0.0</td>\n",
       "      <td>0.0</td>\n",
       "      <td>0.0</td>\n",
       "      <td>1.0</td>\n",
       "      <td>22.1</td>\n",
       "    </tr>\n",
       "    <tr>\n",
       "      <th>2</th>\n",
       "      <td>0.489127</td>\n",
       "      <td>1.251338</td>\n",
       "      <td>0.449488</td>\n",
       "      <td>0.947639</td>\n",
       "      <td>1.036220</td>\n",
       "      <td>1.794031</td>\n",
       "      <td>-1.399167</td>\n",
       "      <td>0.198726</td>\n",
       "      <td>0.031860</td>\n",
       "      <td>1.457145</td>\n",
       "      <td>-0.934830</td>\n",
       "      <td>0.0</td>\n",
       "      <td>1.0</td>\n",
       "      <td>0.0</td>\n",
       "      <td>0.0</td>\n",
       "      <td>1.0</td>\n",
       "      <td>0.0</td>\n",
       "      <td>41.3</td>\n",
       "    </tr>\n",
       "  </tbody>\n",
       "</table>\n",
       "</div>"
      ],
      "text/plain": [
       "   crime_rate  resid_area  air_qual  room_num       age  teachers  poor_prop  \\\n",
       "0    1.750941    1.035280  1.019549 -0.074765  1.128863 -0.813975   1.194251   \n",
       "1    0.283472   -0.161802 -0.077387 -0.218185 -0.552953  0.039554  -0.958566   \n",
       "2    0.489127    1.251338  0.449488  0.947639  1.036220  1.794031  -1.399167   \n",
       "\n",
       "   n_hos_beds  n_hot_rooms  rainfall      dist  airport_NO  airport_YES  \\\n",
       "0   -0.019931    -0.356733  0.562485 -1.174428         1.0          0.0   \n",
       "1    0.209591     0.350918  0.562485 -0.563210         0.0          1.0   \n",
       "2    0.198726     0.031860  1.457145 -0.934830         0.0          1.0   \n",
       "\n",
       "   waterbody_Lake  waterbody_Lake and River  waterbody_None  waterbody_River  \\\n",
       "0             0.0                       1.0             0.0              0.0   \n",
       "1             0.0                       0.0             0.0              1.0   \n",
       "2             0.0                       0.0             1.0              0.0   \n",
       "\n",
       "   price  \n",
       "0   10.2  \n",
       "1   22.1  \n",
       "2   41.3  "
      ]
     },
     "execution_count": 13,
     "metadata": {},
     "output_type": "execute_result"
    }
   ],
   "source": [
    "df_train_tr.head(3)"
   ]
  },
  {
   "cell_type": "code",
   "execution_count": null,
   "id": "8f290f60",
   "metadata": {},
   "outputs": [],
   "source": []
  },
  {
   "cell_type": "code",
   "execution_count": 14,
   "id": "55d6394f",
   "metadata": {},
   "outputs": [
    {
     "data": {
      "text/html": [
       "<div>\n",
       "<style scoped>\n",
       "    .dataframe tbody tr th:only-of-type {\n",
       "        vertical-align: middle;\n",
       "    }\n",
       "\n",
       "    .dataframe tbody tr th {\n",
       "        vertical-align: top;\n",
       "    }\n",
       "\n",
       "    .dataframe thead th {\n",
       "        text-align: right;\n",
       "    }\n",
       "</style>\n",
       "<table border=\"1\" class=\"dataframe\">\n",
       "  <thead>\n",
       "    <tr style=\"text-align: right;\">\n",
       "      <th></th>\n",
       "      <th>crime_rate</th>\n",
       "      <th>resid_area</th>\n",
       "      <th>air_qual</th>\n",
       "      <th>room_num</th>\n",
       "      <th>age</th>\n",
       "      <th>teachers</th>\n",
       "      <th>poor_prop</th>\n",
       "      <th>n_hos_beds</th>\n",
       "      <th>n_hot_rooms</th>\n",
       "      <th>rainfall</th>\n",
       "      <th>dist</th>\n",
       "      <th>airport_NO</th>\n",
       "      <th>airport_YES</th>\n",
       "      <th>waterbody_Lake</th>\n",
       "      <th>waterbody_Lake and River</th>\n",
       "      <th>waterbody_None</th>\n",
       "      <th>waterbody_River</th>\n",
       "      <th>price</th>\n",
       "    </tr>\n",
       "  </thead>\n",
       "  <tbody>\n",
       "    <tr>\n",
       "      <th>0</th>\n",
       "      <td>-1.148833</td>\n",
       "      <td>-1.385161</td>\n",
       "      <td>-1.286608</td>\n",
       "      <td>1.417661</td>\n",
       "      <td>-1.069612</td>\n",
       "      <td>2.789815</td>\n",
       "      <td>-0.789224</td>\n",
       "      <td>1.533755</td>\n",
       "      <td>0.195398</td>\n",
       "      <td>0.318486</td>\n",
       "      <td>1.721522</td>\n",
       "      <td>1.0</td>\n",
       "      <td>0.0</td>\n",
       "      <td>1.0</td>\n",
       "      <td>0.0</td>\n",
       "      <td>0.0</td>\n",
       "      <td>0.0</td>\n",
       "      <td>34.6</td>\n",
       "    </tr>\n",
       "    <tr>\n",
       "      <th>1</th>\n",
       "      <td>0.009692</td>\n",
       "      <td>-0.701948</td>\n",
       "      <td>-0.422879</td>\n",
       "      <td>0.392417</td>\n",
       "      <td>-1.671787</td>\n",
       "      <td>0.513737</td>\n",
       "      <td>-1.731375</td>\n",
       "      <td>-0.409711</td>\n",
       "      <td>0.363912</td>\n",
       "      <td>0.643817</td>\n",
       "      <td>-0.203814</td>\n",
       "      <td>0.0</td>\n",
       "      <td>1.0</td>\n",
       "      <td>0.0</td>\n",
       "      <td>0.0</td>\n",
       "      <td>1.0</td>\n",
       "      <td>0.0</td>\n",
       "      <td>31.5</td>\n",
       "    </tr>\n",
       "    <tr>\n",
       "      <th>2</th>\n",
       "      <td>-1.062466</td>\n",
       "      <td>0.134549</td>\n",
       "      <td>0.173094</td>\n",
       "      <td>-0.221025</td>\n",
       "      <td>0.298645</td>\n",
       "      <td>-1.193321</td>\n",
       "      <td>-0.262952</td>\n",
       "      <td>-0.897276</td>\n",
       "      <td>0.003244</td>\n",
       "      <td>-1.552167</td>\n",
       "      <td>-0.734351</td>\n",
       "      <td>0.0</td>\n",
       "      <td>1.0</td>\n",
       "      <td>0.0</td>\n",
       "      <td>1.0</td>\n",
       "      <td>0.0</td>\n",
       "      <td>0.0</td>\n",
       "      <td>20.6</td>\n",
       "    </tr>\n",
       "  </tbody>\n",
       "</table>\n",
       "</div>"
      ],
      "text/plain": [
       "   crime_rate  resid_area  air_qual  room_num       age  teachers  poor_prop  \\\n",
       "0   -1.148833   -1.385161 -1.286608  1.417661 -1.069612  2.789815  -0.789224   \n",
       "1    0.009692   -0.701948 -0.422879  0.392417 -1.671787  0.513737  -1.731375   \n",
       "2   -1.062466    0.134549  0.173094 -0.221025  0.298645 -1.193321  -0.262952   \n",
       "\n",
       "   n_hos_beds  n_hot_rooms  rainfall      dist  airport_NO  airport_YES  \\\n",
       "0    1.533755     0.195398  0.318486  1.721522         1.0          0.0   \n",
       "1   -0.409711     0.363912  0.643817 -0.203814         0.0          1.0   \n",
       "2   -0.897276     0.003244 -1.552167 -0.734351         0.0          1.0   \n",
       "\n",
       "   waterbody_Lake  waterbody_Lake and River  waterbody_None  waterbody_River  \\\n",
       "0             1.0                       0.0             0.0              0.0   \n",
       "1             0.0                       0.0             1.0              0.0   \n",
       "2             0.0                       1.0             0.0              0.0   \n",
       "\n",
       "   price  \n",
       "0   34.6  \n",
       "1   31.5  \n",
       "2   20.6  "
      ]
     },
     "execution_count": 14,
     "metadata": {},
     "output_type": "execute_result"
    }
   ],
   "source": [
    "df_test_tr.head(3)"
   ]
  },
  {
   "cell_type": "code",
   "execution_count": null,
   "id": "d18339fc",
   "metadata": {},
   "outputs": [],
   "source": []
  },
  {
   "cell_type": "code",
   "execution_count": 15,
   "id": "2a6f02d5",
   "metadata": {},
   "outputs": [],
   "source": [
    "D_train = df_train_tr.copy()\n",
    "D_test = df_test_tr.copy()"
   ]
  },
  {
   "cell_type": "code",
   "execution_count": null,
   "id": "c4bb7ace",
   "metadata": {},
   "outputs": [],
   "source": []
  },
  {
   "cell_type": "markdown",
   "id": "d508fa7c",
   "metadata": {},
   "source": [
    "## STEP 5 : Export the DF as a .csv file."
   ]
  },
  {
   "cell_type": "code",
   "execution_count": null,
   "id": "66ccf14f",
   "metadata": {},
   "outputs": [],
   "source": []
  },
  {
   "cell_type": "code",
   "execution_count": 16,
   "id": "de8d2d17",
   "metadata": {},
   "outputs": [],
   "source": [
    "D_train.to_csv(\"S3_Part3_pipeline_pipeline_Train_DS.csv\")"
   ]
  },
  {
   "cell_type": "code",
   "execution_count": 17,
   "id": "696ae28b",
   "metadata": {},
   "outputs": [],
   "source": [
    "D_test.to_csv(\"S3_Part3_pipeline_pipeline_Test_DS.csv\")"
   ]
  },
  {
   "cell_type": "code",
   "execution_count": null,
   "id": "c9fed90e",
   "metadata": {},
   "outputs": [],
   "source": []
  },
  {
   "cell_type": "code",
   "execution_count": null,
   "id": "2cfa7261",
   "metadata": {},
   "outputs": [],
   "source": []
  },
  {
   "cell_type": "code",
   "execution_count": null,
   "id": "a2d752d1",
   "metadata": {},
   "outputs": [],
   "source": []
  }
 ],
 "metadata": {
  "kernelspec": {
   "display_name": "Python 3 (ipykernel)",
   "language": "python",
   "name": "python3"
  },
  "language_info": {
   "codemirror_mode": {
    "name": "ipython",
    "version": 3
   },
   "file_extension": ".py",
   "mimetype": "text/x-python",
   "name": "python",
   "nbconvert_exporter": "python",
   "pygments_lexer": "ipython3",
   "version": "3.10.9"
  }
 },
 "nbformat": 4,
 "nbformat_minor": 5
}
